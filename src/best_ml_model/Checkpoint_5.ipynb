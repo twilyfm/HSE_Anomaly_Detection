{
 "cells": [
  {
   "cell_type": "markdown",
   "metadata": {
    "id": "9VlMIOTacVG5"
   },
   "source": [
    "# Применение простейших моделей"
   ]
  },
  {
   "cell_type": "markdown",
   "metadata": {
    "id": "poPzfPofcggx"
   },
   "source": [
    "Загружаем файлы и необходимые библиотеки"
   ]
  },
  {
   "cell_type": "code",
   "execution_count": 1,
   "metadata": {
    "id": "dO6gD5kckqJ-"
   },
   "outputs": [],
   "source": [
    "PATH=\"/content/drive/My Drive/\" # Путь до файлов"
   ]
  },
  {
   "cell_type": "code",
   "execution_count": 2,
   "metadata": {
    "colab": {
     "base_uri": "https://localhost:8080/"
    },
    "id": "XnO0NirWxEYQ",
    "outputId": "6b95f791-9ead-4580-9f00-7ca5230133b1"
   },
   "outputs": [
    {
     "name": "stdout",
     "output_type": "stream",
     "text": [
      "Mounted at /content/drive\n"
     ]
    }
   ],
   "source": [
    "from google.colab import drive\n",
    "drive.mount('/content/drive') # Получаем доступ к гугл диску, чтобы взять оттуда данные"
   ]
  },
  {
   "cell_type": "code",
   "execution_count": 3,
   "metadata": {
    "colab": {
     "base_uri": "https://localhost:8080/"
    },
    "id": "OlJxpT5nb13O",
    "outputId": "0364977a-d49b-4375-d42b-a71479462f4b"
   },
   "outputs": [
    {
     "name": "stdout",
     "output_type": "stream",
     "text": [
      "Looking in indexes: https://pypi.org/simple, https://us-python.pkg.dev/colab-wheels/public/simple/\n",
      "Collecting optuna\n",
      "  Downloading optuna-3.1.0-py3-none-any.whl (365 kB)\n",
      "\u001b[2K     \u001b[90m━━━━━━━━━━━━━━━━━━━━━━━━━━━━━━━━━━━━━━\u001b[0m \u001b[32m365.3/365.3 KB\u001b[0m \u001b[31m13.7 MB/s\u001b[0m eta \u001b[36m0:00:00\u001b[0m\n",
      "\u001b[?25hRequirement already satisfied: numpy in /usr/local/lib/python3.8/dist-packages (from optuna) (1.22.4)\n",
      "Requirement already satisfied: PyYAML in /usr/local/lib/python3.8/dist-packages (from optuna) (6.0)\n",
      "Requirement already satisfied: tqdm in /usr/local/lib/python3.8/dist-packages (from optuna) (4.64.1)\n",
      "Requirement already satisfied: packaging>=20.0 in /usr/local/lib/python3.8/dist-packages (from optuna) (23.0)\n",
      "Requirement already satisfied: sqlalchemy>=1.3.0 in /usr/local/lib/python3.8/dist-packages (from optuna) (1.4.46)\n",
      "Collecting alembic>=1.5.0\n",
      "  Downloading alembic-1.9.4-py3-none-any.whl (210 kB)\n",
      "\u001b[2K     \u001b[90m━━━━━━━━━━━━━━━━━━━━━━━━━━━━━━━━━━━━━━\u001b[0m \u001b[32m210.5/210.5 KB\u001b[0m \u001b[31m29.3 MB/s\u001b[0m eta \u001b[36m0:00:00\u001b[0m\n",
      "\u001b[?25hCollecting cmaes>=0.9.1\n",
      "  Downloading cmaes-0.9.1-py3-none-any.whl (21 kB)\n",
      "Collecting colorlog\n",
      "  Downloading colorlog-6.7.0-py2.py3-none-any.whl (11 kB)\n",
      "Requirement already satisfied: importlib-resources in /usr/local/lib/python3.8/dist-packages (from alembic>=1.5.0->optuna) (5.12.0)\n",
      "Collecting Mako\n",
      "  Downloading Mako-1.2.4-py3-none-any.whl (78 kB)\n",
      "\u001b[2K     \u001b[90m━━━━━━━━━━━━━━━━━━━━━━━━━━━━━━━━━━━━━━━━\u001b[0m \u001b[32m78.7/78.7 KB\u001b[0m \u001b[31m11.5 MB/s\u001b[0m eta \u001b[36m0:00:00\u001b[0m\n",
      "\u001b[?25hRequirement already satisfied: importlib-metadata in /usr/local/lib/python3.8/dist-packages (from alembic>=1.5.0->optuna) (6.0.0)\n",
      "Requirement already satisfied: greenlet!=0.4.17 in /usr/local/lib/python3.8/dist-packages (from sqlalchemy>=1.3.0->optuna) (2.0.2)\n",
      "Requirement already satisfied: zipp>=0.5 in /usr/local/lib/python3.8/dist-packages (from importlib-metadata->alembic>=1.5.0->optuna) (3.14.0)\n",
      "Requirement already satisfied: MarkupSafe>=0.9.2 in /usr/local/lib/python3.8/dist-packages (from Mako->alembic>=1.5.0->optuna) (2.0.1)\n",
      "Installing collected packages: Mako, colorlog, cmaes, alembic, optuna\n",
      "Successfully installed Mako-1.2.4 alembic-1.9.4 cmaes-0.9.1 colorlog-6.7.0 optuna-3.1.0\n",
      "Looking in indexes: https://pypi.org/simple, https://us-python.pkg.dev/colab-wheels/public/simple/\n",
      "Collecting catboost\n",
      "  Downloading catboost-1.1.1-cp38-none-manylinux1_x86_64.whl (76.6 MB)\n",
      "\u001b[2K     \u001b[90m━━━━━━━━━━━━━━━━━━━━━━━━━━━━━━━━━━━━━━━━\u001b[0m \u001b[32m76.6/76.6 MB\u001b[0m \u001b[31m14.2 MB/s\u001b[0m eta \u001b[36m0:00:00\u001b[0m\n",
      "\u001b[?25hRequirement already satisfied: scipy in /usr/local/lib/python3.8/dist-packages (from catboost) (1.7.3)\n",
      "Requirement already satisfied: plotly in /usr/local/lib/python3.8/dist-packages (from catboost) (5.5.0)\n",
      "Requirement already satisfied: six in /usr/local/lib/python3.8/dist-packages (from catboost) (1.15.0)\n",
      "Requirement already satisfied: numpy>=1.16.0 in /usr/local/lib/python3.8/dist-packages (from catboost) (1.22.4)\n",
      "Requirement already satisfied: matplotlib in /usr/local/lib/python3.8/dist-packages (from catboost) (3.5.3)\n",
      "Requirement already satisfied: pandas>=0.24.0 in /usr/local/lib/python3.8/dist-packages (from catboost) (1.3.5)\n",
      "Requirement already satisfied: graphviz in /usr/local/lib/python3.8/dist-packages (from catboost) (0.10.1)\n",
      "Requirement already satisfied: pytz>=2017.3 in /usr/local/lib/python3.8/dist-packages (from pandas>=0.24.0->catboost) (2022.7.1)\n",
      "Requirement already satisfied: python-dateutil>=2.7.3 in /usr/local/lib/python3.8/dist-packages (from pandas>=0.24.0->catboost) (2.8.2)\n",
      "Requirement already satisfied: kiwisolver>=1.0.1 in /usr/local/lib/python3.8/dist-packages (from matplotlib->catboost) (1.4.4)\n",
      "Requirement already satisfied: fonttools>=4.22.0 in /usr/local/lib/python3.8/dist-packages (from matplotlib->catboost) (4.38.0)\n",
      "Requirement already satisfied: pillow>=6.2.0 in /usr/local/lib/python3.8/dist-packages (from matplotlib->catboost) (8.4.0)\n",
      "Requirement already satisfied: packaging>=20.0 in /usr/local/lib/python3.8/dist-packages (from matplotlib->catboost) (23.0)\n",
      "Requirement already satisfied: pyparsing>=2.2.1 in /usr/local/lib/python3.8/dist-packages (from matplotlib->catboost) (3.0.9)\n",
      "Requirement already satisfied: cycler>=0.10 in /usr/local/lib/python3.8/dist-packages (from matplotlib->catboost) (0.11.0)\n",
      "Requirement already satisfied: tenacity>=6.2.0 in /usr/local/lib/python3.8/dist-packages (from plotly->catboost) (8.2.1)\n",
      "Installing collected packages: catboost\n",
      "Successfully installed catboost-1.1.1\n",
      "Looking in indexes: https://pypi.org/simple, https://us-python.pkg.dev/colab-wheels/public/simple/\n",
      "Collecting category_encoders\n",
      "  Downloading category_encoders-2.6.0-py2.py3-none-any.whl (81 kB)\n",
      "\u001b[2K     \u001b[90m━━━━━━━━━━━━━━━━━━━━━━━━━━━━━━━━━━━━━━━━\u001b[0m \u001b[32m81.2/81.2 KB\u001b[0m \u001b[31m9.4 MB/s\u001b[0m eta \u001b[36m0:00:00\u001b[0m\n",
      "\u001b[?25hRequirement already satisfied: patsy>=0.5.1 in /usr/local/lib/python3.8/dist-packages (from category_encoders) (0.5.3)\n",
      "Requirement already satisfied: scikit-learn>=0.20.0 in /usr/local/lib/python3.8/dist-packages (from category_encoders) (1.0.2)\n",
      "Requirement already satisfied: statsmodels>=0.9.0 in /usr/local/lib/python3.8/dist-packages (from category_encoders) (0.12.2)\n",
      "Requirement already satisfied: scipy>=1.0.0 in /usr/local/lib/python3.8/dist-packages (from category_encoders) (1.7.3)\n",
      "Requirement already satisfied: pandas>=1.0.5 in /usr/local/lib/python3.8/dist-packages (from category_encoders) (1.3.5)\n",
      "Requirement already satisfied: numpy>=1.14.0 in /usr/local/lib/python3.8/dist-packages (from category_encoders) (1.22.4)\n",
      "Requirement already satisfied: python-dateutil>=2.7.3 in /usr/local/lib/python3.8/dist-packages (from pandas>=1.0.5->category_encoders) (2.8.2)\n",
      "Requirement already satisfied: pytz>=2017.3 in /usr/local/lib/python3.8/dist-packages (from pandas>=1.0.5->category_encoders) (2022.7.1)\n",
      "Requirement already satisfied: six in /usr/local/lib/python3.8/dist-packages (from patsy>=0.5.1->category_encoders) (1.15.0)\n",
      "Requirement already satisfied: joblib>=0.11 in /usr/local/lib/python3.8/dist-packages (from scikit-learn>=0.20.0->category_encoders) (1.2.0)\n",
      "Requirement already satisfied: threadpoolctl>=2.0.0 in /usr/local/lib/python3.8/dist-packages (from scikit-learn>=0.20.0->category_encoders) (3.1.0)\n",
      "Installing collected packages: category_encoders\n",
      "Successfully installed category_encoders-2.6.0\n",
      "Looking in indexes: https://pypi.org/simple, https://us-python.pkg.dev/colab-wheels/public/simple/\n",
      "\u001b[31mERROR: Could not find a version that satisfies the requirement pickle (from versions: none)\u001b[0m\u001b[31m\n",
      "\u001b[0m\u001b[31mERROR: No matching distribution found for pickle\u001b[0m\u001b[31m\n",
      "\u001b[0m"
     ]
    }
   ],
   "source": [
    "# Импортируем библиотеки\n",
    "!pip install optuna\n",
    "!pip install catboost\n",
    "!pip install category_encoders\n",
    "!pip install pickle\n",
    "\n",
    "import pickle\n",
    "import optuna\n",
    "import pandas as pd\n",
    "import matplotlib.pyplot as plt\n",
    "import seaborn as sns\n",
    "import numpy as np\n",
    "from imblearn.under_sampling import RandomUnderSampler\n",
    "from collections import Counter\n",
    "\n",
    "import math\n",
    "\n",
    "from sklearn.metrics import classification_report,f1_score,precision_score, recall_score, roc_auc_score, auc\n",
    "\n",
    "from sklearn.model_selection import train_test_split, cross_val_score\n",
    "\n",
    "\n",
    "from catboost import CatBoostClassifier, Pool\n",
    "import catboost as cb\n",
    "from catboost.utils import get_roc_curve\n"
   ]
  },
  {
   "cell_type": "code",
   "execution_count": 4,
   "metadata": {
    "id": "3Po5OGs6r7gw"
   },
   "outputs": [],
   "source": [
    "path_merged_=PATH+\"merge_filled_without drop.parquet\" # объединенные transaction и identity\n",
    "\n",
    "merged = pd.read_parquet(path_merged_)"
   ]
  },
  {
   "cell_type": "code",
   "execution_count": 5,
   "metadata": {
    "colab": {
     "base_uri": "https://localhost:8080/"
    },
    "id": "ZK46m__Asa8m",
    "outputId": "cbae9c93-98d4-4898-cd26-32509d24feb7"
   },
   "outputs": [
    {
     "data": {
      "text/plain": [
       "1955.3709106445312"
      ]
     },
     "execution_count": 5,
     "metadata": {},
     "output_type": "execute_result"
    }
   ],
   "source": [
    "merged.memory_usage().sum() / 1024**2"
   ]
  },
  {
   "cell_type": "code",
   "execution_count": 6,
   "metadata": {
    "id": "JvXOUqM2rNSe"
   },
   "outputs": [],
   "source": [
    "# Заметим, что все числовые столбцы имели тип int64 или float64.\n",
    "# В результате объединенный датасет занимает почти 2 GB памяти.\n",
    "# При обучении моделей google colab периодически падал по памяти, \n",
    "# поэтому было решено поработать дополнительно с типами столбцов.\n",
    "\n",
    "\n",
    "for col in merged.columns:\n",
    "  col_type = merged[col].dtype\n",
    "\n",
    "  if col_type != object:\n",
    "      min_ = merged[col].min()\n",
    "      max_ = merged[col].max()\n",
    "      if str(col_type)[:3] == 'int':\n",
    "          if min_ > np.iinfo(np.int8).min and max_ < np.iinfo(np.int8).max:\n",
    "              merged[col] = merged[col].astype(np.int8)\n",
    "          elif min_ > np.iinfo(np.int16).min and max_ < np.iinfo(np.int16).max:\n",
    "              merged[col] = merged[col].astype(np.int16)\n",
    "          elif min_ > np.iinfo(np.int32).min and max_ < np.iinfo(np.int32).max:\n",
    "              merged[col] = merged[col].astype(np.int32)\n",
    "          elif min_ > np.iinfo(np.int64).min and max_ < np.iinfo(np.int64).max:\n",
    "              merged[col] = merged[col].astype(np.int64)  \n",
    "      else:\n",
    "          if min_ > np.finfo(np.float16).min and max_ < np.finfo(np.float16).max:\n",
    "              merged[col] = merged[col].astype(np.float16)\n",
    "          elif min_ > np.finfo(np.float32).min and max_ < np.finfo(np.float32).max:\n",
    "              merged[col] = merged[col].astype(np.float32)\n",
    "          else:\n",
    "              merged[col] = merged[col].astype(np.float64)\n",
    "  else:\n",
    "      merged[col] = merged[col].astype('category')\n"
   ]
  },
  {
   "cell_type": "code",
   "execution_count": 7,
   "metadata": {
    "colab": {
     "base_uri": "https://localhost:8080/"
    },
    "id": "3ZyWiS3MkuHF",
    "outputId": "820cc7e2-024e-4c5c-a5fa-53e2692ba57d"
   },
   "outputs": [
    {
     "data": {
      "text/plain": [
       "525.5524215698242"
      ]
     },
     "execution_count": 7,
     "metadata": {},
     "output_type": "execute_result"
    }
   ],
   "source": [
    "merged.memory_usage().sum() / 1024**2 #Так намного лучше :)"
   ]
  },
  {
   "cell_type": "code",
   "execution_count": 8,
   "metadata": {
    "colab": {
     "base_uri": "https://localhost:8080/",
     "height": 485
    },
    "id": "n7kZSgvOzAya",
    "outputId": "a1e87083-7532-48dc-e417-81cf0ca95df6"
   },
   "outputs": [
    {
     "data": {
      "text/html": [
       "\n",
       "  <div id=\"df-49a6fff2-3799-444e-8396-0c21127094a6\">\n",
       "    <div class=\"colab-df-container\">\n",
       "      <div>\n",
       "<style scoped>\n",
       "    .dataframe tbody tr th:only-of-type {\n",
       "        vertical-align: middle;\n",
       "    }\n",
       "\n",
       "    .dataframe tbody tr th {\n",
       "        vertical-align: top;\n",
       "    }\n",
       "\n",
       "    .dataframe thead th {\n",
       "        text-align: right;\n",
       "    }\n",
       "</style>\n",
       "<table border=\"1\" class=\"dataframe\">\n",
       "  <thead>\n",
       "    <tr style=\"text-align: right;\">\n",
       "      <th></th>\n",
       "      <th>TransactionID</th>\n",
       "      <th>isFraud</th>\n",
       "      <th>TransactionDT</th>\n",
       "      <th>TransactionAmt</th>\n",
       "      <th>ProductCD</th>\n",
       "      <th>card1</th>\n",
       "      <th>card2</th>\n",
       "      <th>card3</th>\n",
       "      <th>card4</th>\n",
       "      <th>card5</th>\n",
       "      <th>...</th>\n",
       "      <th>id_31</th>\n",
       "      <th>id_32</th>\n",
       "      <th>id_33</th>\n",
       "      <th>id_34</th>\n",
       "      <th>id_35</th>\n",
       "      <th>id_36</th>\n",
       "      <th>id_37</th>\n",
       "      <th>id_38</th>\n",
       "      <th>DeviceType</th>\n",
       "      <th>DeviceInfo</th>\n",
       "    </tr>\n",
       "  </thead>\n",
       "  <tbody>\n",
       "    <tr>\n",
       "      <th>0</th>\n",
       "      <td>2987000</td>\n",
       "      <td>0</td>\n",
       "      <td>86400</td>\n",
       "      <td>68.500000</td>\n",
       "      <td>W</td>\n",
       "      <td>13926</td>\n",
       "      <td>362.5</td>\n",
       "      <td>150.0</td>\n",
       "      <td>discover</td>\n",
       "      <td>142.0</td>\n",
       "      <td>...</td>\n",
       "      <td>n/d</td>\n",
       "      <td>26.515625</td>\n",
       "      <td>n/d</td>\n",
       "      <td>n/d</td>\n",
       "      <td>n/d</td>\n",
       "      <td>n/d</td>\n",
       "      <td>n/d</td>\n",
       "      <td>n/d</td>\n",
       "      <td>n/d</td>\n",
       "      <td>n/d</td>\n",
       "    </tr>\n",
       "    <tr>\n",
       "      <th>1</th>\n",
       "      <td>2987001</td>\n",
       "      <td>0</td>\n",
       "      <td>86401</td>\n",
       "      <td>29.000000</td>\n",
       "      <td>W</td>\n",
       "      <td>2755</td>\n",
       "      <td>404.0</td>\n",
       "      <td>150.0</td>\n",
       "      <td>mastercard</td>\n",
       "      <td>102.0</td>\n",
       "      <td>...</td>\n",
       "      <td>n/d</td>\n",
       "      <td>26.515625</td>\n",
       "      <td>n/d</td>\n",
       "      <td>n/d</td>\n",
       "      <td>n/d</td>\n",
       "      <td>n/d</td>\n",
       "      <td>n/d</td>\n",
       "      <td>n/d</td>\n",
       "      <td>n/d</td>\n",
       "      <td>n/d</td>\n",
       "    </tr>\n",
       "    <tr>\n",
       "      <th>2</th>\n",
       "      <td>2987002</td>\n",
       "      <td>0</td>\n",
       "      <td>86469</td>\n",
       "      <td>59.000000</td>\n",
       "      <td>W</td>\n",
       "      <td>4663</td>\n",
       "      <td>490.0</td>\n",
       "      <td>150.0</td>\n",
       "      <td>visa</td>\n",
       "      <td>166.0</td>\n",
       "      <td>...</td>\n",
       "      <td>n/d</td>\n",
       "      <td>26.515625</td>\n",
       "      <td>n/d</td>\n",
       "      <td>n/d</td>\n",
       "      <td>n/d</td>\n",
       "      <td>n/d</td>\n",
       "      <td>n/d</td>\n",
       "      <td>n/d</td>\n",
       "      <td>n/d</td>\n",
       "      <td>n/d</td>\n",
       "    </tr>\n",
       "    <tr>\n",
       "      <th>3</th>\n",
       "      <td>2987003</td>\n",
       "      <td>0</td>\n",
       "      <td>86499</td>\n",
       "      <td>50.000000</td>\n",
       "      <td>W</td>\n",
       "      <td>18132</td>\n",
       "      <td>567.0</td>\n",
       "      <td>150.0</td>\n",
       "      <td>mastercard</td>\n",
       "      <td>117.0</td>\n",
       "      <td>...</td>\n",
       "      <td>n/d</td>\n",
       "      <td>26.515625</td>\n",
       "      <td>n/d</td>\n",
       "      <td>n/d</td>\n",
       "      <td>n/d</td>\n",
       "      <td>n/d</td>\n",
       "      <td>n/d</td>\n",
       "      <td>n/d</td>\n",
       "      <td>n/d</td>\n",
       "      <td>n/d</td>\n",
       "    </tr>\n",
       "    <tr>\n",
       "      <th>4</th>\n",
       "      <td>2987004</td>\n",
       "      <td>0</td>\n",
       "      <td>86506</td>\n",
       "      <td>50.000000</td>\n",
       "      <td>H</td>\n",
       "      <td>4497</td>\n",
       "      <td>514.0</td>\n",
       "      <td>150.0</td>\n",
       "      <td>mastercard</td>\n",
       "      <td>102.0</td>\n",
       "      <td>...</td>\n",
       "      <td>samsung browser 6.2</td>\n",
       "      <td>32.000000</td>\n",
       "      <td>2220x1080</td>\n",
       "      <td>match_status:2</td>\n",
       "      <td>T</td>\n",
       "      <td>F</td>\n",
       "      <td>T</td>\n",
       "      <td>T</td>\n",
       "      <td>mobile</td>\n",
       "      <td>SAMSUNG SM-G892A Build/NRD90M</td>\n",
       "    </tr>\n",
       "    <tr>\n",
       "      <th>...</th>\n",
       "      <td>...</td>\n",
       "      <td>...</td>\n",
       "      <td>...</td>\n",
       "      <td>...</td>\n",
       "      <td>...</td>\n",
       "      <td>...</td>\n",
       "      <td>...</td>\n",
       "      <td>...</td>\n",
       "      <td>...</td>\n",
       "      <td>...</td>\n",
       "      <td>...</td>\n",
       "      <td>...</td>\n",
       "      <td>...</td>\n",
       "      <td>...</td>\n",
       "      <td>...</td>\n",
       "      <td>...</td>\n",
       "      <td>...</td>\n",
       "      <td>...</td>\n",
       "      <td>...</td>\n",
       "      <td>...</td>\n",
       "      <td>...</td>\n",
       "    </tr>\n",
       "    <tr>\n",
       "      <th>590535</th>\n",
       "      <td>3577535</td>\n",
       "      <td>0</td>\n",
       "      <td>15811047</td>\n",
       "      <td>49.000000</td>\n",
       "      <td>W</td>\n",
       "      <td>6550</td>\n",
       "      <td>362.5</td>\n",
       "      <td>150.0</td>\n",
       "      <td>visa</td>\n",
       "      <td>226.0</td>\n",
       "      <td>...</td>\n",
       "      <td>n/d</td>\n",
       "      <td>26.515625</td>\n",
       "      <td>n/d</td>\n",
       "      <td>n/d</td>\n",
       "      <td>n/d</td>\n",
       "      <td>n/d</td>\n",
       "      <td>n/d</td>\n",
       "      <td>n/d</td>\n",
       "      <td>n/d</td>\n",
       "      <td>n/d</td>\n",
       "    </tr>\n",
       "    <tr>\n",
       "      <th>590536</th>\n",
       "      <td>3577536</td>\n",
       "      <td>0</td>\n",
       "      <td>15811049</td>\n",
       "      <td>39.500000</td>\n",
       "      <td>W</td>\n",
       "      <td>10444</td>\n",
       "      <td>225.0</td>\n",
       "      <td>150.0</td>\n",
       "      <td>mastercard</td>\n",
       "      <td>224.0</td>\n",
       "      <td>...</td>\n",
       "      <td>n/d</td>\n",
       "      <td>26.515625</td>\n",
       "      <td>n/d</td>\n",
       "      <td>n/d</td>\n",
       "      <td>n/d</td>\n",
       "      <td>n/d</td>\n",
       "      <td>n/d</td>\n",
       "      <td>n/d</td>\n",
       "      <td>n/d</td>\n",
       "      <td>n/d</td>\n",
       "    </tr>\n",
       "    <tr>\n",
       "      <th>590537</th>\n",
       "      <td>3577537</td>\n",
       "      <td>0</td>\n",
       "      <td>15811079</td>\n",
       "      <td>30.953125</td>\n",
       "      <td>W</td>\n",
       "      <td>12037</td>\n",
       "      <td>595.0</td>\n",
       "      <td>150.0</td>\n",
       "      <td>mastercard</td>\n",
       "      <td>224.0</td>\n",
       "      <td>...</td>\n",
       "      <td>n/d</td>\n",
       "      <td>26.515625</td>\n",
       "      <td>n/d</td>\n",
       "      <td>n/d</td>\n",
       "      <td>n/d</td>\n",
       "      <td>n/d</td>\n",
       "      <td>n/d</td>\n",
       "      <td>n/d</td>\n",
       "      <td>n/d</td>\n",
       "      <td>n/d</td>\n",
       "    </tr>\n",
       "    <tr>\n",
       "      <th>590538</th>\n",
       "      <td>3577538</td>\n",
       "      <td>0</td>\n",
       "      <td>15811088</td>\n",
       "      <td>117.000000</td>\n",
       "      <td>W</td>\n",
       "      <td>7826</td>\n",
       "      <td>481.0</td>\n",
       "      <td>150.0</td>\n",
       "      <td>mastercard</td>\n",
       "      <td>224.0</td>\n",
       "      <td>...</td>\n",
       "      <td>n/d</td>\n",
       "      <td>26.515625</td>\n",
       "      <td>n/d</td>\n",
       "      <td>n/d</td>\n",
       "      <td>n/d</td>\n",
       "      <td>n/d</td>\n",
       "      <td>n/d</td>\n",
       "      <td>n/d</td>\n",
       "      <td>n/d</td>\n",
       "      <td>n/d</td>\n",
       "    </tr>\n",
       "    <tr>\n",
       "      <th>590539</th>\n",
       "      <td>3577539</td>\n",
       "      <td>0</td>\n",
       "      <td>15811131</td>\n",
       "      <td>280.000000</td>\n",
       "      <td>W</td>\n",
       "      <td>15066</td>\n",
       "      <td>170.0</td>\n",
       "      <td>150.0</td>\n",
       "      <td>mastercard</td>\n",
       "      <td>102.0</td>\n",
       "      <td>...</td>\n",
       "      <td>n/d</td>\n",
       "      <td>26.515625</td>\n",
       "      <td>n/d</td>\n",
       "      <td>n/d</td>\n",
       "      <td>n/d</td>\n",
       "      <td>n/d</td>\n",
       "      <td>n/d</td>\n",
       "      <td>n/d</td>\n",
       "      <td>n/d</td>\n",
       "      <td>n/d</td>\n",
       "    </tr>\n",
       "  </tbody>\n",
       "</table>\n",
       "<p>590540 rows × 434 columns</p>\n",
       "</div>\n",
       "      <button class=\"colab-df-convert\" onclick=\"convertToInteractive('df-49a6fff2-3799-444e-8396-0c21127094a6')\"\n",
       "              title=\"Convert this dataframe to an interactive table.\"\n",
       "              style=\"display:none;\">\n",
       "        \n",
       "  <svg xmlns=\"http://www.w3.org/2000/svg\" height=\"24px\"viewBox=\"0 0 24 24\"\n",
       "       width=\"24px\">\n",
       "    <path d=\"M0 0h24v24H0V0z\" fill=\"none\"/>\n",
       "    <path d=\"M18.56 5.44l.94 2.06.94-2.06 2.06-.94-2.06-.94-.94-2.06-.94 2.06-2.06.94zm-11 1L8.5 8.5l.94-2.06 2.06-.94-2.06-.94L8.5 2.5l-.94 2.06-2.06.94zm10 10l.94 2.06.94-2.06 2.06-.94-2.06-.94-.94-2.06-.94 2.06-2.06.94z\"/><path d=\"M17.41 7.96l-1.37-1.37c-.4-.4-.92-.59-1.43-.59-.52 0-1.04.2-1.43.59L10.3 9.45l-7.72 7.72c-.78.78-.78 2.05 0 2.83L4 21.41c.39.39.9.59 1.41.59.51 0 1.02-.2 1.41-.59l7.78-7.78 2.81-2.81c.8-.78.8-2.07 0-2.86zM5.41 20L4 18.59l7.72-7.72 1.47 1.35L5.41 20z\"/>\n",
       "  </svg>\n",
       "      </button>\n",
       "      \n",
       "  <style>\n",
       "    .colab-df-container {\n",
       "      display:flex;\n",
       "      flex-wrap:wrap;\n",
       "      gap: 12px;\n",
       "    }\n",
       "\n",
       "    .colab-df-convert {\n",
       "      background-color: #E8F0FE;\n",
       "      border: none;\n",
       "      border-radius: 50%;\n",
       "      cursor: pointer;\n",
       "      display: none;\n",
       "      fill: #1967D2;\n",
       "      height: 32px;\n",
       "      padding: 0 0 0 0;\n",
       "      width: 32px;\n",
       "    }\n",
       "\n",
       "    .colab-df-convert:hover {\n",
       "      background-color: #E2EBFA;\n",
       "      box-shadow: 0px 1px 2px rgba(60, 64, 67, 0.3), 0px 1px 3px 1px rgba(60, 64, 67, 0.15);\n",
       "      fill: #174EA6;\n",
       "    }\n",
       "\n",
       "    [theme=dark] .colab-df-convert {\n",
       "      background-color: #3B4455;\n",
       "      fill: #D2E3FC;\n",
       "    }\n",
       "\n",
       "    [theme=dark] .colab-df-convert:hover {\n",
       "      background-color: #434B5C;\n",
       "      box-shadow: 0px 1px 3px 1px rgba(0, 0, 0, 0.15);\n",
       "      filter: drop-shadow(0px 1px 2px rgba(0, 0, 0, 0.3));\n",
       "      fill: #FFFFFF;\n",
       "    }\n",
       "  </style>\n",
       "\n",
       "      <script>\n",
       "        const buttonEl =\n",
       "          document.querySelector('#df-49a6fff2-3799-444e-8396-0c21127094a6 button.colab-df-convert');\n",
       "        buttonEl.style.display =\n",
       "          google.colab.kernel.accessAllowed ? 'block' : 'none';\n",
       "\n",
       "        async function convertToInteractive(key) {\n",
       "          const element = document.querySelector('#df-49a6fff2-3799-444e-8396-0c21127094a6');\n",
       "          const dataTable =\n",
       "            await google.colab.kernel.invokeFunction('convertToInteractive',\n",
       "                                                     [key], {});\n",
       "          if (!dataTable) return;\n",
       "\n",
       "          const docLinkHtml = 'Like what you see? Visit the ' +\n",
       "            '<a target=\"_blank\" href=https://colab.research.google.com/notebooks/data_table.ipynb>data table notebook</a>'\n",
       "            + ' to learn more about interactive tables.';\n",
       "          element.innerHTML = '';\n",
       "          dataTable['output_type'] = 'display_data';\n",
       "          await google.colab.output.renderOutput(dataTable, element);\n",
       "          const docLink = document.createElement('div');\n",
       "          docLink.innerHTML = docLinkHtml;\n",
       "          element.appendChild(docLink);\n",
       "        }\n",
       "      </script>\n",
       "    </div>\n",
       "  </div>\n",
       "  "
      ],
      "text/plain": [
       "        TransactionID  isFraud  TransactionDT  TransactionAmt ProductCD  \\\n",
       "0             2987000        0          86400       68.500000         W   \n",
       "1             2987001        0          86401       29.000000         W   \n",
       "2             2987002        0          86469       59.000000         W   \n",
       "3             2987003        0          86499       50.000000         W   \n",
       "4             2987004        0          86506       50.000000         H   \n",
       "...               ...      ...            ...             ...       ...   \n",
       "590535        3577535        0       15811047       49.000000         W   \n",
       "590536        3577536        0       15811049       39.500000         W   \n",
       "590537        3577537        0       15811079       30.953125         W   \n",
       "590538        3577538        0       15811088      117.000000         W   \n",
       "590539        3577539        0       15811131      280.000000         W   \n",
       "\n",
       "        card1  card2  card3       card4  card5  ...                id_31  \\\n",
       "0       13926  362.5  150.0    discover  142.0  ...                  n/d   \n",
       "1        2755  404.0  150.0  mastercard  102.0  ...                  n/d   \n",
       "2        4663  490.0  150.0        visa  166.0  ...                  n/d   \n",
       "3       18132  567.0  150.0  mastercard  117.0  ...                  n/d   \n",
       "4        4497  514.0  150.0  mastercard  102.0  ...  samsung browser 6.2   \n",
       "...       ...    ...    ...         ...    ...  ...                  ...   \n",
       "590535   6550  362.5  150.0        visa  226.0  ...                  n/d   \n",
       "590536  10444  225.0  150.0  mastercard  224.0  ...                  n/d   \n",
       "590537  12037  595.0  150.0  mastercard  224.0  ...                  n/d   \n",
       "590538   7826  481.0  150.0  mastercard  224.0  ...                  n/d   \n",
       "590539  15066  170.0  150.0  mastercard  102.0  ...                  n/d   \n",
       "\n",
       "            id_32      id_33           id_34  id_35 id_36 id_37  id_38  \\\n",
       "0       26.515625        n/d             n/d    n/d   n/d   n/d    n/d   \n",
       "1       26.515625        n/d             n/d    n/d   n/d   n/d    n/d   \n",
       "2       26.515625        n/d             n/d    n/d   n/d   n/d    n/d   \n",
       "3       26.515625        n/d             n/d    n/d   n/d   n/d    n/d   \n",
       "4       32.000000  2220x1080  match_status:2      T     F     T      T   \n",
       "...           ...        ...             ...    ...   ...   ...    ...   \n",
       "590535  26.515625        n/d             n/d    n/d   n/d   n/d    n/d   \n",
       "590536  26.515625        n/d             n/d    n/d   n/d   n/d    n/d   \n",
       "590537  26.515625        n/d             n/d    n/d   n/d   n/d    n/d   \n",
       "590538  26.515625        n/d             n/d    n/d   n/d   n/d    n/d   \n",
       "590539  26.515625        n/d             n/d    n/d   n/d   n/d    n/d   \n",
       "\n",
       "        DeviceType                     DeviceInfo  \n",
       "0              n/d                            n/d  \n",
       "1              n/d                            n/d  \n",
       "2              n/d                            n/d  \n",
       "3              n/d                            n/d  \n",
       "4           mobile  SAMSUNG SM-G892A Build/NRD90M  \n",
       "...            ...                            ...  \n",
       "590535         n/d                            n/d  \n",
       "590536         n/d                            n/d  \n",
       "590537         n/d                            n/d  \n",
       "590538         n/d                            n/d  \n",
       "590539         n/d                            n/d  \n",
       "\n",
       "[590540 rows x 434 columns]"
      ]
     },
     "execution_count": 8,
     "metadata": {},
     "output_type": "execute_result"
    }
   ],
   "source": [
    "merged"
   ]
  },
  {
   "cell_type": "markdown",
   "metadata": {
    "id": "yigXFvnmFp_E"
   },
   "source": [
    "Выделим отдельно списки числовых столбцов и категориальных"
   ]
  },
  {
   "cell_type": "code",
   "execution_count": 9,
   "metadata": {
    "id": "4UHEfL7OYs-s"
   },
   "outputs": [],
   "source": [
    "numeric_col_id=np.where(merged.dtypes != 'category')[0]\n",
    "numeric_col = merged.columns[numeric_col_id].drop(\"isFraud\")"
   ]
  },
  {
   "cell_type": "code",
   "execution_count": 10,
   "metadata": {
    "id": "oae61eHKcJQ0"
   },
   "outputs": [],
   "source": [
    "categorical_col_id=np.where(merged.dtypes == 'category')[0]\n",
    "categorical_col=merged.columns[categorical_col_id]"
   ]
  },
  {
   "cell_type": "markdown",
   "metadata": {
    "id": "q4j-pl7_F1Ai"
   },
   "source": [
    "Разделим на тестовую и обучающую выборки"
   ]
  },
  {
   "cell_type": "code",
   "execution_count": 11,
   "metadata": {
    "id": "-LHD39Zygmk5"
   },
   "outputs": [],
   "source": [
    "X= merged.drop('isFraud', axis=1)\n",
    "y= merged['isFraud']\n",
    "   \n",
    "X_train, X_test, y_train, y_test = train_test_split(X, y, test_size=0.3, random_state=42)"
   ]
  },
  {
   "cell_type": "code",
   "execution_count": 12,
   "metadata": {
    "id": "5HU7biS8gmiZ"
   },
   "outputs": [],
   "source": [
    "X_test=X_test.reset_index(drop=True)\n",
    "y_test=y_test.reset_index(drop=True)"
   ]
  },
  {
   "cell_type": "markdown",
   "metadata": {
    "id": "sQFaokfe7eGz"
   },
   "source": [
    "##Undersampling"
   ]
  },
  {
   "cell_type": "code",
   "execution_count": 13,
   "metadata": {
    "colab": {
     "base_uri": "https://localhost:8080/"
    },
    "id": "lWFU5fHZkMwy",
    "outputId": "f22d5e51-9efa-4dd0-9844-2f425b07f37b"
   },
   "outputs": [
    {
     "name": "stdout",
     "output_type": "stream",
     "text": [
      "Разбиение на классы до undersampling: Counter({0: 399056, 1: 14322})\n",
      "Разбиение на классы после: Counter({0: 14322, 1: 14322})\n"
     ]
    }
   ],
   "source": [
    "und=RandomUnderSampler(random_state=42)\n",
    "\n",
    "X_und, y_und = und.fit_resample(X_train, y_train)\n",
    "\n",
    "print(f'Разбиение на классы до undersampling: {Counter(y_train)}')\n",
    "print(f'Разбиение на классы после: {Counter(y_und)}')"
   ]
  },
  {
   "cell_type": "markdown",
   "metadata": {
    "id": "QR3w3fkABRYg"
   },
   "source": [
    "## CatBoost"
   ]
  },
  {
   "cell_type": "code",
   "execution_count": 14,
   "metadata": {
    "id": "7rpbEcoo4Fds"
   },
   "outputs": [],
   "source": [
    "categorical_features_indices = np.where(X.dtypes == 'category')[0]"
   ]
  },
  {
   "cell_type": "code",
   "execution_count": null,
   "metadata": {
    "colab": {
     "base_uri": "https://localhost:8080/"
    },
    "id": "7MGhNR9JTgY6",
    "outputId": "312007dd-540c-4d8d-93b8-b1b5544e4f50"
   },
   "outputs": [
    {
     "name": "stderr",
     "output_type": "stream",
     "text": [
      "\u001b[32m[I 2023-02-28 14:45:55,010]\u001b[0m A new study created in memory with name: no-name-873152ff-61b0-483e-ac3d-acf7af5e91d5\u001b[0m\n",
      "Default metric period is 5 because AUC is/are not implemented for GPU\n",
      "\u001b[32m[I 2023-02-28 14:49:13,261]\u001b[0m Trial 0 finished with value: 0.8150538119263154 and parameters: {'objective': 'Logloss', 'depth': 10, 'boosting_type': 'Plain', 'bootstrap_type': 'MVS'}. Best is trial 0 with value: 0.8150538119263154.\u001b[0m\n",
      "Default metric period is 5 because AUC is/are not implemented for GPU\n",
      "\u001b[32m[I 2023-02-28 14:51:50,197]\u001b[0m Trial 1 finished with value: 0.8744939322928714 and parameters: {'objective': 'CrossEntropy', 'depth': 9, 'boosting_type': 'Plain', 'bootstrap_type': 'Bernoulli', 'subsample': 0.46751867649451617}. Best is trial 1 with value: 0.8744939322928714.\u001b[0m\n",
      "Default metric period is 5 because AUC is/are not implemented for GPU\n",
      "\u001b[32m[I 2023-02-28 14:53:09,425]\u001b[0m Trial 2 finished with value: 0.8618354502053059 and parameters: {'objective': 'Logloss', 'depth': 5, 'boosting_type': 'Plain', 'bootstrap_type': 'Bernoulli', 'subsample': 0.918035849051644}. Best is trial 1 with value: 0.8744939322928714.\u001b[0m\n",
      "Default metric period is 5 because AUC is/are not implemented for GPU\n",
      "\u001b[32m[I 2023-02-28 14:57:49,929]\u001b[0m Trial 3 finished with value: 0.8822992287584566 and parameters: {'objective': 'Logloss', 'depth': 11, 'boosting_type': 'Plain', 'bootstrap_type': 'Bernoulli', 'subsample': 0.33189624009065266}. Best is trial 3 with value: 0.8822992287584566.\u001b[0m\n"
     ]
    },
    {
     "name": "stdout",
     "output_type": "stream",
     "text": [
      "Number of finished trials: 4\n",
      "Best trial:\n",
      "  Value: 0.8822992287584566\n",
      "  Params: \n",
      "    objective: Logloss\n",
      "    depth: 11\n",
      "    boosting_type: Plain\n",
      "    bootstrap_type: Bernoulli\n",
      "    subsample: 0.33189624009065266\n"
     ]
    }
   ],
   "source": [
    "def objective(trial, X_train=X_und, X_test=X_test, y_train=y_und, y_test=y_test):\n",
    "    X= merged.drop('isFraud', axis=1)\n",
    "    y= merged['isFraud']\n",
    "    categorical_features_indices = np.where(X.dtypes == 'category')[0]\n",
    "\n",
    "    param = {\n",
    "        \"objective\": trial.suggest_categorical(\"objective\", [\"Logloss\", \"CrossEntropy\"]),\n",
    "        \"depth\": trial.suggest_int(\"depth\", 1, 12),\n",
    "        \"boosting_type\": trial.suggest_categorical(\"boosting_type\", [\"Ordered\", \"Plain\"]),\n",
    "        \"bootstrap_type\": trial.suggest_categorical(\n",
    "            \"bootstrap_type\", [\"Bayesian\", \"Bernoulli\", \"MVS\"]\n",
    "        ),\n",
    "        \"task_type\":\"GPU\",\n",
    "        \"eval_metric\": \"AUC\",\n",
    "    }\n",
    "\n",
    "    if param[\"bootstrap_type\"] == \"Bayesian\":\n",
    "        param[\"bagging_temperature\"] = trial.suggest_float(\"bagging_temperature\", 0, 10)\n",
    "    elif param[\"bootstrap_type\"] == \"Bernoulli\":\n",
    "        param[\"subsample\"] = trial.suggest_float(\"subsample\", 0.1, 1)\n",
    "\n",
    "    cat_cls = CatBoostClassifier(**param)\n",
    "\n",
    "    cat_cls.fit(X_train, y_train, eval_set=[(X_test, y_test)], cat_features=categorical_features_indices,verbose=0, early_stopping_rounds=100)\n",
    "\n",
    "    preds = cat_cls.predict(X_test)\n",
    "    pred_labels = np.rint(preds)\n",
    "    roc_auc_ = roc_auc_score(y_test, pred_labels)\n",
    "    return roc_auc_\n",
    "\n",
    "\n",
    "if __name__ == \"__main__\":\n",
    "    study = optuna.create_study(direction=\"maximize\")\n",
    "    study.optimize(objective, n_trials=50, timeout=600)\n",
    "\n",
    "    print(\"Number of finished trials: {}\".format(len(study.trials)))\n",
    "\n",
    "    print(\"Best trial:\")\n",
    "    trial = study.best_trial\n",
    "\n",
    "    print(\"  Value: {}\".format(trial.value))\n",
    "\n",
    "    print(\"  Params: \")\n",
    "    for key, value in trial.params.items():\n",
    "        print(\"    {}: {}\".format(key, value))"
   ]
  },
  {
   "cell_type": "code",
   "execution_count": 15,
   "metadata": {
    "colab": {
     "base_uri": "https://localhost:8080/",
     "height": 1000,
     "referenced_widgets": [
      "3827a246bd334445a76e30d7d68b3b9b"
     ]
    },
    "id": "Lujqy5B0n2ZC",
    "outputId": "8052acd4-c771-4dda-ab9c-047e382ddb35"
   },
   "outputs": [
    {
     "data": {
      "application/vnd.jupyter.widget-view+json": {
       "model_id": "3827a246bd334445a76e30d7d68b3b9b",
       "version_major": 2,
       "version_minor": 0
      },
      "text/plain": [
       "MetricVisualizer(layout=Layout(align_self='stretch', height='500px'))"
      ]
     },
     "metadata": {},
     "output_type": "display_data"
    },
    {
     "name": "stdout",
     "output_type": "stream",
     "text": [
      "Learning rate set to 0.042671\n"
     ]
    },
    {
     "name": "stderr",
     "output_type": "stream",
     "text": [
      "Default metric period is 5 because AUC is/are not implemented for GPU\n"
     ]
    },
    {
     "name": "stdout",
     "output_type": "stream",
     "text": [
      "0:\ttest: 0.7665542\tbest: 0.7665542 (0)\ttotal: 391ms\tremaining: 6m 30s\n",
      "1:\ttotal: 737ms\tremaining: 6m 7s\n",
      "2:\ttotal: 1.09s\tremaining: 6m 3s\n",
      "3:\ttotal: 1.43s\tremaining: 5m 56s\n",
      "4:\ttotal: 1.8s\tremaining: 5m 57s\n",
      "5:\ttest: 0.8483707\tbest: 0.8483707 (5)\ttotal: 2.16s\tremaining: 5m 57s\n",
      "6:\ttotal: 2.46s\tremaining: 5m 48s\n",
      "7:\ttotal: 2.83s\tremaining: 5m 50s\n",
      "8:\ttotal: 3.18s\tremaining: 5m 49s\n",
      "9:\ttotal: 3.55s\tremaining: 5m 51s\n",
      "10:\ttest: 0.8519672\tbest: 0.8519672 (10)\ttotal: 3.92s\tremaining: 5m 52s\n",
      "11:\ttotal: 4.29s\tremaining: 5m 52s\n",
      "12:\ttotal: 4.69s\tremaining: 5m 55s\n",
      "13:\ttotal: 5.03s\tremaining: 5m 53s\n",
      "14:\ttotal: 5.37s\tremaining: 5m 52s\n",
      "15:\ttest: 0.8603398\tbest: 0.8603398 (15)\ttotal: 5.91s\tremaining: 6m 3s\n",
      "16:\ttotal: 6.5s\tremaining: 6m 15s\n",
      "17:\ttotal: 7.14s\tremaining: 6m 29s\n",
      "18:\ttotal: 7.77s\tremaining: 6m 41s\n",
      "19:\ttotal: 8.32s\tremaining: 6m 47s\n",
      "20:\ttest: 0.8640790\tbest: 0.8640790 (20)\ttotal: 8.79s\tremaining: 6m 49s\n",
      "21:\ttotal: 9.22s\tremaining: 6m 49s\n",
      "22:\ttotal: 9.58s\tremaining: 6m 47s\n",
      "23:\ttotal: 9.93s\tremaining: 6m 43s\n",
      "24:\ttotal: 10.3s\tremaining: 6m 42s\n",
      "25:\ttest: 0.8686575\tbest: 0.8686575 (25)\ttotal: 10.7s\tremaining: 6m 40s\n",
      "26:\ttotal: 11.1s\tremaining: 6m 38s\n",
      "27:\ttotal: 11.4s\tremaining: 6m 34s\n",
      "28:\ttotal: 11.7s\tremaining: 6m 33s\n",
      "29:\ttotal: 12.1s\tremaining: 6m 30s\n",
      "30:\ttest: 0.8727936\tbest: 0.8727936 (30)\ttotal: 12.5s\tremaining: 6m 29s\n",
      "31:\ttotal: 12.8s\tremaining: 6m 28s\n",
      "32:\ttotal: 13.2s\tremaining: 6m 27s\n",
      "33:\ttotal: 13.6s\tremaining: 6m 25s\n",
      "34:\ttotal: 14s\tremaining: 6m 25s\n",
      "35:\ttest: 0.8767762\tbest: 0.8767762 (35)\ttotal: 14.3s\tremaining: 6m 23s\n",
      "36:\ttotal: 14.7s\tremaining: 6m 21s\n",
      "37:\ttotal: 15s\tremaining: 6m 20s\n",
      "38:\ttotal: 15.4s\tremaining: 6m 20s\n",
      "39:\ttotal: 15.8s\tremaining: 6m 18s\n",
      "40:\ttest: 0.8791607\tbest: 0.8791607 (40)\ttotal: 16.2s\tremaining: 6m 17s\n",
      "41:\ttotal: 16.6s\tremaining: 6m 17s\n",
      "42:\ttotal: 16.9s\tremaining: 6m 17s\n",
      "43:\ttotal: 17.3s\tremaining: 6m 16s\n",
      "44:\ttotal: 17.7s\tremaining: 6m 15s\n",
      "45:\ttest: 0.8824686\tbest: 0.8824686 (45)\ttotal: 18.1s\tremaining: 6m 15s\n",
      "46:\ttotal: 18.5s\tremaining: 6m 14s\n",
      "47:\ttotal: 18.8s\tremaining: 6m 13s\n",
      "48:\ttotal: 19.4s\tremaining: 6m 15s\n",
      "49:\ttotal: 20s\tremaining: 6m 19s\n",
      "50:\ttest: 0.8850638\tbest: 0.8850638 (50)\ttotal: 20.6s\tremaining: 6m 22s\n",
      "51:\ttotal: 21.2s\tremaining: 6m 25s\n",
      "52:\ttotal: 21.5s\tremaining: 6m 24s\n",
      "53:\ttotal: 21.9s\tremaining: 6m 23s\n",
      "54:\ttotal: 22.5s\tremaining: 6m 26s\n",
      "55:\ttest: 0.8877617\tbest: 0.8877617 (55)\ttotal: 22.9s\tremaining: 6m 26s\n",
      "56:\ttotal: 23.2s\tremaining: 6m 24s\n",
      "57:\ttotal: 23.6s\tremaining: 6m 23s\n",
      "58:\ttotal: 24s\tremaining: 6m 22s\n",
      "59:\ttotal: 24.4s\tremaining: 6m 21s\n",
      "60:\ttest: 0.8892255\tbest: 0.8892255 (60)\ttotal: 24.7s\tremaining: 6m 20s\n",
      "61:\ttotal: 25s\tremaining: 6m 18s\n",
      "62:\ttotal: 25.4s\tremaining: 6m 17s\n",
      "63:\ttotal: 25.8s\tremaining: 6m 17s\n",
      "64:\ttotal: 26.2s\tremaining: 6m 16s\n",
      "65:\ttest: 0.8908052\tbest: 0.8908052 (65)\ttotal: 26.6s\tremaining: 6m 16s\n",
      "66:\ttotal: 27s\tremaining: 6m 15s\n",
      "67:\ttotal: 27.3s\tremaining: 6m 14s\n",
      "68:\ttotal: 27.7s\tremaining: 6m 13s\n",
      "69:\ttotal: 28.1s\tremaining: 6m 13s\n",
      "70:\ttest: 0.8921508\tbest: 0.8921508 (70)\ttotal: 28.5s\tremaining: 6m 13s\n",
      "71:\ttotal: 28.9s\tremaining: 6m 12s\n",
      "72:\ttotal: 29.2s\tremaining: 6m 10s\n",
      "73:\ttotal: 29.6s\tremaining: 6m 10s\n",
      "74:\ttotal: 30s\tremaining: 6m 10s\n",
      "75:\ttest: 0.8942022\tbest: 0.8942022 (75)\ttotal: 30.4s\tremaining: 6m 9s\n",
      "76:\ttotal: 30.8s\tremaining: 6m 8s\n",
      "77:\ttotal: 31.2s\tremaining: 6m 8s\n",
      "78:\ttotal: 31.6s\tremaining: 6m 7s\n",
      "79:\ttotal: 32s\tremaining: 6m 7s\n",
      "80:\ttest: 0.8954442\tbest: 0.8954442 (80)\ttotal: 32.3s\tremaining: 6m 6s\n",
      "81:\ttotal: 32.7s\tremaining: 6m 5s\n",
      "82:\ttotal: 33.1s\tremaining: 6m 6s\n",
      "83:\ttotal: 33.8s\tremaining: 6m 8s\n",
      "84:\ttotal: 34.4s\tremaining: 6m 9s\n",
      "85:\ttest: 0.8970684\tbest: 0.8970684 (85)\ttotal: 35s\tremaining: 6m 11s\n",
      "86:\ttotal: 35.6s\tremaining: 6m 13s\n",
      "87:\ttotal: 36.1s\tremaining: 6m 14s\n",
      "88:\ttotal: 36.5s\tremaining: 6m 14s\n",
      "89:\ttotal: 36.9s\tremaining: 6m 13s\n",
      "90:\ttest: 0.8985170\tbest: 0.8985170 (90)\ttotal: 37.4s\tremaining: 6m 13s\n",
      "91:\ttotal: 37.7s\tremaining: 6m 12s\n",
      "92:\ttotal: 38.1s\tremaining: 6m 11s\n",
      "93:\ttotal: 38.5s\tremaining: 6m 10s\n",
      "94:\ttotal: 38.8s\tremaining: 6m 9s\n",
      "95:\ttest: 0.8998482\tbest: 0.8998482 (95)\ttotal: 39.2s\tremaining: 6m 9s\n",
      "96:\ttotal: 39.6s\tremaining: 6m 8s\n",
      "97:\ttotal: 39.9s\tremaining: 6m 7s\n",
      "98:\ttotal: 40.3s\tremaining: 6m 6s\n",
      "99:\ttotal: 40.7s\tremaining: 6m 5s\n",
      "100:\ttest: 0.9008172\tbest: 0.9008172 (100)\ttotal: 41s\tremaining: 6m 4s\n",
      "101:\ttotal: 41.3s\tremaining: 6m 3s\n",
      "102:\ttotal: 41.7s\tremaining: 6m 3s\n",
      "103:\ttotal: 42.1s\tremaining: 6m 2s\n",
      "104:\ttotal: 42.5s\tremaining: 6m 2s\n",
      "105:\ttest: 0.9018389\tbest: 0.9018389 (105)\ttotal: 42.9s\tremaining: 6m 1s\n",
      "106:\ttotal: 43.3s\tremaining: 6m 1s\n",
      "107:\ttotal: 43.6s\tremaining: 6m\n",
      "108:\ttotal: 44s\tremaining: 5m 59s\n",
      "109:\ttotal: 44.3s\tremaining: 5m 58s\n",
      "110:\ttest: 0.9026024\tbest: 0.9026024 (110)\ttotal: 44.7s\tremaining: 5m 57s\n",
      "111:\ttotal: 45s\tremaining: 5m 57s\n",
      "112:\ttotal: 45.4s\tremaining: 5m 56s\n",
      "113:\ttotal: 45.8s\tremaining: 5m 55s\n",
      "114:\ttotal: 46.2s\tremaining: 5m 55s\n",
      "115:\ttest: 0.9038198\tbest: 0.9038198 (115)\ttotal: 46.7s\tremaining: 5m 55s\n",
      "116:\ttotal: 47.2s\tremaining: 5m 56s\n",
      "117:\ttotal: 47.8s\tremaining: 5m 57s\n",
      "118:\ttotal: 48.3s\tremaining: 5m 57s\n",
      "119:\ttotal: 48.8s\tremaining: 5m 57s\n",
      "120:\ttest: 0.9055103\tbest: 0.9055103 (120)\ttotal: 49.2s\tremaining: 5m 57s\n",
      "121:\ttotal: 49.7s\tremaining: 5m 57s\n",
      "122:\ttotal: 50.1s\tremaining: 5m 57s\n",
      "123:\ttotal: 50.5s\tremaining: 5m 56s\n",
      "124:\ttotal: 50.9s\tremaining: 5m 56s\n",
      "125:\ttest: 0.9062307\tbest: 0.9062307 (125)\ttotal: 51.3s\tremaining: 5m 55s\n",
      "126:\ttotal: 51.6s\tremaining: 5m 55s\n",
      "127:\ttotal: 52s\tremaining: 5m 54s\n",
      "128:\ttotal: 52.4s\tremaining: 5m 53s\n",
      "129:\ttotal: 52.7s\tremaining: 5m 52s\n",
      "130:\ttest: 0.9066688\tbest: 0.9066688 (130)\ttotal: 53.1s\tremaining: 5m 52s\n",
      "131:\ttotal: 53.4s\tremaining: 5m 51s\n",
      "132:\ttotal: 53.9s\tremaining: 5m 51s\n",
      "133:\ttotal: 54.2s\tremaining: 5m 50s\n",
      "134:\ttotal: 54.6s\tremaining: 5m 49s\n",
      "135:\ttest: 0.9075878\tbest: 0.9075878 (135)\ttotal: 55s\tremaining: 5m 49s\n",
      "136:\ttotal: 55.3s\tremaining: 5m 48s\n",
      "137:\ttotal: 55.7s\tremaining: 5m 47s\n",
      "138:\ttotal: 56s\tremaining: 5m 46s\n",
      "139:\ttotal: 56.4s\tremaining: 5m 46s\n",
      "140:\ttest: 0.9086087\tbest: 0.9086087 (140)\ttotal: 56.8s\tremaining: 5m 45s\n",
      "141:\ttotal: 57.1s\tremaining: 5m 45s\n",
      "142:\ttotal: 57.5s\tremaining: 5m 44s\n",
      "143:\ttotal: 57.8s\tremaining: 5m 43s\n",
      "144:\ttotal: 58.2s\tremaining: 5m 43s\n",
      "145:\ttest: 0.9093206\tbest: 0.9093206 (145)\ttotal: 58.6s\tremaining: 5m 42s\n",
      "146:\ttotal: 59s\tremaining: 5m 42s\n",
      "147:\ttotal: 59.3s\tremaining: 5m 41s\n",
      "148:\ttotal: 59.6s\tremaining: 5m 40s\n",
      "149:\ttotal: 1m\tremaining: 5m 40s\n",
      "150:\ttest: 0.9105361\tbest: 0.9105361 (150)\ttotal: 1m\tremaining: 5m 40s\n",
      "151:\ttotal: 1m 1s\tremaining: 5m 41s\n",
      "152:\ttotal: 1m 1s\tremaining: 5m 42s\n",
      "153:\ttotal: 1m 2s\tremaining: 5m 43s\n",
      "154:\ttotal: 1m 3s\tremaining: 5m 44s\n",
      "155:\ttest: 0.9112062\tbest: 0.9112062 (155)\ttotal: 1m 3s\tremaining: 5m 44s\n",
      "156:\ttotal: 1m 4s\tremaining: 5m 44s\n",
      "157:\ttotal: 1m 4s\tremaining: 5m 43s\n",
      "158:\ttotal: 1m 4s\tremaining: 5m 42s\n",
      "159:\ttotal: 1m 5s\tremaining: 5m 42s\n",
      "160:\ttest: 0.9122440\tbest: 0.9122440 (160)\ttotal: 1m 5s\tremaining: 5m 41s\n",
      "161:\ttotal: 1m 5s\tremaining: 5m 41s\n",
      "162:\ttotal: 1m 6s\tremaining: 5m 40s\n",
      "163:\ttotal: 1m 6s\tremaining: 5m 40s\n",
      "164:\ttotal: 1m 7s\tremaining: 5m 39s\n",
      "165:\ttest: 0.9127479\tbest: 0.9127479 (165)\ttotal: 1m 7s\tremaining: 5m 38s\n",
      "166:\ttotal: 1m 7s\tremaining: 5m 37s\n",
      "167:\ttotal: 1m 8s\tremaining: 5m 37s\n",
      "168:\ttotal: 1m 8s\tremaining: 5m 36s\n",
      "169:\ttotal: 1m 8s\tremaining: 5m 36s\n",
      "170:\ttest: 0.9134830\tbest: 0.9134830 (170)\ttotal: 1m 9s\tremaining: 5m 35s\n",
      "171:\ttotal: 1m 9s\tremaining: 5m 35s\n",
      "172:\ttotal: 1m 9s\tremaining: 5m 34s\n",
      "173:\ttotal: 1m 10s\tremaining: 5m 33s\n",
      "174:\ttotal: 1m 10s\tremaining: 5m 33s\n",
      "175:\ttest: 0.9141136\tbest: 0.9141136 (175)\ttotal: 1m 11s\tremaining: 5m 32s\n",
      "176:\ttotal: 1m 11s\tremaining: 5m 32s\n",
      "177:\ttotal: 1m 11s\tremaining: 5m 31s\n",
      "178:\ttotal: 1m 12s\tremaining: 5m 30s\n",
      "179:\ttotal: 1m 12s\tremaining: 5m 30s\n",
      "180:\ttest: 0.9144790\tbest: 0.9144790 (180)\ttotal: 1m 12s\tremaining: 5m 29s\n",
      "181:\ttotal: 1m 13s\tremaining: 5m 29s\n",
      "182:\ttotal: 1m 13s\tremaining: 5m 28s\n",
      "183:\ttotal: 1m 14s\tremaining: 5m 28s\n",
      "184:\ttotal: 1m 14s\tremaining: 5m 28s\n",
      "185:\ttest: 0.9150580\tbest: 0.9150580 (185)\ttotal: 1m 15s\tremaining: 5m 29s\n",
      "186:\ttotal: 1m 15s\tremaining: 5m 29s\n",
      "187:\ttotal: 1m 16s\tremaining: 5m 30s\n",
      "188:\ttotal: 1m 16s\tremaining: 5m 30s\n",
      "189:\ttotal: 1m 17s\tremaining: 5m 29s\n",
      "190:\ttest: 0.9155202\tbest: 0.9155202 (190)\ttotal: 1m 17s\tremaining: 5m 29s\n",
      "191:\ttotal: 1m 18s\tremaining: 5m 28s\n",
      "192:\ttotal: 1m 18s\tremaining: 5m 28s\n",
      "193:\ttotal: 1m 18s\tremaining: 5m 28s\n",
      "194:\ttotal: 1m 19s\tremaining: 5m 27s\n",
      "195:\ttest: 0.9161865\tbest: 0.9161865 (195)\ttotal: 1m 19s\tremaining: 5m 26s\n",
      "196:\ttotal: 1m 19s\tremaining: 5m 25s\n",
      "197:\ttotal: 1m 20s\tremaining: 5m 25s\n",
      "198:\ttotal: 1m 20s\tremaining: 5m 24s\n",
      "199:\ttotal: 1m 20s\tremaining: 5m 23s\n",
      "200:\ttest: 0.9166041\tbest: 0.9166041 (200)\ttotal: 1m 21s\tremaining: 5m 23s\n",
      "201:\ttotal: 1m 21s\tremaining: 5m 22s\n",
      "202:\ttotal: 1m 22s\tremaining: 5m 22s\n",
      "203:\ttotal: 1m 22s\tremaining: 5m 21s\n",
      "204:\ttotal: 1m 22s\tremaining: 5m 21s\n",
      "205:\ttest: 0.9173320\tbest: 0.9173320 (205)\ttotal: 1m 23s\tremaining: 5m 20s\n",
      "206:\ttotal: 1m 23s\tremaining: 5m 20s\n",
      "207:\ttotal: 1m 23s\tremaining: 5m 19s\n",
      "208:\ttotal: 1m 24s\tremaining: 5m 19s\n",
      "209:\ttotal: 1m 24s\tremaining: 5m 18s\n",
      "210:\ttest: 0.9179572\tbest: 0.9179572 (210)\ttotal: 1m 25s\tremaining: 5m 18s\n",
      "211:\ttotal: 1m 25s\tremaining: 5m 17s\n",
      "212:\ttotal: 1m 25s\tremaining: 5m 17s\n",
      "213:\ttotal: 1m 26s\tremaining: 5m 16s\n",
      "214:\ttotal: 1m 26s\tremaining: 5m 15s\n",
      "215:\ttest: 0.9185581\tbest: 0.9185581 (215)\ttotal: 1m 26s\tremaining: 5m 15s\n",
      "216:\ttotal: 1m 27s\tremaining: 5m 14s\n",
      "217:\ttotal: 1m 27s\tremaining: 5m 14s\n",
      "218:\ttotal: 1m 28s\tremaining: 5m 14s\n",
      "219:\ttotal: 1m 28s\tremaining: 5m 15s\n",
      "220:\ttest: 0.9189173\tbest: 0.9189173 (220)\ttotal: 1m 29s\tremaining: 5m 15s\n",
      "221:\ttotal: 1m 30s\tremaining: 5m 16s\n",
      "222:\ttotal: 1m 30s\tremaining: 5m 16s\n",
      "223:\ttotal: 1m 31s\tremaining: 5m 15s\n",
      "224:\ttotal: 1m 31s\tremaining: 5m 15s\n",
      "225:\ttest: 0.9193319\tbest: 0.9193319 (225)\ttotal: 1m 31s\tremaining: 5m 14s\n",
      "226:\ttotal: 1m 32s\tremaining: 5m 14s\n",
      "227:\ttotal: 1m 32s\tremaining: 5m 13s\n",
      "228:\ttotal: 1m 32s\tremaining: 5m 12s\n",
      "229:\ttotal: 1m 33s\tremaining: 5m 12s\n",
      "230:\ttest: 0.9197157\tbest: 0.9197157 (230)\ttotal: 1m 33s\tremaining: 5m 12s\n",
      "231:\ttotal: 1m 34s\tremaining: 5m 11s\n",
      "232:\ttotal: 1m 34s\tremaining: 5m 11s\n",
      "233:\ttotal: 1m 34s\tremaining: 5m 10s\n",
      "234:\ttotal: 1m 35s\tremaining: 5m 10s\n",
      "235:\ttest: 0.9204237\tbest: 0.9204237 (235)\ttotal: 1m 35s\tremaining: 5m 9s\n",
      "236:\ttotal: 1m 36s\tremaining: 5m 9s\n",
      "237:\ttotal: 1m 36s\tremaining: 5m 8s\n",
      "238:\ttotal: 1m 36s\tremaining: 5m 7s\n",
      "239:\ttotal: 1m 37s\tremaining: 5m 7s\n",
      "240:\ttest: 0.9207381\tbest: 0.9207381 (240)\ttotal: 1m 37s\tremaining: 5m 6s\n",
      "241:\ttotal: 1m 37s\tremaining: 5m 6s\n",
      "242:\ttotal: 1m 38s\tremaining: 5m 5s\n",
      "243:\ttotal: 1m 38s\tremaining: 5m 5s\n",
      "244:\ttotal: 1m 38s\tremaining: 5m 4s\n",
      "245:\ttest: 0.9208667\tbest: 0.9208667 (245)\ttotal: 1m 39s\tremaining: 5m 4s\n",
      "246:\ttotal: 1m 39s\tremaining: 5m 3s\n",
      "247:\ttotal: 1m 39s\tremaining: 5m 2s\n",
      "248:\ttotal: 1m 40s\tremaining: 5m 2s\n",
      "249:\ttotal: 1m 40s\tremaining: 5m 1s\n",
      "250:\ttest: 0.9213123\tbest: 0.9213123 (250)\ttotal: 1m 41s\tremaining: 5m 1s\n",
      "251:\ttotal: 1m 41s\tremaining: 5m 1s\n",
      "252:\ttotal: 1m 42s\tremaining: 5m 1s\n",
      "253:\ttotal: 1m 42s\tremaining: 5m 1s\n",
      "254:\ttotal: 1m 43s\tremaining: 5m 2s\n",
      "255:\ttest: 0.9215665\tbest: 0.9215665 (255)\ttotal: 1m 43s\tremaining: 5m 2s\n",
      "256:\ttotal: 1m 44s\tremaining: 5m 2s\n",
      "257:\ttotal: 1m 45s\tremaining: 5m 2s\n",
      "258:\ttotal: 1m 45s\tremaining: 5m 1s\n",
      "259:\ttotal: 1m 45s\tremaining: 5m 1s\n",
      "260:\ttest: 0.9220598\tbest: 0.9220598 (260)\ttotal: 1m 46s\tremaining: 5m\n",
      "261:\ttotal: 1m 46s\tremaining: 5m\n",
      "262:\ttotal: 1m 47s\tremaining: 5m\n",
      "263:\ttotal: 1m 47s\tremaining: 4m 59s\n",
      "264:\ttotal: 1m 47s\tremaining: 4m 59s\n",
      "265:\ttest: 0.9226355\tbest: 0.9226355 (265)\ttotal: 1m 48s\tremaining: 4m 58s\n",
      "266:\ttotal: 1m 48s\tremaining: 4m 57s\n",
      "267:\ttotal: 1m 48s\tremaining: 4m 57s\n",
      "268:\ttotal: 1m 49s\tremaining: 4m 56s\n",
      "269:\ttotal: 1m 49s\tremaining: 4m 56s\n",
      "270:\ttest: 0.9229921\tbest: 0.9229921 (270)\ttotal: 1m 50s\tremaining: 4m 55s\n",
      "271:\ttotal: 1m 50s\tremaining: 4m 55s\n",
      "272:\ttotal: 1m 50s\tremaining: 4m 55s\n",
      "273:\ttotal: 1m 51s\tremaining: 4m 54s\n",
      "274:\ttotal: 1m 51s\tremaining: 4m 54s\n",
      "275:\ttest: 0.9233791\tbest: 0.9233791 (275)\ttotal: 1m 51s\tremaining: 4m 53s\n",
      "276:\ttotal: 1m 52s\tremaining: 4m 53s\n",
      "277:\ttotal: 1m 52s\tremaining: 4m 52s\n",
      "278:\ttotal: 1m 53s\tremaining: 4m 52s\n",
      "279:\ttotal: 1m 53s\tremaining: 4m 51s\n",
      "280:\ttest: 0.9236856\tbest: 0.9236856 (280)\ttotal: 1m 53s\tremaining: 4m 51s\n",
      "281:\ttotal: 1m 54s\tremaining: 4m 50s\n",
      "282:\ttotal: 1m 54s\tremaining: 4m 50s\n",
      "283:\ttotal: 1m 54s\tremaining: 4m 49s\n",
      "284:\ttotal: 1m 55s\tremaining: 4m 49s\n",
      "285:\ttest: 0.9241467\tbest: 0.9241467 (285)\ttotal: 1m 55s\tremaining: 4m 49s\n",
      "286:\ttotal: 1m 56s\tremaining: 4m 48s\n",
      "287:\ttotal: 1m 56s\tremaining: 4m 48s\n",
      "288:\ttotal: 1m 57s\tremaining: 4m 48s\n",
      "289:\ttotal: 1m 57s\tremaining: 4m 48s\n",
      "290:\ttest: 0.9246517\tbest: 0.9246517 (290)\ttotal: 1m 58s\tremaining: 4m 48s\n",
      "291:\ttotal: 1m 58s\tremaining: 4m 47s\n",
      "292:\ttotal: 1m 59s\tremaining: 4m 47s\n",
      "293:\ttotal: 1m 59s\tremaining: 4m 46s\n",
      "294:\ttotal: 1m 59s\tremaining: 4m 46s\n",
      "295:\ttest: 0.9248759\tbest: 0.9248759 (295)\ttotal: 2m\tremaining: 4m 45s\n",
      "296:\ttotal: 2m\tremaining: 4m 45s\n",
      "297:\ttotal: 2m\tremaining: 4m 44s\n",
      "298:\ttotal: 2m 1s\tremaining: 4m 44s\n",
      "299:\ttotal: 2m 1s\tremaining: 4m 43s\n",
      "300:\ttest: 0.9253169\tbest: 0.9253169 (300)\ttotal: 2m 2s\tremaining: 4m 43s\n",
      "301:\ttotal: 2m 2s\tremaining: 4m 43s\n",
      "302:\ttotal: 2m 2s\tremaining: 4m 42s\n",
      "303:\ttotal: 2m 3s\tremaining: 4m 41s\n",
      "304:\ttotal: 2m 3s\tremaining: 4m 41s\n",
      "305:\ttest: 0.9255957\tbest: 0.9255957 (305)\ttotal: 2m 3s\tremaining: 4m 41s\n",
      "306:\ttotal: 2m 4s\tremaining: 4m 40s\n",
      "307:\ttotal: 2m 4s\tremaining: 4m 39s\n",
      "308:\ttotal: 2m 5s\tremaining: 4m 39s\n",
      "309:\ttotal: 2m 5s\tremaining: 4m 39s\n",
      "310:\ttest: 0.9259942\tbest: 0.9259942 (310)\ttotal: 2m 5s\tremaining: 4m 38s\n",
      "311:\ttotal: 2m 6s\tremaining: 4m 38s\n",
      "312:\ttotal: 2m 6s\tremaining: 4m 37s\n",
      "313:\ttotal: 2m 6s\tremaining: 4m 37s\n",
      "314:\ttotal: 2m 7s\tremaining: 4m 36s\n",
      "315:\ttest: 0.9262261\tbest: 0.9262261 (315)\ttotal: 2m 7s\tremaining: 4m 36s\n",
      "316:\ttotal: 2m 8s\tremaining: 4m 35s\n",
      "317:\ttotal: 2m 8s\tremaining: 4m 35s\n",
      "318:\ttotal: 2m 8s\tremaining: 4m 35s\n",
      "319:\ttotal: 2m 9s\tremaining: 4m 35s\n",
      "320:\ttest: 0.9267147\tbest: 0.9267147 (320)\ttotal: 2m 10s\tremaining: 4m 35s\n",
      "321:\ttotal: 2m 10s\tremaining: 4m 35s\n",
      "322:\ttotal: 2m 11s\tremaining: 4m 35s\n",
      "323:\ttotal: 2m 12s\tremaining: 4m 35s\n",
      "324:\ttotal: 2m 12s\tremaining: 4m 35s\n",
      "325:\ttest: 0.9268176\tbest: 0.9268176 (325)\ttotal: 2m 12s\tremaining: 4m 34s\n",
      "326:\ttotal: 2m 13s\tremaining: 4m 34s\n",
      "327:\ttotal: 2m 13s\tremaining: 4m 33s\n",
      "328:\ttotal: 2m 13s\tremaining: 4m 33s\n",
      "329:\ttotal: 2m 14s\tremaining: 4m 32s\n",
      "330:\ttest: 0.9272107\tbest: 0.9272107 (330)\ttotal: 2m 14s\tremaining: 4m 32s\n",
      "331:\ttotal: 2m 15s\tremaining: 4m 31s\n",
      "332:\ttotal: 2m 15s\tremaining: 4m 31s\n",
      "333:\ttotal: 2m 15s\tremaining: 4m 30s\n",
      "334:\ttotal: 2m 16s\tremaining: 4m 30s\n",
      "335:\ttest: 0.9275751\tbest: 0.9275751 (335)\ttotal: 2m 16s\tremaining: 4m 30s\n",
      "336:\ttotal: 2m 17s\tremaining: 4m 30s\n",
      "337:\ttotal: 2m 18s\tremaining: 4m 30s\n",
      "338:\ttotal: 2m 18s\tremaining: 4m 30s\n",
      "339:\ttotal: 2m 19s\tremaining: 4m 30s\n",
      "340:\ttest: 0.9279703\tbest: 0.9279703 (340)\ttotal: 2m 19s\tremaining: 4m 30s\n",
      "341:\ttotal: 2m 20s\tremaining: 4m 29s\n",
      "342:\ttotal: 2m 20s\tremaining: 4m 29s\n",
      "343:\ttotal: 2m 20s\tremaining: 4m 28s\n",
      "344:\ttotal: 2m 21s\tremaining: 4m 28s\n",
      "345:\ttest: 0.9280455\tbest: 0.9280455 (345)\ttotal: 2m 21s\tremaining: 4m 27s\n",
      "346:\ttotal: 2m 22s\tremaining: 4m 27s\n",
      "347:\ttotal: 2m 22s\tremaining: 4m 26s\n",
      "348:\ttotal: 2m 22s\tremaining: 4m 26s\n",
      "349:\ttotal: 2m 23s\tremaining: 4m 26s\n",
      "350:\ttest: 0.9286183\tbest: 0.9286183 (350)\ttotal: 2m 23s\tremaining: 4m 25s\n",
      "351:\ttotal: 2m 24s\tremaining: 4m 25s\n",
      "352:\ttotal: 2m 25s\tremaining: 4m 25s\n",
      "353:\ttotal: 2m 25s\tremaining: 4m 25s\n",
      "354:\ttotal: 2m 26s\tremaining: 4m 25s\n",
      "355:\ttest: 0.9288464\tbest: 0.9288464 (355)\ttotal: 2m 26s\tremaining: 4m 24s\n",
      "356:\ttotal: 2m 26s\tremaining: 4m 24s\n",
      "357:\ttotal: 2m 27s\tremaining: 4m 24s\n",
      "358:\ttotal: 2m 27s\tremaining: 4m 23s\n",
      "359:\ttotal: 2m 27s\tremaining: 4m 23s\n",
      "360:\ttest: 0.9291670\tbest: 0.9291670 (360)\ttotal: 2m 28s\tremaining: 4m 22s\n",
      "361:\ttotal: 2m 28s\tremaining: 4m 22s\n",
      "362:\ttotal: 2m 29s\tremaining: 4m 21s\n",
      "363:\ttotal: 2m 29s\tremaining: 4m 21s\n",
      "364:\ttotal: 2m 29s\tremaining: 4m 20s\n",
      "365:\ttest: 0.9298001\tbest: 0.9298001 (365)\ttotal: 2m 30s\tremaining: 4m 20s\n",
      "366:\ttotal: 2m 30s\tremaining: 4m 19s\n",
      "367:\ttotal: 2m 31s\tremaining: 4m 19s\n",
      "368:\ttotal: 2m 31s\tremaining: 4m 18s\n",
      "369:\ttotal: 2m 31s\tremaining: 4m 18s\n",
      "370:\ttest: 0.9300756\tbest: 0.9300756 (370)\ttotal: 2m 32s\tremaining: 4m 18s\n",
      "371:\ttotal: 2m 32s\tremaining: 4m 17s\n",
      "372:\ttotal: 2m 32s\tremaining: 4m 17s\n",
      "373:\ttotal: 2m 33s\tremaining: 4m 16s\n",
      "374:\ttotal: 2m 33s\tremaining: 4m 16s\n",
      "375:\ttest: 0.9305634\tbest: 0.9305634 (375)\ttotal: 2m 34s\tremaining: 4m 15s\n",
      "376:\ttotal: 2m 34s\tremaining: 4m 15s\n",
      "377:\ttotal: 2m 34s\tremaining: 4m 14s\n",
      "378:\ttotal: 2m 35s\tremaining: 4m 14s\n",
      "379:\ttotal: 2m 35s\tremaining: 4m 13s\n",
      "380:\ttest: 0.9308943\tbest: 0.9308943 (380)\ttotal: 2m 35s\tremaining: 4m 13s\n",
      "381:\ttotal: 2m 36s\tremaining: 4m 12s\n",
      "382:\ttotal: 2m 36s\tremaining: 4m 12s\n",
      "383:\ttotal: 2m 37s\tremaining: 4m 12s\n",
      "384:\ttotal: 2m 37s\tremaining: 4m 12s\n",
      "385:\ttest: 0.9310097\tbest: 0.9310097 (385)\ttotal: 2m 38s\tremaining: 4m 12s\n",
      "386:\ttotal: 2m 39s\tremaining: 4m 12s\n",
      "387:\ttotal: 2m 39s\tremaining: 4m 11s\n",
      "388:\ttotal: 2m 40s\tremaining: 4m 11s\n",
      "389:\ttotal: 2m 40s\tremaining: 4m 10s\n",
      "390:\ttest: 0.9313157\tbest: 0.9313157 (390)\ttotal: 2m 40s\tremaining: 4m 10s\n",
      "391:\ttotal: 2m 41s\tremaining: 4m 10s\n",
      "392:\ttotal: 2m 41s\tremaining: 4m 9s\n",
      "393:\ttotal: 2m 41s\tremaining: 4m 9s\n",
      "394:\ttotal: 2m 42s\tremaining: 4m 8s\n",
      "395:\ttest: 0.9314673\tbest: 0.9314673 (395)\ttotal: 2m 42s\tremaining: 4m 8s\n",
      "396:\ttotal: 2m 42s\tremaining: 4m 7s\n",
      "397:\ttotal: 2m 43s\tremaining: 4m 7s\n",
      "398:\ttotal: 2m 43s\tremaining: 4m 6s\n",
      "399:\ttotal: 2m 44s\tremaining: 4m 6s\n",
      "400:\ttest: 0.9316974\tbest: 0.9316974 (400)\ttotal: 2m 44s\tremaining: 4m 5s\n",
      "401:\ttotal: 2m 44s\tremaining: 4m 5s\n",
      "402:\ttotal: 2m 45s\tremaining: 4m 4s\n",
      "403:\ttotal: 2m 45s\tremaining: 4m 4s\n",
      "404:\ttotal: 2m 45s\tremaining: 4m 3s\n",
      "405:\ttest: 0.9320435\tbest: 0.9320435 (405)\ttotal: 2m 46s\tremaining: 4m 3s\n",
      "406:\ttotal: 2m 46s\tremaining: 4m 2s\n",
      "407:\ttotal: 2m 47s\tremaining: 4m 2s\n",
      "408:\ttotal: 2m 47s\tremaining: 4m 2s\n",
      "409:\ttotal: 2m 47s\tremaining: 4m 1s\n",
      "410:\ttest: 0.9324087\tbest: 0.9324087 (410)\ttotal: 2m 48s\tremaining: 4m 1s\n",
      "411:\ttotal: 2m 48s\tremaining: 4m\n",
      "412:\ttotal: 2m 49s\tremaining: 4m\n",
      "413:\ttotal: 2m 49s\tremaining: 3m 59s\n",
      "414:\ttotal: 2m 49s\tremaining: 3m 59s\n",
      "415:\ttest: 0.9326832\tbest: 0.9326832 (415)\ttotal: 2m 50s\tremaining: 3m 59s\n",
      "416:\ttotal: 2m 51s\tremaining: 3m 59s\n",
      "417:\ttotal: 2m 51s\tremaining: 3m 59s\n",
      "418:\ttotal: 2m 52s\tremaining: 3m 59s\n",
      "419:\ttotal: 2m 53s\tremaining: 3m 59s\n",
      "420:\ttest: 0.9330287\tbest: 0.9330287 (420)\ttotal: 2m 53s\tremaining: 3m 58s\n",
      "421:\ttotal: 2m 53s\tremaining: 3m 58s\n",
      "422:\ttotal: 2m 54s\tremaining: 3m 57s\n",
      "423:\ttotal: 2m 54s\tremaining: 3m 57s\n",
      "424:\ttotal: 2m 54s\tremaining: 3m 56s\n",
      "425:\ttest: 0.9332401\tbest: 0.9332401 (425)\ttotal: 2m 55s\tremaining: 3m 56s\n",
      "426:\ttotal: 2m 55s\tremaining: 3m 55s\n",
      "427:\ttotal: 2m 56s\tremaining: 3m 55s\n",
      "428:\ttotal: 2m 56s\tremaining: 3m 54s\n",
      "429:\ttotal: 2m 56s\tremaining: 3m 54s\n",
      "430:\ttest: 0.9336426\tbest: 0.9336426 (430)\ttotal: 2m 57s\tremaining: 3m 54s\n",
      "431:\ttotal: 2m 57s\tremaining: 3m 53s\n",
      "432:\ttotal: 2m 57s\tremaining: 3m 53s\n",
      "433:\ttotal: 2m 58s\tremaining: 3m 52s\n",
      "434:\ttotal: 2m 58s\tremaining: 3m 52s\n",
      "435:\ttest: 0.9337913\tbest: 0.9337913 (435)\ttotal: 2m 59s\tremaining: 3m 51s\n",
      "436:\ttotal: 2m 59s\tremaining: 3m 51s\n",
      "437:\ttotal: 2m 59s\tremaining: 3m 50s\n",
      "438:\ttotal: 3m\tremaining: 3m 50s\n",
      "439:\ttotal: 3m\tremaining: 3m 49s\n",
      "440:\ttest: 0.9339344\tbest: 0.9339344 (440)\ttotal: 3m\tremaining: 3m 49s\n",
      "441:\ttotal: 3m 1s\tremaining: 3m 48s\n",
      "442:\ttotal: 3m 1s\tremaining: 3m 48s\n",
      "443:\ttotal: 3m 2s\tremaining: 3m 47s\n",
      "444:\ttotal: 3m 2s\tremaining: 3m 47s\n",
      "445:\ttest: 0.9341856\tbest: 0.9341856 (445)\ttotal: 3m 2s\tremaining: 3m 47s\n",
      "446:\ttotal: 3m 3s\tremaining: 3m 46s\n",
      "447:\ttotal: 3m 3s\tremaining: 3m 46s\n",
      "448:\ttotal: 3m 4s\tremaining: 3m 46s\n",
      "449:\ttotal: 3m 4s\tremaining: 3m 45s\n",
      "450:\ttest: 0.9343280\tbest: 0.9343280 (450)\ttotal: 3m 5s\tremaining: 3m 45s\n",
      "451:\ttotal: 3m 6s\tremaining: 3m 45s\n",
      "452:\ttotal: 3m 6s\tremaining: 3m 45s\n",
      "453:\ttotal: 3m 7s\tremaining: 3m 45s\n",
      "454:\ttotal: 3m 7s\tremaining: 3m 44s\n",
      "455:\ttest: 0.9344662\tbest: 0.9344662 (455)\ttotal: 3m 7s\tremaining: 3m 44s\n",
      "456:\ttotal: 3m 8s\tremaining: 3m 43s\n",
      "457:\ttotal: 3m 8s\tremaining: 3m 43s\n",
      "458:\ttotal: 3m 9s\tremaining: 3m 42s\n",
      "459:\ttotal: 3m 9s\tremaining: 3m 42s\n",
      "460:\ttest: 0.9351307\tbest: 0.9351307 (460)\ttotal: 3m 9s\tremaining: 3m 41s\n",
      "461:\ttotal: 3m 10s\tremaining: 3m 41s\n",
      "462:\ttotal: 3m 10s\tremaining: 3m 41s\n",
      "463:\ttotal: 3m 10s\tremaining: 3m 40s\n",
      "464:\ttotal: 3m 11s\tremaining: 3m 40s\n",
      "465:\ttest: 0.9352696\tbest: 0.9352696 (465)\ttotal: 3m 11s\tremaining: 3m 39s\n",
      "466:\ttotal: 3m 12s\tremaining: 3m 39s\n",
      "467:\ttotal: 3m 12s\tremaining: 3m 38s\n",
      "468:\ttotal: 3m 12s\tremaining: 3m 38s\n",
      "469:\ttotal: 3m 13s\tremaining: 3m 37s\n",
      "470:\ttest: 0.9354809\tbest: 0.9354809 (470)\ttotal: 3m 13s\tremaining: 3m 37s\n",
      "471:\ttotal: 3m 13s\tremaining: 3m 36s\n",
      "472:\ttotal: 3m 14s\tremaining: 3m 36s\n",
      "473:\ttotal: 3m 14s\tremaining: 3m 35s\n",
      "474:\ttotal: 3m 14s\tremaining: 3m 35s\n",
      "475:\ttest: 0.9356880\tbest: 0.9356880 (475)\ttotal: 3m 15s\tremaining: 3m 34s\n",
      "476:\ttotal: 3m 15s\tremaining: 3m 34s\n",
      "477:\ttotal: 3m 16s\tremaining: 3m 34s\n",
      "478:\ttotal: 3m 16s\tremaining: 3m 33s\n",
      "479:\ttotal: 3m 16s\tremaining: 3m 33s\n",
      "480:\ttest: 0.9362797\tbest: 0.9362797 (480)\ttotal: 3m 17s\tremaining: 3m 32s\n",
      "481:\ttotal: 3m 17s\tremaining: 3m 32s\n",
      "482:\ttotal: 3m 18s\tremaining: 3m 32s\n",
      "483:\ttotal: 3m 19s\tremaining: 3m 32s\n",
      "484:\ttotal: 3m 19s\tremaining: 3m 32s\n",
      "485:\ttest: 0.9364723\tbest: 0.9364723 (485)\ttotal: 3m 20s\tremaining: 3m 31s\n",
      "486:\ttotal: 3m 20s\tremaining: 3m 31s\n",
      "487:\ttotal: 3m 21s\tremaining: 3m 31s\n",
      "488:\ttotal: 3m 21s\tremaining: 3m 30s\n",
      "489:\ttotal: 3m 21s\tremaining: 3m 30s\n",
      "490:\ttest: 0.9367085\tbest: 0.9367085 (490)\ttotal: 3m 22s\tremaining: 3m 29s\n",
      "491:\ttotal: 3m 22s\tremaining: 3m 29s\n",
      "492:\ttotal: 3m 23s\tremaining: 3m 28s\n",
      "493:\ttotal: 3m 23s\tremaining: 3m 28s\n",
      "494:\ttotal: 3m 23s\tremaining: 3m 27s\n",
      "495:\ttest: 0.9367499\tbest: 0.9367499 (495)\ttotal: 3m 24s\tremaining: 3m 27s\n",
      "496:\ttotal: 3m 24s\tremaining: 3m 26s\n",
      "497:\ttotal: 3m 24s\tremaining: 3m 26s\n",
      "498:\ttotal: 3m 25s\tremaining: 3m 26s\n",
      "499:\ttotal: 3m 25s\tremaining: 3m 25s\n",
      "500:\ttest: 0.9369667\tbest: 0.9369667 (500)\ttotal: 3m 25s\tremaining: 3m 25s\n",
      "501:\ttotal: 3m 26s\tremaining: 3m 24s\n",
      "502:\ttotal: 3m 26s\tremaining: 3m 24s\n",
      "503:\ttotal: 3m 27s\tremaining: 3m 23s\n",
      "504:\ttotal: 3m 27s\tremaining: 3m 23s\n",
      "505:\ttest: 0.9373626\tbest: 0.9373626 (505)\ttotal: 3m 28s\tremaining: 3m 23s\n",
      "506:\ttotal: 3m 28s\tremaining: 3m 22s\n",
      "507:\ttotal: 3m 28s\tremaining: 3m 22s\n",
      "508:\ttotal: 3m 29s\tremaining: 3m 21s\n",
      "509:\ttotal: 3m 29s\tremaining: 3m 21s\n",
      "510:\ttest: 0.9373858\tbest: 0.9373858 (510)\ttotal: 3m 29s\tremaining: 3m 20s\n",
      "511:\ttotal: 3m 30s\tremaining: 3m 20s\n",
      "512:\ttotal: 3m 30s\tremaining: 3m 19s\n",
      "513:\ttotal: 3m 30s\tremaining: 3m 19s\n",
      "514:\ttotal: 3m 31s\tremaining: 3m 19s\n",
      "515:\ttest: 0.9375713\tbest: 0.9375713 (515)\ttotal: 3m 32s\tremaining: 3m 19s\n",
      "516:\ttotal: 3m 32s\tremaining: 3m 18s\n",
      "517:\ttotal: 3m 33s\tremaining: 3m 18s\n",
      "518:\ttotal: 3m 33s\tremaining: 3m 17s\n",
      "519:\ttotal: 3m 33s\tremaining: 3m 17s\n",
      "520:\ttest: 0.9376934\tbest: 0.9376934 (520)\ttotal: 3m 34s\tremaining: 3m 17s\n",
      "521:\ttotal: 3m 34s\tremaining: 3m 16s\n",
      "522:\ttotal: 3m 35s\tremaining: 3m 16s\n",
      "523:\ttotal: 3m 35s\tremaining: 3m 15s\n",
      "524:\ttotal: 3m 35s\tremaining: 3m 15s\n",
      "525:\ttest: 0.9379535\tbest: 0.9379535 (525)\ttotal: 3m 36s\tremaining: 3m 14s\n",
      "526:\ttotal: 3m 36s\tremaining: 3m 14s\n",
      "527:\ttotal: 3m 36s\tremaining: 3m 13s\n",
      "528:\ttotal: 3m 37s\tremaining: 3m 13s\n",
      "529:\ttotal: 3m 37s\tremaining: 3m 13s\n",
      "530:\ttest: 0.9381403\tbest: 0.9381403 (530)\ttotal: 3m 38s\tremaining: 3m 12s\n",
      "531:\ttotal: 3m 38s\tremaining: 3m 12s\n",
      "532:\ttotal: 3m 38s\tremaining: 3m 11s\n",
      "533:\ttotal: 3m 39s\tremaining: 3m 11s\n",
      "534:\ttotal: 3m 39s\tremaining: 3m 10s\n",
      "535:\ttest: 0.9384109\tbest: 0.9384109 (535)\ttotal: 3m 39s\tremaining: 3m 10s\n",
      "536:\ttotal: 3m 40s\tremaining: 3m 9s\n",
      "537:\ttotal: 3m 40s\tremaining: 3m 9s\n",
      "538:\ttotal: 3m 41s\tremaining: 3m 9s\n",
      "539:\ttotal: 3m 41s\tremaining: 3m 8s\n",
      "540:\ttest: 0.9384626\tbest: 0.9384626 (540)\ttotal: 3m 41s\tremaining: 3m 8s\n",
      "541:\ttotal: 3m 42s\tremaining: 3m 7s\n",
      "542:\ttotal: 3m 42s\tremaining: 3m 7s\n",
      "543:\ttotal: 3m 42s\tremaining: 3m 6s\n",
      "544:\ttotal: 3m 43s\tremaining: 3m 6s\n",
      "545:\ttest: 0.9387891\tbest: 0.9387891 (545)\ttotal: 3m 43s\tremaining: 3m 6s\n",
      "546:\ttotal: 3m 44s\tremaining: 3m 5s\n",
      "547:\ttotal: 3m 44s\tremaining: 3m 5s\n",
      "548:\ttotal: 3m 44s\tremaining: 3m 4s\n",
      "549:\ttotal: 3m 45s\tremaining: 3m 4s\n",
      "550:\ttest: 0.9389741\tbest: 0.9389741 (550)\ttotal: 3m 46s\tremaining: 3m 4s\n",
      "551:\ttotal: 3m 46s\tremaining: 3m 4s\n",
      "552:\ttotal: 3m 47s\tremaining: 3m 3s\n",
      "553:\ttotal: 3m 47s\tremaining: 3m 3s\n",
      "554:\ttotal: 3m 48s\tremaining: 3m 3s\n",
      "555:\ttest: 0.9390754\tbest: 0.9390754 (555)\ttotal: 3m 48s\tremaining: 3m 2s\n",
      "556:\ttotal: 3m 49s\tremaining: 3m 2s\n",
      "557:\ttotal: 3m 49s\tremaining: 3m 1s\n",
      "558:\ttotal: 3m 49s\tremaining: 3m 1s\n",
      "559:\ttotal: 3m 50s\tremaining: 3m\n",
      "560:\ttest: 0.9393013\tbest: 0.9393013 (560)\ttotal: 3m 50s\tremaining: 3m\n",
      "561:\ttotal: 3m 51s\tremaining: 3m\n",
      "562:\ttotal: 3m 51s\tremaining: 2m 59s\n",
      "563:\ttotal: 3m 51s\tremaining: 2m 59s\n",
      "564:\ttotal: 3m 52s\tremaining: 2m 58s\n",
      "565:\ttest: 0.9394917\tbest: 0.9394917 (565)\ttotal: 3m 52s\tremaining: 2m 58s\n",
      "566:\ttotal: 3m 52s\tremaining: 2m 57s\n",
      "567:\ttotal: 3m 53s\tremaining: 2m 57s\n",
      "568:\ttotal: 3m 53s\tremaining: 2m 56s\n",
      "569:\ttotal: 3m 53s\tremaining: 2m 56s\n",
      "570:\ttest: 0.9396574\tbest: 0.9396574 (570)\ttotal: 3m 54s\tremaining: 2m 56s\n",
      "571:\ttotal: 3m 54s\tremaining: 2m 55s\n",
      "572:\ttotal: 3m 55s\tremaining: 2m 55s\n",
      "573:\ttotal: 3m 55s\tremaining: 2m 54s\n",
      "574:\ttotal: 3m 55s\tremaining: 2m 54s\n",
      "575:\ttest: 0.9397960\tbest: 0.9397960 (575)\ttotal: 3m 56s\tremaining: 2m 53s\n",
      "576:\ttotal: 3m 56s\tremaining: 2m 53s\n",
      "577:\ttotal: 3m 56s\tremaining: 2m 52s\n",
      "578:\ttotal: 3m 57s\tremaining: 2m 52s\n",
      "579:\ttotal: 3m 57s\tremaining: 2m 52s\n",
      "580:\ttest: 0.9399332\tbest: 0.9399332 (580)\ttotal: 3m 57s\tremaining: 2m 51s\n",
      "581:\ttotal: 3m 58s\tremaining: 2m 51s\n",
      "582:\ttotal: 3m 59s\tremaining: 2m 51s\n",
      "583:\ttotal: 3m 59s\tremaining: 2m 50s\n",
      "584:\ttotal: 4m\tremaining: 2m 50s\n",
      "585:\ttest: 0.9401763\tbest: 0.9401763 (585)\ttotal: 4m\tremaining: 2m 49s\n",
      "586:\ttotal: 4m\tremaining: 2m 49s\n",
      "587:\ttotal: 4m 1s\tremaining: 2m 49s\n",
      "588:\ttotal: 4m 1s\tremaining: 2m 48s\n",
      "589:\ttotal: 4m 1s\tremaining: 2m 48s\n",
      "590:\ttest: 0.9402234\tbest: 0.9402234 (590)\ttotal: 4m 2s\tremaining: 2m 47s\n",
      "591:\ttotal: 4m 2s\tremaining: 2m 47s\n",
      "592:\ttotal: 4m 3s\tremaining: 2m 46s\n",
      "593:\ttotal: 4m 3s\tremaining: 2m 46s\n",
      "594:\ttotal: 4m 3s\tremaining: 2m 45s\n",
      "595:\ttest: 0.9404459\tbest: 0.9404459 (595)\ttotal: 4m 4s\tremaining: 2m 45s\n",
      "596:\ttotal: 4m 4s\tremaining: 2m 45s\n",
      "597:\ttotal: 4m 4s\tremaining: 2m 44s\n",
      "598:\ttotal: 4m 5s\tremaining: 2m 44s\n",
      "599:\ttotal: 4m 5s\tremaining: 2m 43s\n",
      "600:\ttest: 0.9406063\tbest: 0.9406063 (600)\ttotal: 4m 6s\tremaining: 2m 43s\n",
      "601:\ttotal: 4m 6s\tremaining: 2m 42s\n",
      "602:\ttotal: 4m 6s\tremaining: 2m 42s\n",
      "603:\ttotal: 4m 7s\tremaining: 2m 42s\n",
      "604:\ttotal: 4m 7s\tremaining: 2m 41s\n",
      "605:\ttest: 0.9406784\tbest: 0.9406784 (605)\ttotal: 4m 7s\tremaining: 2m 41s\n",
      "606:\ttotal: 4m 8s\tremaining: 2m 40s\n",
      "607:\ttotal: 4m 8s\tremaining: 2m 40s\n",
      "608:\ttotal: 4m 8s\tremaining: 2m 39s\n",
      "609:\ttotal: 4m 9s\tremaining: 2m 39s\n",
      "610:\ttest: 0.9407806\tbest: 0.9407806 (610)\ttotal: 4m 9s\tremaining: 2m 39s\n",
      "611:\ttotal: 4m 10s\tremaining: 2m 38s\n",
      "612:\ttotal: 4m 10s\tremaining: 2m 38s\n",
      "613:\ttotal: 4m 10s\tremaining: 2m 37s\n",
      "614:\ttotal: 4m 11s\tremaining: 2m 37s\n",
      "615:\ttest: 0.9409502\tbest: 0.9409502 (615)\ttotal: 4m 11s\tremaining: 2m 36s\n",
      "616:\ttotal: 4m 12s\tremaining: 2m 36s\n",
      "617:\ttotal: 4m 12s\tremaining: 2m 36s\n",
      "618:\ttotal: 4m 13s\tremaining: 2m 35s\n",
      "619:\ttotal: 4m 13s\tremaining: 2m 35s\n",
      "620:\ttest: 0.9410622\tbest: 0.9410622 (620)\ttotal: 4m 14s\tremaining: 2m 35s\n",
      "621:\ttotal: 4m 15s\tremaining: 2m 35s\n",
      "622:\ttotal: 4m 15s\tremaining: 2m 34s\n",
      "623:\ttotal: 4m 15s\tremaining: 2m 34s\n",
      "624:\ttotal: 4m 16s\tremaining: 2m 33s\n",
      "625:\ttest: 0.9413294\tbest: 0.9413294 (625)\ttotal: 4m 16s\tremaining: 2m 33s\n",
      "626:\ttotal: 4m 17s\tremaining: 2m 32s\n",
      "627:\ttotal: 4m 17s\tremaining: 2m 32s\n",
      "628:\ttotal: 4m 17s\tremaining: 2m 32s\n",
      "629:\ttotal: 4m 18s\tremaining: 2m 31s\n",
      "630:\ttest: 0.9414458\tbest: 0.9414458 (630)\ttotal: 4m 18s\tremaining: 2m 31s\n",
      "631:\ttotal: 4m 18s\tremaining: 2m 30s\n",
      "632:\ttotal: 4m 19s\tremaining: 2m 30s\n",
      "633:\ttotal: 4m 19s\tremaining: 2m 29s\n",
      "634:\ttotal: 4m 20s\tremaining: 2m 29s\n",
      "635:\ttest: 0.9415489\tbest: 0.9415489 (635)\ttotal: 4m 20s\tremaining: 2m 29s\n",
      "636:\ttotal: 4m 20s\tremaining: 2m 28s\n",
      "637:\ttotal: 4m 21s\tremaining: 2m 28s\n",
      "638:\ttotal: 4m 21s\tremaining: 2m 27s\n",
      "639:\ttotal: 4m 21s\tremaining: 2m 27s\n",
      "640:\ttest: 0.9417774\tbest: 0.9417774 (640)\ttotal: 4m 22s\tremaining: 2m 26s\n",
      "641:\ttotal: 4m 22s\tremaining: 2m 26s\n",
      "642:\ttotal: 4m 23s\tremaining: 2m 26s\n",
      "643:\ttotal: 4m 23s\tremaining: 2m 25s\n",
      "644:\ttotal: 4m 23s\tremaining: 2m 25s\n",
      "645:\ttest: 0.9419075\tbest: 0.9419075 (645)\ttotal: 4m 24s\tremaining: 2m 24s\n",
      "646:\ttotal: 4m 24s\tremaining: 2m 24s\n",
      "647:\ttotal: 4m 24s\tremaining: 2m 23s\n",
      "648:\ttotal: 4m 25s\tremaining: 2m 23s\n",
      "649:\ttotal: 4m 25s\tremaining: 2m 23s\n",
      "650:\ttest: 0.9421431\tbest: 0.9421431 (650)\ttotal: 4m 26s\tremaining: 2m 22s\n",
      "651:\ttotal: 4m 26s\tremaining: 2m 22s\n",
      "652:\ttotal: 4m 27s\tremaining: 2m 22s\n",
      "653:\ttotal: 4m 28s\tremaining: 2m 21s\n",
      "654:\ttotal: 4m 28s\tremaining: 2m 21s\n",
      "655:\ttest: 0.9422741\tbest: 0.9422741 (655)\ttotal: 4m 28s\tremaining: 2m 21s\n",
      "656:\ttotal: 4m 29s\tremaining: 2m 20s\n",
      "657:\ttotal: 4m 29s\tremaining: 2m 20s\n",
      "658:\ttotal: 4m 30s\tremaining: 2m 19s\n",
      "659:\ttotal: 4m 30s\tremaining: 2m 19s\n",
      "660:\ttest: 0.9423680\tbest: 0.9423680 (660)\ttotal: 4m 30s\tremaining: 2m 18s\n",
      "661:\ttotal: 4m 31s\tremaining: 2m 18s\n",
      "662:\ttotal: 4m 31s\tremaining: 2m 18s\n",
      "663:\ttotal: 4m 31s\tremaining: 2m 17s\n",
      "664:\ttotal: 4m 32s\tremaining: 2m 17s\n",
      "665:\ttest: 0.9426230\tbest: 0.9426230 (665)\ttotal: 4m 32s\tremaining: 2m 16s\n",
      "666:\ttotal: 4m 33s\tremaining: 2m 16s\n",
      "667:\ttotal: 4m 33s\tremaining: 2m 15s\n",
      "668:\ttotal: 4m 33s\tremaining: 2m 15s\n",
      "669:\ttotal: 4m 34s\tremaining: 2m 15s\n",
      "670:\ttest: 0.9427326\tbest: 0.9427326 (670)\ttotal: 4m 34s\tremaining: 2m 14s\n",
      "671:\ttotal: 4m 34s\tremaining: 2m 14s\n",
      "672:\ttotal: 4m 35s\tremaining: 2m 13s\n",
      "673:\ttotal: 4m 35s\tremaining: 2m 13s\n",
      "674:\ttotal: 4m 36s\tremaining: 2m 12s\n",
      "675:\ttest: 0.9429204\tbest: 0.9429204 (675)\ttotal: 4m 36s\tremaining: 2m 12s\n",
      "676:\ttotal: 4m 36s\tremaining: 2m 12s\n",
      "677:\ttotal: 4m 37s\tremaining: 2m 11s\n",
      "678:\ttotal: 4m 37s\tremaining: 2m 11s\n",
      "679:\ttotal: 4m 37s\tremaining: 2m 10s\n",
      "680:\ttest: 0.9430275\tbest: 0.9430275 (680)\ttotal: 4m 38s\tremaining: 2m 10s\n",
      "681:\ttotal: 4m 38s\tremaining: 2m 9s\n",
      "682:\ttotal: 4m 39s\tremaining: 2m 9s\n",
      "683:\ttotal: 4m 39s\tremaining: 2m 9s\n",
      "684:\ttotal: 4m 40s\tremaining: 2m 8s\n",
      "685:\ttest: 0.9431933\tbest: 0.9431933 (685)\ttotal: 4m 40s\tremaining: 2m 8s\n",
      "686:\ttotal: 4m 41s\tremaining: 2m 8s\n",
      "687:\ttotal: 4m 41s\tremaining: 2m 7s\n",
      "688:\ttotal: 4m 42s\tremaining: 2m 7s\n",
      "689:\ttotal: 4m 42s\tremaining: 2m 7s\n",
      "690:\ttest: 0.9433457\tbest: 0.9433457 (690)\ttotal: 4m 43s\tremaining: 2m 6s\n",
      "691:\ttotal: 4m 43s\tremaining: 2m 6s\n",
      "692:\ttotal: 4m 43s\tremaining: 2m 5s\n",
      "693:\ttotal: 4m 44s\tremaining: 2m 5s\n",
      "694:\ttotal: 4m 44s\tremaining: 2m 4s\n",
      "695:\ttest: 0.9435174\tbest: 0.9435174 (695)\ttotal: 4m 45s\tremaining: 2m 4s\n",
      "696:\ttotal: 4m 45s\tremaining: 2m 4s\n",
      "697:\ttotal: 4m 45s\tremaining: 2m 3s\n",
      "698:\ttotal: 4m 46s\tremaining: 2m 3s\n",
      "699:\ttotal: 4m 46s\tremaining: 2m 2s\n",
      "700:\ttest: 0.9436896\tbest: 0.9436896 (700)\ttotal: 4m 46s\tremaining: 2m 2s\n",
      "701:\ttotal: 4m 47s\tremaining: 2m 1s\n",
      "702:\ttotal: 4m 47s\tremaining: 2m 1s\n",
      "703:\ttotal: 4m 48s\tremaining: 2m 1s\n",
      "704:\ttotal: 4m 48s\tremaining: 2m\n",
      "705:\ttest: 0.9438641\tbest: 0.9438641 (705)\ttotal: 4m 48s\tremaining: 2m\n",
      "706:\ttotal: 4m 49s\tremaining: 1m 59s\n",
      "707:\ttotal: 4m 49s\tremaining: 1m 59s\n",
      "708:\ttotal: 4m 49s\tremaining: 1m 59s\n",
      "709:\ttotal: 4m 50s\tremaining: 1m 58s\n",
      "710:\ttest: 0.9440623\tbest: 0.9440623 (710)\ttotal: 4m 50s\tremaining: 1m 58s\n",
      "711:\ttotal: 4m 51s\tremaining: 1m 57s\n",
      "712:\ttotal: 4m 51s\tremaining: 1m 57s\n",
      "713:\ttotal: 4m 51s\tremaining: 1m 56s\n",
      "714:\ttotal: 4m 52s\tremaining: 1m 56s\n",
      "715:\ttest: 0.9441561\tbest: 0.9441561 (715)\ttotal: 4m 52s\tremaining: 1m 56s\n",
      "716:\ttotal: 4m 53s\tremaining: 1m 55s\n",
      "717:\ttotal: 4m 53s\tremaining: 1m 55s\n",
      "718:\ttotal: 4m 54s\tremaining: 1m 55s\n",
      "719:\ttotal: 4m 54s\tremaining: 1m 54s\n",
      "720:\ttest: 0.9443235\tbest: 0.9443235 (720)\ttotal: 4m 55s\tremaining: 1m 54s\n",
      "721:\ttotal: 4m 56s\tremaining: 1m 53s\n",
      "722:\ttotal: 4m 56s\tremaining: 1m 53s\n",
      "723:\ttotal: 4m 56s\tremaining: 1m 53s\n",
      "724:\ttotal: 4m 57s\tremaining: 1m 52s\n",
      "725:\ttest: 0.9444675\tbest: 0.9444675 (725)\ttotal: 4m 57s\tremaining: 1m 52s\n",
      "726:\ttotal: 4m 57s\tremaining: 1m 51s\n",
      "727:\ttotal: 4m 58s\tremaining: 1m 51s\n",
      "728:\ttotal: 4m 58s\tremaining: 1m 51s\n",
      "729:\ttotal: 4m 59s\tremaining: 1m 50s\n",
      "730:\ttest: 0.9446715\tbest: 0.9446715 (730)\ttotal: 4m 59s\tremaining: 1m 50s\n",
      "731:\ttotal: 4m 59s\tremaining: 1m 49s\n",
      "732:\ttotal: 5m\tremaining: 1m 49s\n",
      "733:\ttotal: 5m\tremaining: 1m 48s\n",
      "734:\ttotal: 5m 1s\tremaining: 1m 48s\n",
      "735:\ttest: 0.9449562\tbest: 0.9449562 (735)\ttotal: 5m 1s\tremaining: 1m 48s\n",
      "736:\ttotal: 5m 1s\tremaining: 1m 47s\n",
      "737:\ttotal: 5m 2s\tremaining: 1m 47s\n",
      "738:\ttotal: 5m 2s\tremaining: 1m 46s\n",
      "739:\ttotal: 5m 2s\tremaining: 1m 46s\n",
      "740:\ttest: 0.9450200\tbest: 0.9450200 (740)\ttotal: 5m 3s\tremaining: 1m 45s\n",
      "741:\ttotal: 5m 3s\tremaining: 1m 45s\n",
      "742:\ttotal: 5m 3s\tremaining: 1m 45s\n",
      "743:\ttotal: 5m 4s\tremaining: 1m 44s\n",
      "744:\ttotal: 5m 4s\tremaining: 1m 44s\n",
      "745:\ttest: 0.9451778\tbest: 0.9451778 (745)\ttotal: 5m 4s\tremaining: 1m 43s\n",
      "746:\ttotal: 5m 5s\tremaining: 1m 43s\n",
      "747:\ttotal: 5m 5s\tremaining: 1m 42s\n",
      "748:\ttotal: 5m 6s\tremaining: 1m 42s\n",
      "749:\ttotal: 5m 6s\tremaining: 1m 42s\n",
      "750:\ttest: 0.9455021\tbest: 0.9455021 (750)\ttotal: 5m 7s\tremaining: 1m 41s\n",
      "751:\ttotal: 5m 7s\tremaining: 1m 41s\n",
      "752:\ttotal: 5m 8s\tremaining: 1m 41s\n",
      "753:\ttotal: 5m 8s\tremaining: 1m 40s\n",
      "754:\ttotal: 5m 9s\tremaining: 1m 40s\n",
      "755:\ttest: 0.9457045\tbest: 0.9457045 (755)\ttotal: 5m 9s\tremaining: 1m 39s\n",
      "756:\ttotal: 5m 10s\tremaining: 1m 39s\n",
      "757:\ttotal: 5m 10s\tremaining: 1m 39s\n",
      "758:\ttotal: 5m 10s\tremaining: 1m 38s\n",
      "759:\ttotal: 5m 11s\tremaining: 1m 38s\n",
      "760:\ttest: 0.9457818\tbest: 0.9457818 (760)\ttotal: 5m 11s\tremaining: 1m 37s\n",
      "761:\ttotal: 5m 11s\tremaining: 1m 37s\n",
      "762:\ttotal: 5m 12s\tremaining: 1m 37s\n",
      "763:\ttotal: 5m 12s\tremaining: 1m 36s\n",
      "764:\ttotal: 5m 13s\tremaining: 1m 36s\n",
      "765:\ttest: 0.9460475\tbest: 0.9460475 (765)\ttotal: 5m 13s\tremaining: 1m 35s\n",
      "766:\ttotal: 5m 13s\tremaining: 1m 35s\n",
      "767:\ttotal: 5m 14s\tremaining: 1m 34s\n",
      "768:\ttotal: 5m 14s\tremaining: 1m 34s\n",
      "769:\ttotal: 5m 15s\tremaining: 1m 34s\n",
      "770:\ttest: 0.9461116\tbest: 0.9461116 (770)\ttotal: 5m 15s\tremaining: 1m 33s\n",
      "771:\ttotal: 5m 15s\tremaining: 1m 33s\n",
      "772:\ttotal: 5m 16s\tremaining: 1m 32s\n",
      "773:\ttotal: 5m 16s\tremaining: 1m 32s\n",
      "774:\ttotal: 5m 16s\tremaining: 1m 31s\n",
      "775:\ttest: 0.9463545\tbest: 0.9463545 (775)\ttotal: 5m 17s\tremaining: 1m 31s\n",
      "776:\ttotal: 5m 17s\tremaining: 1m 31s\n",
      "777:\ttotal: 5m 17s\tremaining: 1m 30s\n",
      "778:\ttotal: 5m 18s\tremaining: 1m 30s\n",
      "779:\ttotal: 5m 18s\tremaining: 1m 29s\n",
      "780:\ttest: 0.9465184\tbest: 0.9465184 (780)\ttotal: 5m 19s\tremaining: 1m 29s\n",
      "781:\ttotal: 5m 19s\tremaining: 1m 29s\n",
      "782:\ttotal: 5m 19s\tremaining: 1m 28s\n",
      "783:\ttotal: 5m 20s\tremaining: 1m 28s\n",
      "784:\ttotal: 5m 20s\tremaining: 1m 27s\n",
      "785:\ttest: 0.9467260\tbest: 0.9467260 (785)\ttotal: 5m 21s\tremaining: 1m 27s\n",
      "786:\ttotal: 5m 21s\tremaining: 1m 27s\n",
      "787:\ttotal: 5m 22s\tremaining: 1m 26s\n",
      "788:\ttotal: 5m 22s\tremaining: 1m 26s\n",
      "789:\ttotal: 5m 23s\tremaining: 1m 25s\n",
      "790:\ttest: 0.9468169\tbest: 0.9468169 (790)\ttotal: 5m 23s\tremaining: 1m 25s\n",
      "791:\ttotal: 5m 24s\tremaining: 1m 25s\n",
      "792:\ttotal: 5m 24s\tremaining: 1m 24s\n",
      "793:\ttotal: 5m 24s\tremaining: 1m 24s\n",
      "794:\ttotal: 5m 25s\tremaining: 1m 23s\n",
      "795:\ttest: 0.9469339\tbest: 0.9469339 (795)\ttotal: 5m 25s\tremaining: 1m 23s\n",
      "796:\ttotal: 5m 25s\tremaining: 1m 23s\n",
      "797:\ttotal: 5m 26s\tremaining: 1m 22s\n",
      "798:\ttotal: 5m 26s\tremaining: 1m 22s\n",
      "799:\ttotal: 5m 27s\tremaining: 1m 21s\n",
      "800:\ttest: 0.9471068\tbest: 0.9471068 (800)\ttotal: 5m 27s\tremaining: 1m 21s\n",
      "801:\ttotal: 5m 27s\tremaining: 1m 20s\n",
      "802:\ttotal: 5m 28s\tremaining: 1m 20s\n",
      "803:\ttotal: 5m 28s\tremaining: 1m 20s\n",
      "804:\ttotal: 5m 28s\tremaining: 1m 19s\n",
      "805:\ttest: 0.9475604\tbest: 0.9475604 (805)\ttotal: 5m 29s\tremaining: 1m 19s\n",
      "806:\ttotal: 5m 29s\tremaining: 1m 18s\n",
      "807:\ttotal: 5m 30s\tremaining: 1m 18s\n",
      "808:\ttotal: 5m 30s\tremaining: 1m 18s\n",
      "809:\ttotal: 5m 30s\tremaining: 1m 17s\n",
      "810:\ttest: 0.9476056\tbest: 0.9476056 (810)\ttotal: 5m 31s\tremaining: 1m 17s\n",
      "811:\ttotal: 5m 31s\tremaining: 1m 16s\n",
      "812:\ttotal: 5m 32s\tremaining: 1m 16s\n",
      "813:\ttotal: 5m 32s\tremaining: 1m 15s\n",
      "814:\ttotal: 5m 32s\tremaining: 1m 15s\n",
      "815:\ttest: 0.9477374\tbest: 0.9477374 (815)\ttotal: 5m 33s\tremaining: 1m 15s\n",
      "816:\ttotal: 5m 33s\tremaining: 1m 14s\n",
      "817:\ttotal: 5m 33s\tremaining: 1m 14s\n",
      "818:\ttotal: 5m 34s\tremaining: 1m 13s\n",
      "819:\ttotal: 5m 34s\tremaining: 1m 13s\n",
      "820:\ttest: 0.9479194\tbest: 0.9479194 (820)\ttotal: 5m 35s\tremaining: 1m 13s\n",
      "821:\ttotal: 5m 36s\tremaining: 1m 12s\n",
      "822:\ttotal: 5m 36s\tremaining: 1m 12s\n",
      "823:\ttotal: 5m 37s\tremaining: 1m 12s\n",
      "824:\ttotal: 5m 37s\tremaining: 1m 11s\n",
      "825:\ttest: 0.9480321\tbest: 0.9480321 (825)\ttotal: 5m 38s\tremaining: 1m 11s\n",
      "826:\ttotal: 5m 38s\tremaining: 1m 10s\n",
      "827:\ttotal: 5m 38s\tremaining: 1m 10s\n",
      "828:\ttotal: 5m 39s\tremaining: 1m 9s\n",
      "829:\ttotal: 5m 39s\tremaining: 1m 9s\n",
      "830:\ttest: 0.9481259\tbest: 0.9481259 (830)\ttotal: 5m 40s\tremaining: 1m 9s\n",
      "831:\ttotal: 5m 40s\tremaining: 1m 8s\n",
      "832:\ttotal: 5m 40s\tremaining: 1m 8s\n",
      "833:\ttotal: 5m 41s\tremaining: 1m 7s\n",
      "834:\ttotal: 5m 41s\tremaining: 1m 7s\n",
      "835:\ttest: 0.9482358\tbest: 0.9482358 (835)\ttotal: 5m 41s\tremaining: 1m 7s\n",
      "836:\ttotal: 5m 42s\tremaining: 1m 6s\n",
      "837:\ttotal: 5m 42s\tremaining: 1m 6s\n",
      "838:\ttotal: 5m 42s\tremaining: 1m 5s\n",
      "839:\ttotal: 5m 43s\tremaining: 1m 5s\n",
      "840:\ttest: 0.9482563\tbest: 0.9482563 (840)\ttotal: 5m 43s\tremaining: 1m 4s\n",
      "841:\ttotal: 5m 44s\tremaining: 1m 4s\n",
      "842:\ttotal: 5m 44s\tremaining: 1m 4s\n",
      "843:\ttotal: 5m 44s\tremaining: 1m 3s\n",
      "844:\ttotal: 5m 45s\tremaining: 1m 3s\n",
      "845:\ttest: 0.9482903\tbest: 0.9482903 (845)\ttotal: 5m 45s\tremaining: 1m 2s\n",
      "846:\ttotal: 5m 45s\tremaining: 1m 2s\n",
      "847:\ttotal: 5m 46s\tremaining: 1m 2s\n",
      "848:\ttotal: 5m 46s\tremaining: 1m 1s\n",
      "849:\ttotal: 5m 46s\tremaining: 1m 1s\n",
      "850:\ttest: 0.9483075\tbest: 0.9483075 (850)\ttotal: 5m 47s\tremaining: 1m\n",
      "851:\ttotal: 5m 47s\tremaining: 1m\n",
      "852:\ttotal: 5m 48s\tremaining: 60s\n",
      "853:\ttotal: 5m 48s\tremaining: 59.6s\n",
      "854:\ttotal: 5m 49s\tremaining: 59.2s\n",
      "855:\ttest: 0.9483770\tbest: 0.9483770 (855)\ttotal: 5m 49s\tremaining: 58.9s\n",
      "856:\ttotal: 5m 50s\tremaining: 58.5s\n",
      "857:\ttotal: 5m 50s\tremaining: 58.1s\n",
      "858:\ttotal: 5m 51s\tremaining: 57.7s\n",
      "859:\ttotal: 5m 51s\tremaining: 57.3s\n",
      "860:\ttest: 0.9484331\tbest: 0.9484331 (860)\ttotal: 5m 52s\tremaining: 56.9s\n",
      "861:\ttotal: 5m 52s\tremaining: 56.4s\n",
      "862:\ttotal: 5m 52s\tremaining: 56s\n",
      "863:\ttotal: 5m 53s\tremaining: 55.6s\n",
      "864:\ttotal: 5m 53s\tremaining: 55.2s\n",
      "865:\ttest: 0.9485735\tbest: 0.9485735 (865)\ttotal: 5m 53s\tremaining: 54.8s\n",
      "866:\ttotal: 5m 54s\tremaining: 54.4s\n",
      "867:\ttotal: 5m 54s\tremaining: 53.9s\n",
      "868:\ttotal: 5m 55s\tremaining: 53.5s\n",
      "869:\ttotal: 5m 55s\tremaining: 53.1s\n",
      "870:\ttest: 0.9486217\tbest: 0.9486217 (870)\ttotal: 5m 55s\tremaining: 52.7s\n",
      "871:\ttotal: 5m 56s\tremaining: 52.3s\n",
      "872:\ttotal: 5m 56s\tremaining: 51.9s\n",
      "873:\ttotal: 5m 57s\tremaining: 51.5s\n",
      "874:\ttotal: 5m 57s\tremaining: 51.1s\n",
      "875:\ttest: 0.9490480\tbest: 0.9490480 (875)\ttotal: 5m 57s\tremaining: 50.6s\n",
      "876:\ttotal: 5m 58s\tremaining: 50.2s\n",
      "877:\ttotal: 5m 58s\tremaining: 49.8s\n",
      "878:\ttotal: 5m 58s\tremaining: 49.4s\n",
      "879:\ttotal: 5m 59s\tremaining: 49s\n",
      "880:\ttest: 0.9490800\tbest: 0.9490800 (880)\ttotal: 5m 59s\tremaining: 48.6s\n",
      "881:\ttotal: 6m\tremaining: 48.2s\n",
      "882:\ttotal: 6m\tremaining: 47.8s\n",
      "883:\ttotal: 6m\tremaining: 47.3s\n",
      "884:\ttotal: 6m 1s\tremaining: 46.9s\n",
      "885:\ttest: 0.9491359\tbest: 0.9491359 (885)\ttotal: 6m 1s\tremaining: 46.5s\n",
      "886:\ttotal: 6m 1s\tremaining: 46.1s\n",
      "887:\ttotal: 6m 2s\tremaining: 45.7s\n",
      "888:\ttotal: 6m 2s\tremaining: 45.3s\n",
      "889:\ttotal: 6m 3s\tremaining: 44.9s\n",
      "890:\ttest: 0.9491992\tbest: 0.9491992 (890)\ttotal: 6m 3s\tremaining: 44.5s\n",
      "891:\ttotal: 6m 4s\tremaining: 44.1s\n",
      "892:\ttotal: 6m 5s\tremaining: 43.7s\n",
      "893:\ttotal: 6m 5s\tremaining: 43.3s\n",
      "894:\ttotal: 6m 5s\tremaining: 42.9s\n",
      "895:\ttest: 0.9492231\tbest: 0.9492231 (895)\ttotal: 6m 6s\tremaining: 42.5s\n",
      "896:\ttotal: 6m 6s\tremaining: 42.1s\n",
      "897:\ttotal: 6m 6s\tremaining: 41.7s\n",
      "898:\ttotal: 6m 7s\tremaining: 41.3s\n",
      "899:\ttotal: 6m 7s\tremaining: 40.8s\n",
      "900:\ttest: 0.9492652\tbest: 0.9492652 (900)\ttotal: 6m 7s\tremaining: 40.4s\n",
      "901:\ttotal: 6m 8s\tremaining: 40s\n",
      "902:\ttotal: 6m 8s\tremaining: 39.6s\n",
      "903:\ttotal: 6m 9s\tremaining: 39.2s\n",
      "904:\ttotal: 6m 9s\tremaining: 38.8s\n",
      "905:\ttest: 0.9494480\tbest: 0.9494480 (905)\ttotal: 6m 9s\tremaining: 38.4s\n",
      "906:\ttotal: 6m 10s\tremaining: 38s\n",
      "907:\ttotal: 6m 10s\tremaining: 37.5s\n",
      "908:\ttotal: 6m 10s\tremaining: 37.1s\n",
      "909:\ttotal: 6m 11s\tremaining: 36.7s\n",
      "910:\ttest: 0.9494695\tbest: 0.9494695 (910)\ttotal: 6m 11s\tremaining: 36.3s\n",
      "911:\ttotal: 6m 12s\tremaining: 35.9s\n",
      "912:\ttotal: 6m 12s\tremaining: 35.5s\n",
      "913:\ttotal: 6m 12s\tremaining: 35.1s\n",
      "914:\ttotal: 6m 13s\tremaining: 34.7s\n",
      "915:\ttest: 0.9495956\tbest: 0.9495956 (915)\ttotal: 6m 13s\tremaining: 34.3s\n",
      "916:\ttotal: 6m 14s\tremaining: 33.9s\n",
      "917:\ttotal: 6m 14s\tremaining: 33.4s\n",
      "918:\ttotal: 6m 14s\tremaining: 33s\n",
      "919:\ttotal: 6m 15s\tremaining: 32.6s\n",
      "920:\ttest: 0.9497323\tbest: 0.9497323 (920)\ttotal: 6m 15s\tremaining: 32.2s\n",
      "921:\ttotal: 6m 16s\tremaining: 31.8s\n",
      "922:\ttotal: 6m 16s\tremaining: 31.4s\n",
      "923:\ttotal: 6m 17s\tremaining: 31.1s\n",
      "924:\ttotal: 6m 17s\tremaining: 30.6s\n",
      "925:\ttest: 0.9499066\tbest: 0.9499066 (925)\ttotal: 6m 18s\tremaining: 30.3s\n",
      "926:\ttotal: 6m 18s\tremaining: 29.8s\n",
      "927:\ttotal: 6m 19s\tremaining: 29.4s\n",
      "928:\ttotal: 6m 19s\tremaining: 29s\n",
      "929:\ttotal: 6m 20s\tremaining: 28.6s\n",
      "930:\ttest: 0.9499454\tbest: 0.9499454 (930)\ttotal: 6m 20s\tremaining: 28.2s\n",
      "931:\ttotal: 6m 20s\tremaining: 27.8s\n",
      "932:\ttotal: 6m 21s\tremaining: 27.4s\n",
      "933:\ttotal: 6m 21s\tremaining: 27s\n",
      "934:\ttotal: 6m 21s\tremaining: 26.5s\n",
      "935:\ttest: 0.9501493\tbest: 0.9501493 (935)\ttotal: 6m 22s\tremaining: 26.1s\n",
      "936:\ttotal: 6m 22s\tremaining: 25.7s\n",
      "937:\ttotal: 6m 22s\tremaining: 25.3s\n",
      "938:\ttotal: 6m 23s\tremaining: 24.9s\n",
      "939:\ttotal: 6m 23s\tremaining: 24.5s\n",
      "940:\ttest: 0.9502197\tbest: 0.9502197 (940)\ttotal: 6m 23s\tremaining: 24.1s\n",
      "941:\ttotal: 6m 24s\tremaining: 23.7s\n",
      "942:\ttotal: 6m 24s\tremaining: 23.3s\n",
      "943:\ttotal: 6m 25s\tremaining: 22.8s\n",
      "944:\ttotal: 6m 25s\tremaining: 22.4s\n",
      "945:\ttest: 0.9503424\tbest: 0.9503424 (945)\ttotal: 6m 25s\tremaining: 22s\n",
      "946:\ttotal: 6m 26s\tremaining: 21.6s\n",
      "947:\ttotal: 6m 26s\tremaining: 21.2s\n",
      "948:\ttotal: 6m 27s\tremaining: 20.8s\n",
      "949:\ttotal: 6m 27s\tremaining: 20.4s\n",
      "950:\ttest: 0.9504640\tbest: 0.9504640 (950)\ttotal: 6m 27s\tremaining: 20s\n",
      "951:\ttotal: 6m 28s\tremaining: 19.6s\n",
      "952:\ttotal: 6m 28s\tremaining: 19.2s\n",
      "953:\ttotal: 6m 29s\tremaining: 18.8s\n",
      "954:\ttotal: 6m 29s\tremaining: 18.3s\n",
      "955:\ttest: 0.9505838\tbest: 0.9505838 (955)\ttotal: 6m 29s\tremaining: 17.9s\n",
      "956:\ttotal: 6m 30s\tremaining: 17.5s\n",
      "957:\ttotal: 6m 30s\tremaining: 17.1s\n",
      "958:\ttotal: 6m 31s\tremaining: 16.7s\n",
      "959:\ttotal: 6m 32s\tremaining: 16.3s\n",
      "960:\ttest: 0.9506577\tbest: 0.9506577 (960)\ttotal: 6m 32s\tremaining: 15.9s\n",
      "961:\ttotal: 6m 32s\tremaining: 15.5s\n",
      "962:\ttotal: 6m 33s\tremaining: 15.1s\n",
      "963:\ttotal: 6m 33s\tremaining: 14.7s\n",
      "964:\ttotal: 6m 33s\tremaining: 14.3s\n",
      "965:\ttest: 0.9507188\tbest: 0.9507188 (965)\ttotal: 6m 34s\tremaining: 13.9s\n",
      "966:\ttotal: 6m 34s\tremaining: 13.5s\n",
      "967:\ttotal: 6m 35s\tremaining: 13.1s\n",
      "968:\ttotal: 6m 35s\tremaining: 12.6s\n",
      "969:\ttotal: 6m 35s\tremaining: 12.2s\n",
      "970:\ttest: 0.9507839\tbest: 0.9507839 (970)\ttotal: 6m 36s\tremaining: 11.8s\n",
      "971:\ttotal: 6m 36s\tremaining: 11.4s\n",
      "972:\ttotal: 6m 36s\tremaining: 11s\n",
      "973:\ttotal: 6m 37s\tremaining: 10.6s\n",
      "974:\ttotal: 6m 37s\tremaining: 10.2s\n",
      "975:\ttest: 0.9508655\tbest: 0.9508655 (975)\ttotal: 6m 37s\tremaining: 9.78s\n",
      "976:\ttotal: 6m 38s\tremaining: 9.38s\n",
      "977:\ttotal: 6m 38s\tremaining: 8.97s\n",
      "978:\ttotal: 6m 39s\tremaining: 8.56s\n",
      "979:\ttotal: 6m 39s\tremaining: 8.15s\n",
      "980:\ttest: 0.9510072\tbest: 0.9510072 (980)\ttotal: 6m 39s\tremaining: 7.74s\n",
      "981:\ttotal: 6m 40s\tremaining: 7.33s\n",
      "982:\ttotal: 6m 40s\tremaining: 6.92s\n",
      "983:\ttotal: 6m 40s\tremaining: 6.52s\n",
      "984:\ttotal: 6m 41s\tremaining: 6.11s\n",
      "985:\ttest: 0.9510882\tbest: 0.9510882 (985)\ttotal: 6m 41s\tremaining: 5.7s\n",
      "986:\ttotal: 6m 41s\tremaining: 5.29s\n",
      "987:\ttotal: 6m 42s\tremaining: 4.89s\n",
      "988:\ttotal: 6m 42s\tremaining: 4.48s\n",
      "989:\ttotal: 6m 43s\tremaining: 4.07s\n",
      "990:\ttest: 0.9511575\tbest: 0.9511575 (990)\ttotal: 6m 43s\tremaining: 3.67s\n",
      "991:\ttotal: 6m 44s\tremaining: 3.26s\n",
      "992:\ttotal: 6m 44s\tremaining: 2.85s\n",
      "993:\ttotal: 6m 45s\tremaining: 2.45s\n",
      "994:\ttotal: 6m 45s\tremaining: 2.04s\n",
      "995:\ttest: 0.9512063\tbest: 0.9512063 (995)\ttotal: 6m 46s\tremaining: 1.63s\n",
      "996:\ttotal: 6m 46s\tremaining: 1.22s\n",
      "997:\ttotal: 6m 46s\tremaining: 815ms\n",
      "998:\ttotal: 6m 47s\tremaining: 408ms\n",
      "999:\ttest: 0.9512431\tbest: 0.9512431 (999)\ttotal: 6m 47s\tremaining: 0us\n",
      "bestTest = 0.9512431324\n",
      "bestIteration = 999\n",
      "              precision    recall  f1-score   support\n",
      "\n",
      "           0       0.98      1.00      0.99    170821\n",
      "           1       0.95      0.54      0.69      6341\n",
      "\n",
      "    accuracy                           0.98    177162\n",
      "   macro avg       0.97      0.77      0.84    177162\n",
      "weighted avg       0.98      0.98      0.98    177162\n",
      "\n"
     ]
    }
   ],
   "source": [
    "model = CatBoostClassifier(verbose=True,random_state=42,\n",
    "                          objective= 'Logloss',\n",
    "    depth= 11,\n",
    "    boosting_type= 'Plain',task_type=\"GPU\",eval_metric=\"AUC\",\n",
    "    bootstrap_type= 'Bernoulli')\n",
    "\n",
    "model.fit(X_train, y_train,cat_features=categorical_features_indices,eval_set=(X_test, y_test), plot=True)\n",
    "y_pred = model.predict(X_test)\n",
    "\n",
    "print(classification_report(y_test, y_pred))"
   ]
  },
  {
   "cell_type": "code",
   "execution_count": 16,
   "metadata": {
    "id": "_-HCSyjHVq2F"
   },
   "outputs": [],
   "source": [
    "eval_pool = Pool(X_test, y_test, cat_features=categorical_features_indices)\n",
    "curve = get_roc_curve(model, eval_pool)\n",
    "(fpr, tpr, thresholds)=curve\n",
    "roc_auc=auc(fpr, tpr)"
   ]
  },
  {
   "cell_type": "code",
   "execution_count": 17,
   "metadata": {
    "colab": {
     "base_uri": "https://localhost:8080/",
     "height": 528
    },
    "id": "W5PA7ZR1WGNA",
    "outputId": "ee6e6ad1-9217-4764-c223-264ee1d8e91e"
   },
   "outputs": [
    {
     "data": {
      "image/png": "[encoded data removed]",
      "text/plain": [
       "<Figure size 1152x576 with 1 Axes>"
      ]
     },
     "metadata": {
      "needs_background": "light"
     },
     "output_type": "display_data"
    }
   ],
   "source": [
    "plt.figure(figsize=(16, 8))\n",
    "lw=2\n",
    "\n",
    "plt.plot(fpr, tpr, color='darkorange',\n",
    "         lw=lw, label='ROC curve (area = %0.2f)' % roc_auc, alpha=0.5)\n",
    "\n",
    "plt.plot([0, 1], [0, 1], color='navy', lw=lw, linestyle='--', alpha=0.5)\n",
    "\n",
    "plt.xlim([0.0, 1.0])\n",
    "plt.ylim([0.0, 1.05])\n",
    "plt.xticks(fontsize=16)\n",
    "plt.yticks(fontsize=16)\n",
    "plt.grid(True)\n",
    "plt.xlabel('False Positive Rate', fontsize=16)\n",
    "plt.ylabel('True Positive Rate', fontsize=16)\n",
    "plt.title('Receiver operating characteristic', fontsize=20)\n",
    "plt.legend(loc=\"lower right\", fontsize=16)\n",
    "plt.show()"
   ]
  },
  {
   "cell_type": "markdown",
   "metadata": {
    "id": "7fUy1tJ6QQ5_"
   },
   "source": [
    "### Результаты\n",
    "\n",
    "Undersampling | Model | ROC-AUC | \n",
    "--- | --- | --- | \n",
    "|  |  | \n",
    "Random Sampler | CatBoost Classifier | 0.95 | "
   ]
  },
  {
   "cell_type": "code",
   "execution_count": 18,
   "metadata": {
    "id": "iWLHKi2TS8uy"
   },
   "outputs": [],
   "source": [
    "pickle.dump(model, open(PATH+'catboost_classifier.pkl', 'wb'))"
   ]
  },
  {
   "cell_type": "code",
   "execution_count": null,
   "metadata": {
    "id": "G8CdKQX9r4uu"
   },
   "outputs": [],
   "source": []
  }
 ],
 "metadata": {
  "accelerator": "GPU",
  "colab": {
   "provenance": []
  },
  "gpuClass": "standard",
  "kernelspec": {
   "display_name": "Python 3",
   "language": "python",
   "name": "python3"
  },
  "language_info": {
   "codemirror_mode": {
    "name": "ipython",
    "version": 3
   },
   "file_extension": ".py",
   "mimetype": "text/x-python",
   "name": "python",
   "nbconvert_exporter": "python",
   "pygments_lexer": "ipython3",
   "version": "3.7.6"
  },
  "widgets": {
   "application/vnd.jupyter.widget-state+json": {
    "3827a246bd334445a76e30d7d68b3b9b": {
     "model_module": "catboost-widget",
     "model_module_version": "^1.0.0",
     "model_name": "CatboostWidgetModel",
     "state": {
      "_dom_classes": [],
      "_model_module": "catboost-widget",
      "_model_module_version": "^1.0.0",
      "_model_name": "CatboostWidgetModel",
      "_view_count": null,
      "_view_module": "catboost-widget",
      "_view_module_version": "^1.0.0",
      "_view_name": "CatboostWidgetView",
      "data": {
       "catboost_info": {
        "content": {
         "data": {
          "iterations": [
           {
            "iteration": 0,
            "learn": [
             0.618285655
            ],
            "passed_time": 0.3910286986,
            "remaining_time": 390.6376699,
            "test": [
             0.7665542066,
             0.6183842331
            ]
           },
           {
            "iteration": 5,
            "learn": [
             0.3658501949
            ],
            "passed_time": 2.156991563,
            "remaining_time": 357.3416022,
            "test": [
             0.8483707309,
             0.3664346139
            ]
           },
           {
            "iteration": 10,
            "learn": [
             0.243903242
            ],
            "passed_time": 3.916453373,
            "remaining_time": 352.1247624,
            "test": [
             0.8519672453,
             0.2447840818
            ]
           },
           {
            "iteration": 15,
            "learn": [
             0.1802186044
            ],
            "passed_time": 5.907716496,
            "remaining_time": 363.3245645,
            "test": [
             0.8603398204,
             0.1813551011
            ]
           },
           {
            "iteration": 20,
            "learn": [
             0.1467047015
            ],
            "passed_time": 8.793260737,
            "remaining_time": 409.933441,
            "test": [
             0.8640789986,
             0.1480775606
            ]
           },
           {
            "iteration": 25,
            "learn": [
             0.1282912805
            ],
            "passed_time": 10.69477606,
            "remaining_time": 400.6427649,
            "test": [
             0.8686575294,
             0.129903285
            ]
           },
           {
            "iteration": 30,
            "learn": [
             0.1164053296
            ],
            "passed_time": 12.47262717,
            "remaining_time": 389.8701849,
            "test": [
             0.8727936447,
             0.1182291843
            ]
           },
           {
            "iteration": 35,
            "learn": [
             0.1087565909
            ],
            "passed_time": 14.32164651,
            "remaining_time": 383.5018676,
            "test": [
             0.8767761588,
             0.1107313791
            ]
           },
           {
            "iteration": 40,
            "learn": [
             0.1038886095
            ],
            "passed_time": 16.15750862,
            "remaining_time": 377.9280676,
            "test": [
             0.879160732,
             0.1060058092
            ]
           },
           {
            "iteration": 45,
            "learn": [
             0.1004373853
            ],
            "passed_time": 18.08686103,
            "remaining_time": 375.10577,
            "test": [
             0.8824686408,
             0.1027099314
            ]
           },
           {
            "iteration": 50,
            "learn": [
             0.09767224815
            ],
            "passed_time": 20.56587223,
            "remaining_time": 382.6865245,
            "test": [
             0.885063827,
             0.1000275348
            ]
           },
           {
            "iteration": 55,
            "learn": [
             0.09559054266
            ],
            "passed_time": 22.90330818,
            "remaining_time": 386.0843379,
            "test": [
             0.8877616525,
             0.09811546512
            ]
           },
           {
            "iteration": 60,
            "learn": [
             0.09382192078
            ],
            "passed_time": 24.69760777,
            "remaining_time": 380.1812082,
            "test": [
             0.8892254829,
             0.09646494099
            ]
           },
           {
            "iteration": 65,
            "learn": [
             0.09246408175
            ],
            "passed_time": 26.57757054,
            "remaining_time": 376.1128922,
            "test": [
             0.890805155,
             0.095183253
            ]
           },
           {
            "iteration": 70,
            "learn": [
             0.09122663042
            ],
            "passed_time": 28.50931209,
            "remaining_time": 373.0302948,
            "test": [
             0.8921508193,
             0.09412793137
            ]
           },
           {
            "iteration": 75,
            "learn": [
             0.08989382334
            ],
            "passed_time": 30.35417582,
            "remaining_time": 369.0428745,
            "test": [
             0.8942021728,
             0.09285845855
            ]
           },
           {
            "iteration": 80,
            "learn": [
             0.0887485716
            ],
            "passed_time": 32.31126652,
            "remaining_time": 366.5932585,
            "test": [
             0.8954441845,
             0.09190456797
            ]
           },
           {
            "iteration": 85,
            "learn": [
             0.08776152479
            ],
            "passed_time": 34.9814966,
            "remaining_time": 371.7800918,
            "test": [
             0.8970684111,
             0.09105854674
            ]
           },
           {
            "iteration": 90,
            "learn": [
             0.0868419669
            ],
            "passed_time": 37.35212179,
            "remaining_time": 373.110755,
            "test": [
             0.8985170126,
             0.09026963801
            ]
           },
           {
            "iteration": 95,
            "learn": [
             0.0859896428
            ],
            "passed_time": 39.21741979,
            "remaining_time": 369.2973697,
            "test": [
             0.8998481929,
             0.08948525484
            ]
           },
           {
            "iteration": 100,
            "learn": [
             0.08524107513
            ],
            "passed_time": 40.99519181,
            "remaining_time": 364.8977964,
            "test": [
             0.9008171558,
             0.08882907024
            ]
           },
           {
            "iteration": 105,
            "learn": [
             0.0844690725
            ],
            "passed_time": 42.87493861,
            "remaining_time": 361.6056143,
            "test": [
             0.9018388689,
             0.08815111222
            ]
           },
           {
            "iteration": 110,
            "learn": [
             0.08389937599
            ],
            "passed_time": 44.66259991,
            "remaining_time": 357.703165,
            "test": [
             0.9026023746,
             0.08766499729
            ]
           },
           {
            "iteration": 115,
            "learn": [
             0.08311993654
            ],
            "passed_time": 46.6936912,
            "remaining_time": 355.8381295,
            "test": [
             0.9038197696,
             0.08697628486
            ]
           },
           {
            "iteration": 120,
            "learn": [
             0.08217609322
            ],
            "passed_time": 49.23054895,
            "remaining_time": 357.633492,
            "test": [
             0.9055103064,
             0.08616391045
            ]
           },
           {
            "iteration": 125,
            "learn": [
             0.08159210895
            ],
            "passed_time": 51.28664305,
            "remaining_time": 355.7502066,
            "test": [
             0.9062307477,
             0.08563823405
            ]
           },
           {
            "iteration": 130,
            "learn": [
             0.08111876985
            ],
            "passed_time": 53.07513042,
            "remaining_time": 352.0785369,
            "test": [
             0.906668812,
             0.08526825135
            ]
           },
           {
            "iteration": 135,
            "learn": [
             0.08054420682
            ],
            "passed_time": 54.95656162,
            "remaining_time": 349.1358032,
            "test": [
             0.9075878263,
             0.08480273021
            ]
           },
           {
            "iteration": 140,
            "learn": [
             0.07993116507
            ],
            "passed_time": 56.78822359,
            "remaining_time": 345.9651352,
            "test": [
             0.9086087346,
             0.08427667897
            ]
           },
           {
            "iteration": 145,
            "learn": [
             0.07944674162
            ],
            "passed_time": 58.6019123,
            "remaining_time": 342.7810486,
            "test": [
             0.9093206227,
             0.08382309738
            ]
           },
           {
            "iteration": 150,
            "learn": [
             0.07882252574
            ],
            "passed_time": 60.60688639,
            "remaining_time": 340.7632222,
            "test": [
             0.9105361402,
             0.08328915259
            ]
           },
           {
            "iteration": 155,
            "learn": [
             0.07830872353
            ],
            "passed_time": 63.72820849,
            "remaining_time": 344.7859485,
            "test": [
             0.9112062156,
             0.08284256054
            ]
           },
           {
            "iteration": 160,
            "learn": [
             0.07768627473
            ],
            "passed_time": 65.55931908,
            "remaining_time": 341.6414205,
            "test": [
             0.9122439921,
             0.08234183262
            ]
           },
           {
            "iteration": 165,
            "learn": [
             0.07728189397
            ],
            "passed_time": 67.39524749,
            "remaining_time": 338.6002193,
            "test": [
             0.9127479196,
             0.08205211941
            ]
           },
           {
            "iteration": 170,
            "learn": [
             0.07673623721
            ],
            "passed_time": 69.24021571,
            "remaining_time": 335.6733265,
            "test": [
             0.9134829938,
             0.08162565261
            ]
           },
           {
            "iteration": 175,
            "learn": [
             0.07628125393
            ],
            "passed_time": 71.03957579,
            "remaining_time": 332.5943776,
            "test": [
             0.9141136408,
             0.08128469194
            ]
           },
           {
            "iteration": 180,
            "learn": [
             0.07600334168
            ],
            "passed_time": 72.83751165,
            "remaining_time": 329.5796798,
            "test": [
             0.9144790173,
             0.08105340314
            ]
           },
           {
            "iteration": 185,
            "learn": [
             0.07565755778
            ],
            "passed_time": 75.1934665,
            "remaining_time": 329.0724824,
            "test": [
             0.9150580168,
             0.08077858405
            ]
           },
           {
            "iteration": 190,
            "learn": [
             0.07518992624
            ],
            "passed_time": 77.77587172,
            "remaining_time": 329.4276451,
            "test": [
             0.9155201614,
             0.08048040953
            ]
           },
           {
            "iteration": 195,
            "learn": [
             0.07478857407
            ],
            "passed_time": 79.615824,
            "remaining_time": 326.5873597,
            "test": [
             0.9161865115,
             0.08017415954
            ]
           },
           {
            "iteration": 200,
            "learn": [
             0.07448375412
            ],
            "passed_time": 81.34754487,
            "remaining_time": 323.3666087,
            "test": [
             0.9166040719,
             0.07992699545
            ]
           },
           {
            "iteration": 205,
            "learn": [
             0.07400043627
            ],
            "passed_time": 83.20798895,
            "remaining_time": 320.7142875,
            "test": [
             0.9173319638,
             0.07960194315
            ]
           },
           {
            "iteration": 210,
            "learn": [
             0.07358212682
            ],
            "passed_time": 85.12561198,
            "remaining_time": 318.3133073,
            "test": [
             0.9179571867,
             0.07928690112
            ]
           },
           {
            "iteration": 215,
            "learn": [
             0.07313578991
            ],
            "passed_time": 86.84372127,
            "remaining_time": 315.2105439,
            "test": [
             0.9185581207,
             0.07896917462
            ]
           },
           {
            "iteration": 220,
            "learn": [
             0.0728575422
            ],
            "passed_time": 89.5503818,
            "remaining_time": 315.6549657,
            "test": [
             0.9189172685,
             0.07875074041
            ]
           },
           {
            "iteration": 225,
            "learn": [
             0.07253107325
            ],
            "passed_time": 91.87240082,
            "remaining_time": 314.6426471,
            "test": [
             0.9193318784,
             0.07850377475
            ]
           },
           {
            "iteration": 230,
            "learn": [
             0.07228566757
            ],
            "passed_time": 93.74036361,
            "remaining_time": 312.0620763,
            "test": [
             0.9197156727,
             0.0783235515
            ]
           },
           {
            "iteration": 235,
            "learn": [
             0.07197677485
            ],
            "passed_time": 95.63868224,
            "remaining_time": 309.6099713,
            "test": [
             0.9204237461,
             0.07807069875
            ]
           },
           {
            "iteration": 240,
            "learn": [
             0.07174451353
            ],
            "passed_time": 97.43994876,
            "remaining_time": 306.8751913,
            "test": [
             0.9207380712,
             0.07790215598
            ]
           },
           {
            "iteration": 245,
            "learn": [
             0.07153983555
            ],
            "passed_time": 99.20452913,
            "remaining_time": 304.0659145,
            "test": [
             0.9208666682,
             0.0777570844
            ]
           },
           {
            "iteration": 250,
            "learn": [
             0.07114678957
            ],
            "passed_time": 101.0443727,
            "remaining_time": 301.5228491,
            "test": [
             0.9213123322,
             0.07750835482
            ]
           },
           {
            "iteration": 255,
            "learn": [
             0.0709316509
            ],
            "passed_time": 103.9899374,
            "remaining_time": 302.2207555,
            "test": [
             0.921566546,
             0.07735564876
            ]
           },
           {
            "iteration": 260,
            "learn": [
             0.07049203264
            ],
            "passed_time": 106.2061806,
            "remaining_time": 300.7140515,
            "test": [
             0.9220598042,
             0.07707167932
            ]
           },
           {
            "iteration": 265,
            "learn": [
             0.07004032364
            ],
            "passed_time": 108.1678513,
            "remaining_time": 298.4782063,
            "test": [
             0.9226354659,
             0.07677059432
            ]
           },
           {
            "iteration": 270,
            "learn": [
             0.06968510434
            ],
            "passed_time": 110.0341095,
            "remaining_time": 295.9958148,
            "test": [
             0.9229920506,
             0.07654132852
            ]
           },
           {
            "iteration": 275,
            "learn": [
             0.06937123642
            ],
            "passed_time": 111.938982,
            "remaining_time": 293.6370397,
            "test": [
             0.9233791232,
             0.07631631267
            ]
           },
           {
            "iteration": 280,
            "learn": [
             0.06909246898
            ],
            "passed_time": 113.7983324,
            "remaining_time": 291.1779395,
            "test": [
             0.9236855507,
             0.07612406719
            ]
           },
           {
            "iteration": 285,
            "learn": [
             0.06887592232
            ],
            "passed_time": 115.7852947,
            "remaining_time": 289.0583931,
            "test": [
             0.924146682,
             0.075954659
            ]
           },
           {
            "iteration": 290,
            "learn": [
             0.06856714772
            ],
            "passed_time": 118.2340036,
            "remaining_time": 288.0684144,
            "test": [
             0.9246516824,
             0.07574803755
            ]
           },
           {
            "iteration": 295,
            "learn": [
             0.06836792215
            ],
            "passed_time": 120.1074248,
            "remaining_time": 285.6609022,
            "test": [
             0.9248759151,
             0.07559605911
            ]
           },
           {
            "iteration": 300,
            "learn": [
             0.06803168234
            ],
            "passed_time": 122.0481467,
            "remaining_time": 283.4274236,
            "test": [
             0.9253168702,
             0.07537225044
            ]
           },
           {
            "iteration": 305,
            "learn": [
             0.06779423792
            ],
            "passed_time": 123.9175654,
            "remaining_time": 281.0417987,
            "test": [
             0.9255957007,
             0.07520981525
            ]
           },
           {
            "iteration": 310,
            "learn": [
             0.06747673191
            ],
            "passed_time": 125.8069863,
            "remaining_time": 278.7170853,
            "test": [
             0.9259942174,
             0.07500615388
            ]
           },
           {
            "iteration": 315,
            "learn": [
             0.06732478733
            ],
            "passed_time": 127.6140125,
            "remaining_time": 276.2277991,
            "test": [
             0.9262260795,
             0.07488862705
            ]
           },
           {
            "iteration": 320,
            "learn": [
             0.06695444397
            ],
            "passed_time": 130.1505096,
            "remaining_time": 275.3027914,
            "test": [
             0.9267147183,
             0.07462675625
            ]
           },
           {
            "iteration": 325,
            "learn": [
             0.06678076062
            ],
            "passed_time": 132.7853736,
            "remaining_time": 274.5317233,
            "test": [
             0.926817596,
             0.07449915852
            ]
           },
           {
            "iteration": 330,
            "learn": [
             0.06645648399
            ],
            "passed_time": 134.7526533,
            "remaining_time": 272.3550606,
            "test": [
             0.9272106886,
             0.07430052433
            ]
           },
           {
            "iteration": 335,
            "learn": [
             0.06612557374
            ],
            "passed_time": 136.8031124,
            "remaining_time": 270.3490077,
            "test": [
             0.9275751114,
             0.07410488882
            ]
           },
           {
            "iteration": 340,
            "learn": [
             0.0657923767
            ],
            "passed_time": 139.8313282,
            "remaining_time": 270.2312178,
            "test": [
             0.9279703498,
             0.07388116835
            ]
           },
           {
            "iteration": 345,
            "learn": [
             0.0656436686
            ],
            "passed_time": 141.6651006,
            "remaining_time": 267.7716064,
            "test": [
             0.9280454814,
             0.07380219975
            ]
           },
           {
            "iteration": 350,
            "learn": [
             0.06533186541
            ],
            "passed_time": 143.86,
            "remaining_time": 265.9975499,
            "test": [
             0.9286182821,
             0.07355367413
            ]
           },
           {
            "iteration": 355,
            "learn": [
             0.06514673389
            ],
            "passed_time": 146.4503838,
            "remaining_time": 264.9270987,
            "test": [
             0.9288464487,
             0.07340567553
            ]
           },
           {
            "iteration": 360,
            "learn": [
             0.06487080605
            ],
            "passed_time": 148.3718224,
            "remaining_time": 262.6304557,
            "test": [
             0.9291670322,
             0.07323150475
            ]
           },
           {
            "iteration": 365,
            "learn": [
             0.06454253696
            ],
            "passed_time": 150.2787402,
            "remaining_time": 260.3189107,
            "test": [
             0.9298000634,
             0.07299486906
            ]
           },
           {
            "iteration": 370,
            "learn": [
             0.06432946302
            ],
            "passed_time": 152.175522,
            "remaining_time": 258.0010872,
            "test": [
             0.9300756454,
             0.07285819816
            ]
           },
           {
            "iteration": 375,
            "learn": [
             0.06403735749
            ],
            "passed_time": 154.0566739,
            "remaining_time": 255.6685226,
            "test": [
             0.9305633903,
             0.07262820474
            ]
           },
           {
            "iteration": 380,
            "learn": [
             0.06380748692
            ],
            "passed_time": 155.9342595,
            "remaining_time": 253.3420121,
            "test": [
             0.9308943152,
             0.07246350401
            ]
           },
           {
            "iteration": 385,
            "learn": [
             0.0636938415
            ],
            "passed_time": 158.4855265,
            "remaining_time": 252.0987391,
            "test": [
             0.93100968,
             0.07238640958
            ]
           },
           {
            "iteration": 390,
            "learn": [
             0.06348688145
            ],
            "passed_time": 160.8580613,
            "remaining_time": 250.54363,
            "test": [
             0.9313156605,
             0.07222853302
            ]
           },
           {
            "iteration": 395,
            "learn": [
             0.06330087112
            ],
            "passed_time": 162.6220585,
            "remaining_time": 248.0397053,
            "test": [
             0.9314672947,
             0.07209282125
            ]
           },
           {
            "iteration": 400,
            "learn": [
             0.06308701286
            ],
            "passed_time": 164.4136681,
            "remaining_time": 245.5954793,
            "test": [
             0.9316974282,
             0.07197229575
            ]
           },
           {
            "iteration": 405,
            "learn": [
             0.06282180557
            ],
            "passed_time": 166.3349955,
            "remaining_time": 243.3571117,
            "test": [
             0.932043463,
             0.0717952641
            ]
           },
           {
            "iteration": 410,
            "learn": [
             0.06248019367
            ],
            "passed_time": 168.3387522,
            "remaining_time": 241.2445866,
            "test": [
             0.9324087203,
             0.07160541094
            ]
           },
           {
            "iteration": 415,
            "learn": [
             0.06225120191
            ],
            "passed_time": 170.5796006,
            "remaining_time": 239.4675163,
            "test": [
             0.9326832294,
             0.07147737774
            ]
           },
           {
            "iteration": 420,
            "learn": [
             0.06202974147
            ],
            "passed_time": 173.472377,
            "remaining_time": 238.5760244,
            "test": [
             0.933028698,
             0.07132184389
            ]
           },
           {
            "iteration": 425,
            "learn": [
             0.06183481073
            ],
            "passed_time": 175.3359295,
            "remaining_time": 236.2507594,
            "test": [
             0.9332400858,
             0.07120493443
            ]
           },
           {
            "iteration": 430,
            "learn": [
             0.06157025074
            ],
            "passed_time": 177.2567652,
            "remaining_time": 234.0118315,
            "test": [
             0.9336426258,
             0.07102468362
            ]
           },
           {
            "iteration": 435,
            "learn": [
             0.0614229459
            ],
            "passed_time": 179.1143289,
            "remaining_time": 231.6983521,
            "test": [
             0.9337912798,
             0.07093052876
            ]
           },
           {
            "iteration": 440,
            "learn": [
             0.0612776869
            ],
            "passed_time": 180.947633,
            "remaining_time": 229.36446,
            "test": [
             0.9339343905,
             0.07084274055
            ]
           },
           {
            "iteration": 445,
            "learn": [
             0.06111823463
            ],
            "passed_time": 182.7485604,
            "remaining_time": 227.001575,
            "test": [
             0.9341856241,
             0.07072728633
            ]
           },
           {
            "iteration": 450,
            "learn": [
             0.06095539468
            ],
            "passed_time": 185.4726697,
            "remaining_time": 225.7749349,
            "test": [
             0.93432796,
             0.07063246448
            ]
           },
           {
            "iteration": 455,
            "learn": [
             0.06081401473
            ],
            "passed_time": 187.8806506,
            "remaining_time": 224.13832,
            "test": [
             0.9344662428,
             0.0705476143
            ]
           },
           {
            "iteration": 460,
            "learn": [
             0.060474151
            ],
            "passed_time": 189.8368893,
            "remaining_time": 221.9567969,
            "test": [
             0.9351307154,
             0.07028523638
            ]
           },
           {
            "iteration": 465,
            "learn": [
             0.06035106545
            ],
            "passed_time": 191.6631867,
            "remaining_time": 219.6312054,
            "test": [
             0.9352695942,
             0.07020498342
            ]
           },
           {
            "iteration": 470,
            "learn": [
             0.06013920579
            ],
            "passed_time": 193.4496056,
            "remaining_time": 217.2714254,
            "test": [
             0.9354808629,
             0.0700909238
            ]
           },
           {
            "iteration": 475,
            "learn": [
             0.05997242536
            ],
            "passed_time": 195.2265487,
            "remaining_time": 214.9132594,
            "test": [
             0.935687989,
             0.06996809969
            ]
           },
           {
            "iteration": 480,
            "learn": [
             0.0596503552
            ],
            "passed_time": 197.3254994,
            "remaining_time": 212.9146241,
            "test": [
             0.9362796545,
             0.06973668962
            ]
           },
           {
            "iteration": 485,
            "learn": [
             0.05946737346
            ],
            "passed_time": 200.3209295,
            "remaining_time": 211.8620531,
            "test": [
             0.9364723265,
             0.06961922893
            ]
           },
           {
            "iteration": 490,
            "learn": [
             0.05925473893
            ],
            "passed_time": 202.2743455,
            "remaining_time": 209.6896983,
            "test": [
             0.9367084801,
             0.06948864356
            ]
           },
           {
            "iteration": 495,
            "learn": [
             0.05914681523
            ],
            "passed_time": 204.1062386,
            "remaining_time": 207.3982747,
            "test": [
             0.9367499352,
             0.06942500455
            ]
           },
           {
            "iteration": 500,
            "learn": [
             0.05899299491
            ],
            "passed_time": 205.9714712,
            "remaining_time": 205.1492298,
            "test": [
             0.9369666576,
             0.0693278896
            ]
           },
           {
            "iteration": 505,
            "learn": [
             0.05864468798
            ],
            "passed_time": 208.0003035,
            "remaining_time": 203.0674899,
            "test": [
             0.9373626113,
             0.06912832385
            ]
           },
           {
            "iteration": 510,
            "learn": [
             0.05854048742
            ],
            "passed_time": 209.7295339,
            "remaining_time": 200.7000824,
            "test": [
             0.9373858273,
             0.06907845446
            ]
           },
           {
            "iteration": 515,
            "learn": [
             0.05837100441
            ],
            "passed_time": 212.2532842,
            "remaining_time": 199.0902898,
            "test": [
             0.9375713468,
             0.06896183163
            ]
           },
           {
            "iteration": 520,
            "learn": [
             0.05826080337
            ],
            "passed_time": 214.3593474,
            "remaining_time": 197.0789393,
            "test": [
             0.9376933575,
             0.06888200312
            ]
           },
           {
            "iteration": 525,
            "learn": [
             0.0580455702
            ],
            "passed_time": 216.2372484,
            "remaining_time": 194.860182,
            "test": [
             0.9379535019,
             0.0687383978
            ]
           },
           {
            "iteration": 530,
            "learn": [
             0.05785273727
            ],
            "passed_time": 218.0402401,
            "remaining_time": 192.581681,
            "test": [
             0.9381403327,
             0.06861850621
            ]
           },
           {
            "iteration": 535,
            "learn": [
             0.05765868535
            ],
            "passed_time": 219.9573694,
            "remaining_time": 190.4108571,
            "test": [
             0.9384109378,
             0.0685085477
            ]
           },
           {
            "iteration": 540,
            "learn": [
             0.05752734558
            ],
            "passed_time": 221.7982546,
            "remaining_time": 188.1800348,
            "test": [
             0.9384625554,
             0.06844956104
            ]
           },
           {
            "iteration": 545,
            "learn": [
             0.05730575757
            ],
            "passed_time": 223.7136407,
            "remaining_time": 186.018302,
            "test": [
             0.9387890697,
             0.06830959381
            ]
           },
           {
            "iteration": 550,
            "learn": [
             0.05714068279
            ],
            "passed_time": 226.1356948,
            "remaining_time": 184.2739147,
            "test": [
             0.9389741421,
             0.06821701545
            ]
           },
           {
            "iteration": 555,
            "learn": [
             0.0570521024
            ],
            "passed_time": 228.7216756,
            "remaining_time": 182.6482446,
            "test": [
             0.9390753508,
             0.06814801852
            ]
           },
           {
            "iteration": 560,
            "learn": [
             0.05684847332
            ],
            "passed_time": 230.6289115,
            "remaining_time": 180.4743175,
            "test": [
             0.939301312,
             0.06801746623
            ]
           },
           {
            "iteration": 565,
            "learn": [
             0.05667120385
            ],
            "passed_time": 232.4437017,
            "remaining_time": 178.2342165,
            "test": [
             0.939491719,
             0.0679247666
            ]
           },
           {
            "iteration": 570,
            "learn": [
             0.05647909382
            ],
            "passed_time": 234.3228507,
            "remaining_time": 176.0499176,
            "test": [
             0.9396574497,
             0.06780204722
            ]
           },
           {
            "iteration": 575,
            "learn": [
             0.05632816979
            ],
            "passed_time": 236.1367763,
            "remaining_time": 173.8229048,
            "test": [
             0.9397959709,
             0.06771441335
            ]
           },
           {
            "iteration": 580,
            "learn": [
             0.05620519763
            ],
            "passed_time": 237.9927425,
            "remaining_time": 171.6333203,
            "test": [
             0.939933151,
             0.06764788592
            ]
           },
           {
            "iteration": 585,
            "learn": [
             0.05603600284
            ],
            "passed_time": 240.4568629,
            "remaining_time": 169.8790806,
            "test": [
             0.940176338,
             0.06753108119
            ]
           },
           {
            "iteration": 590,
            "learn": [
             0.05594887768
            ],
            "passed_time": 242.3495084,
            "remaining_time": 167.7173417,
            "test": [
             0.9402233958,
             0.06748227016
            ]
           },
           {
            "iteration": 595,
            "learn": [
             0.05576751182
            ],
            "passed_time": 244.2048254,
            "remaining_time": 165.5348145,
            "test": [
             0.9404459,
             0.06735684426
            ]
           },
           {
            "iteration": 600,
            "learn": [
             0.05561459865
            ],
            "passed_time": 246.0017207,
            "remaining_time": 163.318946,
            "test": [
             0.9406063259,
             0.06726486122
            ]
           },
           {
            "iteration": 605,
            "learn": [
             0.05551109264
            ],
            "passed_time": 247.8702371,
            "remaining_time": 161.1565568,
            "test": [
             0.9406784177,
             0.06720376888
            ]
           },
           {
            "iteration": 610,
            "learn": [
             0.05540237518
            ],
            "passed_time": 249.7426221,
            "remaining_time": 159.0014402,
            "test": [
             0.94078058,
             0.06714971568
            ]
           },
           {
            "iteration": 615,
            "learn": [
             0.05523966752
            ],
            "passed_time": 251.633491,
            "remaining_time": 156.8624359,
            "test": [
             0.9409501553,
             0.06705235268
            ]
           },
           {
            "iteration": 620,
            "learn": [
             0.05515277388
            ],
            "passed_time": 254.5161471,
            "remaining_time": 155.332721,
            "test": [
             0.941062212,
             0.067011347
            ]
           },
           {
            "iteration": 625,
            "learn": [
             0.05498184036
            ],
            "passed_time": 256.7055442,
            "remaining_time": 153.3672101,
            "test": [
             0.9413294196,
             0.06690042937
            ]
           },
           {
            "iteration": 630,
            "learn": [
             0.05485377015
            ],
            "passed_time": 258.5906725,
            "remaining_time": 151.2202189,
            "test": [
             0.9414457977,
             0.06682647692
            ]
           },
           {
            "iteration": 635,
            "learn": [
             0.05472331865
            ],
            "passed_time": 260.4525029,
            "remaining_time": 149.0640111,
            "test": [
             0.9415488839,
             0.066749162
            ]
           },
           {
            "iteration": 640,
            "learn": [
             0.05454586492
            ],
            "passed_time": 262.3430204,
            "remaining_time": 146.9284623,
            "test": [
             0.9417774081,
             0.06662990432
            ]
           },
           {
            "iteration": 645,
            "learn": [
             0.0543867103
            ],
            "passed_time": 264.2235605,
            "remaining_time": 144.791239,
            "test": [
             0.9419074953,
             0.06654999313
            ]
           },
           {
            "iteration": 650,
            "learn": [
             0.05423838964
            ],
            "passed_time": 266.3651025,
            "remaining_time": 142.7978814,
            "test": [
             0.9421431422,
             0.06643973696
            ]
           },
           {
            "iteration": 655,
            "learn": [
             0.05409545523
            ],
            "passed_time": 268.944861,
            "remaining_time": 141.0320613,
            "test": [
             0.9422740936,
             0.06635558133
            ]
           },
           {
            "iteration": 660,
            "learn": [
             0.05400199413
            ],
            "passed_time": 270.8127876,
            "remaining_time": 138.8888578,
            "test": [
             0.9423679709,
             0.06631013828
            ]
           },
           {
            "iteration": 665,
            "learn": [
             0.05385692884
            ],
            "passed_time": 272.6638772,
            "remaining_time": 136.7413438,
            "test": [
             0.9426229596,
             0.06621539912
            ]
           },
           {
            "iteration": 670,
            "learn": [
             0.05371153282
            ],
            "passed_time": 274.5597907,
            "remaining_time": 134.6202252,
            "test": [
             0.9427326024,
             0.06614479262
            ]
           },
           {
            "iteration": 675,
            "learn": [
             0.05356584859
            ],
            "passed_time": 276.5015614,
            "remaining_time": 132.524417,
            "test": [
             0.9429203868,
             0.0660508362
            ]
           },
           {
            "iteration": 680,
            "learn": [
             0.05347454199
            ],
            "passed_time": 278.3450315,
            "remaining_time": 130.3848238,
            "test": [
             0.9430275261,
             0.06599204797
            ]
           },
           {
            "iteration": 685,
            "learn": [
             0.05333000588
            ],
            "passed_time": 280.7296162,
            "remaining_time": 128.4972296,
            "test": [
             0.9431932867,
             0.06591543311
            ]
           },
           {
            "iteration": 690,
            "learn": [
             0.05318857396
            ],
            "passed_time": 283.2514952,
            "remaining_time": 126.6638379,
            "test": [
             0.9433456659,
             0.06583641491
            ]
           },
           {
            "iteration": 695,
            "learn": [
             0.05310863521
            ],
            "passed_time": 285.0764149,
            "remaining_time": 124.5161352,
            "test": [
             0.9435174465,
             0.06578011822
            ]
           },
           {
            "iteration": 700,
            "learn": [
             0.05295318483
            ],
            "passed_time": 286.9907041,
            "remaining_time": 122.4111562,
            "test": [
             0.9436896443,
             0.06567158739
            ]
           },
           {
            "iteration": 705,
            "learn": [
             0.05281746991
            ],
            "passed_time": 288.8422699,
            "remaining_time": 120.2827583,
            "test": [
             0.9438641369,
             0.06557763648
            ]
           },
           {
            "iteration": 710,
            "learn": [
             0.0526458702
            ],
            "passed_time": 290.7334365,
            "remaining_time": 118.1743504,
            "test": [
             0.9440622926,
             0.06547539514
            ]
           },
           {
            "iteration": 715,
            "learn": [
             0.05255228625
            ],
            "passed_time": 292.5912996,
            "remaining_time": 116.0557669,
            "test": [
             0.9441561401,
             0.065424291
            ]
           },
           {
            "iteration": 720,
            "learn": [
             0.05237657124
            ],
            "passed_time": 295.4584989,
            "remaining_time": 114.3313748,
            "test": [
             0.9443235397,
             0.0653258035
            ]
           },
           {
            "iteration": 725,
            "learn": [
             0.05226279353
            ],
            "passed_time": 297.5973769,
            "remaining_time": 112.3163654,
            "test": [
             0.9444675148,
             0.06524120689
            ]
           },
           {
            "iteration": 730,
            "learn": [
             0.05213249794
            ],
            "passed_time": 299.488203,
            "remaining_time": 110.2083811,
            "test": [
             0.9446714818,
             0.06514594958
            ]
           },
           {
            "iteration": 735,
            "learn": [
             0.05195848386
            ],
            "passed_time": 301.3208223,
            "remaining_time": 108.0824689,
            "test": [
             0.9449561834,
             0.06504209865
            ]
           },
           {
            "iteration": 740,
            "learn": [
             0.05189497793
            ],
            "passed_time": 303.0981679,
            "remaining_time": 105.941195,
            "test": [
             0.9450200498,
             0.06500534292
            ]
           },
           {
            "iteration": 745,
            "learn": [
             0.05173424996
            ],
            "passed_time": 304.9501302,
            "remaining_time": 103.8302052,
            "test": [
             0.9451777637,
             0.0649148041
            ]
           },
           {
            "iteration": 750,
            "learn": [
             0.05152343448
            ],
            "passed_time": 307.0103434,
            "remaining_time": 101.7917117,
            "test": [
             0.9455021024,
             0.06477467701
            ]
           },
           {
            "iteration": 755,
            "learn": [
             0.05138831488
            ],
            "passed_time": 309.7568084,
            "remaining_time": 99.97441964,
            "test": [
             0.9457044601,
             0.06469655179
            ]
           },
           {
            "iteration": 760,
            "learn": [
             0.05130471914
            ],
            "passed_time": 311.6195722,
            "remaining_time": 97.86738206,
            "test": [
             0.945781827,
             0.06465049688
            ]
           },
           {
            "iteration": 765,
            "learn": [
             0.05116583388
            ],
            "passed_time": 313.4797484,
            "remaining_time": 95.76274297,
            "test": [
             0.9460474551,
             0.06454257791
            ]
           },
           {
            "iteration": 770,
            "learn": [
             0.05110249332
            ],
            "passed_time": 315.3734441,
            "remaining_time": 93.67123047,
            "test": [
             0.9461116195,
             0.06450685297
            ]
           },
           {
            "iteration": 775,
            "learn": [
             0.05093794772
            ],
            "passed_time": 317.2434686,
            "remaining_time": 91.57543424,
            "test": [
             0.9463545084,
             0.06439193343
            ]
           },
           {
            "iteration": 780,
            "learn": [
             0.05080377781
            ],
            "passed_time": 319.0912804,
            "remaining_time": 89.47630014,
            "test": [
             0.9465183914,
             0.06430935982
            ]
           },
           {
            "iteration": 785,
            "learn": [
             0.05066218052
            ],
            "passed_time": 321.0972833,
            "remaining_time": 87.42343336,
            "test": [
             0.9467260242,
             0.06421980218
            ]
           },
           {
            "iteration": 790,
            "learn": [
             0.05055615619
            ],
            "passed_time": 323.7255042,
            "remaining_time": 85.53556306,
            "test": [
             0.9468168616,
             0.06415067296
            ]
           },
           {
            "iteration": 795,
            "learn": [
             0.05042248711
            ],
            "passed_time": 325.5629521,
            "remaining_time": 83.43573143,
            "test": [
             0.9469339252,
             0.06407721111
            ]
           },
           {
            "iteration": 800,
            "learn": [
             0.05030318139
            ],
            "passed_time": 327.3937446,
            "remaining_time": 81.33752207,
            "test": [
             0.9471067786,
             0.06399544229
            ]
           },
           {
            "iteration": 805,
            "learn": [
             0.04999789841
            ],
            "passed_time": 329.4082761,
            "remaining_time": 79.28685555,
            "test": [
             0.9475603998,
             0.0637557473
            ]
           },
           {
            "iteration": 810,
            "learn": [
             0.0499222356
            ],
            "passed_time": 331.2186386,
            "remaining_time": 77.18905389,
            "test": [
             0.9476055503,
             0.0637134297
            ]
           },
           {
            "iteration": 815,
            "learn": [
             0.04976256126
            ],
            "passed_time": 333.0756689,
            "remaining_time": 75.10529789,
            "test": [
             0.9477373958,
             0.0636161108
            ]
           },
           {
            "iteration": 820,
            "learn": [
             0.04960704946
            ],
            "passed_time": 335.5693125,
            "remaining_time": 73.16310223,
            "test": [
             0.9479193687,
             0.06352911085
            ]
           },
           {
            "iteration": 825,
            "learn": [
             0.04950260321
            ],
            "passed_time": 338.2105592,
            "remaining_time": 71.24532361,
            "test": [
             0.9480321109,
             0.06347136444
            ]
           },
           {
            "iteration": 830,
            "learn": [
             0.04940557961
            ],
            "passed_time": 340.0323058,
            "remaining_time": 69.15217772,
            "test": [
             0.948125869,
             0.06340973189
            ]
           },
           {
            "iteration": 835,
            "learn": [
             0.04930951987
            ],
            "passed_time": 341.9074501,
            "remaining_time": 67.07275337,
            "test": [
             0.9482357502,
             0.06335078382
            ]
           },
           {
            "iteration": 840,
            "learn": [
             0.04927882289
            ],
            "passed_time": 343.6124683,
            "remaining_time": 64.96359388,
            "test": [
             0.948256284,
             0.06333474315
            ]
           },
           {
            "iteration": 845,
            "learn": [
             0.04916776194
            ],
            "passed_time": 345.5176393,
            "remaining_time": 62.89564592,
            "test": [
             0.9482903481,
             0.06329254131
            ]
           },
           {
            "iteration": 850,
            "learn": [
             0.0491408448
            ],
            "passed_time": 347.2714394,
            "remaining_time": 60.80310749,
            "test": [
             0.9483074546,
             0.06327101043
            ]
           },
           {
            "iteration": 855,
            "learn": [
             0.0490305965
            ],
            "passed_time": 349.8877034,
            "remaining_time": 58.85961365,
            "test": [
             0.9483769536,
             0.06321994488
            ]
           },
           {
            "iteration": 860,
            "learn": [
             0.0489176787
            ],
            "passed_time": 352.1586965,
            "remaining_time": 56.8525654,
            "test": [
             0.9484331012,
             0.06316886279
            ]
           },
           {
            "iteration": 865,
            "learn": [
             0.04879583105
            ],
            "passed_time": 353.9499892,
            "remaining_time": 54.76824313,
            "test": [
             0.9485735297,
             0.0630978539
            ]
           },
           {
            "iteration": 870,
            "learn": [
             0.04867857116
            ],
            "passed_time": 355.8227013,
            "remaining_time": 52.69934382,
            "test": [
             0.9486217499,
             0.06306266916
            ]
           },
           {
            "iteration": 875,
            "learn": [
             0.04843693114
            ],
            "passed_time": 357.808112,
            "remaining_time": 50.64863685,
            "test": [
             0.9490480423,
             0.06289218056
            ]
           },
           {
            "iteration": 880,
            "learn": [
             0.04838867211
            ],
            "passed_time": 359.6678296,
            "remaining_time": 48.58169321,
            "test": [
             0.9490799904,
             0.06286336248
            ]
           },
           {
            "iteration": 885,
            "learn": [
             0.04830177374
            ],
            "passed_time": 361.5078464,
            "remaining_time": 46.5145536,
            "test": [
             0.9491358995,
             0.06281705401
            ]
           },
           {
            "iteration": 890,
            "learn": [
             0.04820484464
            ],
            "passed_time": 363.9948152,
            "remaining_time": 44.52910758,
            "test": [
             0.9491991997,
             0.06275933516
            ]
           },
           {
            "iteration": 895,
            "learn": [
             0.04816555799
            ],
            "passed_time": 366.0963836,
            "remaining_time": 42.49333024,
            "test": [
             0.9492230713,
             0.06274348742
            ]
           },
           {
            "iteration": 900,
            "learn": [
             0.0481243956
            ],
            "passed_time": 367.9558841,
            "remaining_time": 40.43022477,
            "test": [
             0.9492652118,
             0.06271681912
            ]
           },
           {
            "iteration": 905,
            "learn": [
             0.04797024927
            ],
            "passed_time": 369.9049065,
            "remaining_time": 38.37865476,
            "test": [
             0.9494480491,
             0.06263215637
            ]
           },
           {
            "iteration": 910,
            "learn": [
             0.04789976483
            ],
            "passed_time": 371.7675657,
            "remaining_time": 36.31977316,
            "test": [
             0.9494695365,
             0.06260582431
            ]
           },
           {
            "iteration": 915,
            "learn": [
             0.04774974796
            ],
            "passed_time": 373.7259372,
            "remaining_time": 34.27181084,
            "test": [
             0.9495956302,
             0.06253078044
            ]
           },
           {
            "iteration": 920,
            "learn": [
             0.04762289675
            ],
            "passed_time": 375.7356695,
            "remaining_time": 32.22922681,
            "test": [
             0.9497323036,
             0.06246269856
            ]
           },
           {
            "iteration": 925,
            "learn": [
             0.04746881656
            ],
            "passed_time": 378.5843415,
            "remaining_time": 30.25404025,
            "test": [
             0.9499065876,
             0.06237087538
            ]
           },
           {
            "iteration": 930,
            "learn": [
             0.0474134609
            ],
            "passed_time": 380.4358308,
            "remaining_time": 28.19556641,
            "test": [
             0.9499453604,
             0.06234697974
            ]
           },
           {
            "iteration": 935,
            "learn": [
             0.04723964053
            ],
            "passed_time": 382.3108122,
            "remaining_time": 26.14091023,
            "test": [
             0.9501492977,
             0.0622475717
            ]
           },
           {
            "iteration": 940,
            "learn": [
             0.0471723595
            ],
            "passed_time": 383.9833747,
            "remaining_time": 24.07547195,
            "test": [
             0.9502196908,
             0.06220136244
            ]
           },
           {
            "iteration": 945,
            "learn": [
             0.04708193171
            ],
            "passed_time": 385.8892925,
            "remaining_time": 22.02750718,
            "test": [
             0.9503424168,
             0.06215498783
            ]
           },
           {
            "iteration": 950,
            "learn": [
             0.04691435752
            ],
            "passed_time": 387.8250754,
            "remaining_time": 19.98257486,
            "test": [
             0.9504640102,
             0.06206206771
            ]
           },
           {
            "iteration": 955,
            "learn": [
             0.04678183183
            ],
            "passed_time": 389.8991286,
            "remaining_time": 17.94514818,
            "test": [
             0.950583756,
             0.06198806565
            ]
           },
           {
            "iteration": 960,
            "learn": [
             0.04667297263
            ],
            "passed_time": 392.4929058,
            "remaining_time": 15.92843218,
            "test": [
             0.9506577253,
             0.0619432951
            ]
           },
           {
            "iteration": 965,
            "learn": [
             0.04659322759
            ],
            "passed_time": 394.3020095,
            "remaining_time": 13.87812456,
            "test": [
             0.9507188499,
             0.06190783475
            ]
           },
           {
            "iteration": 970,
            "learn": [
             0.04650752459
            ],
            "passed_time": 396.0855783,
            "remaining_time": 11.82953838,
            "test": [
             0.9507839382,
             0.06187217596
            ]
           },
           {
            "iteration": 975,
            "learn": [
             0.0464341533
            ],
            "passed_time": 397.8827007,
            "remaining_time": 9.784000837,
            "test": [
             0.9508655071,
             0.06183051432
            ]
           },
           {
            "iteration": 980,
            "learn": [
             0.04629494203
            ],
            "passed_time": 399.777739,
            "remaining_time": 7.742891988,
            "test": [
             0.951007247,
             0.06175487513
            ]
           },
           {
            "iteration": 985,
            "learn": [
             0.04620974458
            ],
            "passed_time": 401.5532775,
            "remaining_time": 5.701567835,
            "test": [
             0.9510882497,
             0.0617005794
            ]
           },
           {
            "iteration": 990,
            "learn": [
             0.0461402429
            ],
            "passed_time": 403.7154123,
            "remaining_time": 3.666436641,
            "test": [
             0.9511575103,
             0.06166161876
            ]
           },
           {
            "iteration": 995,
            "learn": [
             0.04606037029
            ],
            "passed_time": 406.2000057,
            "remaining_time": 1.631325324,
            "test": [
             0.9512062669,
             0.06162701281
            ]
           },
           {
            "iteration": 999,
            "learn": [
             0.04601895277
            ],
            "passed_time": 407.6073189,
            "remaining_time": 0,
            "test": [
             0.9512431324,
             0.06160608828
            ]
           }
          ],
          "meta": {
           "iteration_count": 1000,
           "launch_mode": "Train",
           "learn_metrics": [
            {
             "best_value": "Min",
             "name": "Logloss"
            }
           ],
           "learn_sets": [
            "learn"
           ],
           "name": "experiment",
           "parameters": "",
           "test_metrics": [
            {
             "best_value": "Max",
             "name": "AUC"
            },
            {
             "best_value": "Min",
             "name": "Logloss"
            }
           ],
           "test_sets": [
            "test"
           ]
          }
         },
         "passed_iterations": 999,
         "total_iterations": 1000
        },
        "name": "catboost_info",
        "path": "catboost_info"
       }
      },
      "layout": "IPY_MODEL_19019af3899d4e8ba4f8f851364bf56f"
     }
    }
   }
  }
 },
 "nbformat": 4,
 "nbformat_minor": 1
}
