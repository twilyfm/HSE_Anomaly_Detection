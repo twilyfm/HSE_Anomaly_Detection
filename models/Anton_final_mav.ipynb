{
 "cells": [
  {
   "cell_type": "markdown",
   "metadata": {
    "id": "9VlMIOTacVG5"
   },
   "source": [
    "# Применение простейших моделей"
   ]
  },
  {
   "cell_type": "markdown",
   "metadata": {
    "id": "poPzfPofcggx"
   },
   "source": [
    "Загружаем файлы и необходимые библиотеки"
   ]
  },
  {
   "cell_type": "code",
   "execution_count": null,
   "metadata": {
    "id": "dO6gD5kckqJ-"
   },
   "outputs": [],
   "source": [
    "PATH=\"/content/drive/My Drive/\" # Путь до файлов"
   ]
  },
  {
   "cell_type": "code",
   "execution_count": null,
   "metadata": {
    "colab": {
     "base_uri": "https://localhost:8080/"
    },
    "id": "XnO0NirWxEYQ",
    "outputId": "ba1554bb-10ce-4813-c947-8fa3f7e800bc"
   },
   "outputs": [
    {
     "name": "stdout",
     "output_type": "stream",
     "text": [
      "Drive already mounted at /content/drive; to attempt to forcibly remount, call drive.mount(\"/content/drive\", force_remount=True).\n"
     ]
    }
   ],
   "source": [
    "from google.colab import drive\n",
    "drive.mount('/content/drive') # Получаем доступ к гугл диску, чтобы взять оттуда данные"
   ]
  },
  {
   "cell_type": "code",
   "execution_count": null,
   "metadata": {
    "colab": {
     "base_uri": "https://localhost:8080/"
    },
    "id": "OlJxpT5nb13O",
    "outputId": "d871c501-6745-48cc-d486-f14280149876"
   },
   "outputs": [
    {
     "name": "stdout",
     "output_type": "stream",
     "text": [
      "Looking in indexes: https://pypi.org/simple, https://us-python.pkg.dev/colab-wheels/public/simple/\n",
      "Requirement already satisfied: optuna in /usr/local/lib/python3.8/dist-packages (3.0.5)\n",
      "Requirement already satisfied: scipy<1.9.0,>=1.7.0 in /usr/local/lib/python3.8/dist-packages (from optuna) (1.7.3)\n",
      "Requirement already satisfied: sqlalchemy>=1.3.0 in /usr/local/lib/python3.8/dist-packages (from optuna) (1.4.45)\n",
      "Requirement already satisfied: cliff in /usr/local/lib/python3.8/dist-packages (from optuna) (4.1.0)\n",
      "Requirement already satisfied: cmaes>=0.8.2 in /usr/local/lib/python3.8/dist-packages (from optuna) (0.9.0)\n",
      "Requirement already satisfied: packaging>=20.0 in /usr/local/lib/python3.8/dist-packages (from optuna) (21.3)\n",
      "Requirement already satisfied: tqdm in /usr/local/lib/python3.8/dist-packages (from optuna) (4.64.1)\n",
      "Requirement already satisfied: PyYAML in /usr/local/lib/python3.8/dist-packages (from optuna) (6.0)\n",
      "Requirement already satisfied: numpy in /usr/local/lib/python3.8/dist-packages (from optuna) (1.21.6)\n",
      "Requirement already satisfied: colorlog in /usr/local/lib/python3.8/dist-packages (from optuna) (6.7.0)\n",
      "Requirement already satisfied: importlib-metadata<5.0.0 in /usr/local/lib/python3.8/dist-packages (from optuna) (4.13.0)\n",
      "Requirement already satisfied: alembic>=1.5.0 in /usr/local/lib/python3.8/dist-packages (from optuna) (1.9.0)\n",
      "Requirement already satisfied: importlib-resources in /usr/local/lib/python3.8/dist-packages (from alembic>=1.5.0->optuna) (5.10.1)\n",
      "Requirement already satisfied: Mako in /usr/local/lib/python3.8/dist-packages (from alembic>=1.5.0->optuna) (1.2.4)\n",
      "Requirement already satisfied: zipp>=0.5 in /usr/local/lib/python3.8/dist-packages (from importlib-metadata<5.0.0->optuna) (3.11.0)\n",
      "Requirement already satisfied: pyparsing!=3.0.5,>=2.0.2 in /usr/local/lib/python3.8/dist-packages (from packaging>=20.0->optuna) (3.0.9)\n",
      "Requirement already satisfied: greenlet!=0.4.17 in /usr/local/lib/python3.8/dist-packages (from sqlalchemy>=1.3.0->optuna) (2.0.1)\n",
      "Requirement already satisfied: autopage>=0.4.0 in /usr/local/lib/python3.8/dist-packages (from cliff->optuna) (0.5.1)\n",
      "Requirement already satisfied: stevedore>=2.0.1 in /usr/local/lib/python3.8/dist-packages (from cliff->optuna) (4.1.1)\n",
      "Requirement already satisfied: cmd2>=1.0.0 in /usr/local/lib/python3.8/dist-packages (from cliff->optuna) (2.4.2)\n",
      "Requirement already satisfied: PrettyTable>=0.7.2 in /usr/local/lib/python3.8/dist-packages (from cliff->optuna) (3.5.0)\n",
      "Requirement already satisfied: attrs>=16.3.0 in /usr/local/lib/python3.8/dist-packages (from cmd2>=1.0.0->cliff->optuna) (22.1.0)\n",
      "Requirement already satisfied: wcwidth>=0.1.7 in /usr/local/lib/python3.8/dist-packages (from cmd2>=1.0.0->cliff->optuna) (0.2.5)\n",
      "Requirement already satisfied: pyperclip>=1.6 in /usr/local/lib/python3.8/dist-packages (from cmd2>=1.0.0->cliff->optuna) (1.8.2)\n",
      "Requirement already satisfied: pbr!=2.1.0,>=2.0.0 in /usr/local/lib/python3.8/dist-packages (from stevedore>=2.0.1->cliff->optuna) (5.11.0)\n",
      "Requirement already satisfied: MarkupSafe>=0.9.2 in /usr/local/lib/python3.8/dist-packages (from Mako->alembic>=1.5.0->optuna) (2.0.1)\n",
      "Looking in indexes: https://pypi.org/simple, https://us-python.pkg.dev/colab-wheels/public/simple/\n",
      "Requirement already satisfied: catboost in /usr/local/lib/python3.8/dist-packages (1.1.1)\n",
      "Requirement already satisfied: graphviz in /usr/local/lib/python3.8/dist-packages (from catboost) (0.10.1)\n",
      "Requirement already satisfied: six in /usr/local/lib/python3.8/dist-packages (from catboost) (1.15.0)\n",
      "Requirement already satisfied: plotly in /usr/local/lib/python3.8/dist-packages (from catboost) (5.5.0)\n",
      "Requirement already satisfied: scipy in /usr/local/lib/python3.8/dist-packages (from catboost) (1.7.3)\n",
      "Requirement already satisfied: pandas>=0.24.0 in /usr/local/lib/python3.8/dist-packages (from catboost) (1.3.5)\n",
      "Requirement already satisfied: matplotlib in /usr/local/lib/python3.8/dist-packages (from catboost) (3.2.2)\n",
      "Requirement already satisfied: numpy>=1.16.0 in /usr/local/lib/python3.8/dist-packages (from catboost) (1.21.6)\n",
      "Requirement already satisfied: pytz>=2017.3 in /usr/local/lib/python3.8/dist-packages (from pandas>=0.24.0->catboost) (2022.6)\n",
      "Requirement already satisfied: python-dateutil>=2.7.3 in /usr/local/lib/python3.8/dist-packages (from pandas>=0.24.0->catboost) (2.8.2)\n",
      "Requirement already satisfied: pyparsing!=2.0.4,!=2.1.2,!=2.1.6,>=2.0.1 in /usr/local/lib/python3.8/dist-packages (from matplotlib->catboost) (3.0.9)\n",
      "Requirement already satisfied: cycler>=0.10 in /usr/local/lib/python3.8/dist-packages (from matplotlib->catboost) (0.11.0)\n",
      "Requirement already satisfied: kiwisolver>=1.0.1 in /usr/local/lib/python3.8/dist-packages (from matplotlib->catboost) (1.4.4)\n",
      "Requirement already satisfied: tenacity>=6.2.0 in /usr/local/lib/python3.8/dist-packages (from plotly->catboost) (8.1.0)\n",
      "Looking in indexes: https://pypi.org/simple, https://us-python.pkg.dev/colab-wheels/public/simple/\n",
      "Requirement already satisfied: category_encoders in /usr/local/lib/python3.8/dist-packages (2.5.1.post0)\n",
      "Requirement already satisfied: pandas>=1.0.5 in /usr/local/lib/python3.8/dist-packages (from category_encoders) (1.3.5)\n",
      "Requirement already satisfied: scikit-learn>=0.20.0 in /usr/local/lib/python3.8/dist-packages (from category_encoders) (1.0.2)\n",
      "Requirement already satisfied: statsmodels>=0.9.0 in /usr/local/lib/python3.8/dist-packages (from category_encoders) (0.12.2)\n",
      "Requirement already satisfied: scipy>=1.0.0 in /usr/local/lib/python3.8/dist-packages (from category_encoders) (1.7.3)\n",
      "Requirement already satisfied: numpy>=1.14.0 in /usr/local/lib/python3.8/dist-packages (from category_encoders) (1.21.6)\n",
      "Requirement already satisfied: patsy>=0.5.1 in /usr/local/lib/python3.8/dist-packages (from category_encoders) (0.5.3)\n",
      "Requirement already satisfied: python-dateutil>=2.7.3 in /usr/local/lib/python3.8/dist-packages (from pandas>=1.0.5->category_encoders) (2.8.2)\n",
      "Requirement already satisfied: pytz>=2017.3 in /usr/local/lib/python3.8/dist-packages (from pandas>=1.0.5->category_encoders) (2022.6)\n",
      "Requirement already satisfied: six in /usr/local/lib/python3.8/dist-packages (from patsy>=0.5.1->category_encoders) (1.15.0)\n",
      "Requirement already satisfied: joblib>=0.11 in /usr/local/lib/python3.8/dist-packages (from scikit-learn>=0.20.0->category_encoders) (1.2.0)\n",
      "Requirement already satisfied: threadpoolctl>=2.0.0 in /usr/local/lib/python3.8/dist-packages (from scikit-learn>=0.20.0->category_encoders) (3.1.0)\n",
      "Looking in indexes: https://pypi.org/simple, https://us-python.pkg.dev/colab-wheels/public/simple/\n",
      "\u001b[31mERROR: Could not find a version that satisfies the requirement pickle (from versions: none)\u001b[0m\n",
      "\u001b[31mERROR: No matching distribution found for pickle\u001b[0m\n"
     ]
    }
   ],
   "source": [
    "# Импортируем библиотеки\n",
    "!pip install optuna\n",
    "!pip install catboost\n",
    "!pip install category_encoders\n",
    "!pip install pickle\n",
    "\n",
    "import pickle\n",
    "import optuna\n",
    "import pandas as pd\n",
    "import matplotlib.pyplot as plt\n",
    "import seaborn as sns\n",
    "import numpy as np\n",
    "import missingno as msno\n",
    "from imblearn.under_sampling import RandomUnderSampler\n",
    "from collections import Counter\n",
    "\n",
    "import torch\n",
    "from torch import nn, optim\n",
    "from torch.functional import F\n",
    "\n",
    "import math\n",
    "\n",
    "import statsmodels.api as sm\n",
    "import matplotlib.pyplot as plt\n",
    "import seaborn as sns\n",
    "\n",
    "from sklearn.pipeline import Pipeline\n",
    "from sklearn.preprocessing import OneHotEncoder, StandardScaler\n",
    "from category_encoders.leave_one_out import LeaveOneOutEncoder\n",
    "from sklearn.feature_selection import SelectFromModel\n",
    "from sklearn.linear_model import LogisticRegression\n",
    "from sklearn.metrics import f1_score,precision_score, recall_score, roc_auc_score\n",
    "\n",
    "#from sklearn.svm import SVC\n",
    "from sklearn.compose import ColumnTransformer\n",
    "from sklearn.model_selection import train_test_split, cross_val_score\n",
    "\n",
    "\n",
    "from catboost import CatBoostClassifier\n",
    "import catboost as cb\n"
   ]
  },
  {
   "cell_type": "code",
   "execution_count": null,
   "metadata": {
    "id": "3Po5OGs6r7gw"
   },
   "outputs": [],
   "source": [
    "path_merged_=PATH+\"merge_filled_without drop.parquet\" # объединенные transaction и identity\n",
    "\n",
    "merged = pd.read_parquet(path_merged_)"
   ]
  },
  {
   "cell_type": "code",
   "execution_count": null,
   "metadata": {
    "colab": {
     "base_uri": "https://localhost:8080/"
    },
    "id": "ZK46m__Asa8m",
    "outputId": "aa7ca12e-d808-4952-cced-1be3e90b180a"
   },
   "outputs": [
    {
     "data": {
      "text/plain": [
       "1955.3709106445312"
      ]
     },
     "execution_count": 5,
     "metadata": {},
     "output_type": "execute_result"
    }
   ],
   "source": [
    "merged.memory_usage().sum() / 1024**2"
   ]
  },
  {
   "cell_type": "code",
   "execution_count": null,
   "metadata": {
    "id": "JvXOUqM2rNSe"
   },
   "outputs": [],
   "source": [
    "# Заметим, что все числовые столбцы имели тип int64 или float64.\n",
    "# В результате объединенный датасет занимает почти 2 GB памяти.\n",
    "# При обучении моделей google colab периодически падал по памяти, \n",
    "# поэтому было решено поработать дополнительно с типами столбцов.\n",
    "\n",
    "\n",
    "for col in merged.columns:\n",
    "  col_type = merged[col].dtype\n",
    "\n",
    "  if col_type != object:\n",
    "      min_ = merged[col].min()\n",
    "      max_ = merged[col].max()\n",
    "      if str(col_type)[:3] == 'int':\n",
    "          if min_ > np.iinfo(np.int8).min and max_ < np.iinfo(np.int8).max:\n",
    "              merged[col] = merged[col].astype(np.int8)\n",
    "          elif min_ > np.iinfo(np.int16).min and max_ < np.iinfo(np.int16).max:\n",
    "              merged[col] = merged[col].astype(np.int16)\n",
    "          elif min_ > np.iinfo(np.int32).min and max_ < np.iinfo(np.int32).max:\n",
    "              merged[col] = merged[col].astype(np.int32)\n",
    "          elif min_ > np.iinfo(np.int64).min and max_ < np.iinfo(np.int64).max:\n",
    "              merged[col] = merged[col].astype(np.int64)  \n",
    "      else:\n",
    "          if min_ > np.finfo(np.float16).min and max_ < np.finfo(np.float16).max:\n",
    "              merged[col] = merged[col].astype(np.float16)\n",
    "          elif min_ > np.finfo(np.float32).min and max_ < np.finfo(np.float32).max:\n",
    "              merged[col] = merged[col].astype(np.float32)\n",
    "          else:\n",
    "              merged[col] = merged[col].astype(np.float64)\n",
    "  else:\n",
    "      merged[col] = merged[col].astype('category')\n"
   ]
  },
  {
   "cell_type": "code",
   "execution_count": null,
   "metadata": {
    "colab": {
     "base_uri": "https://localhost:8080/"
    },
    "id": "3ZyWiS3MkuHF",
    "outputId": "06c178ce-1737-46bf-e055-60f1bcc6b941"
   },
   "outputs": [
    {
     "data": {
      "text/plain": [
       "525.5524215698242"
      ]
     },
     "execution_count": 7,
     "metadata": {},
     "output_type": "execute_result"
    }
   ],
   "source": [
    "merged.memory_usage().sum() / 1024**2 #Так намного лучше :)"
   ]
  },
  {
   "cell_type": "code",
   "execution_count": null,
   "metadata": {
    "colab": {
     "base_uri": "https://localhost:8080/",
     "height": 522
    },
    "id": "n7kZSgvOzAya",
    "outputId": "cdf4c700-bb85-466a-d1c7-5c879ac740c8"
   },
   "outputs": [
    {
     "data": {
      "text/html": [
       "\n",
       "  <div id=\"df-ea57f22b-8799-493b-b0e8-b47e5d358f2a\">\n",
       "    <div class=\"colab-df-container\">\n",
       "      <div>\n",
       "<style scoped>\n",
       "    .dataframe tbody tr th:only-of-type {\n",
       "        vertical-align: middle;\n",
       "    }\n",
       "\n",
       "    .dataframe tbody tr th {\n",
       "        vertical-align: top;\n",
       "    }\n",
       "\n",
       "    .dataframe thead th {\n",
       "        text-align: right;\n",
       "    }\n",
       "</style>\n",
       "<table border=\"1\" class=\"dataframe\">\n",
       "  <thead>\n",
       "    <tr style=\"text-align: right;\">\n",
       "      <th></th>\n",
       "      <th>TransactionID</th>\n",
       "      <th>isFraud</th>\n",
       "      <th>TransactionDT</th>\n",
       "      <th>TransactionAmt</th>\n",
       "      <th>ProductCD</th>\n",
       "      <th>card1</th>\n",
       "      <th>card2</th>\n",
       "      <th>card3</th>\n",
       "      <th>card4</th>\n",
       "      <th>card5</th>\n",
       "      <th>...</th>\n",
       "      <th>id_31</th>\n",
       "      <th>id_32</th>\n",
       "      <th>id_33</th>\n",
       "      <th>id_34</th>\n",
       "      <th>id_35</th>\n",
       "      <th>id_36</th>\n",
       "      <th>id_37</th>\n",
       "      <th>id_38</th>\n",
       "      <th>DeviceType</th>\n",
       "      <th>DeviceInfo</th>\n",
       "    </tr>\n",
       "  </thead>\n",
       "  <tbody>\n",
       "    <tr>\n",
       "      <th>0</th>\n",
       "      <td>2987000</td>\n",
       "      <td>0</td>\n",
       "      <td>86400</td>\n",
       "      <td>68.500000</td>\n",
       "      <td>W</td>\n",
       "      <td>13926</td>\n",
       "      <td>362.5</td>\n",
       "      <td>150.0</td>\n",
       "      <td>discover</td>\n",
       "      <td>142.0</td>\n",
       "      <td>...</td>\n",
       "      <td>n/d</td>\n",
       "      <td>26.515625</td>\n",
       "      <td>n/d</td>\n",
       "      <td>n/d</td>\n",
       "      <td>n/d</td>\n",
       "      <td>n/d</td>\n",
       "      <td>n/d</td>\n",
       "      <td>n/d</td>\n",
       "      <td>n/d</td>\n",
       "      <td>n/d</td>\n",
       "    </tr>\n",
       "    <tr>\n",
       "      <th>1</th>\n",
       "      <td>2987001</td>\n",
       "      <td>0</td>\n",
       "      <td>86401</td>\n",
       "      <td>29.000000</td>\n",
       "      <td>W</td>\n",
       "      <td>2755</td>\n",
       "      <td>404.0</td>\n",
       "      <td>150.0</td>\n",
       "      <td>mastercard</td>\n",
       "      <td>102.0</td>\n",
       "      <td>...</td>\n",
       "      <td>n/d</td>\n",
       "      <td>26.515625</td>\n",
       "      <td>n/d</td>\n",
       "      <td>n/d</td>\n",
       "      <td>n/d</td>\n",
       "      <td>n/d</td>\n",
       "      <td>n/d</td>\n",
       "      <td>n/d</td>\n",
       "      <td>n/d</td>\n",
       "      <td>n/d</td>\n",
       "    </tr>\n",
       "    <tr>\n",
       "      <th>2</th>\n",
       "      <td>2987002</td>\n",
       "      <td>0</td>\n",
       "      <td>86469</td>\n",
       "      <td>59.000000</td>\n",
       "      <td>W</td>\n",
       "      <td>4663</td>\n",
       "      <td>490.0</td>\n",
       "      <td>150.0</td>\n",
       "      <td>visa</td>\n",
       "      <td>166.0</td>\n",
       "      <td>...</td>\n",
       "      <td>n/d</td>\n",
       "      <td>26.515625</td>\n",
       "      <td>n/d</td>\n",
       "      <td>n/d</td>\n",
       "      <td>n/d</td>\n",
       "      <td>n/d</td>\n",
       "      <td>n/d</td>\n",
       "      <td>n/d</td>\n",
       "      <td>n/d</td>\n",
       "      <td>n/d</td>\n",
       "    </tr>\n",
       "    <tr>\n",
       "      <th>3</th>\n",
       "      <td>2987003</td>\n",
       "      <td>0</td>\n",
       "      <td>86499</td>\n",
       "      <td>50.000000</td>\n",
       "      <td>W</td>\n",
       "      <td>18132</td>\n",
       "      <td>567.0</td>\n",
       "      <td>150.0</td>\n",
       "      <td>mastercard</td>\n",
       "      <td>117.0</td>\n",
       "      <td>...</td>\n",
       "      <td>n/d</td>\n",
       "      <td>26.515625</td>\n",
       "      <td>n/d</td>\n",
       "      <td>n/d</td>\n",
       "      <td>n/d</td>\n",
       "      <td>n/d</td>\n",
       "      <td>n/d</td>\n",
       "      <td>n/d</td>\n",
       "      <td>n/d</td>\n",
       "      <td>n/d</td>\n",
       "    </tr>\n",
       "    <tr>\n",
       "      <th>4</th>\n",
       "      <td>2987004</td>\n",
       "      <td>0</td>\n",
       "      <td>86506</td>\n",
       "      <td>50.000000</td>\n",
       "      <td>H</td>\n",
       "      <td>4497</td>\n",
       "      <td>514.0</td>\n",
       "      <td>150.0</td>\n",
       "      <td>mastercard</td>\n",
       "      <td>102.0</td>\n",
       "      <td>...</td>\n",
       "      <td>samsung browser 6.2</td>\n",
       "      <td>32.000000</td>\n",
       "      <td>2220x1080</td>\n",
       "      <td>match_status:2</td>\n",
       "      <td>T</td>\n",
       "      <td>F</td>\n",
       "      <td>T</td>\n",
       "      <td>T</td>\n",
       "      <td>mobile</td>\n",
       "      <td>SAMSUNG SM-G892A Build/NRD90M</td>\n",
       "    </tr>\n",
       "    <tr>\n",
       "      <th>...</th>\n",
       "      <td>...</td>\n",
       "      <td>...</td>\n",
       "      <td>...</td>\n",
       "      <td>...</td>\n",
       "      <td>...</td>\n",
       "      <td>...</td>\n",
       "      <td>...</td>\n",
       "      <td>...</td>\n",
       "      <td>...</td>\n",
       "      <td>...</td>\n",
       "      <td>...</td>\n",
       "      <td>...</td>\n",
       "      <td>...</td>\n",
       "      <td>...</td>\n",
       "      <td>...</td>\n",
       "      <td>...</td>\n",
       "      <td>...</td>\n",
       "      <td>...</td>\n",
       "      <td>...</td>\n",
       "      <td>...</td>\n",
       "      <td>...</td>\n",
       "    </tr>\n",
       "    <tr>\n",
       "      <th>590535</th>\n",
       "      <td>3577535</td>\n",
       "      <td>0</td>\n",
       "      <td>15811047</td>\n",
       "      <td>49.000000</td>\n",
       "      <td>W</td>\n",
       "      <td>6550</td>\n",
       "      <td>362.5</td>\n",
       "      <td>150.0</td>\n",
       "      <td>visa</td>\n",
       "      <td>226.0</td>\n",
       "      <td>...</td>\n",
       "      <td>n/d</td>\n",
       "      <td>26.515625</td>\n",
       "      <td>n/d</td>\n",
       "      <td>n/d</td>\n",
       "      <td>n/d</td>\n",
       "      <td>n/d</td>\n",
       "      <td>n/d</td>\n",
       "      <td>n/d</td>\n",
       "      <td>n/d</td>\n",
       "      <td>n/d</td>\n",
       "    </tr>\n",
       "    <tr>\n",
       "      <th>590536</th>\n",
       "      <td>3577536</td>\n",
       "      <td>0</td>\n",
       "      <td>15811049</td>\n",
       "      <td>39.500000</td>\n",
       "      <td>W</td>\n",
       "      <td>10444</td>\n",
       "      <td>225.0</td>\n",
       "      <td>150.0</td>\n",
       "      <td>mastercard</td>\n",
       "      <td>224.0</td>\n",
       "      <td>...</td>\n",
       "      <td>n/d</td>\n",
       "      <td>26.515625</td>\n",
       "      <td>n/d</td>\n",
       "      <td>n/d</td>\n",
       "      <td>n/d</td>\n",
       "      <td>n/d</td>\n",
       "      <td>n/d</td>\n",
       "      <td>n/d</td>\n",
       "      <td>n/d</td>\n",
       "      <td>n/d</td>\n",
       "    </tr>\n",
       "    <tr>\n",
       "      <th>590537</th>\n",
       "      <td>3577537</td>\n",
       "      <td>0</td>\n",
       "      <td>15811079</td>\n",
       "      <td>30.953125</td>\n",
       "      <td>W</td>\n",
       "      <td>12037</td>\n",
       "      <td>595.0</td>\n",
       "      <td>150.0</td>\n",
       "      <td>mastercard</td>\n",
       "      <td>224.0</td>\n",
       "      <td>...</td>\n",
       "      <td>n/d</td>\n",
       "      <td>26.515625</td>\n",
       "      <td>n/d</td>\n",
       "      <td>n/d</td>\n",
       "      <td>n/d</td>\n",
       "      <td>n/d</td>\n",
       "      <td>n/d</td>\n",
       "      <td>n/d</td>\n",
       "      <td>n/d</td>\n",
       "      <td>n/d</td>\n",
       "    </tr>\n",
       "    <tr>\n",
       "      <th>590538</th>\n",
       "      <td>3577538</td>\n",
       "      <td>0</td>\n",
       "      <td>15811088</td>\n",
       "      <td>117.000000</td>\n",
       "      <td>W</td>\n",
       "      <td>7826</td>\n",
       "      <td>481.0</td>\n",
       "      <td>150.0</td>\n",
       "      <td>mastercard</td>\n",
       "      <td>224.0</td>\n",
       "      <td>...</td>\n",
       "      <td>n/d</td>\n",
       "      <td>26.515625</td>\n",
       "      <td>n/d</td>\n",
       "      <td>n/d</td>\n",
       "      <td>n/d</td>\n",
       "      <td>n/d</td>\n",
       "      <td>n/d</td>\n",
       "      <td>n/d</td>\n",
       "      <td>n/d</td>\n",
       "      <td>n/d</td>\n",
       "    </tr>\n",
       "    <tr>\n",
       "      <th>590539</th>\n",
       "      <td>3577539</td>\n",
       "      <td>0</td>\n",
       "      <td>15811131</td>\n",
       "      <td>280.000000</td>\n",
       "      <td>W</td>\n",
       "      <td>15066</td>\n",
       "      <td>170.0</td>\n",
       "      <td>150.0</td>\n",
       "      <td>mastercard</td>\n",
       "      <td>102.0</td>\n",
       "      <td>...</td>\n",
       "      <td>n/d</td>\n",
       "      <td>26.515625</td>\n",
       "      <td>n/d</td>\n",
       "      <td>n/d</td>\n",
       "      <td>n/d</td>\n",
       "      <td>n/d</td>\n",
       "      <td>n/d</td>\n",
       "      <td>n/d</td>\n",
       "      <td>n/d</td>\n",
       "      <td>n/d</td>\n",
       "    </tr>\n",
       "  </tbody>\n",
       "</table>\n",
       "<p>590540 rows × 434 columns</p>\n",
       "</div>\n",
       "      <button class=\"colab-df-convert\" onclick=\"convertToInteractive('df-ea57f22b-8799-493b-b0e8-b47e5d358f2a')\"\n",
       "              title=\"Convert this dataframe to an interactive table.\"\n",
       "              style=\"display:none;\">\n",
       "        \n",
       "  <svg xmlns=\"http://www.w3.org/2000/svg\" height=\"24px\"viewBox=\"0 0 24 24\"\n",
       "       width=\"24px\">\n",
       "    <path d=\"M0 0h24v24H0V0z\" fill=\"none\"/>\n",
       "    <path d=\"M18.56 5.44l.94 2.06.94-2.06 2.06-.94-2.06-.94-.94-2.06-.94 2.06-2.06.94zm-11 1L8.5 8.5l.94-2.06 2.06-.94-2.06-.94L8.5 2.5l-.94 2.06-2.06.94zm10 10l.94 2.06.94-2.06 2.06-.94-2.06-.94-.94-2.06-.94 2.06-2.06.94z\"/><path d=\"M17.41 7.96l-1.37-1.37c-.4-.4-.92-.59-1.43-.59-.52 0-1.04.2-1.43.59L10.3 9.45l-7.72 7.72c-.78.78-.78 2.05 0 2.83L4 21.41c.39.39.9.59 1.41.59.51 0 1.02-.2 1.41-.59l7.78-7.78 2.81-2.81c.8-.78.8-2.07 0-2.86zM5.41 20L4 18.59l7.72-7.72 1.47 1.35L5.41 20z\"/>\n",
       "  </svg>\n",
       "      </button>\n",
       "      \n",
       "  <style>\n",
       "    .colab-df-container {\n",
       "      display:flex;\n",
       "      flex-wrap:wrap;\n",
       "      gap: 12px;\n",
       "    }\n",
       "\n",
       "    .colab-df-convert {\n",
       "      background-color: #E8F0FE;\n",
       "      border: none;\n",
       "      border-radius: 50%;\n",
       "      cursor: pointer;\n",
       "      display: none;\n",
       "      fill: #1967D2;\n",
       "      height: 32px;\n",
       "      padding: 0 0 0 0;\n",
       "      width: 32px;\n",
       "    }\n",
       "\n",
       "    .colab-df-convert:hover {\n",
       "      background-color: #E2EBFA;\n",
       "      box-shadow: 0px 1px 2px rgba(60, 64, 67, 0.3), 0px 1px 3px 1px rgba(60, 64, 67, 0.15);\n",
       "      fill: #174EA6;\n",
       "    }\n",
       "\n",
       "    [theme=dark] .colab-df-convert {\n",
       "      background-color: #3B4455;\n",
       "      fill: #D2E3FC;\n",
       "    }\n",
       "\n",
       "    [theme=dark] .colab-df-convert:hover {\n",
       "      background-color: #434B5C;\n",
       "      box-shadow: 0px 1px 3px 1px rgba(0, 0, 0, 0.15);\n",
       "      filter: drop-shadow(0px 1px 2px rgba(0, 0, 0, 0.3));\n",
       "      fill: #FFFFFF;\n",
       "    }\n",
       "  </style>\n",
       "\n",
       "      <script>\n",
       "        const buttonEl =\n",
       "          document.querySelector('#df-ea57f22b-8799-493b-b0e8-b47e5d358f2a button.colab-df-convert');\n",
       "        buttonEl.style.display =\n",
       "          google.colab.kernel.accessAllowed ? 'block' : 'none';\n",
       "\n",
       "        async function convertToInteractive(key) {\n",
       "          const element = document.querySelector('#df-ea57f22b-8799-493b-b0e8-b47e5d358f2a');\n",
       "          const dataTable =\n",
       "            await google.colab.kernel.invokeFunction('convertToInteractive',\n",
       "                                                     [key], {});\n",
       "          if (!dataTable) return;\n",
       "\n",
       "          const docLinkHtml = 'Like what you see? Visit the ' +\n",
       "            '<a target=\"_blank\" href=https://colab.research.google.com/notebooks/data_table.ipynb>data table notebook</a>'\n",
       "            + ' to learn more about interactive tables.';\n",
       "          element.innerHTML = '';\n",
       "          dataTable['output_type'] = 'display_data';\n",
       "          await google.colab.output.renderOutput(dataTable, element);\n",
       "          const docLink = document.createElement('div');\n",
       "          docLink.innerHTML = docLinkHtml;\n",
       "          element.appendChild(docLink);\n",
       "        }\n",
       "      </script>\n",
       "    </div>\n",
       "  </div>\n",
       "  "
      ],
      "text/plain": [
       "        TransactionID  isFraud  TransactionDT  TransactionAmt ProductCD  \\\n",
       "0             2987000        0          86400       68.500000         W   \n",
       "1             2987001        0          86401       29.000000         W   \n",
       "2             2987002        0          86469       59.000000         W   \n",
       "3             2987003        0          86499       50.000000         W   \n",
       "4             2987004        0          86506       50.000000         H   \n",
       "...               ...      ...            ...             ...       ...   \n",
       "590535        3577535        0       15811047       49.000000         W   \n",
       "590536        3577536        0       15811049       39.500000         W   \n",
       "590537        3577537        0       15811079       30.953125         W   \n",
       "590538        3577538        0       15811088      117.000000         W   \n",
       "590539        3577539        0       15811131      280.000000         W   \n",
       "\n",
       "        card1  card2  card3       card4  card5  ...                id_31  \\\n",
       "0       13926  362.5  150.0    discover  142.0  ...                  n/d   \n",
       "1        2755  404.0  150.0  mastercard  102.0  ...                  n/d   \n",
       "2        4663  490.0  150.0        visa  166.0  ...                  n/d   \n",
       "3       18132  567.0  150.0  mastercard  117.0  ...                  n/d   \n",
       "4        4497  514.0  150.0  mastercard  102.0  ...  samsung browser 6.2   \n",
       "...       ...    ...    ...         ...    ...  ...                  ...   \n",
       "590535   6550  362.5  150.0        visa  226.0  ...                  n/d   \n",
       "590536  10444  225.0  150.0  mastercard  224.0  ...                  n/d   \n",
       "590537  12037  595.0  150.0  mastercard  224.0  ...                  n/d   \n",
       "590538   7826  481.0  150.0  mastercard  224.0  ...                  n/d   \n",
       "590539  15066  170.0  150.0  mastercard  102.0  ...                  n/d   \n",
       "\n",
       "            id_32      id_33           id_34  id_35 id_36 id_37  id_38  \\\n",
       "0       26.515625        n/d             n/d    n/d   n/d   n/d    n/d   \n",
       "1       26.515625        n/d             n/d    n/d   n/d   n/d    n/d   \n",
       "2       26.515625        n/d             n/d    n/d   n/d   n/d    n/d   \n",
       "3       26.515625        n/d             n/d    n/d   n/d   n/d    n/d   \n",
       "4       32.000000  2220x1080  match_status:2      T     F     T      T   \n",
       "...           ...        ...             ...    ...   ...   ...    ...   \n",
       "590535  26.515625        n/d             n/d    n/d   n/d   n/d    n/d   \n",
       "590536  26.515625        n/d             n/d    n/d   n/d   n/d    n/d   \n",
       "590537  26.515625        n/d             n/d    n/d   n/d   n/d    n/d   \n",
       "590538  26.515625        n/d             n/d    n/d   n/d   n/d    n/d   \n",
       "590539  26.515625        n/d             n/d    n/d   n/d   n/d    n/d   \n",
       "\n",
       "        DeviceType                     DeviceInfo  \n",
       "0              n/d                            n/d  \n",
       "1              n/d                            n/d  \n",
       "2              n/d                            n/d  \n",
       "3              n/d                            n/d  \n",
       "4           mobile  SAMSUNG SM-G892A Build/NRD90M  \n",
       "...            ...                            ...  \n",
       "590535         n/d                            n/d  \n",
       "590536         n/d                            n/d  \n",
       "590537         n/d                            n/d  \n",
       "590538         n/d                            n/d  \n",
       "590539         n/d                            n/d  \n",
       "\n",
       "[590540 rows x 434 columns]"
      ]
     },
     "execution_count": 8,
     "metadata": {},
     "output_type": "execute_result"
    }
   ],
   "source": [
    "merged"
   ]
  },
  {
   "cell_type": "markdown",
   "metadata": {
    "id": "yigXFvnmFp_E"
   },
   "source": [
    "Выделим отдельно списки числовых столбцов и категориальных"
   ]
  },
  {
   "cell_type": "code",
   "execution_count": null,
   "metadata": {
    "id": "4UHEfL7OYs-s"
   },
   "outputs": [],
   "source": [
    "numeric_col_id=np.where(merged.dtypes != 'category')[0]\n",
    "numeric_col = merged.columns[numeric_col_id].drop(\"isFraud\")"
   ]
  },
  {
   "cell_type": "code",
   "execution_count": null,
   "metadata": {
    "id": "oae61eHKcJQ0"
   },
   "outputs": [],
   "source": [
    "categorical_col_id=np.where(merged.dtypes == 'category')[0]\n",
    "categorical_col=merged.columns[categorical_col_id]"
   ]
  },
  {
   "cell_type": "markdown",
   "metadata": {
    "id": "q4j-pl7_F1Ai"
   },
   "source": [
    "Разделим на тестовую и обучающую выборки"
   ]
  },
  {
   "cell_type": "code",
   "execution_count": null,
   "metadata": {
    "id": "-LHD39Zygmk5"
   },
   "outputs": [],
   "source": [
    "X= merged.drop('isFraud', axis=1)\n",
    "y= merged['isFraud']\n",
    "   \n",
    "X_train, X_test, y_train, y_test = train_test_split(X, y, test_size=0.3, random_state=42)"
   ]
  },
  {
   "cell_type": "code",
   "execution_count": null,
   "metadata": {
    "id": "5HU7biS8gmiZ"
   },
   "outputs": [],
   "source": [
    "X_test.reset_index(drop=True, inplace=True)\n",
    "y_test.reset_index(drop=True, inplace=True)"
   ]
  },
  {
   "cell_type": "markdown",
   "metadata": {
    "id": "sQFaokfe7eGz"
   },
   "source": [
    "##Undersampling"
   ]
  },
  {
   "cell_type": "code",
   "execution_count": null,
   "metadata": {
    "colab": {
     "base_uri": "https://localhost:8080/"
    },
    "id": "lWFU5fHZkMwy",
    "outputId": "717a3ae2-0ca2-40af-adcc-a41602183aa2"
   },
   "outputs": [
    {
     "name": "stdout",
     "output_type": "stream",
     "text": [
      "Разбиение на классы до undersampling: Counter({0: 399056, 1: 14322})\n",
      "Разбиение на классы после: Counter({0: 14322, 1: 14322})\n"
     ]
    }
   ],
   "source": [
    "und=RandomUnderSampler(random_state=42)\n",
    "\n",
    "X_und, y_und = und.fit_resample(X_train, y_train)\n",
    "\n",
    "print(f'Разбиение на классы до undersampling: {Counter(y_train)}')\n",
    "print(f'Разбиение на классы после: {Counter(y_und)}')"
   ]
  },
  {
   "cell_type": "markdown",
   "metadata": {
    "id": "xnPWs-IY7q73"
   },
   "source": [
    "##LogisticRegression"
   ]
  },
  {
   "cell_type": "code",
   "execution_count": null,
   "metadata": {
    "id": "ETrbG1fnkMt6"
   },
   "outputs": [],
   "source": [
    "pipe_lr_rs = Pipeline([\n",
    "    ('encoder', LeaveOneOutEncoder(cols=categorical_col)),\n",
    "    ('scaler', StandardScaler()),\n",
    "    ('selector', SelectFromModel(LogisticRegression(penalty='l1', max_iter=5000, class_weight='balanced',  solver='liblinear'), threshold=0.1)), \n",
    "    ('model', LogisticRegression(max_iter=6000, class_weight='balanced'))])"
   ]
  },
  {
   "cell_type": "code",
   "execution_count": null,
   "metadata": {
    "colab": {
     "background_save": true,
     "base_uri": "https://localhost:8080/"
    },
    "id": "pT6JBo4wEN8w",
    "outputId": "70c7585b-da72-403d-ab60-bac58c9a00c7"
   },
   "outputs": [
    {
     "name": "stderr",
     "output_type": "stream",
     "text": [
      "\u001b[32m[I 2022-12-23 09:04:30,614]\u001b[0m A new study created in memory with name: no-name-ad770f77-3761-46e4-8c6e-f21687806bd7\u001b[0m\n",
      "\u001b[32m[I 2022-12-23 09:07:22,604]\u001b[0m Trial 0 finished with value: 0.7871994722846786 and parameters: {'classifier': 'LogReg', 'logreg_c': 2.445151333099112e-07, 'logreg_sigma': 54.524213274784856}. Best is trial 0 with value: 0.7871994722846786.\u001b[0m\n",
      "\u001b[32m[I 2022-12-23 09:10:15,181]\u001b[0m Trial 1 finished with value: 0.8377024995806838 and parameters: {'classifier': 'LogReg', 'logreg_c': 0.0033218634003296206, 'logreg_sigma': 61.07223982410067}. Best is trial 1 with value: 0.8377024995806838.\u001b[0m\n",
      "\u001b[32m[I 2022-12-23 09:13:26,194]\u001b[0m Trial 2 finished with value: 0.7878242928650377 and parameters: {'classifier': 'LogReg', 'logreg_c': 2.255027701617845e-10, 'logreg_sigma': 57.69540313416346}. Best is trial 1 with value: 0.8377024995806838.\u001b[0m\n",
      "\u001b[32m[I 2022-12-23 09:15:54,589]\u001b[0m Trial 3 finished with value: 0.8331164209476843 and parameters: {'classifier': 'LogReg', 'logreg_c': 0.0012715186407280294, 'logreg_sigma': 56.53714087939524}. Best is trial 1 with value: 0.8377024995806838.\u001b[0m\n",
      "\u001b[32m[I 2022-12-23 09:18:04,153]\u001b[0m Trial 4 finished with value: 0.8472862068176742 and parameters: {'classifier': 'LogReg', 'logreg_c': 3.364273604826667, 'logreg_sigma': 57.99500271660426}. Best is trial 4 with value: 0.8472862068176742.\u001b[0m\n",
      "\u001b[32m[I 2022-12-23 09:20:49,454]\u001b[0m Trial 5 finished with value: 0.8473873721451325 and parameters: {'classifier': 'LogReg', 'logreg_c': 3.2238284078547483, 'logreg_sigma': 57.055873331496564}. Best is trial 5 with value: 0.8473873721451325.\u001b[0m\n",
      "\u001b[32m[I 2022-12-23 09:23:00,709]\u001b[0m Trial 6 finished with value: 0.7907041334950574 and parameters: {'classifier': 'LogReg', 'logreg_c': 2.658585732691588e-06, 'logreg_sigma': 50.1201438905027}. Best is trial 5 with value: 0.8473873721451325.\u001b[0m\n",
      "\u001b[32m[I 2022-12-23 09:25:21,753]\u001b[0m Trial 7 finished with value: 0.7982405189352768 and parameters: {'classifier': 'LogReg', 'logreg_c': 1.6239802973359386e-05, 'logreg_sigma': 57.06412248328439}. Best is trial 5 with value: 0.8473873721451325.\u001b[0m\n",
      "\u001b[32m[I 2022-12-23 09:27:39,181]\u001b[0m Trial 8 finished with value: 0.8476399856388235 and parameters: {'classifier': 'LogReg', 'logreg_c': 8.656333128351887, 'logreg_sigma': 69.77097100029698}. Best is trial 8 with value: 0.8476399856388235.\u001b[0m\n",
      "\u001b[32m[I 2022-12-23 09:30:06,413]\u001b[0m Trial 9 finished with value: 0.8095575800516541 and parameters: {'classifier': 'LogReg', 'logreg_c': 8.023350939979303e-05, 'logreg_sigma': 49.72894990370319}. Best is trial 8 with value: 0.8476399856388235.\u001b[0m\n",
      "\u001b[32m[I 2022-12-23 09:33:23,907]\u001b[0m Trial 10 finished with value: 0.8446336627546677 and parameters: {'classifier': 'LogReg', 'logreg_c': 0.16068079708242808, 'logreg_sigma': 41.31716359951489}. Best is trial 8 with value: 0.8476399856388235.\u001b[0m\n",
      "\u001b[32m[I 2022-12-23 09:36:23,342]\u001b[0m Trial 11 finished with value: 0.8478940031908394 and parameters: {'classifier': 'LogReg', 'logreg_c': 67.55539144056269, 'logreg_sigma': 69.23664917752433}. Best is trial 11 with value: 0.8478940031908394.\u001b[0m\n",
      "\u001b[32m[I 2022-12-23 09:39:20,002]\u001b[0m Trial 12 finished with value: 0.8478892644939918 and parameters: {'classifier': 'LogReg', 'logreg_c': 99.10046789533642, 'logreg_sigma': 69.18336963491723}. Best is trial 11 with value: 0.8478940031908394.\u001b[0m\n",
      "\u001b[32m[I 2022-12-23 09:42:52,421]\u001b[0m Trial 13 finished with value: 0.8478555963454001 and parameters: {'classifier': 'LogReg', 'logreg_c': 38.184084522462136, 'logreg_sigma': 69.78532780897133}. Best is trial 11 with value: 0.8478940031908394.\u001b[0m\n",
      "\u001b[32m[I 2022-12-23 09:45:18,095]\u001b[0m Trial 14 finished with value: 0.8446638500086614 and parameters: {'classifier': 'LogReg', 'logreg_c': 0.16746294682595061, 'logreg_sigma': 64.18443926938002}. Best is trial 11 with value: 0.8478940031908394.\u001b[0m\n",
      "\u001b[32m[I 2022-12-23 09:48:26,340]\u001b[0m Trial 15 finished with value: 0.8480614663973448 and parameters: {'classifier': 'LogReg', 'logreg_c': 82.31016658568743, 'logreg_sigma': 63.957771118553296}. Best is trial 15 with value: 0.8480614663973448.\u001b[0m\n",
      "\u001b[32m[I 2022-12-23 09:51:52,783]\u001b[0m Trial 16 finished with value: 0.8438165446861746 and parameters: {'classifier': 'LogReg', 'logreg_c': 0.06620712470163267, 'logreg_sigma': 64.60676526267912}. Best is trial 15 with value: 0.8480614663973448.\u001b[0m\n",
      "\u001b[32m[I 2022-12-23 09:54:17,584]\u001b[0m Trial 17 finished with value: 0.7880515309296205 and parameters: {'classifier': 'LogReg', 'logreg_c': 1.026857943626269e-07, 'logreg_sigma': 63.34466635113494}. Best is trial 15 with value: 0.8480614663973448.\u001b[0m\n",
      "\u001b[32m[I 2022-12-23 09:58:26,735]\u001b[0m Trial 18 finished with value: 0.8393666012082974 and parameters: {'classifier': 'LogReg', 'logreg_c': 0.005031638213265946, 'logreg_sigma': 43.90402084531177}. Best is trial 15 with value: 0.8480614663973448.\u001b[0m\n",
      "\u001b[32m[I 2022-12-23 10:01:24,418]\u001b[0m Trial 19 finished with value: 0.845689017344625 and parameters: {'classifier': 'LogReg', 'logreg_c': 0.48770757965665246, 'logreg_sigma': 51.06082280849301}. Best is trial 15 with value: 0.8480614663973448.\u001b[0m\n",
      "\u001b[32m[I 2022-12-23 10:03:24,276]\u001b[0m Trial 20 finished with value: 0.8421266434868339 and parameters: {'classifier': 'LogReg', 'logreg_c': 0.01914788170046664, 'logreg_sigma': 46.17938016904308}. Best is trial 15 with value: 0.8480614663973448.\u001b[0m\n",
      "\u001b[32m[I 2022-12-23 10:05:44,976]\u001b[0m Trial 21 finished with value: 0.8478760868215846 and parameters: {'classifier': 'LogReg', 'logreg_c': 54.11966902783667, 'logreg_sigma': 67.45570038135041}. Best is trial 15 with value: 0.8480614663973448.\u001b[0m\n",
      "\u001b[32m[I 2022-12-23 10:08:01,882]\u001b[0m Trial 22 finished with value: 0.8478952609930893 and parameters: {'classifier': 'LogReg', 'logreg_c': 24.49602183783777, 'logreg_sigma': 66.58289006784085}. Best is trial 15 with value: 0.8480614663973448.\u001b[0m\n",
      "\u001b[32m[I 2022-12-23 10:10:43,024]\u001b[0m Trial 23 finished with value: 0.8471295373095447 and parameters: {'classifier': 'LogReg', 'logreg_c': 2.2742568652382773, 'logreg_sigma': 61.831502848061994}. Best is trial 15 with value: 0.8480614663973448.\u001b[0m\n",
      "\u001b[32m[I 2022-12-23 10:13:26,220]\u001b[0m Trial 24 finished with value: 0.8477258964576017 and parameters: {'classifier': 'LogReg', 'logreg_c': 8.178350656652874, 'logreg_sigma': 66.54301497257298}. Best is trial 15 with value: 0.8480614663973448.\u001b[0m\n",
      "\u001b[32m[I 2022-12-23 10:15:53,998]\u001b[0m Trial 25 finished with value: 0.8478680427374293 and parameters: {'classifier': 'LogReg', 'logreg_c': 91.68277443870087, 'logreg_sigma': 61.62727757922199}. Best is trial 15 with value: 0.8480614663973448.\u001b[0m\n",
      "\u001b[32m[I 2022-12-23 10:19:39,403]\u001b[0m Trial 26 finished with value: 0.8461475447670835 and parameters: {'classifier': 'LogReg', 'logreg_c': 0.8199168091517909, 'logreg_sigma': 66.3101617414237}. Best is trial 15 with value: 0.8480614663973448.\u001b[0m\n",
      "\u001b[32m[I 2022-12-23 10:21:57,202]\u001b[0m Trial 27 finished with value: 0.8476033046150754 and parameters: {'classifier': 'LogReg', 'logreg_c': 12.439900070627345, 'logreg_sigma': 60.18773249281019}. Best is trial 15 with value: 0.8480614663973448.\u001b[0m\n",
      "\u001b[32m[I 2022-12-23 10:23:54,107]\u001b[0m Trial 28 finished with value: 0.829349990613285 and parameters: {'classifier': 'LogReg', 'logreg_c': 0.0007495867264153004, 'logreg_sigma': 65.6231342908097}. Best is trial 15 with value: 0.8480614663973448.\u001b[0m\n",
      "\u001b[32m[I 2022-12-23 10:27:34,332]\u001b[0m Trial 29 finished with value: 0.7866903987625098 and parameters: {'classifier': 'LogReg', 'logreg_c': 5.790824817465814e-09, 'logreg_sigma': 53.9921741283716}. Best is trial 15 with value: 0.8480614663973448.\u001b[0m\n",
      "\u001b[32m[I 2022-12-23 10:29:32,249]\u001b[0m Trial 30 finished with value: 0.8429965892498158 and parameters: {'classifier': 'LogReg', 'logreg_c': 0.02919809566310023, 'logreg_sigma': 59.395239526759404}. Best is trial 15 with value: 0.8480614663973448.\u001b[0m\n",
      "\u001b[32m[I 2022-12-23 10:33:10,912]\u001b[0m Trial 31 finished with value: 0.8480098818794982 and parameters: {'classifier': 'LogReg', 'logreg_c': 98.32387773225142, 'logreg_sigma': 68.6042531535533}. Best is trial 15 with value: 0.8480614663973448.\u001b[0m\n",
      "\u001b[32m[I 2022-12-23 10:36:37,955]\u001b[0m Trial 32 finished with value: 0.8480431990135088 and parameters: {'classifier': 'LogReg', 'logreg_c': 23.72544647841967, 'logreg_sigma': 67.52052690749402}. Best is trial 15 with value: 0.8480614663973448.\u001b[0m\n",
      "\u001b[32m[I 2022-12-23 10:38:47,725]\u001b[0m Trial 33 finished with value: 0.8461551208317969 and parameters: {'classifier': 'LogReg', 'logreg_c': 0.772557328296589, 'logreg_sigma': 63.03800540314261}. Best is trial 15 with value: 0.8480614663973448.\u001b[0m\n",
      "\u001b[32m[I 2022-12-23 10:41:30,899]\u001b[0m Trial 34 finished with value: 0.8479088920593306 and parameters: {'classifier': 'LogReg', 'logreg_c': 13.745174743452921, 'logreg_sigma': 67.08305556371984}. Best is trial 15 with value: 0.8480614663973448.\u001b[0m\n",
      "\u001b[32m[I 2022-12-23 10:44:50,987]\u001b[0m Trial 35 finished with value: 0.8472210789872316 and parameters: {'classifier': 'LogReg', 'logreg_c': 1.873978366546547, 'logreg_sigma': 67.8741752141667}. Best is trial 15 with value: 0.8480614663973448.\u001b[0m\n",
      "\u001b[32m[I 2022-12-23 10:49:35,533]\u001b[0m Trial 36 finished with value: 0.847839157162508 and parameters: {'classifier': 'LogReg', 'logreg_c': 9.281887263742215, 'logreg_sigma': 64.25240354658881}. Best is trial 15 with value: 0.8480614663973448.\u001b[0m\n",
      "\u001b[32m[I 2022-12-23 10:52:57,083]\u001b[0m Trial 37 finished with value: 0.8448871537848118 and parameters: {'classifier': 'LogReg', 'logreg_c': 0.24732562551708914, 'logreg_sigma': 58.76479848285656}. Best is trial 15 with value: 0.8480614663973448.\u001b[0m\n",
      "\u001b[32m[I 2022-12-23 10:54:54,929]\u001b[0m Trial 38 finished with value: 0.786808690676415 and parameters: {'classifier': 'LogReg', 'logreg_c': 3.610342045213323e-10, 'logreg_sigma': 61.91247775733051}. Best is trial 15 with value: 0.8480614663973448.\u001b[0m\n",
      "\u001b[32m[I 2022-12-23 10:57:47,217]\u001b[0m Trial 39 finished with value: 0.8473534553612124 and parameters: {'classifier': 'LogReg', 'logreg_c': 3.820227812038544, 'logreg_sigma': 67.60700585273466}. Best is trial 15 with value: 0.8480614663973448.\u001b[0m\n",
      "\u001b[32m[I 2022-12-23 11:00:38,746]\u001b[0m Trial 40 finished with value: 0.8477841648781012 and parameters: {'classifier': 'LogReg', 'logreg_c': 18.676056218137415, 'logreg_sigma': 55.70645637115279}. Best is trial 15 with value: 0.8480614663973448.\u001b[0m\n",
      "\u001b[32m[I 2022-12-23 11:02:57,474]\u001b[0m Trial 41 finished with value: 0.8477825560612701 and parameters: {'classifier': 'LogReg', 'logreg_c': 20.005629725293115, 'logreg_sigma': 65.42723455959465}. Best is trial 15 with value: 0.8480614663973448.\u001b[0m\n",
      "\u001b[32m[I 2022-12-23 11:05:46,945]\u001b[0m Trial 42 finished with value: 0.8469539276396311 and parameters: {'classifier': 'LogReg', 'logreg_c': 2.4870493392532516, 'logreg_sigma': 67.89234650663604}. Best is trial 15 with value: 0.8480614663973448.\u001b[0m\n",
      "\u001b[32m[I 2022-12-23 11:07:54,883]\u001b[0m Trial 43 finished with value: 0.8477861247095134 and parameters: {'classifier': 'LogReg', 'logreg_c': 18.760757025983235, 'logreg_sigma': 65.79934386041639}. Best is trial 15 with value: 0.8480614663973448.\u001b[0m\n",
      "\u001b[32m[I 2022-12-23 11:11:53,034]\u001b[0m Trial 44 finished with value: 0.8479868319219914 and parameters: {'classifier': 'LogReg', 'logreg_c': 95.65023494208148, 'logreg_sigma': 62.61474439477941}. Best is trial 15 with value: 0.8480614663973448.\u001b[0m\n",
      "\u001b[32m[I 2022-12-23 11:13:40,253]\u001b[0m Trial 45 finished with value: 0.7911132409895872 and parameters: {'classifier': 'LogReg', 'logreg_c': 3.5963176548431273e-06, 'logreg_sigma': 60.31446263006294}. Best is trial 15 with value: 0.8480614663973448.\u001b[0m\n",
      "\u001b[32m[I 2022-12-23 11:16:41,801]\u001b[0m Trial 46 finished with value: 0.8477892107127077 and parameters: {'classifier': 'LogReg', 'logreg_c': 98.37595736468437, 'logreg_sigma': 62.86143354988614}. Best is trial 15 with value: 0.8480614663973448.\u001b[0m\n",
      "\u001b[32m[I 2022-12-23 11:19:14,694]\u001b[0m Trial 47 finished with value: 0.8475057079358604 and parameters: {'classifier': 'LogReg', 'logreg_c': 7.27860154745526, 'logreg_sigma': 69.15818842503943}. Best is trial 15 with value: 0.8480614663973448.\u001b[0m\n",
      "\u001b[32m[I 2022-12-23 11:21:14,522]\u001b[0m Trial 48 finished with value: 0.8465808430165094 and parameters: {'classifier': 'LogReg', 'logreg_c': 1.1791902288090703, 'logreg_sigma': 63.87304708097071}. Best is trial 15 with value: 0.8480614663973448.\u001b[0m\n",
      "\u001b[32m[I 2022-12-23 11:23:55,919]\u001b[0m Trial 49 finished with value: 0.828764937059868 and parameters: {'classifier': 'LogReg', 'logreg_c': 0.0007341210233447691, 'logreg_sigma': 58.082885616815375}. Best is trial 15 with value: 0.8480614663973448.\u001b[0m\n",
      "\u001b[32m[I 2022-12-23 11:26:40,478]\u001b[0m Trial 50 finished with value: 0.8439206790119664 and parameters: {'classifier': 'LogReg', 'logreg_c': 0.07786082924892958, 'logreg_sigma': 56.24327907077015}. Best is trial 15 with value: 0.8480614663973448.\u001b[0m\n",
      "\u001b[32m[I 2022-12-23 11:28:54,833]\u001b[0m Trial 51 finished with value: 0.8477212455143994 and parameters: {'classifier': 'LogReg', 'logreg_c': 23.75608025982452, 'logreg_sigma': 69.87203247743749}. Best is trial 15 with value: 0.8480614663973448.\u001b[0m\n",
      "\u001b[32m[I 2022-12-23 11:31:07,881]\u001b[0m Trial 52 finished with value: 0.8479814935752339 and parameters: {'classifier': 'LogReg', 'logreg_c': 40.66180780145238, 'logreg_sigma': 67.17340755681951}. Best is trial 15 with value: 0.8480614663973448.\u001b[0m\n",
      "\u001b[32m[I 2022-12-23 11:33:59,044]\u001b[0m Trial 53 finished with value: 0.8478867781407073 and parameters: {'classifier': 'LogReg', 'logreg_c': 48.924602709786825, 'logreg_sigma': 68.27238732603445}. Best is trial 15 with value: 0.8480614663973448.\u001b[0m\n",
      "\u001b[32m[I 2022-12-23 11:36:11,310]\u001b[0m Trial 54 finished with value: 0.8474962159165574 and parameters: {'classifier': 'LogReg', 'logreg_c': 6.393478018882234, 'logreg_sigma': 64.79495271081272}. Best is trial 15 with value: 0.8480614663973448.\u001b[0m\n",
      "\u001b[32m[I 2022-12-23 11:39:06,312]\u001b[0m Trial 55 finished with value: 0.8478299869065711 and parameters: {'classifier': 'LogReg', 'logreg_c': 91.8222980715786, 'logreg_sigma': 62.83251327253849}. Best is trial 15 with value: 0.8480614663973448.\u001b[0m\n",
      "\u001b[32m[I 2022-12-23 11:41:36,360]\u001b[0m Trial 56 finished with value: 0.8452990547703846 and parameters: {'classifier': 'LogReg', 'logreg_c': 0.36963990079198933, 'logreg_sigma': 52.00344382717636}. Best is trial 15 with value: 0.8480614663973448.\u001b[0m\n",
      "\u001b[32m[I 2022-12-23 11:44:09,946]\u001b[0m Trial 57 finished with value: 0.8481111057093867 and parameters: {'classifier': 'LogReg', 'logreg_c': 35.01367760186625, 'logreg_sigma': 66.73201362115425}. Best is trial 57 with value: 0.8481111057093867.\u001b[0m\n",
      "\u001b[32m[I 2022-12-23 11:47:27,304]\u001b[0m Trial 58 finished with value: 0.8479620415171857 and parameters: {'classifier': 'LogReg', 'logreg_c': 42.83565134752023, 'logreg_sigma': 68.82410541208478}. Best is trial 57 with value: 0.8481111057093867.\u001b[0m\n",
      "\u001b[32m[I 2022-12-23 11:50:20,733]\u001b[0m Trial 59 finished with value: 0.8471862992924657 and parameters: {'classifier': 'LogReg', 'logreg_c': 3.242035837581567, 'logreg_sigma': 46.43639319187402}. Best is trial 57 with value: 0.8481111057093867.\u001b[0m\n",
      "\u001b[32m[I 2022-12-23 11:52:57,234]\u001b[0m Trial 60 finished with value: 0.8032993557068858 and parameters: {'classifier': 'LogReg', 'logreg_c': 3.82229285105951e-05, 'logreg_sigma': 65.05849761397947}. Best is trial 57 with value: 0.8481111057093867.\u001b[0m\n",
      "\u001b[32m[I 2022-12-23 11:56:05,458]\u001b[0m Trial 61 finished with value: 0.8477714844763509 and parameters: {'classifier': 'LogReg', 'logreg_c': 31.904213131228357, 'logreg_sigma': 68.79369459801893}. Best is trial 57 with value: 0.8481111057093867.\u001b[0m\n",
      "\u001b[32m[I 2022-12-23 11:59:41,279]\u001b[0m Trial 62 finished with value: 0.8478695930518301 and parameters: {'classifier': 'LogReg', 'logreg_c': 39.41581161779901, 'logreg_sigma': 66.99227004396647}. Best is trial 57 with value: 0.8481111057093867.\u001b[0m\n",
      "\u001b[32m[I 2022-12-23 12:01:48,066]\u001b[0m Trial 63 finished with value: 0.8474319071201378 and parameters: {'classifier': 'LogReg', 'logreg_c': 5.293309120280382, 'logreg_sigma': 66.11328298787825}. Best is trial 57 with value: 0.8481111057093867.\u001b[0m\n",
      "\u001b[32m[I 2022-12-23 12:05:23,332]\u001b[0m Trial 64 finished with value: 0.848030401606898 and parameters: {'classifier': 'LogReg', 'logreg_c': 49.68532412258539, 'logreg_sigma': 69.76841934086401}. Best is trial 57 with value: 0.8481111057093867.\u001b[0m\n",
      "\u001b[32m[I 2022-12-23 12:08:38,639]\u001b[0m Trial 65 finished with value: 0.8477979860772407 and parameters: {'classifier': 'LogReg', 'logreg_c': 94.15171288567238, 'logreg_sigma': 69.92998020305593}. Best is trial 57 with value: 0.8481111057093867.\u001b[0m\n",
      "\u001b[32m[I 2022-12-23 12:10:39,412]\u001b[0m Trial 66 finished with value: 0.8464568763668728 and parameters: {'classifier': 'LogReg', 'logreg_c': 1.497166935878588, 'logreg_sigma': 64.02229869798467}. Best is trial 57 with value: 0.8481111057093867.\u001b[0m\n",
      "\u001b[32m[I 2022-12-23 12:12:49,237]\u001b[0m Trial 67 finished with value: 0.847832092994059 and parameters: {'classifier': 'LogReg', 'logreg_c': 10.836795809365642, 'logreg_sigma': 60.87717309859364}. Best is trial 57 with value: 0.8481111057093867.\u001b[0m\n",
      "\u001b[32m[I 2022-12-23 12:16:29,415]\u001b[0m Trial 68 finished with value: 0.8479465676243926 and parameters: {'classifier': 'LogReg', 'logreg_c': 39.15054601271507, 'logreg_sigma': 48.468533471459104}. Best is trial 57 with value: 0.8481111057093867.\u001b[0m\n",
      "\u001b[32m[I 2022-12-23 12:19:14,920]\u001b[0m Trial 69 finished with value: 0.8461612197101473 and parameters: {'classifier': 'LogReg', 'logreg_c': 0.6313151048190336, 'logreg_sigma': 41.531141859584835}. Best is trial 57 with value: 0.8481111057093867.\u001b[0m\n",
      "\u001b[32m[I 2022-12-23 12:21:58,764]\u001b[0m Trial 70 finished with value: 0.7873682664214713 and parameters: {'classifier': 'LogReg', 'logreg_c': 5.6024323133264104e-08, 'logreg_sigma': 66.89843003260947}. Best is trial 57 with value: 0.8481111057093867.\u001b[0m\n",
      "\u001b[32m[I 2022-12-23 12:25:35,359]\u001b[0m Trial 71 finished with value: 0.8483261752684838 and parameters: {'classifier': 'LogReg', 'logreg_c': 47.302996633472, 'logreg_sigma': 68.3562567234045}. Best is trial 71 with value: 0.8483261752684838.\u001b[0m\n",
      "\u001b[32m[I 2022-12-23 12:27:46,932]\u001b[0m Trial 72 finished with value: 0.8473525046967213 and parameters: {'classifier': 'LogReg', 'logreg_c': 4.926507377688423, 'logreg_sigma': 67.75544258645724}. Best is trial 71 with value: 0.8483261752684838.\u001b[0m\n",
      "\u001b[32m[I 2022-12-23 12:30:43,835]\u001b[0m Trial 73 finished with value: 0.847788801195696 and parameters: {'classifier': 'LogReg', 'logreg_c': 16.417791337651945, 'logreg_sigma': 65.07182549636015}. Best is trial 71 with value: 0.8483261752684838.\u001b[0m\n",
      "\u001b[32m[I 2022-12-23 12:33:01,110]\u001b[0m Trial 74 finished with value: 0.8479648350082286 and parameters: {'classifier': 'LogReg', 'logreg_c': 38.23674407685742, 'logreg_sigma': 68.59601176401503}. Best is trial 71 with value: 0.8483261752684838.\u001b[0m\n",
      "\u001b[32m[I 2022-12-23 12:35:17,496]\u001b[0m Trial 75 finished with value: 0.8477496191930562 and parameters: {'classifier': 'LogReg', 'logreg_c': 10.419511130177597, 'logreg_sigma': 66.26479650099641}. Best is trial 71 with value: 0.8483261752684838.\u001b[0m\n",
      "\u001b[32m[I 2022-12-23 12:38:27,019]\u001b[0m Trial 76 finished with value: 0.8480173409393513 and parameters: {'classifier': 'LogReg', 'logreg_c': 60.97875529076805, 'logreg_sigma': 69.8737530476618}. Best is trial 71 with value: 0.8483261752684838.\u001b[0m\n",
      "\u001b[32m[I 2022-12-23 12:41:40,426]\u001b[0m Trial 77 finished with value: 0.847785349552313 and parameters: {'classifier': 'LogReg', 'logreg_c': 90.15968614819307, 'logreg_sigma': 69.98720543320316}. Best is trial 71 with value: 0.8483261752684838.\u001b[0m\n",
      "\u001b[32m[I 2022-12-23 12:44:20,994]\u001b[0m Trial 78 finished with value: 0.8473256520812503 and parameters: {'classifier': 'LogReg', 'logreg_c': 3.864186948635783, 'logreg_sigma': 68.4835809492949}. Best is trial 71 with value: 0.8483261752684838.\u001b[0m\n",
      "\u001b[32m[I 2022-12-23 12:47:02,679]\u001b[0m Trial 79 finished with value: 0.8480046020351709 and parameters: {'classifier': 'LogReg', 'logreg_c': 19.774152593687422, 'logreg_sigma': 62.20030601691621}. Best is trial 71 with value: 0.8483261752684838.\u001b[0m\n",
      "\u001b[32m[I 2022-12-23 12:49:38,938]\u001b[0m Trial 80 finished with value: 0.846959587749755 and parameters: {'classifier': 'LogReg', 'logreg_c': 1.9697035985982985, 'logreg_sigma': 65.75163901921064}. Best is trial 71 with value: 0.8483261752684838.\u001b[0m\n",
      "\u001b[32m[I 2022-12-23 12:52:46,113]\u001b[0m Trial 81 finished with value: 0.8478965626721617 and parameters: {'classifier': 'LogReg', 'logreg_c': 18.95062065781554, 'logreg_sigma': 62.223131129114236}. Best is trial 71 with value: 0.8483261752684838.\u001b[0m\n",
      "\u001b[32m[I 2022-12-23 12:56:44,051]\u001b[0m Trial 82 finished with value: 0.847720631238882 and parameters: {'classifier': 'LogReg', 'logreg_c': 11.49554572611485, 'logreg_sigma': 63.562769975808784}. Best is trial 71 with value: 0.8483261752684838.\u001b[0m\n",
      "\u001b[32m[I 2022-12-23 12:59:38,796]\u001b[0m Trial 83 finished with value: 0.8479237955534291 and parameters: {'classifier': 'LogReg', 'logreg_c': 60.21350967492858, 'logreg_sigma': 64.60702901339343}. Best is trial 71 with value: 0.8483261752684838.\u001b[0m\n",
      "\u001b[32m[I 2022-12-23 13:02:47,489]\u001b[0m Trial 84 finished with value: 0.8480239078371437 and parameters: {'classifier': 'LogReg', 'logreg_c': 23.916068777982854, 'logreg_sigma': 67.71382519753145}. Best is trial 71 with value: 0.8483261752684838.\u001b[0m\n",
      "\u001b[32m[I 2022-12-23 13:05:06,731]\u001b[0m Trial 85 finished with value: 0.8478720647795069 and parameters: {'classifier': 'LogReg', 'logreg_c': 24.64842393744834, 'logreg_sigma': 68.02036960684693}. Best is trial 71 with value: 0.8483261752684838.\u001b[0m\n",
      "\u001b[32m[I 2022-12-23 13:07:45,038]\u001b[0m Trial 86 finished with value: 0.8384437838740041 and parameters: {'classifier': 'LogReg', 'logreg_c': 0.004354138763710196, 'logreg_sigma': 69.074063809116}. Best is trial 71 with value: 0.8483261752684838.\u001b[0m\n",
      "\u001b[32m[I 2022-12-23 13:10:57,592]\u001b[0m Trial 87 finished with value: 0.8475647076367375 and parameters: {'classifier': 'LogReg', 'logreg_c': 7.3843883383956825, 'logreg_sigma': 66.67555171000534}. Best is trial 71 with value: 0.8483261752684838.\u001b[0m\n",
      "\u001b[32m[I 2022-12-23 13:13:38,144]\u001b[0m Trial 88 finished with value: 0.8482761410650378 and parameters: {'classifier': 'LogReg', 'logreg_c': 18.80374097003469, 'logreg_sigma': 67.15996725791945}. Best is trial 71 with value: 0.8483261752684838.\u001b[0m\n",
      "\u001b[32m[I 2022-12-23 13:15:48,052]\u001b[0m Trial 89 finished with value: 0.8464805259742892 and parameters: {'classifier': 'LogReg', 'logreg_c': 1.1591714222607086, 'logreg_sigma': 67.37761725908052}. Best is trial 71 with value: 0.8483261752684838.\u001b[0m\n",
      "\u001b[32m[I 2022-12-23 13:18:12,612]\u001b[0m Trial 90 finished with value: 0.8474176910295942 and parameters: {'classifier': 'LogReg', 'logreg_c': 3.120049744179374, 'logreg_sigma': 69.06661554145074}. Best is trial 71 with value: 0.8483261752684838.\u001b[0m\n",
      "\u001b[32m[I 2022-12-23 13:20:54,301]\u001b[0m Trial 91 finished with value: 0.8478731178232509 and parameters: {'classifier': 'LogReg', 'logreg_c': 23.326701430599744, 'logreg_sigma': 66.04519400695067}. Best is trial 71 with value: 0.8483261752684838.\u001b[0m\n",
      "\u001b[32m[I 2022-12-23 13:24:00,870]\u001b[0m Trial 92 finished with value: 0.8476295575806367 and parameters: {'classifier': 'LogReg', 'logreg_c': 12.396604670773787, 'logreg_sigma': 67.93371574665606}. Best is trial 71 with value: 0.8483261752684838.\u001b[0m\n",
      "\u001b[32m[I 2022-12-23 13:27:53,604]\u001b[0m Trial 93 finished with value: 0.8479202561564009 and parameters: {'classifier': 'LogReg', 'logreg_c': 56.47676423192713, 'logreg_sigma': 65.2807319030621}. Best is trial 71 with value: 0.8483261752684838.\u001b[0m\n",
      "\u001b[32m[I 2022-12-23 13:31:54,142]\u001b[0m Trial 94 finished with value: 0.8477958214873226 and parameters: {'classifier': 'LogReg', 'logreg_c': 6.376076483415911, 'logreg_sigma': 69.92498244889003}. Best is trial 71 with value: 0.8483261752684838.\u001b[0m\n",
      "\u001b[32m[I 2022-12-23 13:34:28,284]\u001b[0m Trial 95 finished with value: 0.8476363146113272 and parameters: {'classifier': 'LogReg', 'logreg_c': 27.22280986011825, 'logreg_sigma': 66.47729158356542}. Best is trial 71 with value: 0.8483261752684838.\u001b[0m\n",
      "\u001b[32m[I 2022-12-23 13:36:45,305]\u001b[0m Trial 96 finished with value: 0.8200814359678908 and parameters: {'classifier': 'LogReg', 'logreg_c': 0.00025486449268057417, 'logreg_sigma': 67.3653748133919}. Best is trial 71 with value: 0.8483261752684838.\u001b[0m\n",
      "\u001b[32m[I 2022-12-23 13:39:38,824]\u001b[0m Trial 97 finished with value: 0.848006474112938 and parameters: {'classifier': 'LogReg', 'logreg_c': 55.734603824727984, 'logreg_sigma': 64.34237265664352}. Best is trial 71 with value: 0.8483261752684838.\u001b[0m\n",
      "\u001b[32m[I 2022-12-23 13:42:20,124]\u001b[0m Trial 98 finished with value: 0.8479758627163251 and parameters: {'classifier': 'LogReg', 'logreg_c': 52.46324545721148, 'logreg_sigma': 63.55015977114589}. Best is trial 71 with value: 0.8483261752684838.\u001b[0m\n",
      "\u001b[32m[I 2022-12-23 13:46:11,789]\u001b[0m Trial 99 finished with value: 0.7884309045639911 and parameters: {'classifier': 'LogReg', 'logreg_c': 9.472375357636164e-07, 'logreg_sigma': 69.05372571281883}. Best is trial 71 with value: 0.8483261752684838.\u001b[0m\n"
     ]
    }
   ],
   "source": [
    "def objective(trial):\n",
    "\n",
    "    classifier_name = trial.suggest_categorical(\"classifier\", [\"LogReg\"])\n",
    "    \n",
    "    # Step 2. Setup values for the hyperparameters:\n",
    "    if classifier_name == 'LogReg':\n",
    "        logreg_c = trial.suggest_float(\"logreg_c\", 1e-10, 100, log=True)\n",
    "        logreg_sigma = trial.suggest_float(\"logreg_sigma\", 40, 70, log=True)\n",
    "        classifier_obj = pipe_lr_rs.set_params(model__C=logreg_c, encoder__sigma=logreg_sigma)\n",
    "    \n",
    "        \n",
    "    # Step 3: Scoring method:\n",
    "    score = cross_val_score(classifier_obj, X_und, y_und, n_jobs=-1, cv=3, scoring='roc_auc')\n",
    "    accuracy = score.mean()\n",
    "    return accuracy\n",
    "  \n",
    "study = optuna.create_study(direction=\"maximize\")\n",
    "study.optimize(objective, n_trials=100)"
   ]
  },
  {
   "cell_type": "code",
   "execution_count": null,
   "metadata": {
    "colab": {
     "base_uri": "https://localhost:8080/"
    },
    "id": "1FLyzDgqOw8H",
    "outputId": "3af326e9-408a-43bb-b69f-82a0bfc018a0"
   },
   "outputs": [
    {
     "data": {
      "text/plain": [
       "Pipeline(steps=[('encoder',\n",
       "                 LeaveOneOutEncoder(cols=Index(['ProductCD', 'card4', 'card6', 'P_emaildomain', 'R_emaildomain', 'M1',\n",
       "       'M2', 'M3', 'M4', 'M5', 'M6', 'M7', 'M8', 'M9', 'id_12', 'id_15',\n",
       "       'id_16', 'id_23', 'id_27', 'id_28', 'id_29', 'id_30', 'id_31', 'id_33',\n",
       "       'id_34', 'id_35', 'id_36', 'id_37', 'id_38', 'DeviceType',\n",
       "       'DeviceInfo'],\n",
       "      dtype='object'),\n",
       "                                    sigma=68.3562567234045)),\n",
       "                ('scaler', StandardScaler()),\n",
       "                ('selector',\n",
       "                 SelectFromModel(estimator=LogisticRegression(class_weight='balanced',\n",
       "                                                              max_iter=5000,\n",
       "                                                              penalty='l1',\n",
       "                                                              solver='liblinear'),\n",
       "                                 threshold=0.1)),\n",
       "                ('model',\n",
       "                 LogisticRegression(C=47.302996633472, class_weight='balanced',\n",
       "                                    max_iter=6000))])"
      ]
     },
     "execution_count": 13,
     "metadata": {},
     "output_type": "execute_result"
    }
   ],
   "source": [
    "pipe_lr_rs.set_params(model__C=47.302996633472, encoder__sigma=68.3562567234045).fit(X_und, y_und)"
   ]
  },
  {
   "cell_type": "code",
   "execution_count": null,
   "metadata": {
    "id": "UZoatLhgRKaH"
   },
   "outputs": [],
   "source": [
    "pickle.dump(pipe_lr_rs, open(PATH+'pipe_lr_rs.pkl', 'wb'))"
   ]
  },
  {
   "cell_type": "code",
   "execution_count": null,
   "metadata": {
    "colab": {
     "base_uri": "https://localhost:8080/"
    },
    "id": "eThh_OiIRYPA",
    "outputId": "a85902cc-c8e3-4f91-b3f3-8aaff1b4ccb7"
   },
   "outputs": [
    {
     "name": "stdout",
     "output_type": "stream",
     "text": [
      "ROC_AUC: 0.7754437549782367\n",
      "f1: 0.8343154852620766\n",
      "precision_score: 0.1409088071905624\n",
      "recall_score: 0.7120328023970982\n"
     ]
    }
   ],
   "source": [
    "pred = pipe_lr_rs.predict(X_test)\n",
    "\n",
    "# Оценим качество\n",
    "ras = roc_auc_score(y_test, pred)\n",
    "f = f1_score(y_test, pred, average='micro')\n",
    "pr = precision_score(y_test, pred)\n",
    "rc = recall_score(y_test, pred)\n",
    "\n",
    "\n",
    "print(f'ROC_AUC: {ras}')\n",
    "print(f'f1: {f}')\n",
    "print(f'precision_score: {pr}')\n",
    "print(f'recall_score: {rc}')"
   ]
  },
  {
   "cell_type": "markdown",
   "metadata": {
    "id": "CgvbuMSD73Nn"
   },
   "source": [
    "##OneHotEncoding"
   ]
  },
  {
   "cell_type": "code",
   "execution_count": null,
   "metadata": {
    "colab": {
     "base_uri": "https://localhost:8080/"
    },
    "id": "LnySmZYiR_Rd",
    "outputId": "8b4f6ce0-1593-4bac-febb-5dcc852fc1a8"
   },
   "outputs": [
    {
     "name": "stdout",
     "output_type": "stream",
     "text": [
      "(28644, 1400)\n"
     ]
    }
   ],
   "source": [
    "scaler = StandardScaler()\n",
    "\n",
    "# Категориальный фичи будем кадировать OHE\n",
    "ohe = OneHotEncoder(handle_unknown='ignore')\n",
    "\n",
    "\n",
    "column_trans = ColumnTransformer(\n",
    "    [ ('scaler',scaler, numeric_col),\n",
    "    ('ohe', ohe, categorical_col)], remainder='passthrough', n_jobs=-1)\n",
    "\n",
    "train_X_transformed = column_trans.fit_transform(X_und, y_und)\n",
    "test_X_transformed = column_trans.transform(X_test)\n",
    "\n",
    "print(train_X_transformed.shape)"
   ]
  },
  {
   "cell_type": "markdown",
   "metadata": {
    "id": "je27kP5l75kr"
   },
   "source": [
    "##LogisticRegression v2"
   ]
  },
  {
   "cell_type": "markdown",
   "metadata": {
    "id": "FU7Dv4QK79nl"
   },
   "source": [
    "Попробуем обучить однослойную сеть с сигмоидой - по сути это будет логистическая регрессия, но можно обучить на GPU"
   ]
  },
  {
   "cell_type": "code",
   "execution_count": null,
   "metadata": {
    "id": "sd4Ee4PLR_CR"
   },
   "outputs": [],
   "source": [
    "y_tensor = torch.from_numpy(y_und.values.reshape(-1, 1)).float()\n",
    "X_tensor = torch.from_numpy(pd.DataFrame(train_X_transformed).values).float()\n",
    "test_X_tensor = torch.from_numpy(pd.DataFrame(test_X_transformed).values).float()\n",
    "y_tensor_test= torch.from_numpy(y_test.values.reshape(-1, 1)).float()"
   ]
  },
  {
   "cell_type": "code",
   "execution_count": null,
   "metadata": {
    "colab": {
     "base_uri": "https://localhost:8080/"
    },
    "id": "wwmj_nfZfMhc",
    "outputId": "f3579897-b5b3-4d9b-f005-ee46b53e5228"
   },
   "outputs": [
    {
     "data": {
      "text/plain": [
       "device(type='cuda')"
      ]
     },
     "execution_count": 39,
     "metadata": {},
     "output_type": "execute_result"
    }
   ],
   "source": [
    "device = torch.device('cuda' if torch.cuda.is_available() else 'cpu')\n",
    "device"
   ]
  },
  {
   "cell_type": "code",
   "execution_count": null,
   "metadata": {
    "id": "lBNfEAhKgFLi"
   },
   "outputs": [],
   "source": [
    "X_tensor=X_tensor.to(device)\n",
    "y_tensor=y_tensor.to(device)"
   ]
  },
  {
   "cell_type": "code",
   "execution_count": null,
   "metadata": {
    "colab": {
     "base_uri": "https://localhost:8080/"
    },
    "id": "S-L2VsWPJxzU",
    "outputId": "768269bd-317e-4915-bfbc-ba7586ba6769"
   },
   "outputs": [
    {
     "name": "stdout",
     "output_type": "stream",
     "text": [
      "0.8086589169082378\n"
     ]
    }
   ],
   "source": [
    "epochs = 60000\n",
    "learning_rate = 0.00001\n",
    "\n",
    "class LogisticRegressionTorch(nn.Module):\n",
    "    def __init__(self, input_size, output_size):\n",
    "        super(LogisticRegressionTorch, self).__init__()\n",
    "        self.linear = nn.Linear(input_size, output_size)\n",
    "\n",
    "    def forward(self, X):\n",
    "        predictions = self.linear(X)\n",
    "        return torch.sigmoid(predictions)\n",
    "\n",
    "model = LogisticRegressionTorch(X_tensor.shape[1], y_tensor.shape[1])\n",
    "model=model.cuda()\n",
    "\n",
    "# определяем функцию потерь — бинарную кросс-энтропию\n",
    "criterion = nn.BCELoss()\n",
    "# в качестве алгоритма оптимизации выберем Adam\n",
    "optimizer = optim.SGD(model.parameters(), lr=learning_rate)\n",
    "for epoch in range(epochs):\n",
    "    optimizer.zero_grad()\n",
    "    predictions = model(X_tensor)\n",
    "    loss = criterion(predictions, y_tensor)\n",
    "    # вычисляем градиенты\n",
    "    loss.backward()\n",
    "    # обновляем параметры\n",
    "    optimizer.step()\n",
    "\n",
    "predictions = model(X_tensor)\n",
    "\n",
    "print(roc_auc_score(y_tensor.cpu(), predictions.cpu().detach().numpy()))"
   ]
  },
  {
   "cell_type": "code",
   "execution_count": null,
   "metadata": {
    "colab": {
     "base_uri": "https://localhost:8080/"
    },
    "id": "baRgp8WZJxtR",
    "outputId": "9c284c29-f277-4f17-e564-9d8783e9b234"
   },
   "outputs": [
    {
     "name": "stdout",
     "output_type": "stream",
     "text": [
      "0.8098003787770545\n"
     ]
    }
   ],
   "source": [
    "predictions_test = model(test_X_tensor.to(device))\n",
    "print(roc_auc_score(y_tensor_test, predictions_test.cpu().detach().numpy()))"
   ]
  },
  {
   "cell_type": "markdown",
   "metadata": {
    "id": "iE-SrFuO_Eaq"
   },
   "source": [
    "Результаты получили схожие, но быстрее"
   ]
  },
  {
   "cell_type": "markdown",
   "metadata": {
    "id": "QR3w3fkABRYg"
   },
   "source": [
    "## CatBoost"
   ]
  },
  {
   "cell_type": "code",
   "execution_count": null,
   "metadata": {
    "colab": {
     "base_uri": "https://localhost:8080/"
    },
    "id": "E7B2FmXyzAtE",
    "outputId": "14b844ba-7389-418a-d0bd-8712210a3317"
   },
   "outputs": [
    {
     "name": "stderr",
     "output_type": "stream",
     "text": [
      "\u001b[32m[I 2022-12-20 20:41:15,459]\u001b[0m A new study created in memory with name: no-name-203f29a8-0bb8-43da-b7db-c754f918d533\u001b[0m\n",
      "Default metric period is 5 because AUC is/are not implemented for GPU\n",
      "\u001b[32m[I 2022-12-20 20:42:53,016]\u001b[0m Trial 0 finished with value: 0.7302485620801181 and parameters: {'objective': 'Logloss', 'depth': 3, 'boosting_type': 'Plain', 'bootstrap_type': 'Bayesian', 'bagging_temperature': 2.076243181255637}. Best is trial 0 with value: 0.7302485620801181.\u001b[0m\n",
      "Default metric period is 5 because AUC is/are not implemented for GPU\n",
      "\u001b[32m[I 2022-12-20 20:44:13,582]\u001b[0m Trial 1 finished with value: 0.7216652332076635 and parameters: {'objective': 'Logloss', 'depth': 2, 'boosting_type': 'Ordered', 'bootstrap_type': 'Bernoulli', 'subsample': 0.6048319631020951}. Best is trial 0 with value: 0.7302485620801181.\u001b[0m\n",
      "Default metric period is 5 because AUC is/are not implemented for GPU\n",
      "\u001b[32m[I 2022-12-20 20:44:33,541]\u001b[0m Trial 2 finished with value: 0.5 and parameters: {'objective': 'CrossEntropy', 'depth': 1, 'boosting_type': 'Plain', 'bootstrap_type': 'MVS'}. Best is trial 0 with value: 0.7302485620801181.\u001b[0m\n",
      "Default metric period is 5 because AUC is/are not implemented for GPU\n",
      "\u001b[32m[I 2022-12-20 20:46:44,492]\u001b[0m Trial 3 finished with value: 0.7004895486228391 and parameters: {'objective': 'Logloss', 'depth': 4, 'boosting_type': 'Ordered', 'bootstrap_type': 'MVS'}. Best is trial 0 with value: 0.7302485620801181.\u001b[0m\n",
      "Default metric period is 5 because AUC is/are not implemented for GPU\n",
      "\u001b[32m[I 2022-12-20 20:48:03,208]\u001b[0m Trial 4 finished with value: 0.7230027887408036 and parameters: {'objective': 'Logloss', 'depth': 2, 'boosting_type': 'Ordered', 'bootstrap_type': 'Bernoulli', 'subsample': 0.7037306837560485}. Best is trial 0 with value: 0.7302485620801181.\u001b[0m\n",
      "Default metric period is 5 because AUC is/are not implemented for GPU\n",
      "\u001b[32m[I 2022-12-20 20:52:31,549]\u001b[0m Trial 5 finished with value: 0.8075325773408667 and parameters: {'objective': 'Logloss', 'depth': 9, 'boosting_type': 'Plain', 'bootstrap_type': 'Bernoulli', 'subsample': 0.5475743680450441}. Best is trial 5 with value: 0.8075325773408667.\u001b[0m\n"
     ]
    },
    {
     "name": "stdout",
     "output_type": "stream",
     "text": [
      "Number of finished trials: 6\n",
      "Best trial:\n",
      "  Value: 0.8075325773408667\n",
      "  Params: \n",
      "    objective: Logloss\n",
      "    depth: 9\n",
      "    boosting_type: Plain\n",
      "    bootstrap_type: Bernoulli\n",
      "    subsample: 0.5475743680450441\n"
     ]
    }
   ],
   "source": [
    "def objective(trial, X_train=X_train, X_test=X_test, y_train=y_train, y_test=y_test):\n",
    "    X= merged.drop('isFraud', axis=1)\n",
    "    y= merged['isFraud']\n",
    "    categorical_features_indices = np.where(X.dtypes == 'category')[0]\n",
    "\n",
    "    param = {\n",
    "        \"objective\": trial.suggest_categorical(\"objective\", [\"Logloss\", \"CrossEntropy\"]),\n",
    "        \"depth\": trial.suggest_int(\"depth\", 1, 12),\n",
    "        \"boosting_type\": trial.suggest_categorical(\"boosting_type\", [\"Ordered\", \"Plain\"]),\n",
    "        \"bootstrap_type\": trial.suggest_categorical(\n",
    "            \"bootstrap_type\", [\"Bayesian\", \"Bernoulli\", \"MVS\"]\n",
    "        ),\n",
    "        \"task_type\":\"GPU\",\n",
    "        \"eval_metric\": \"AUC\",\n",
    "    }\n",
    "\n",
    "    if param[\"bootstrap_type\"] == \"Bayesian\":\n",
    "        param[\"bagging_temperature\"] = trial.suggest_float(\"bagging_temperature\", 0, 10)\n",
    "    elif param[\"bootstrap_type\"] == \"Bernoulli\":\n",
    "        param[\"subsample\"] = trial.suggest_float(\"subsample\", 0.1, 1)\n",
    "\n",
    "    cat_cls = CatBoostClassifier(**param)\n",
    "\n",
    "    cat_cls.fit(X_train, y_train, eval_set=[(X_test, y_test)], cat_features=np.where(merged.dtypes == 'category')[0],verbose=0, early_stopping_rounds=100)\n",
    "\n",
    "    preds = cat_cls.predict(X_test)\n",
    "    pred_labels = np.rint(preds)\n",
    "    roc_auc_ = roc_auc_score(y_test, pred_labels)\n",
    "    return roc_auc_\n",
    "\n",
    "\n",
    "if __name__ == \"__main__\":\n",
    "    study = optuna.create_study(direction=\"maximize\")\n",
    "    study.optimize(objective, n_trials=50, timeout=600)\n",
    "\n",
    "    print(\"Number of finished trials: {}\".format(len(study.trials)))\n",
    "\n",
    "    print(\"Best trial:\")\n",
    "    trial = study.best_trial\n",
    "\n",
    "    print(\"  Value: {}\".format(trial.value))\n",
    "\n",
    "    print(\"  Params: \")\n",
    "    for key, value in trial.params.items():\n",
    "        print(\"    {}: {}\".format(key, value))"
   ]
  },
  {
   "cell_type": "code",
   "execution_count": null,
   "metadata": {
    "colab": {
     "base_uri": "https://localhost:8080/",
     "height": 1000,
     "referenced_widgets": [
      "4e246e6ec8124cb2a065e10a01e7e8fd"
     ]
    },
    "id": "FJacDFp-zAiM",
    "outputId": "30a46310-0b9f-44f8-a596-3e147afe513f"
   },
   "outputs": [
    {
     "data": {
      "application/vnd.jupyter.widget-view+json": {
       "model_id": "4e246e6ec8124cb2a065e10a01e7e8fd",
       "version_major": 2,
       "version_minor": 0
      },
      "text/plain": [
       "MetricVisualizer(layout=Layout(align_self='stretch', height='500px'))"
      ]
     },
     "metadata": {},
     "output_type": "display_data"
    },
    {
     "name": "stdout",
     "output_type": "stream",
     "text": [
      "Learning rate set to 0.042671\n"
     ]
    },
    {
     "name": "stderr",
     "output_type": "stream",
     "text": [
      "Default metric period is 5 because AUC is/are not implemented for GPU\n"
     ]
    },
    {
     "name": "stdout",
     "output_type": "stream",
     "text": [
      "0:\ttest: 0.7190179\tbest: 0.7190179 (0)\ttotal: 280ms\tremaining: 4m 40s\n",
      "1:\ttotal: 527ms\tremaining: 4m 23s\n",
      "2:\ttotal: 720ms\tremaining: 3m 59s\n",
      "3:\ttotal: 970ms\tremaining: 4m 1s\n",
      "4:\ttotal: 1.22s\tremaining: 4m 2s\n",
      "5:\ttest: 0.8298542\tbest: 0.8298542 (5)\ttotal: 1.46s\tremaining: 4m 2s\n",
      "6:\ttotal: 1.68s\tremaining: 3m 58s\n",
      "7:\ttotal: 1.93s\tremaining: 3m 59s\n",
      "8:\ttotal: 2.17s\tremaining: 3m 58s\n",
      "9:\ttotal: 2.42s\tremaining: 3m 59s\n",
      "10:\ttest: 0.8412681\tbest: 0.8412681 (10)\ttotal: 2.67s\tremaining: 3m 59s\n",
      "11:\ttotal: 2.92s\tremaining: 4m\n",
      "12:\ttotal: 3.18s\tremaining: 4m 1s\n",
      "13:\ttotal: 3.42s\tremaining: 4m\n",
      "14:\ttotal: 3.65s\tremaining: 3m 59s\n",
      "15:\ttest: 0.8669661\tbest: 0.8669661 (15)\ttotal: 3.89s\tremaining: 3m 59s\n",
      "16:\ttotal: 4.11s\tremaining: 3m 57s\n",
      "17:\ttotal: 4.33s\tremaining: 3m 56s\n",
      "18:\ttotal: 4.58s\tremaining: 3m 56s\n",
      "19:\ttotal: 4.78s\tremaining: 3m 54s\n",
      "20:\ttest: 0.8749458\tbest: 0.8749458 (20)\ttotal: 5.03s\tremaining: 3m 54s\n",
      "21:\ttotal: 5.27s\tremaining: 3m 54s\n",
      "22:\ttotal: 5.5s\tremaining: 3m 53s\n",
      "23:\ttotal: 5.81s\tremaining: 3m 56s\n",
      "24:\ttotal: 6.21s\tremaining: 4m 2s\n",
      "25:\ttest: 0.8873588\tbest: 0.8873588 (25)\ttotal: 6.58s\tremaining: 4m 6s\n",
      "26:\ttotal: 7.08s\tremaining: 4m 14s\n",
      "27:\ttotal: 7.53s\tremaining: 4m 21s\n",
      "28:\ttotal: 7.99s\tremaining: 4m 27s\n",
      "29:\ttotal: 8.44s\tremaining: 4m 32s\n",
      "30:\ttest: 0.8930084\tbest: 0.8930084 (30)\ttotal: 8.89s\tremaining: 4m 37s\n",
      "31:\ttotal: 9.33s\tremaining: 4m 42s\n",
      "32:\ttotal: 9.53s\tremaining: 4m 39s\n",
      "33:\ttotal: 9.77s\tremaining: 4m 37s\n",
      "34:\ttotal: 9.95s\tremaining: 4m 34s\n",
      "35:\ttest: 0.8991860\tbest: 0.8991860 (35)\ttotal: 10.2s\tremaining: 4m 32s\n",
      "36:\ttotal: 10.4s\tremaining: 4m 31s\n",
      "37:\ttotal: 10.6s\tremaining: 4m 29s\n",
      "38:\ttotal: 10.9s\tremaining: 4m 27s\n",
      "39:\ttotal: 11.1s\tremaining: 4m 27s\n",
      "40:\ttest: 0.9038029\tbest: 0.9038029 (40)\ttotal: 11.4s\tremaining: 4m 26s\n",
      "41:\ttotal: 11.6s\tremaining: 4m 25s\n",
      "42:\ttotal: 11.9s\tremaining: 4m 24s\n",
      "43:\ttotal: 12.1s\tremaining: 4m 23s\n",
      "44:\ttotal: 12.4s\tremaining: 4m 22s\n",
      "45:\ttest: 0.9060928\tbest: 0.9060928 (45)\ttotal: 12.6s\tremaining: 4m 21s\n",
      "46:\ttotal: 12.9s\tremaining: 4m 20s\n",
      "47:\ttotal: 13.1s\tremaining: 4m 19s\n",
      "48:\ttotal: 13.3s\tremaining: 4m 18s\n",
      "49:\ttotal: 13.6s\tremaining: 4m 18s\n",
      "50:\ttest: 0.9090624\tbest: 0.9090624 (50)\ttotal: 13.9s\tremaining: 4m 18s\n",
      "51:\ttotal: 14.1s\tremaining: 4m 17s\n",
      "52:\ttotal: 14.3s\tremaining: 4m 16s\n",
      "53:\ttotal: 14.6s\tremaining: 4m 15s\n",
      "54:\ttotal: 14.8s\tremaining: 4m 13s\n",
      "55:\ttest: 0.9119456\tbest: 0.9119456 (55)\ttotal: 15s\tremaining: 4m 13s\n",
      "56:\ttotal: 15.2s\tremaining: 4m 11s\n",
      "57:\ttotal: 15.5s\tremaining: 4m 11s\n",
      "58:\ttotal: 16.1s\tremaining: 4m 17s\n",
      "59:\ttotal: 16.5s\tremaining: 4m 18s\n",
      "60:\ttest: 0.9144803\tbest: 0.9144803 (60)\ttotal: 16.7s\tremaining: 4m 17s\n",
      "61:\ttotal: 17s\tremaining: 4m 16s\n",
      "62:\ttotal: 17.2s\tremaining: 4m 15s\n",
      "63:\ttotal: 17.4s\tremaining: 4m 14s\n",
      "64:\ttotal: 17.7s\tremaining: 4m 13s\n",
      "65:\ttest: 0.9168074\tbest: 0.9168074 (65)\ttotal: 17.9s\tremaining: 4m 13s\n",
      "66:\ttotal: 18.2s\tremaining: 4m 13s\n",
      "67:\ttotal: 18.4s\tremaining: 4m 11s\n",
      "68:\ttotal: 18.6s\tremaining: 4m 10s\n",
      "69:\ttotal: 18.9s\tremaining: 4m 10s\n",
      "70:\ttest: 0.9181340\tbest: 0.9181340 (70)\ttotal: 19.1s\tremaining: 4m 10s\n",
      "71:\ttotal: 19.4s\tremaining: 4m 9s\n",
      "72:\ttotal: 19.6s\tremaining: 4m 8s\n",
      "73:\ttotal: 19.8s\tremaining: 4m 7s\n",
      "74:\ttotal: 20s\tremaining: 4m 6s\n",
      "75:\ttest: 0.9192616\tbest: 0.9192616 (75)\ttotal: 20.3s\tremaining: 4m 6s\n",
      "76:\ttotal: 20.5s\tremaining: 4m 6s\n",
      "77:\ttotal: 20.8s\tremaining: 4m 5s\n",
      "78:\ttotal: 21s\tremaining: 4m 5s\n",
      "79:\ttotal: 21.2s\tremaining: 4m 4s\n",
      "80:\ttest: 0.9209739\tbest: 0.9209739 (80)\ttotal: 21.5s\tremaining: 4m 3s\n",
      "81:\ttotal: 21.7s\tremaining: 4m 2s\n",
      "82:\ttotal: 21.9s\tremaining: 4m 2s\n",
      "83:\ttotal: 22.2s\tremaining: 4m 1s\n",
      "84:\ttotal: 22.4s\tremaining: 4m\n",
      "85:\ttest: 0.9224755\tbest: 0.9224755 (85)\ttotal: 22.6s\tremaining: 4m\n",
      "86:\ttotal: 22.9s\tremaining: 3m 59s\n",
      "87:\ttotal: 23.1s\tremaining: 3m 59s\n",
      "88:\ttotal: 23.3s\tremaining: 3m 58s\n",
      "89:\ttotal: 23.5s\tremaining: 3m 57s\n",
      "90:\ttest: 0.9246989\tbest: 0.9246989 (90)\ttotal: 23.7s\tremaining: 3m 57s\n",
      "91:\ttotal: 24s\tremaining: 3m 56s\n",
      "92:\ttotal: 24.2s\tremaining: 3m 56s\n",
      "93:\ttotal: 24.5s\tremaining: 3m 56s\n",
      "94:\ttotal: 24.8s\tremaining: 3m 55s\n",
      "95:\ttest: 0.9260752\tbest: 0.9260752 (95)\ttotal: 25s\tremaining: 3m 55s\n",
      "96:\ttotal: 25.2s\tremaining: 3m 54s\n",
      "97:\ttotal: 25.5s\tremaining: 3m 54s\n",
      "98:\ttotal: 25.7s\tremaining: 3m 54s\n",
      "99:\ttotal: 25.9s\tremaining: 3m 53s\n",
      "100:\ttest: 0.9272772\tbest: 0.9272772 (100)\ttotal: 26.1s\tremaining: 3m 52s\n",
      "101:\ttotal: 26.4s\tremaining: 3m 52s\n",
      "102:\ttotal: 26.6s\tremaining: 3m 51s\n",
      "103:\ttotal: 27.1s\tremaining: 3m 53s\n",
      "104:\ttotal: 27.6s\tremaining: 3m 54s\n",
      "105:\ttest: 0.9294381\tbest: 0.9294381 (105)\ttotal: 27.8s\tremaining: 3m 54s\n",
      "106:\ttotal: 28s\tremaining: 3m 53s\n",
      "107:\ttotal: 28.2s\tremaining: 3m 53s\n",
      "108:\ttotal: 28.5s\tremaining: 3m 52s\n",
      "109:\ttotal: 28.7s\tremaining: 3m 52s\n",
      "110:\ttest: 0.9304454\tbest: 0.9304454 (110)\ttotal: 28.9s\tremaining: 3m 51s\n",
      "111:\ttotal: 29.2s\tremaining: 3m 51s\n",
      "112:\ttotal: 29.4s\tremaining: 3m 50s\n",
      "113:\ttotal: 29.6s\tremaining: 3m 49s\n",
      "114:\ttotal: 29.8s\tremaining: 3m 49s\n",
      "115:\ttest: 0.9309348\tbest: 0.9309348 (115)\ttotal: 30s\tremaining: 3m 48s\n",
      "116:\ttotal: 30.3s\tremaining: 3m 48s\n",
      "117:\ttotal: 30.5s\tremaining: 3m 47s\n",
      "118:\ttotal: 30.8s\tremaining: 3m 47s\n",
      "119:\ttotal: 31s\tremaining: 3m 47s\n",
      "120:\ttest: 0.9323001\tbest: 0.9323001 (120)\ttotal: 31.2s\tremaining: 3m 46s\n",
      "121:\ttotal: 31.4s\tremaining: 3m 46s\n",
      "122:\ttotal: 31.7s\tremaining: 3m 46s\n",
      "123:\ttotal: 31.9s\tremaining: 3m 45s\n",
      "124:\ttotal: 32.1s\tremaining: 3m 44s\n",
      "125:\ttest: 0.9332850\tbest: 0.9332850 (125)\ttotal: 32.3s\tremaining: 3m 44s\n",
      "126:\ttotal: 32.6s\tremaining: 3m 43s\n",
      "127:\ttotal: 32.8s\tremaining: 3m 43s\n",
      "128:\ttotal: 33s\tremaining: 3m 42s\n",
      "129:\ttotal: 33.2s\tremaining: 3m 42s\n",
      "130:\ttest: 0.9346301\tbest: 0.9346301 (130)\ttotal: 33.5s\tremaining: 3m 41s\n",
      "131:\ttotal: 33.7s\tremaining: 3m 41s\n",
      "132:\ttotal: 34s\tremaining: 3m 41s\n",
      "133:\ttotal: 34.2s\tremaining: 3m 40s\n",
      "134:\ttotal: 34.4s\tremaining: 3m 40s\n",
      "135:\ttest: 0.9354647\tbest: 0.9354647 (135)\ttotal: 34.7s\tremaining: 3m 40s\n",
      "136:\ttotal: 34.9s\tremaining: 3m 39s\n",
      "137:\ttotal: 35.1s\tremaining: 3m 39s\n",
      "138:\ttotal: 35.3s\tremaining: 3m 38s\n",
      "139:\ttotal: 35.6s\tremaining: 3m 38s\n",
      "140:\ttest: 0.9360059\tbest: 0.9360059 (140)\ttotal: 35.8s\tremaining: 3m 38s\n",
      "141:\ttotal: 36.1s\tremaining: 3m 37s\n",
      "142:\ttotal: 36.3s\tremaining: 3m 37s\n",
      "143:\ttotal: 36.6s\tremaining: 3m 37s\n",
      "144:\ttotal: 36.8s\tremaining: 3m 37s\n",
      "145:\ttest: 0.9362995\tbest: 0.9362995 (145)\ttotal: 37.1s\tremaining: 3m 36s\n",
      "146:\ttotal: 37.3s\tremaining: 3m 36s\n",
      "147:\ttotal: 37.5s\tremaining: 3m 35s\n",
      "148:\ttotal: 37.7s\tremaining: 3m 35s\n",
      "149:\ttotal: 37.9s\tremaining: 3m 34s\n",
      "150:\ttest: 0.9369878\tbest: 0.9369878 (150)\ttotal: 38.2s\tremaining: 3m 34s\n",
      "151:\ttotal: 38.4s\tremaining: 3m 34s\n",
      "152:\ttotal: 38.6s\tremaining: 3m 33s\n",
      "153:\ttotal: 38.9s\tremaining: 3m 33s\n",
      "154:\ttotal: 39.1s\tremaining: 3m 33s\n",
      "155:\ttest: 0.9374133\tbest: 0.9374133 (155)\ttotal: 39.4s\tremaining: 3m 32s\n",
      "156:\ttotal: 39.6s\tremaining: 3m 32s\n",
      "157:\ttotal: 39.8s\tremaining: 3m 32s\n",
      "158:\ttotal: 40.1s\tremaining: 3m 32s\n",
      "159:\ttotal: 40.3s\tremaining: 3m 31s\n",
      "160:\ttest: 0.9379649\tbest: 0.9379649 (160)\ttotal: 40.5s\tremaining: 3m 31s\n",
      "161:\ttotal: 40.7s\tremaining: 3m 30s\n",
      "162:\ttotal: 41s\tremaining: 3m 30s\n",
      "163:\ttotal: 41.1s\tremaining: 3m 29s\n",
      "164:\ttotal: 41.4s\tremaining: 3m 29s\n",
      "165:\ttest: 0.9382647\tbest: 0.9382647 (165)\ttotal: 41.6s\tremaining: 3m 28s\n",
      "166:\ttotal: 41.8s\tremaining: 3m 28s\n",
      "167:\ttotal: 42s\tremaining: 3m 28s\n",
      "168:\ttotal: 42.2s\tremaining: 3m 27s\n",
      "169:\ttotal: 42.5s\tremaining: 3m 27s\n",
      "170:\ttest: 0.9388413\tbest: 0.9388413 (170)\ttotal: 42.7s\tremaining: 3m 27s\n",
      "171:\ttotal: 43s\tremaining: 3m 26s\n",
      "172:\ttotal: 43.2s\tremaining: 3m 26s\n",
      "173:\ttotal: 43.5s\tremaining: 3m 26s\n",
      "174:\ttotal: 43.6s\tremaining: 3m 25s\n",
      "175:\ttest: 0.9392233\tbest: 0.9392233 (175)\ttotal: 43.8s\tremaining: 3m 25s\n",
      "176:\ttotal: 44s\tremaining: 3m 24s\n",
      "177:\ttotal: 44.3s\tremaining: 3m 24s\n",
      "178:\ttotal: 44.5s\tremaining: 3m 24s\n",
      "179:\ttotal: 44.8s\tremaining: 3m 23s\n",
      "180:\ttest: 0.9396419\tbest: 0.9396419 (180)\ttotal: 45s\tremaining: 3m 23s\n",
      "181:\ttotal: 45.2s\tremaining: 3m 23s\n",
      "182:\ttotal: 45.5s\tremaining: 3m 23s\n",
      "183:\ttotal: 45.7s\tremaining: 3m 22s\n",
      "184:\ttotal: 45.9s\tremaining: 3m 22s\n",
      "185:\ttest: 0.9401208\tbest: 0.9401208 (185)\ttotal: 46.1s\tremaining: 3m 21s\n",
      "186:\ttotal: 46.4s\tremaining: 3m 21s\n",
      "187:\ttotal: 46.6s\tremaining: 3m 21s\n",
      "188:\ttotal: 46.8s\tremaining: 3m 21s\n",
      "189:\ttotal: 47.1s\tremaining: 3m 20s\n",
      "190:\ttest: 0.9405887\tbest: 0.9405887 (190)\ttotal: 47.3s\tremaining: 3m 20s\n",
      "191:\ttotal: 47.6s\tremaining: 3m 20s\n",
      "192:\ttotal: 47.8s\tremaining: 3m 19s\n",
      "193:\ttotal: 48.1s\tremaining: 3m 19s\n",
      "194:\ttotal: 48.3s\tremaining: 3m 19s\n",
      "195:\ttest: 0.9411594\tbest: 0.9411594 (195)\ttotal: 48.5s\tremaining: 3m 19s\n",
      "196:\ttotal: 48.8s\tremaining: 3m 18s\n",
      "197:\ttotal: 49.1s\tremaining: 3m 18s\n",
      "198:\ttotal: 49.3s\tremaining: 3m 18s\n",
      "199:\ttotal: 49.6s\tremaining: 3m 18s\n",
      "200:\ttest: 0.9415024\tbest: 0.9415024 (200)\ttotal: 49.8s\tremaining: 3m 17s\n",
      "201:\ttotal: 50.1s\tremaining: 3m 17s\n",
      "202:\ttotal: 50.3s\tremaining: 3m 17s\n",
      "203:\ttotal: 50.6s\tremaining: 3m 17s\n",
      "204:\ttotal: 50.8s\tremaining: 3m 17s\n",
      "205:\ttest: 0.9418963\tbest: 0.9418963 (205)\ttotal: 51s\tremaining: 3m 16s\n",
      "206:\ttotal: 51.3s\tremaining: 3m 16s\n",
      "207:\ttotal: 51.5s\tremaining: 3m 16s\n",
      "208:\ttotal: 51.8s\tremaining: 3m 15s\n",
      "209:\ttotal: 52s\tremaining: 3m 15s\n",
      "210:\ttest: 0.9423691\tbest: 0.9423691 (210)\ttotal: 52.3s\tremaining: 3m 15s\n",
      "211:\ttotal: 52.5s\tremaining: 3m 15s\n",
      "212:\ttotal: 52.7s\tremaining: 3m 14s\n",
      "213:\ttotal: 53s\tremaining: 3m 14s\n",
      "214:\ttotal: 53.2s\tremaining: 3m 14s\n",
      "215:\ttest: 0.9428052\tbest: 0.9428052 (215)\ttotal: 53.4s\tremaining: 3m 13s\n",
      "216:\ttotal: 53.7s\tremaining: 3m 13s\n",
      "217:\ttotal: 53.9s\tremaining: 3m 13s\n",
      "218:\ttotal: 54.2s\tremaining: 3m 13s\n",
      "219:\ttotal: 54.4s\tremaining: 3m 12s\n",
      "220:\ttest: 0.9429750\tbest: 0.9429750 (220)\ttotal: 54.7s\tremaining: 3m 12s\n",
      "221:\ttotal: 54.9s\tremaining: 3m 12s\n",
      "222:\ttotal: 55.2s\tremaining: 3m 12s\n",
      "223:\ttotal: 55.3s\tremaining: 3m 11s\n",
      "224:\ttotal: 55.6s\tremaining: 3m 11s\n",
      "225:\ttest: 0.9431379\tbest: 0.9431379 (225)\ttotal: 55.8s\tremaining: 3m 11s\n",
      "226:\ttotal: 56.1s\tremaining: 3m 10s\n",
      "227:\ttotal: 56.3s\tremaining: 3m 10s\n",
      "228:\ttotal: 56.6s\tremaining: 3m 10s\n",
      "229:\ttotal: 56.8s\tremaining: 3m 10s\n",
      "230:\ttest: 0.9432675\tbest: 0.9432675 (230)\ttotal: 57s\tremaining: 3m 9s\n",
      "231:\ttotal: 57.3s\tremaining: 3m 9s\n",
      "232:\ttotal: 57.4s\tremaining: 3m 9s\n",
      "233:\ttotal: 57.7s\tremaining: 3m 8s\n",
      "234:\ttotal: 57.9s\tremaining: 3m 8s\n",
      "235:\ttest: 0.9434707\tbest: 0.9434707 (235)\ttotal: 58.1s\tremaining: 3m 8s\n",
      "236:\ttotal: 58.3s\tremaining: 3m 7s\n",
      "237:\ttotal: 58.6s\tremaining: 3m 7s\n",
      "238:\ttotal: 58.8s\tremaining: 3m 7s\n",
      "239:\ttotal: 59s\tremaining: 3m 6s\n",
      "240:\ttest: 0.9436881\tbest: 0.9436881 (240)\ttotal: 59.3s\tremaining: 3m 6s\n",
      "241:\ttotal: 59.5s\tremaining: 3m 6s\n",
      "242:\ttotal: 59.7s\tremaining: 3m 6s\n",
      "243:\ttotal: 60s\tremaining: 3m 5s\n",
      "244:\ttotal: 1m\tremaining: 3m 5s\n",
      "245:\ttest: 0.9439967\tbest: 0.9439967 (245)\ttotal: 1m\tremaining: 3m 5s\n",
      "246:\ttotal: 1m\tremaining: 3m 5s\n",
      "247:\ttotal: 1m\tremaining: 3m 4s\n",
      "248:\ttotal: 1m 1s\tremaining: 3m 4s\n",
      "249:\ttotal: 1m 1s\tremaining: 3m 3s\n",
      "250:\ttest: 0.9441848\tbest: 0.9441848 (250)\ttotal: 1m 1s\tremaining: 3m 3s\n",
      "251:\ttotal: 1m 1s\tremaining: 3m 3s\n",
      "252:\ttotal: 1m 2s\tremaining: 3m 3s\n",
      "253:\ttotal: 1m 2s\tremaining: 3m 2s\n",
      "254:\ttotal: 1m 2s\tremaining: 3m 2s\n",
      "255:\ttest: 0.9443490\tbest: 0.9443490 (255)\ttotal: 1m 2s\tremaining: 3m 2s\n",
      "256:\ttotal: 1m 3s\tremaining: 3m 2s\n",
      "257:\ttotal: 1m 3s\tremaining: 3m 1s\n",
      "258:\ttotal: 1m 3s\tremaining: 3m 1s\n",
      "259:\ttotal: 1m 3s\tremaining: 3m 1s\n",
      "260:\ttest: 0.9446224\tbest: 0.9446224 (260)\ttotal: 1m 3s\tremaining: 3m\n",
      "261:\ttotal: 1m 4s\tremaining: 3m\n",
      "262:\ttotal: 1m 4s\tremaining: 3m\n",
      "263:\ttotal: 1m 4s\tremaining: 3m\n",
      "264:\ttotal: 1m 4s\tremaining: 2m 59s\n",
      "265:\ttest: 0.9449475\tbest: 0.9449475 (265)\ttotal: 1m 5s\tremaining: 2m 59s\n",
      "266:\ttotal: 1m 5s\tremaining: 2m 59s\n",
      "267:\ttotal: 1m 5s\tremaining: 2m 59s\n",
      "268:\ttotal: 1m 5s\tremaining: 2m 58s\n",
      "269:\ttotal: 1m 6s\tremaining: 2m 58s\n",
      "270:\ttest: 0.9451132\tbest: 0.9451132 (270)\ttotal: 1m 6s\tremaining: 2m 58s\n",
      "271:\ttotal: 1m 6s\tremaining: 2m 58s\n",
      "272:\ttotal: 1m 6s\tremaining: 2m 57s\n",
      "273:\ttotal: 1m 6s\tremaining: 2m 57s\n",
      "274:\ttotal: 1m 7s\tremaining: 2m 57s\n",
      "275:\ttest: 0.9452086\tbest: 0.9452086 (275)\ttotal: 1m 7s\tremaining: 2m 56s\n",
      "276:\ttotal: 1m 7s\tremaining: 2m 56s\n",
      "277:\ttotal: 1m 7s\tremaining: 2m 56s\n",
      "278:\ttotal: 1m 8s\tremaining: 2m 55s\n",
      "279:\ttotal: 1m 8s\tremaining: 2m 55s\n",
      "280:\ttest: 0.9454615\tbest: 0.9454615 (280)\ttotal: 1m 8s\tremaining: 2m 55s\n",
      "281:\ttotal: 1m 8s\tremaining: 2m 55s\n",
      "282:\ttotal: 1m 8s\tremaining: 2m 54s\n",
      "283:\ttotal: 1m 9s\tremaining: 2m 54s\n",
      "284:\ttotal: 1m 9s\tremaining: 2m 54s\n",
      "285:\ttest: 0.9456566\tbest: 0.9456566 (285)\ttotal: 1m 9s\tremaining: 2m 53s\n",
      "286:\ttotal: 1m 9s\tremaining: 2m 53s\n",
      "287:\ttotal: 1m 10s\tremaining: 2m 53s\n",
      "288:\ttotal: 1m 10s\tremaining: 2m 52s\n",
      "289:\ttotal: 1m 10s\tremaining: 2m 52s\n",
      "290:\ttest: 0.9461924\tbest: 0.9461924 (290)\ttotal: 1m 10s\tremaining: 2m 52s\n",
      "291:\ttotal: 1m 10s\tremaining: 2m 52s\n",
      "292:\ttotal: 1m 11s\tremaining: 2m 51s\n",
      "293:\ttotal: 1m 11s\tremaining: 2m 51s\n",
      "294:\ttotal: 1m 11s\tremaining: 2m 51s\n",
      "295:\ttest: 0.9462023\tbest: 0.9462023 (295)\ttotal: 1m 11s\tremaining: 2m 50s\n",
      "296:\ttotal: 1m 12s\tremaining: 2m 50s\n",
      "297:\ttotal: 1m 12s\tremaining: 2m 50s\n",
      "298:\ttotal: 1m 12s\tremaining: 2m 50s\n",
      "299:\ttotal: 1m 12s\tremaining: 2m 49s\n",
      "300:\ttest: 0.9463305\tbest: 0.9463305 (300)\ttotal: 1m 13s\tremaining: 2m 49s\n",
      "301:\ttotal: 1m 13s\tremaining: 2m 49s\n",
      "302:\ttotal: 1m 13s\tremaining: 2m 49s\n",
      "303:\ttotal: 1m 13s\tremaining: 2m 48s\n",
      "304:\ttotal: 1m 13s\tremaining: 2m 48s\n",
      "305:\ttest: 0.9466168\tbest: 0.9466168 (305)\ttotal: 1m 14s\tremaining: 2m 48s\n",
      "306:\ttotal: 1m 14s\tremaining: 2m 48s\n",
      "307:\ttotal: 1m 14s\tremaining: 2m 48s\n",
      "308:\ttotal: 1m 15s\tremaining: 2m 48s\n",
      "309:\ttotal: 1m 15s\tremaining: 2m 48s\n",
      "310:\ttest: 0.9467799\tbest: 0.9467799 (310)\ttotal: 1m 16s\tremaining: 2m 48s\n",
      "311:\ttotal: 1m 16s\tremaining: 2m 48s\n",
      "312:\ttotal: 1m 16s\tremaining: 2m 47s\n",
      "313:\ttotal: 1m 16s\tremaining: 2m 47s\n",
      "314:\ttotal: 1m 17s\tremaining: 2m 47s\n",
      "315:\ttest: 0.9469518\tbest: 0.9469518 (315)\ttotal: 1m 17s\tremaining: 2m 47s\n",
      "316:\ttotal: 1m 17s\tremaining: 2m 47s\n",
      "317:\ttotal: 1m 17s\tremaining: 2m 46s\n",
      "318:\ttotal: 1m 18s\tremaining: 2m 46s\n",
      "319:\ttotal: 1m 18s\tremaining: 2m 46s\n",
      "320:\ttest: 0.9471093\tbest: 0.9471093 (320)\ttotal: 1m 18s\tremaining: 2m 46s\n",
      "321:\ttotal: 1m 18s\tremaining: 2m 46s\n",
      "322:\ttotal: 1m 19s\tremaining: 2m 45s\n",
      "323:\ttotal: 1m 19s\tremaining: 2m 45s\n",
      "324:\ttotal: 1m 19s\tremaining: 2m 45s\n",
      "325:\ttest: 0.9472871\tbest: 0.9472871 (325)\ttotal: 1m 19s\tremaining: 2m 45s\n",
      "326:\ttotal: 1m 20s\tremaining: 2m 44s\n",
      "327:\ttotal: 1m 20s\tremaining: 2m 44s\n",
      "328:\ttotal: 1m 20s\tremaining: 2m 44s\n",
      "329:\ttotal: 1m 20s\tremaining: 2m 44s\n",
      "330:\ttest: 0.9473753\tbest: 0.9473753 (330)\ttotal: 1m 21s\tremaining: 2m 43s\n",
      "331:\ttotal: 1m 21s\tremaining: 2m 43s\n",
      "332:\ttotal: 1m 21s\tremaining: 2m 43s\n",
      "333:\ttotal: 1m 21s\tremaining: 2m 43s\n",
      "334:\ttotal: 1m 22s\tremaining: 2m 42s\n",
      "335:\ttest: 0.9476107\tbest: 0.9476107 (335)\ttotal: 1m 22s\tremaining: 2m 42s\n",
      "336:\ttotal: 1m 22s\tremaining: 2m 42s\n",
      "337:\ttotal: 1m 22s\tremaining: 2m 42s\n",
      "338:\ttotal: 1m 23s\tremaining: 2m 41s\n",
      "339:\ttotal: 1m 23s\tremaining: 2m 41s\n",
      "340:\ttest: 0.9478037\tbest: 0.9478037 (340)\ttotal: 1m 23s\tremaining: 2m 41s\n",
      "341:\ttotal: 1m 23s\tremaining: 2m 41s\n",
      "342:\ttotal: 1m 23s\tremaining: 2m 40s\n",
      "343:\ttotal: 1m 24s\tremaining: 2m 40s\n",
      "344:\ttotal: 1m 24s\tremaining: 2m 40s\n",
      "345:\ttest: 0.9479475\tbest: 0.9479475 (345)\ttotal: 1m 24s\tremaining: 2m 40s\n",
      "346:\ttotal: 1m 24s\tremaining: 2m 39s\n",
      "347:\ttotal: 1m 25s\tremaining: 2m 39s\n",
      "348:\ttotal: 1m 25s\tremaining: 2m 39s\n",
      "349:\ttotal: 1m 25s\tremaining: 2m 39s\n",
      "350:\ttest: 0.9481215\tbest: 0.9481215 (350)\ttotal: 1m 26s\tremaining: 2m 39s\n",
      "351:\ttotal: 1m 26s\tremaining: 2m 38s\n",
      "352:\ttotal: 1m 26s\tremaining: 2m 38s\n",
      "353:\ttotal: 1m 26s\tremaining: 2m 38s\n",
      "354:\ttotal: 1m 26s\tremaining: 2m 38s\n",
      "355:\ttest: 0.9484336\tbest: 0.9484336 (355)\ttotal: 1m 27s\tremaining: 2m 37s\n",
      "356:\ttotal: 1m 27s\tremaining: 2m 37s\n",
      "357:\ttotal: 1m 27s\tremaining: 2m 37s\n",
      "358:\ttotal: 1m 27s\tremaining: 2m 37s\n",
      "359:\ttotal: 1m 28s\tremaining: 2m 36s\n",
      "360:\ttest: 0.9485471\tbest: 0.9485471 (360)\ttotal: 1m 28s\tremaining: 2m 36s\n",
      "361:\ttotal: 1m 28s\tremaining: 2m 36s\n",
      "362:\ttotal: 1m 28s\tremaining: 2m 36s\n",
      "363:\ttotal: 1m 29s\tremaining: 2m 35s\n",
      "364:\ttotal: 1m 29s\tremaining: 2m 35s\n",
      "365:\ttest: 0.9485770\tbest: 0.9485770 (365)\ttotal: 1m 29s\tremaining: 2m 35s\n",
      "366:\ttotal: 1m 29s\tremaining: 2m 34s\n",
      "367:\ttotal: 1m 30s\tremaining: 2m 34s\n",
      "368:\ttotal: 1m 30s\tremaining: 2m 34s\n",
      "369:\ttotal: 1m 30s\tremaining: 2m 34s\n",
      "370:\ttest: 0.9487538\tbest: 0.9487538 (370)\ttotal: 1m 30s\tremaining: 2m 34s\n",
      "371:\ttotal: 1m 31s\tremaining: 2m 33s\n",
      "372:\ttotal: 1m 31s\tremaining: 2m 33s\n",
      "373:\ttotal: 1m 31s\tremaining: 2m 33s\n",
      "374:\ttotal: 1m 31s\tremaining: 2m 32s\n",
      "375:\ttest: 0.9490231\tbest: 0.9490231 (375)\ttotal: 1m 32s\tremaining: 2m 32s\n",
      "376:\ttotal: 1m 32s\tremaining: 2m 32s\n",
      "377:\ttotal: 1m 32s\tremaining: 2m 32s\n",
      "378:\ttotal: 1m 32s\tremaining: 2m 31s\n",
      "379:\ttotal: 1m 32s\tremaining: 2m 31s\n",
      "380:\ttest: 0.9491803\tbest: 0.9491803 (380)\ttotal: 1m 33s\tremaining: 2m 31s\n",
      "381:\ttotal: 1m 33s\tremaining: 2m 31s\n",
      "382:\ttotal: 1m 33s\tremaining: 2m 30s\n",
      "383:\ttotal: 1m 33s\tremaining: 2m 30s\n",
      "384:\ttotal: 1m 34s\tremaining: 2m 30s\n",
      "385:\ttest: 0.9492761\tbest: 0.9492761 (385)\ttotal: 1m 34s\tremaining: 2m 30s\n",
      "386:\ttotal: 1m 34s\tremaining: 2m 29s\n",
      "387:\ttotal: 1m 34s\tremaining: 2m 29s\n",
      "388:\ttotal: 1m 35s\tremaining: 2m 29s\n",
      "389:\ttotal: 1m 35s\tremaining: 2m 29s\n",
      "390:\ttest: 0.9493925\tbest: 0.9493925 (390)\ttotal: 1m 35s\tremaining: 2m 29s\n",
      "391:\ttotal: 1m 35s\tremaining: 2m 28s\n",
      "392:\ttotal: 1m 36s\tremaining: 2m 28s\n",
      "393:\ttotal: 1m 36s\tremaining: 2m 28s\n",
      "394:\ttotal: 1m 36s\tremaining: 2m 28s\n",
      "395:\ttest: 0.9495187\tbest: 0.9495187 (395)\ttotal: 1m 36s\tremaining: 2m 27s\n",
      "396:\ttotal: 1m 37s\tremaining: 2m 27s\n",
      "397:\ttotal: 1m 37s\tremaining: 2m 27s\n",
      "398:\ttotal: 1m 37s\tremaining: 2m 27s\n",
      "399:\ttotal: 1m 37s\tremaining: 2m 26s\n",
      "400:\ttest: 0.9495650\tbest: 0.9495650 (400)\ttotal: 1m 38s\tremaining: 2m 26s\n",
      "401:\ttotal: 1m 38s\tremaining: 2m 26s\n",
      "402:\ttotal: 1m 38s\tremaining: 2m 26s\n",
      "403:\ttotal: 1m 38s\tremaining: 2m 25s\n",
      "404:\ttotal: 1m 39s\tremaining: 2m 25s\n",
      "405:\ttest: 0.9496314\tbest: 0.9496314 (405)\ttotal: 1m 39s\tremaining: 2m 25s\n",
      "406:\ttotal: 1m 39s\tremaining: 2m 25s\n",
      "407:\ttotal: 1m 39s\tremaining: 2m 24s\n",
      "408:\ttotal: 1m 40s\tremaining: 2m 24s\n",
      "409:\ttotal: 1m 40s\tremaining: 2m 24s\n",
      "410:\ttest: 0.9496720\tbest: 0.9496720 (410)\ttotal: 1m 40s\tremaining: 2m 24s\n",
      "411:\ttotal: 1m 40s\tremaining: 2m 23s\n",
      "412:\ttotal: 1m 41s\tremaining: 2m 23s\n",
      "413:\ttotal: 1m 41s\tremaining: 2m 23s\n",
      "414:\ttotal: 1m 41s\tremaining: 2m 23s\n",
      "415:\ttest: 0.9498513\tbest: 0.9498513 (415)\ttotal: 1m 41s\tremaining: 2m 22s\n",
      "416:\ttotal: 1m 42s\tremaining: 2m 22s\n",
      "417:\ttotal: 1m 42s\tremaining: 2m 22s\n",
      "418:\ttotal: 1m 42s\tremaining: 2m 22s\n",
      "419:\ttotal: 1m 42s\tremaining: 2m 21s\n",
      "420:\ttest: 0.9499070\tbest: 0.9499070 (420)\ttotal: 1m 42s\tremaining: 2m 21s\n",
      "421:\ttotal: 1m 43s\tremaining: 2m 21s\n",
      "422:\ttotal: 1m 43s\tremaining: 2m 21s\n",
      "423:\ttotal: 1m 43s\tremaining: 2m 20s\n",
      "424:\ttotal: 1m 43s\tremaining: 2m 20s\n",
      "425:\ttest: 0.9500308\tbest: 0.9500308 (425)\ttotal: 1m 44s\tremaining: 2m 20s\n",
      "426:\ttotal: 1m 44s\tremaining: 2m 20s\n",
      "427:\ttotal: 1m 44s\tremaining: 2m 20s\n",
      "428:\ttotal: 1m 45s\tremaining: 2m 20s\n",
      "429:\ttotal: 1m 45s\tremaining: 2m 20s\n",
      "430:\ttest: 0.9501851\tbest: 0.9501851 (430)\ttotal: 1m 46s\tremaining: 2m 19s\n",
      "431:\ttotal: 1m 46s\tremaining: 2m 20s\n",
      "432:\ttotal: 1m 47s\tremaining: 2m 20s\n",
      "433:\ttotal: 1m 47s\tremaining: 2m 19s\n",
      "434:\ttotal: 1m 47s\tremaining: 2m 19s\n",
      "435:\ttest: 0.9505520\tbest: 0.9505520 (435)\ttotal: 1m 47s\tremaining: 2m 19s\n",
      "436:\ttotal: 1m 48s\tremaining: 2m 19s\n",
      "437:\ttotal: 1m 48s\tremaining: 2m 18s\n",
      "438:\ttotal: 1m 48s\tremaining: 2m 18s\n",
      "439:\ttotal: 1m 48s\tremaining: 2m 18s\n",
      "440:\ttest: 0.9506475\tbest: 0.9506475 (440)\ttotal: 1m 49s\tremaining: 2m 18s\n",
      "441:\ttotal: 1m 49s\tremaining: 2m 17s\n",
      "442:\ttotal: 1m 49s\tremaining: 2m 17s\n",
      "443:\ttotal: 1m 49s\tremaining: 2m 17s\n",
      "444:\ttotal: 1m 50s\tremaining: 2m 17s\n",
      "445:\ttest: 0.9507146\tbest: 0.9507146 (445)\ttotal: 1m 50s\tremaining: 2m 16s\n",
      "446:\ttotal: 1m 50s\tremaining: 2m 16s\n",
      "447:\ttotal: 1m 50s\tremaining: 2m 16s\n",
      "448:\ttotal: 1m 51s\tremaining: 2m 16s\n",
      "449:\ttotal: 1m 51s\tremaining: 2m 15s\n",
      "450:\ttest: 0.9508421\tbest: 0.9508421 (450)\ttotal: 1m 51s\tremaining: 2m 15s\n",
      "451:\ttotal: 1m 51s\tremaining: 2m 15s\n",
      "452:\ttotal: 1m 51s\tremaining: 2m 15s\n",
      "453:\ttotal: 1m 52s\tremaining: 2m 14s\n",
      "454:\ttotal: 1m 52s\tremaining: 2m 14s\n",
      "455:\ttest: 0.9509566\tbest: 0.9509566 (455)\ttotal: 1m 52s\tremaining: 2m 14s\n",
      "456:\ttotal: 1m 52s\tremaining: 2m 14s\n",
      "457:\ttotal: 1m 53s\tremaining: 2m 13s\n",
      "458:\ttotal: 1m 53s\tremaining: 2m 13s\n",
      "459:\ttotal: 1m 53s\tremaining: 2m 13s\n",
      "460:\ttest: 0.9510294\tbest: 0.9510294 (460)\ttotal: 1m 53s\tremaining: 2m 13s\n",
      "461:\ttotal: 1m 54s\tremaining: 2m 12s\n",
      "462:\ttotal: 1m 54s\tremaining: 2m 12s\n",
      "463:\ttotal: 1m 54s\tremaining: 2m 12s\n",
      "464:\ttotal: 1m 54s\tremaining: 2m 12s\n",
      "465:\ttest: 0.9511379\tbest: 0.9511379 (465)\ttotal: 1m 55s\tremaining: 2m 11s\n",
      "466:\ttotal: 1m 55s\tremaining: 2m 11s\n",
      "467:\ttotal: 1m 55s\tremaining: 2m 11s\n",
      "468:\ttotal: 1m 55s\tremaining: 2m 11s\n",
      "469:\ttotal: 1m 56s\tremaining: 2m 10s\n",
      "470:\ttest: 0.9512665\tbest: 0.9512665 (470)\ttotal: 1m 56s\tremaining: 2m 10s\n",
      "471:\ttotal: 1m 56s\tremaining: 2m 10s\n",
      "472:\ttotal: 1m 56s\tremaining: 2m 10s\n",
      "473:\ttotal: 1m 56s\tremaining: 2m 9s\n",
      "474:\ttotal: 1m 57s\tremaining: 2m 9s\n",
      "475:\ttest: 0.9514042\tbest: 0.9514042 (475)\ttotal: 1m 57s\tremaining: 2m 9s\n",
      "476:\ttotal: 1m 57s\tremaining: 2m 9s\n",
      "477:\ttotal: 1m 57s\tremaining: 2m 8s\n",
      "478:\ttotal: 1m 58s\tremaining: 2m 8s\n",
      "479:\ttotal: 1m 58s\tremaining: 2m 8s\n",
      "480:\ttest: 0.9518518\tbest: 0.9518518 (480)\ttotal: 1m 58s\tremaining: 2m 7s\n",
      "481:\ttotal: 1m 58s\tremaining: 2m 7s\n",
      "482:\ttotal: 1m 59s\tremaining: 2m 7s\n",
      "483:\ttotal: 1m 59s\tremaining: 2m 7s\n",
      "484:\ttotal: 1m 59s\tremaining: 2m 6s\n",
      "485:\ttest: 0.9519952\tbest: 0.9519952 (485)\ttotal: 1m 59s\tremaining: 2m 6s\n",
      "486:\ttotal: 2m\tremaining: 2m 6s\n",
      "487:\ttotal: 2m\tremaining: 2m 6s\n",
      "488:\ttotal: 2m\tremaining: 2m 5s\n",
      "489:\ttotal: 2m\tremaining: 2m 5s\n",
      "490:\ttest: 0.9520895\tbest: 0.9520895 (490)\ttotal: 2m 1s\tremaining: 2m 5s\n",
      "491:\ttotal: 2m 1s\tremaining: 2m 5s\n",
      "492:\ttotal: 2m 1s\tremaining: 2m 4s\n",
      "493:\ttotal: 2m 1s\tremaining: 2m 4s\n",
      "494:\ttotal: 2m 1s\tremaining: 2m 4s\n",
      "495:\ttest: 0.9521512\tbest: 0.9521512 (495)\ttotal: 2m 2s\tremaining: 2m 4s\n",
      "496:\ttotal: 2m 2s\tremaining: 2m 3s\n",
      "497:\ttotal: 2m 2s\tremaining: 2m 3s\n",
      "498:\ttotal: 2m 2s\tremaining: 2m 3s\n",
      "499:\ttotal: 2m 3s\tremaining: 2m 3s\n",
      "500:\ttest: 0.9522738\tbest: 0.9522738 (500)\ttotal: 2m 3s\tremaining: 2m 2s\n",
      "501:\ttotal: 2m 3s\tremaining: 2m 2s\n",
      "502:\ttotal: 2m 3s\tremaining: 2m 2s\n",
      "503:\ttotal: 2m 4s\tremaining: 2m 2s\n",
      "504:\ttotal: 2m 4s\tremaining: 2m 1s\n",
      "505:\ttest: 0.9523701\tbest: 0.9523701 (505)\ttotal: 2m 4s\tremaining: 2m 1s\n",
      "506:\ttotal: 2m 4s\tremaining: 2m 1s\n",
      "507:\ttotal: 2m 5s\tremaining: 2m 1s\n",
      "508:\ttotal: 2m 5s\tremaining: 2m\n",
      "509:\ttotal: 2m 5s\tremaining: 2m\n",
      "510:\ttest: 0.9524679\tbest: 0.9524679 (510)\ttotal: 2m 5s\tremaining: 2m\n",
      "511:\ttotal: 2m 5s\tremaining: 2m\n",
      "512:\ttotal: 2m 6s\tremaining: 1m 59s\n",
      "513:\ttotal: 2m 6s\tremaining: 1m 59s\n",
      "514:\ttotal: 2m 6s\tremaining: 1m 59s\n",
      "515:\ttest: 0.9526031\tbest: 0.9526031 (515)\ttotal: 2m 6s\tremaining: 1m 59s\n",
      "516:\ttotal: 2m 7s\tremaining: 1m 58s\n",
      "517:\ttotal: 2m 7s\tremaining: 1m 58s\n",
      "518:\ttotal: 2m 7s\tremaining: 1m 58s\n",
      "519:\ttotal: 2m 7s\tremaining: 1m 58s\n",
      "520:\ttest: 0.9526813\tbest: 0.9526813 (520)\ttotal: 2m 8s\tremaining: 1m 57s\n",
      "521:\ttotal: 2m 8s\tremaining: 1m 57s\n",
      "522:\ttotal: 2m 8s\tremaining: 1m 57s\n",
      "523:\ttotal: 2m 8s\tremaining: 1m 57s\n",
      "524:\ttotal: 2m 9s\tremaining: 1m 56s\n",
      "525:\ttest: 0.9527145\tbest: 0.9527145 (525)\ttotal: 2m 9s\tremaining: 1m 56s\n",
      "526:\ttotal: 2m 9s\tremaining: 1m 56s\n",
      "527:\ttotal: 2m 9s\tremaining: 1m 56s\n",
      "528:\ttotal: 2m 10s\tremaining: 1m 55s\n",
      "529:\ttotal: 2m 10s\tremaining: 1m 55s\n",
      "530:\ttest: 0.9527488\tbest: 0.9527488 (530)\ttotal: 2m 10s\tremaining: 1m 55s\n",
      "531:\ttotal: 2m 10s\tremaining: 1m 55s\n",
      "532:\ttotal: 2m 11s\tremaining: 1m 54s\n",
      "533:\ttotal: 2m 11s\tremaining: 1m 54s\n",
      "534:\ttotal: 2m 11s\tremaining: 1m 54s\n",
      "535:\ttest: 0.9528118\tbest: 0.9528118 (535)\ttotal: 2m 11s\tremaining: 1m 54s\n",
      "536:\ttotal: 2m 12s\tremaining: 1m 53s\n",
      "537:\ttotal: 2m 12s\tremaining: 1m 53s\n",
      "538:\ttotal: 2m 12s\tremaining: 1m 53s\n",
      "539:\ttotal: 2m 12s\tremaining: 1m 53s\n",
      "540:\ttest: 0.9529979\tbest: 0.9529979 (540)\ttotal: 2m 13s\tremaining: 1m 52s\n",
      "541:\ttotal: 2m 13s\tremaining: 1m 52s\n",
      "542:\ttotal: 2m 13s\tremaining: 1m 52s\n",
      "543:\ttotal: 2m 13s\tremaining: 1m 52s\n",
      "544:\ttotal: 2m 14s\tremaining: 1m 51s\n",
      "545:\ttest: 0.9531125\tbest: 0.9531125 (545)\ttotal: 2m 14s\tremaining: 1m 51s\n",
      "546:\ttotal: 2m 14s\tremaining: 1m 51s\n",
      "547:\ttotal: 2m 14s\tremaining: 1m 51s\n",
      "548:\ttotal: 2m 15s\tremaining: 1m 50s\n",
      "549:\ttotal: 2m 15s\tremaining: 1m 50s\n",
      "550:\ttest: 0.9531164\tbest: 0.9531164 (550)\ttotal: 2m 15s\tremaining: 1m 50s\n",
      "551:\ttotal: 2m 15s\tremaining: 1m 50s\n",
      "552:\ttotal: 2m 16s\tremaining: 1m 49s\n",
      "553:\ttotal: 2m 16s\tremaining: 1m 49s\n",
      "554:\ttotal: 2m 16s\tremaining: 1m 49s\n",
      "555:\ttest: 0.9533185\tbest: 0.9533185 (555)\ttotal: 2m 16s\tremaining: 1m 49s\n",
      "556:\ttotal: 2m 16s\tremaining: 1m 48s\n",
      "557:\ttotal: 2m 17s\tremaining: 1m 48s\n",
      "558:\ttotal: 2m 17s\tremaining: 1m 48s\n",
      "559:\ttotal: 2m 17s\tremaining: 1m 48s\n",
      "560:\ttest: 0.9534007\tbest: 0.9534007 (560)\ttotal: 2m 17s\tremaining: 1m 47s\n",
      "561:\ttotal: 2m 18s\tremaining: 1m 47s\n",
      "562:\ttotal: 2m 18s\tremaining: 1m 47s\n",
      "563:\ttotal: 2m 18s\tremaining: 1m 47s\n",
      "564:\ttotal: 2m 18s\tremaining: 1m 46s\n",
      "565:\ttest: 0.9539388\tbest: 0.9539388 (565)\ttotal: 2m 19s\tremaining: 1m 46s\n",
      "566:\ttotal: 2m 19s\tremaining: 1m 46s\n",
      "567:\ttotal: 2m 19s\tremaining: 1m 46s\n",
      "568:\ttotal: 2m 19s\tremaining: 1m 45s\n",
      "569:\ttotal: 2m 20s\tremaining: 1m 45s\n",
      "570:\ttest: 0.9539532\tbest: 0.9539532 (570)\ttotal: 2m 20s\tremaining: 1m 45s\n",
      "571:\ttotal: 2m 20s\tremaining: 1m 45s\n",
      "572:\ttotal: 2m 20s\tremaining: 1m 44s\n",
      "573:\ttotal: 2m 21s\tremaining: 1m 44s\n",
      "574:\ttotal: 2m 21s\tremaining: 1m 44s\n",
      "575:\ttest: 0.9540088\tbest: 0.9540088 (575)\ttotal: 2m 21s\tremaining: 1m 44s\n",
      "576:\ttotal: 2m 21s\tremaining: 1m 43s\n",
      "577:\ttotal: 2m 22s\tremaining: 1m 43s\n",
      "578:\ttotal: 2m 22s\tremaining: 1m 43s\n",
      "579:\ttotal: 2m 22s\tremaining: 1m 43s\n",
      "580:\ttest: 0.9540319\tbest: 0.9540319 (580)\ttotal: 2m 22s\tremaining: 1m 42s\n",
      "581:\ttotal: 2m 22s\tremaining: 1m 42s\n",
      "582:\ttotal: 2m 23s\tremaining: 1m 42s\n",
      "583:\ttotal: 2m 23s\tremaining: 1m 42s\n",
      "584:\ttotal: 2m 23s\tremaining: 1m 41s\n",
      "585:\ttest: 0.9540893\tbest: 0.9540893 (585)\ttotal: 2m 23s\tremaining: 1m 41s\n",
      "586:\ttotal: 2m 24s\tremaining: 1m 41s\n",
      "587:\ttotal: 2m 24s\tremaining: 1m 41s\n",
      "588:\ttotal: 2m 24s\tremaining: 1m 40s\n",
      "589:\ttotal: 2m 24s\tremaining: 1m 40s\n",
      "590:\ttest: 0.9541163\tbest: 0.9541163 (590)\ttotal: 2m 24s\tremaining: 1m 40s\n",
      "591:\ttotal: 2m 25s\tremaining: 1m 40s\n",
      "592:\ttotal: 2m 25s\tremaining: 1m 39s\n",
      "593:\ttotal: 2m 25s\tremaining: 1m 39s\n",
      "594:\ttotal: 2m 26s\tremaining: 1m 39s\n",
      "595:\ttest: 0.9541461\tbest: 0.9541461 (595)\ttotal: 2m 26s\tremaining: 1m 39s\n",
      "596:\ttotal: 2m 26s\tremaining: 1m 38s\n",
      "597:\ttotal: 2m 26s\tremaining: 1m 38s\n",
      "598:\ttotal: 2m 27s\tremaining: 1m 38s\n",
      "599:\ttotal: 2m 27s\tremaining: 1m 38s\n",
      "600:\ttest: 0.9541852\tbest: 0.9541852 (600)\ttotal: 2m 27s\tremaining: 1m 37s\n",
      "601:\ttotal: 2m 27s\tremaining: 1m 37s\n",
      "602:\ttotal: 2m 27s\tremaining: 1m 37s\n",
      "603:\ttotal: 2m 28s\tremaining: 1m 37s\n",
      "604:\ttotal: 2m 28s\tremaining: 1m 36s\n",
      "605:\ttest: 0.9541927\tbest: 0.9541927 (605)\ttotal: 2m 28s\tremaining: 1m 36s\n",
      "606:\ttotal: 2m 28s\tremaining: 1m 36s\n",
      "607:\ttotal: 2m 29s\tremaining: 1m 36s\n",
      "608:\ttotal: 2m 29s\tremaining: 1m 35s\n",
      "609:\ttotal: 2m 29s\tremaining: 1m 35s\n",
      "610:\ttest: 0.9545462\tbest: 0.9545462 (610)\ttotal: 2m 29s\tremaining: 1m 35s\n",
      "611:\ttotal: 2m 30s\tremaining: 1m 35s\n",
      "612:\ttotal: 2m 30s\tremaining: 1m 34s\n",
      "613:\ttotal: 2m 30s\tremaining: 1m 34s\n",
      "614:\ttotal: 2m 30s\tremaining: 1m 34s\n",
      "615:\ttest: 0.9548010\tbest: 0.9548010 (615)\ttotal: 2m 31s\tremaining: 1m 34s\n",
      "616:\ttotal: 2m 31s\tremaining: 1m 33s\n",
      "617:\ttotal: 2m 31s\tremaining: 1m 33s\n",
      "618:\ttotal: 2m 31s\tremaining: 1m 33s\n",
      "619:\ttotal: 2m 32s\tremaining: 1m 33s\n",
      "620:\ttest: 0.9548563\tbest: 0.9548563 (620)\ttotal: 2m 32s\tremaining: 1m 32s\n",
      "621:\ttotal: 2m 32s\tremaining: 1m 32s\n",
      "622:\ttotal: 2m 32s\tremaining: 1m 32s\n",
      "623:\ttotal: 2m 32s\tremaining: 1m 32s\n",
      "624:\ttotal: 2m 33s\tremaining: 1m 31s\n",
      "625:\ttest: 0.9549566\tbest: 0.9549566 (625)\ttotal: 2m 33s\tremaining: 1m 31s\n",
      "626:\ttotal: 2m 33s\tremaining: 1m 31s\n",
      "627:\ttotal: 2m 34s\tremaining: 1m 31s\n",
      "628:\ttotal: 2m 34s\tremaining: 1m 30s\n",
      "629:\ttotal: 2m 34s\tremaining: 1m 30s\n",
      "630:\ttest: 0.9549698\tbest: 0.9549698 (630)\ttotal: 2m 34s\tremaining: 1m 30s\n",
      "631:\ttotal: 2m 35s\tremaining: 1m 30s\n",
      "632:\ttotal: 2m 35s\tremaining: 1m 30s\n",
      "633:\ttotal: 2m 35s\tremaining: 1m 29s\n",
      "634:\ttotal: 2m 35s\tremaining: 1m 29s\n",
      "635:\ttest: 0.9550596\tbest: 0.9550596 (635)\ttotal: 2m 35s\tremaining: 1m 29s\n",
      "636:\ttotal: 2m 36s\tremaining: 1m 29s\n",
      "637:\ttotal: 2m 36s\tremaining: 1m 28s\n",
      "638:\ttotal: 2m 36s\tremaining: 1m 28s\n",
      "639:\ttotal: 2m 37s\tremaining: 1m 28s\n",
      "640:\ttest: 0.9551339\tbest: 0.9551339 (640)\ttotal: 2m 37s\tremaining: 1m 28s\n",
      "641:\ttotal: 2m 37s\tremaining: 1m 28s\n",
      "642:\ttotal: 2m 38s\tremaining: 1m 27s\n",
      "643:\ttotal: 2m 38s\tremaining: 1m 27s\n",
      "644:\ttotal: 2m 39s\tremaining: 1m 27s\n",
      "645:\ttest: 0.9551774\tbest: 0.9551774 (645)\ttotal: 2m 39s\tremaining: 1m 27s\n",
      "646:\ttotal: 2m 40s\tremaining: 1m 27s\n",
      "647:\ttotal: 2m 40s\tremaining: 1m 27s\n",
      "648:\ttotal: 2m 40s\tremaining: 1m 27s\n",
      "649:\ttotal: 2m 41s\tremaining: 1m 26s\n",
      "650:\ttest: 0.9551898\tbest: 0.9551898 (650)\ttotal: 2m 41s\tremaining: 1m 26s\n",
      "651:\ttotal: 2m 41s\tremaining: 1m 26s\n",
      "652:\ttotal: 2m 41s\tremaining: 1m 25s\n",
      "653:\ttotal: 2m 42s\tremaining: 1m 25s\n",
      "654:\ttotal: 2m 42s\tremaining: 1m 25s\n",
      "655:\ttest: 0.9552608\tbest: 0.9552608 (655)\ttotal: 2m 42s\tremaining: 1m 25s\n",
      "656:\ttotal: 2m 42s\tremaining: 1m 25s\n",
      "657:\ttotal: 2m 43s\tremaining: 1m 24s\n",
      "658:\ttotal: 2m 43s\tremaining: 1m 24s\n",
      "659:\ttotal: 2m 43s\tremaining: 1m 24s\n",
      "660:\ttest: 0.9553069\tbest: 0.9553069 (660)\ttotal: 2m 43s\tremaining: 1m 23s\n",
      "661:\ttotal: 2m 44s\tremaining: 1m 23s\n",
      "662:\ttotal: 2m 44s\tremaining: 1m 23s\n",
      "663:\ttotal: 2m 44s\tremaining: 1m 23s\n",
      "664:\ttotal: 2m 44s\tremaining: 1m 22s\n",
      "665:\ttest: 0.9553837\tbest: 0.9553837 (665)\ttotal: 2m 44s\tremaining: 1m 22s\n",
      "666:\ttotal: 2m 45s\tremaining: 1m 22s\n",
      "667:\ttotal: 2m 45s\tremaining: 1m 22s\n",
      "668:\ttotal: 2m 45s\tremaining: 1m 21s\n",
      "669:\ttotal: 2m 45s\tremaining: 1m 21s\n",
      "670:\ttest: 0.9553987\tbest: 0.9553987 (670)\ttotal: 2m 46s\tremaining: 1m 21s\n",
      "671:\ttotal: 2m 46s\tremaining: 1m 21s\n",
      "672:\ttotal: 2m 46s\tremaining: 1m 20s\n",
      "673:\ttotal: 2m 46s\tremaining: 1m 20s\n",
      "674:\ttotal: 2m 47s\tremaining: 1m 20s\n",
      "675:\ttest: 0.9554213\tbest: 0.9554213 (675)\ttotal: 2m 47s\tremaining: 1m 20s\n",
      "676:\ttotal: 2m 47s\tremaining: 1m 19s\n",
      "677:\ttotal: 2m 47s\tremaining: 1m 19s\n",
      "678:\ttotal: 2m 48s\tremaining: 1m 19s\n",
      "679:\ttotal: 2m 48s\tremaining: 1m 19s\n",
      "680:\ttest: 0.9555192\tbest: 0.9555192 (680)\ttotal: 2m 48s\tremaining: 1m 18s\n",
      "681:\ttotal: 2m 48s\tremaining: 1m 18s\n",
      "682:\ttotal: 2m 49s\tremaining: 1m 18s\n",
      "683:\ttotal: 2m 49s\tremaining: 1m 18s\n",
      "684:\ttotal: 2m 49s\tremaining: 1m 18s\n",
      "685:\ttest: 0.9555743\tbest: 0.9555743 (685)\ttotal: 2m 50s\tremaining: 1m 17s\n",
      "686:\ttotal: 2m 51s\tremaining: 1m 17s\n",
      "687:\ttotal: 2m 51s\tremaining: 1m 17s\n",
      "688:\ttotal: 2m 51s\tremaining: 1m 17s\n",
      "689:\ttotal: 2m 52s\tremaining: 1m 17s\n",
      "690:\ttest: 0.9556522\tbest: 0.9556522 (690)\ttotal: 2m 52s\tremaining: 1m 17s\n",
      "691:\ttotal: 2m 52s\tremaining: 1m 16s\n",
      "692:\ttotal: 2m 53s\tremaining: 1m 16s\n",
      "693:\ttotal: 2m 53s\tremaining: 1m 16s\n",
      "694:\ttotal: 2m 54s\tremaining: 1m 16s\n",
      "695:\ttest: 0.9557177\tbest: 0.9557177 (695)\ttotal: 2m 54s\tremaining: 1m 16s\n",
      "696:\ttotal: 2m 54s\tremaining: 1m 15s\n",
      "697:\ttotal: 2m 55s\tremaining: 1m 15s\n",
      "698:\ttotal: 2m 55s\tremaining: 1m 15s\n",
      "699:\ttotal: 2m 56s\tremaining: 1m 15s\n",
      "700:\ttest: 0.9557918\tbest: 0.9557918 (700)\ttotal: 2m 56s\tremaining: 1m 15s\n",
      "701:\ttotal: 2m 57s\tremaining: 1m 15s\n",
      "702:\ttotal: 2m 57s\tremaining: 1m 15s\n",
      "703:\ttotal: 2m 58s\tremaining: 1m 14s\n",
      "704:\ttotal: 2m 58s\tremaining: 1m 14s\n",
      "705:\ttest: 0.9558079\tbest: 0.9558079 (705)\ttotal: 2m 58s\tremaining: 1m 14s\n",
      "706:\ttotal: 2m 59s\tremaining: 1m 14s\n",
      "707:\ttotal: 2m 59s\tremaining: 1m 13s\n",
      "708:\ttotal: 2m 59s\tremaining: 1m 13s\n",
      "709:\ttotal: 2m 59s\tremaining: 1m 13s\n",
      "710:\ttest: 0.9558879\tbest: 0.9558879 (710)\ttotal: 3m\tremaining: 1m 13s\n",
      "711:\ttotal: 3m\tremaining: 1m 12s\n",
      "712:\ttotal: 3m\tremaining: 1m 12s\n",
      "713:\ttotal: 3m\tremaining: 1m 12s\n",
      "714:\ttotal: 3m 1s\tremaining: 1m 12s\n",
      "715:\ttest: 0.9559519\tbest: 0.9559519 (715)\ttotal: 3m 1s\tremaining: 1m 11s\n",
      "716:\ttotal: 3m 1s\tremaining: 1m 11s\n",
      "717:\ttotal: 3m 1s\tremaining: 1m 11s\n",
      "718:\ttotal: 3m 2s\tremaining: 1m 11s\n",
      "719:\ttotal: 3m 2s\tremaining: 1m 10s\n",
      "720:\ttest: 0.9560135\tbest: 0.9560135 (720)\ttotal: 3m 2s\tremaining: 1m 10s\n",
      "721:\ttotal: 3m 2s\tremaining: 1m 10s\n",
      "722:\ttotal: 3m 2s\tremaining: 1m 10s\n",
      "723:\ttotal: 3m 3s\tremaining: 1m 9s\n",
      "724:\ttotal: 3m 3s\tremaining: 1m 9s\n",
      "725:\ttest: 0.9561847\tbest: 0.9561847 (725)\ttotal: 3m 3s\tremaining: 1m 9s\n",
      "726:\ttotal: 3m 3s\tremaining: 1m 9s\n",
      "727:\ttotal: 3m 4s\tremaining: 1m 8s\n",
      "728:\ttotal: 3m 4s\tremaining: 1m 8s\n",
      "729:\ttotal: 3m 4s\tremaining: 1m 8s\n",
      "730:\ttest: 0.9562406\tbest: 0.9562406 (730)\ttotal: 3m 4s\tremaining: 1m 8s\n",
      "731:\ttotal: 3m 5s\tremaining: 1m 7s\n",
      "732:\ttotal: 3m 5s\tremaining: 1m 7s\n",
      "733:\ttotal: 3m 5s\tremaining: 1m 7s\n",
      "734:\ttotal: 3m 5s\tremaining: 1m 7s\n",
      "735:\ttest: 0.9563405\tbest: 0.9563405 (735)\ttotal: 3m 6s\tremaining: 1m 6s\n",
      "736:\ttotal: 3m 6s\tremaining: 1m 6s\n",
      "737:\ttotal: 3m 6s\tremaining: 1m 6s\n",
      "738:\ttotal: 3m 6s\tremaining: 1m 6s\n",
      "739:\ttotal: 3m 7s\tremaining: 1m 5s\n",
      "740:\ttest: 0.9563821\tbest: 0.9563821 (740)\ttotal: 3m 7s\tremaining: 1m 5s\n",
      "741:\ttotal: 3m 7s\tremaining: 1m 5s\n",
      "742:\ttotal: 3m 7s\tremaining: 1m 4s\n",
      "743:\ttotal: 3m 7s\tremaining: 1m 4s\n",
      "744:\ttotal: 3m 8s\tremaining: 1m 4s\n",
      "745:\ttest: 0.9563933\tbest: 0.9563933 (745)\ttotal: 3m 8s\tremaining: 1m 4s\n",
      "746:\ttotal: 3m 8s\tremaining: 1m 3s\n",
      "747:\ttotal: 3m 8s\tremaining: 1m 3s\n",
      "748:\ttotal: 3m 9s\tremaining: 1m 3s\n",
      "749:\ttotal: 3m 9s\tremaining: 1m 3s\n",
      "750:\ttest: 0.9564606\tbest: 0.9564606 (750)\ttotal: 3m 9s\tremaining: 1m 2s\n",
      "751:\ttotal: 3m 9s\tremaining: 1m 2s\n",
      "752:\ttotal: 3m 10s\tremaining: 1m 2s\n",
      "753:\ttotal: 3m 10s\tremaining: 1m 2s\n",
      "754:\ttotal: 3m 10s\tremaining: 1m 1s\n",
      "755:\ttest: 0.9565288\tbest: 0.9565288 (755)\ttotal: 3m 10s\tremaining: 1m 1s\n",
      "756:\ttotal: 3m 11s\tremaining: 1m 1s\n",
      "757:\ttotal: 3m 11s\tremaining: 1m 1s\n",
      "758:\ttotal: 3m 11s\tremaining: 1m\n",
      "759:\ttotal: 3m 11s\tremaining: 1m\n",
      "760:\ttest: 0.9565395\tbest: 0.9565395 (760)\ttotal: 3m 12s\tremaining: 1m\n",
      "761:\ttotal: 3m 12s\tremaining: 1m\n",
      "762:\ttotal: 3m 12s\tremaining: 59.9s\n",
      "763:\ttotal: 3m 13s\tremaining: 59.7s\n",
      "764:\ttotal: 3m 13s\tremaining: 59.5s\n",
      "765:\ttest: 0.9565601\tbest: 0.9565601 (765)\ttotal: 3m 14s\tremaining: 59.3s\n",
      "766:\ttotal: 3m 14s\tremaining: 59.1s\n",
      "767:\ttotal: 3m 14s\tremaining: 58.8s\n",
      "768:\ttotal: 3m 14s\tremaining: 58.6s\n",
      "769:\ttotal: 3m 15s\tremaining: 58.3s\n",
      "770:\ttest: 0.9566158\tbest: 0.9566158 (770)\ttotal: 3m 15s\tremaining: 58s\n",
      "771:\ttotal: 3m 15s\tremaining: 57.8s\n",
      "772:\ttotal: 3m 15s\tremaining: 57.5s\n",
      "773:\ttotal: 3m 16s\tremaining: 57.3s\n",
      "774:\ttotal: 3m 16s\tremaining: 57s\n",
      "775:\ttest: 0.9566821\tbest: 0.9566821 (775)\ttotal: 3m 16s\tremaining: 56.8s\n",
      "776:\ttotal: 3m 17s\tremaining: 56.5s\n",
      "777:\ttotal: 3m 17s\tremaining: 56.4s\n",
      "778:\ttotal: 3m 18s\tremaining: 56.2s\n",
      "779:\ttotal: 3m 18s\tremaining: 56s\n",
      "780:\ttest: 0.9567688\tbest: 0.9567688 (780)\ttotal: 3m 19s\tremaining: 55.8s\n",
      "781:\ttotal: 3m 19s\tremaining: 55.6s\n",
      "782:\ttotal: 3m 19s\tremaining: 55.4s\n",
      "783:\ttotal: 3m 20s\tremaining: 55.1s\n",
      "784:\ttotal: 3m 20s\tremaining: 54.9s\n",
      "785:\ttest: 0.9570104\tbest: 0.9570104 (785)\ttotal: 3m 20s\tremaining: 54.7s\n",
      "786:\ttotal: 3m 21s\tremaining: 54.4s\n",
      "787:\ttotal: 3m 21s\tremaining: 54.2s\n",
      "788:\ttotal: 3m 21s\tremaining: 54s\n",
      "789:\ttotal: 3m 22s\tremaining: 53.7s\n",
      "790:\ttest: 0.9570417\tbest: 0.9570417 (790)\ttotal: 3m 22s\tremaining: 53.4s\n",
      "791:\ttotal: 3m 22s\tremaining: 53.2s\n",
      "792:\ttotal: 3m 22s\tremaining: 52.9s\n",
      "793:\ttotal: 3m 22s\tremaining: 52.6s\n",
      "794:\ttotal: 3m 23s\tremaining: 52.4s\n",
      "795:\ttest: 0.9571307\tbest: 0.9571307 (795)\ttotal: 3m 23s\tremaining: 52.1s\n",
      "796:\ttotal: 3m 23s\tremaining: 51.9s\n",
      "797:\ttotal: 3m 23s\tremaining: 51.6s\n",
      "798:\ttotal: 3m 24s\tremaining: 51.4s\n",
      "799:\ttotal: 3m 24s\tremaining: 51.1s\n",
      "800:\ttest: 0.9571424\tbest: 0.9571424 (800)\ttotal: 3m 24s\tremaining: 50.8s\n",
      "801:\ttotal: 3m 24s\tremaining: 50.6s\n",
      "802:\ttotal: 3m 25s\tremaining: 50.3s\n",
      "803:\ttotal: 3m 25s\tremaining: 50s\n",
      "804:\ttotal: 3m 25s\tremaining: 49.8s\n",
      "805:\ttest: 0.9571494\tbest: 0.9571494 (805)\ttotal: 3m 25s\tremaining: 49.5s\n",
      "806:\ttotal: 3m 25s\tremaining: 49.3s\n",
      "807:\ttotal: 3m 26s\tremaining: 49s\n",
      "808:\ttotal: 3m 26s\tremaining: 48.7s\n",
      "809:\ttotal: 3m 26s\tremaining: 48.5s\n",
      "810:\ttest: 0.9572091\tbest: 0.9572091 (810)\ttotal: 3m 26s\tremaining: 48.2s\n",
      "811:\ttotal: 3m 27s\tremaining: 48s\n",
      "812:\ttotal: 3m 27s\tremaining: 47.7s\n",
      "813:\ttotal: 3m 27s\tremaining: 47.4s\n",
      "814:\ttotal: 3m 27s\tremaining: 47.2s\n",
      "815:\ttest: 0.9572411\tbest: 0.9572411 (815)\ttotal: 3m 28s\tremaining: 46.9s\n",
      "816:\ttotal: 3m 28s\tremaining: 46.6s\n",
      "817:\ttotal: 3m 28s\tremaining: 46.4s\n",
      "818:\ttotal: 3m 28s\tremaining: 46.1s\n",
      "819:\ttotal: 3m 28s\tremaining: 45.9s\n",
      "820:\ttest: 0.9572653\tbest: 0.9572653 (820)\ttotal: 3m 29s\tremaining: 45.6s\n",
      "821:\ttotal: 3m 29s\tremaining: 45.4s\n",
      "822:\ttotal: 3m 29s\tremaining: 45.1s\n",
      "823:\ttotal: 3m 29s\tremaining: 44.8s\n",
      "824:\ttotal: 3m 30s\tremaining: 44.6s\n",
      "825:\ttest: 0.9573024\tbest: 0.9573024 (825)\ttotal: 3m 30s\tremaining: 44.3s\n",
      "826:\ttotal: 3m 30s\tremaining: 44.1s\n",
      "827:\ttotal: 3m 30s\tremaining: 43.8s\n",
      "828:\ttotal: 3m 31s\tremaining: 43.6s\n",
      "829:\ttotal: 3m 31s\tremaining: 43.3s\n",
      "830:\ttest: 0.9573161\tbest: 0.9573161 (830)\ttotal: 3m 31s\tremaining: 43s\n",
      "831:\ttotal: 3m 31s\tremaining: 42.8s\n",
      "832:\ttotal: 3m 32s\tremaining: 42.5s\n",
      "833:\ttotal: 3m 32s\tremaining: 42.3s\n",
      "834:\ttotal: 3m 32s\tremaining: 42s\n",
      "835:\ttest: 0.9573439\tbest: 0.9573439 (835)\ttotal: 3m 32s\tremaining: 41.8s\n",
      "836:\ttotal: 3m 33s\tremaining: 41.5s\n",
      "837:\ttotal: 3m 33s\tremaining: 41.3s\n",
      "838:\ttotal: 3m 33s\tremaining: 41s\n",
      "839:\ttotal: 3m 33s\tremaining: 40.7s\n",
      "840:\ttest: 0.9573662\tbest: 0.9573662 (840)\ttotal: 3m 34s\tremaining: 40.5s\n",
      "841:\ttotal: 3m 34s\tremaining: 40.2s\n",
      "842:\ttotal: 3m 34s\tremaining: 40s\n",
      "843:\ttotal: 3m 34s\tremaining: 39.7s\n",
      "844:\ttotal: 3m 35s\tremaining: 39.5s\n",
      "845:\ttest: 0.9573849\tbest: 0.9573849 (845)\ttotal: 3m 35s\tremaining: 39.2s\n",
      "846:\ttotal: 3m 35s\tremaining: 38.9s\n",
      "847:\ttotal: 3m 35s\tremaining: 38.7s\n",
      "848:\ttotal: 3m 36s\tremaining: 38.4s\n",
      "849:\ttotal: 3m 36s\tremaining: 38.2s\n",
      "850:\ttest: 0.9573985\tbest: 0.9573985 (850)\ttotal: 3m 36s\tremaining: 37.9s\n",
      "851:\ttotal: 3m 36s\tremaining: 37.7s\n",
      "852:\ttotal: 3m 37s\tremaining: 37.4s\n",
      "853:\ttotal: 3m 37s\tremaining: 37.2s\n",
      "854:\ttotal: 3m 37s\tremaining: 36.9s\n",
      "855:\ttest: 0.9574509\tbest: 0.9574509 (855)\ttotal: 3m 37s\tremaining: 36.6s\n",
      "856:\ttotal: 3m 38s\tremaining: 36.4s\n",
      "857:\ttotal: 3m 38s\tremaining: 36.1s\n",
      "858:\ttotal: 3m 38s\tremaining: 35.9s\n",
      "859:\ttotal: 3m 38s\tremaining: 35.6s\n",
      "860:\ttest: 0.9575883\tbest: 0.9575883 (860)\ttotal: 3m 39s\tremaining: 35.4s\n",
      "861:\ttotal: 3m 39s\tremaining: 35.1s\n",
      "862:\ttotal: 3m 39s\tremaining: 34.9s\n",
      "863:\ttotal: 3m 39s\tremaining: 34.6s\n",
      "864:\ttotal: 3m 40s\tremaining: 34.4s\n",
      "865:\ttest: 0.9576412\tbest: 0.9576412 (865)\ttotal: 3m 40s\tremaining: 34.1s\n",
      "866:\ttotal: 3m 40s\tremaining: 33.8s\n",
      "867:\ttotal: 3m 40s\tremaining: 33.6s\n",
      "868:\ttotal: 3m 41s\tremaining: 33.3s\n",
      "869:\ttotal: 3m 41s\tremaining: 33.1s\n",
      "870:\ttest: 0.9577379\tbest: 0.9577379 (870)\ttotal: 3m 41s\tremaining: 32.8s\n",
      "871:\ttotal: 3m 41s\tremaining: 32.6s\n",
      "872:\ttotal: 3m 42s\tremaining: 32.3s\n",
      "873:\ttotal: 3m 42s\tremaining: 32s\n",
      "874:\ttotal: 3m 42s\tremaining: 31.8s\n",
      "875:\ttest: 0.9577608\tbest: 0.9577608 (875)\ttotal: 3m 42s\tremaining: 31.5s\n",
      "876:\ttotal: 3m 43s\tremaining: 31.3s\n",
      "877:\ttotal: 3m 43s\tremaining: 31s\n",
      "878:\ttotal: 3m 43s\tremaining: 30.8s\n",
      "879:\ttotal: 3m 43s\tremaining: 30.5s\n",
      "880:\ttest: 0.9578233\tbest: 0.9578233 (880)\ttotal: 3m 43s\tremaining: 30.2s\n",
      "881:\ttotal: 3m 44s\tremaining: 30s\n",
      "882:\ttotal: 3m 44s\tremaining: 29.7s\n",
      "883:\ttotal: 3m 44s\tremaining: 29.5s\n",
      "884:\ttotal: 3m 44s\tremaining: 29.2s\n",
      "885:\ttest: 0.9578697\tbest: 0.9578697 (885)\ttotal: 3m 45s\tremaining: 29s\n",
      "886:\ttotal: 3m 45s\tremaining: 28.7s\n",
      "887:\ttotal: 3m 45s\tremaining: 28.5s\n",
      "888:\ttotal: 3m 45s\tremaining: 28.2s\n",
      "889:\ttotal: 3m 46s\tremaining: 27.9s\n",
      "890:\ttest: 0.9578863\tbest: 0.9578863 (890)\ttotal: 3m 46s\tremaining: 27.7s\n",
      "891:\ttotal: 3m 46s\tremaining: 27.4s\n",
      "892:\ttotal: 3m 46s\tremaining: 27.2s\n",
      "893:\ttotal: 3m 47s\tremaining: 26.9s\n",
      "894:\ttotal: 3m 47s\tremaining: 26.7s\n",
      "895:\ttest: 0.9579442\tbest: 0.9579442 (895)\ttotal: 3m 47s\tremaining: 26.4s\n",
      "896:\ttotal: 3m 47s\tremaining: 26.2s\n",
      "897:\ttotal: 3m 47s\tremaining: 25.9s\n",
      "898:\ttotal: 3m 48s\tremaining: 25.6s\n",
      "899:\ttotal: 3m 48s\tremaining: 25.4s\n",
      "900:\ttest: 0.9579621\tbest: 0.9579621 (900)\ttotal: 3m 48s\tremaining: 25.1s\n",
      "901:\ttotal: 3m 48s\tremaining: 24.9s\n",
      "902:\ttotal: 3m 49s\tremaining: 24.6s\n",
      "903:\ttotal: 3m 49s\tremaining: 24.4s\n",
      "904:\ttotal: 3m 49s\tremaining: 24.1s\n",
      "905:\ttest: 0.9580751\tbest: 0.9580751 (905)\ttotal: 3m 49s\tremaining: 23.9s\n",
      "906:\ttotal: 3m 50s\tremaining: 23.6s\n",
      "907:\ttotal: 3m 50s\tremaining: 23.4s\n",
      "908:\ttotal: 3m 50s\tremaining: 23.1s\n",
      "909:\ttotal: 3m 50s\tremaining: 22.8s\n",
      "910:\ttest: 0.9581196\tbest: 0.9581196 (910)\ttotal: 3m 51s\tremaining: 22.6s\n",
      "911:\ttotal: 3m 51s\tremaining: 22.3s\n",
      "912:\ttotal: 3m 51s\tremaining: 22.1s\n",
      "913:\ttotal: 3m 51s\tremaining: 21.8s\n",
      "914:\ttotal: 3m 52s\tremaining: 21.6s\n",
      "915:\ttest: 0.9581293\tbest: 0.9581293 (915)\ttotal: 3m 52s\tremaining: 21.3s\n",
      "916:\ttotal: 3m 52s\tremaining: 21.1s\n",
      "917:\ttotal: 3m 52s\tremaining: 20.8s\n",
      "918:\ttotal: 3m 53s\tremaining: 20.5s\n",
      "919:\ttotal: 3m 53s\tremaining: 20.3s\n",
      "920:\ttest: 0.9583384\tbest: 0.9583384 (920)\ttotal: 3m 53s\tremaining: 20s\n",
      "921:\ttotal: 3m 53s\tremaining: 19.8s\n",
      "922:\ttotal: 3m 54s\tremaining: 19.5s\n",
      "923:\ttotal: 3m 54s\tremaining: 19.3s\n",
      "924:\ttotal: 3m 54s\tremaining: 19s\n",
      "925:\ttest: 0.9584582\tbest: 0.9584582 (925)\ttotal: 3m 54s\tremaining: 18.8s\n",
      "926:\ttotal: 3m 55s\tremaining: 18.5s\n",
      "927:\ttotal: 3m 55s\tremaining: 18.3s\n",
      "928:\ttotal: 3m 55s\tremaining: 18s\n",
      "929:\ttotal: 3m 55s\tremaining: 17.7s\n",
      "930:\ttest: 0.9584749\tbest: 0.9584749 (930)\ttotal: 3m 55s\tremaining: 17.5s\n",
      "931:\ttotal: 3m 56s\tremaining: 17.2s\n",
      "932:\ttotal: 3m 56s\tremaining: 17s\n",
      "933:\ttotal: 3m 56s\tremaining: 16.7s\n",
      "934:\ttotal: 3m 56s\tremaining: 16.5s\n",
      "935:\ttest: 0.9584953\tbest: 0.9584953 (935)\ttotal: 3m 57s\tremaining: 16.2s\n",
      "936:\ttotal: 3m 57s\tremaining: 16s\n",
      "937:\ttotal: 3m 57s\tremaining: 15.7s\n",
      "938:\ttotal: 3m 57s\tremaining: 15.5s\n",
      "939:\ttotal: 3m 58s\tremaining: 15.2s\n",
      "940:\ttest: 0.9585197\tbest: 0.9585197 (940)\ttotal: 3m 58s\tremaining: 14.9s\n",
      "941:\ttotal: 3m 58s\tremaining: 14.7s\n",
      "942:\ttotal: 3m 58s\tremaining: 14.4s\n",
      "943:\ttotal: 3m 59s\tremaining: 14.2s\n",
      "944:\ttotal: 3m 59s\tremaining: 13.9s\n",
      "945:\ttest: 0.9585812\tbest: 0.9585812 (945)\ttotal: 3m 59s\tremaining: 13.7s\n",
      "946:\ttotal: 3m 59s\tremaining: 13.4s\n",
      "947:\ttotal: 4m\tremaining: 13.2s\n",
      "948:\ttotal: 4m\tremaining: 12.9s\n",
      "949:\ttotal: 4m\tremaining: 12.7s\n",
      "950:\ttest: 0.9586120\tbest: 0.9586120 (950)\ttotal: 4m\tremaining: 12.4s\n",
      "951:\ttotal: 4m 1s\tremaining: 12.2s\n",
      "952:\ttotal: 4m 1s\tremaining: 11.9s\n",
      "953:\ttotal: 4m 1s\tremaining: 11.6s\n",
      "954:\ttotal: 4m 1s\tremaining: 11.4s\n",
      "955:\ttest: 0.9586641\tbest: 0.9586641 (955)\ttotal: 4m 2s\tremaining: 11.1s\n",
      "956:\ttotal: 4m 2s\tremaining: 10.9s\n",
      "957:\ttotal: 4m 2s\tremaining: 10.6s\n",
      "958:\ttotal: 4m 2s\tremaining: 10.4s\n",
      "959:\ttotal: 4m 2s\tremaining: 10.1s\n",
      "960:\ttest: 0.9587440\tbest: 0.9587440 (960)\ttotal: 4m 3s\tremaining: 9.87s\n",
      "961:\ttotal: 4m 3s\tremaining: 9.62s\n",
      "962:\ttotal: 4m 3s\tremaining: 9.36s\n",
      "963:\ttotal: 4m 4s\tremaining: 9.11s\n",
      "964:\ttotal: 4m 4s\tremaining: 8.86s\n",
      "965:\ttest: 0.9587748\tbest: 0.9587748 (965)\ttotal: 4m 4s\tremaining: 8.6s\n",
      "966:\ttotal: 4m 4s\tremaining: 8.35s\n",
      "967:\ttotal: 4m 4s\tremaining: 8.1s\n",
      "968:\ttotal: 4m 5s\tremaining: 7.84s\n",
      "969:\ttotal: 4m 5s\tremaining: 7.59s\n",
      "970:\ttest: 0.9587971\tbest: 0.9587971 (970)\ttotal: 4m 5s\tremaining: 7.34s\n",
      "971:\ttotal: 4m 5s\tremaining: 7.08s\n",
      "972:\ttotal: 4m 6s\tremaining: 6.83s\n",
      "973:\ttotal: 4m 6s\tremaining: 6.58s\n",
      "974:\ttotal: 4m 6s\tremaining: 6.33s\n",
      "975:\ttest: 0.9588299\tbest: 0.9588299 (975)\ttotal: 4m 6s\tremaining: 6.07s\n",
      "976:\ttotal: 4m 7s\tremaining: 5.82s\n",
      "977:\ttotal: 4m 7s\tremaining: 5.57s\n",
      "978:\ttotal: 4m 7s\tremaining: 5.31s\n",
      "979:\ttotal: 4m 7s\tremaining: 5.06s\n",
      "980:\ttest: 0.9588841\tbest: 0.9588841 (980)\ttotal: 4m 8s\tremaining: 4.8s\n",
      "981:\ttotal: 4m 8s\tremaining: 4.55s\n",
      "982:\ttotal: 4m 8s\tremaining: 4.3s\n",
      "983:\ttotal: 4m 8s\tremaining: 4.05s\n",
      "984:\ttotal: 4m 9s\tremaining: 3.79s\n",
      "985:\ttest: 0.9589191\tbest: 0.9589191 (985)\ttotal: 4m 9s\tremaining: 3.54s\n",
      "986:\ttotal: 4m 9s\tremaining: 3.29s\n",
      "987:\ttotal: 4m 9s\tremaining: 3.03s\n",
      "988:\ttotal: 4m 10s\tremaining: 2.78s\n",
      "989:\ttotal: 4m 10s\tremaining: 2.53s\n",
      "990:\ttest: 0.9589906\tbest: 0.9589906 (990)\ttotal: 4m 10s\tremaining: 2.27s\n",
      "991:\ttotal: 4m 10s\tremaining: 2.02s\n",
      "992:\ttotal: 4m 10s\tremaining: 1.77s\n",
      "993:\ttotal: 4m 11s\tremaining: 1.52s\n",
      "994:\ttotal: 4m 11s\tremaining: 1.26s\n",
      "995:\ttest: 0.9590369\tbest: 0.9590369 (995)\ttotal: 4m 11s\tremaining: 1.01s\n",
      "996:\ttotal: 4m 11s\tremaining: 758ms\n",
      "997:\ttotal: 4m 12s\tremaining: 505ms\n",
      "998:\ttotal: 4m 12s\tremaining: 253ms\n",
      "999:\ttest: 0.9590487\tbest: 0.9590487 (999)\ttotal: 4m 12s\tremaining: 0us\n",
      "bestTest = 0.9590487182\n",
      "bestIteration = 999\n",
      "              precision    recall  f1-score   support\n",
      "\n",
      "           0       0.99      1.00      0.99    170821\n",
      "           1       0.94      0.62      0.75      6341\n",
      "\n",
      "    accuracy                           0.99    177162\n",
      "   macro avg       0.96      0.81      0.87    177162\n",
      "weighted avg       0.98      0.99      0.98    177162\n",
      "\n"
     ]
    },
    {
     "data": {
      "text/html": [
       "\n",
       "  <div id=\"df-046018f4-977c-4cfa-bb60-98f2835b5242\">\n",
       "    <div class=\"colab-df-container\">\n",
       "      <div>\n",
       "<style scoped>\n",
       "    .dataframe tbody tr th:only-of-type {\n",
       "        vertical-align: middle;\n",
       "    }\n",
       "\n",
       "    .dataframe tbody tr th {\n",
       "        vertical-align: top;\n",
       "    }\n",
       "\n",
       "    .dataframe thead th {\n",
       "        text-align: right;\n",
       "    }\n",
       "</style>\n",
       "<table border=\"1\" class=\"dataframe\">\n",
       "  <thead>\n",
       "    <tr style=\"text-align: right;\">\n",
       "      <th></th>\n",
       "      <th>Accuracy</th>\n",
       "    </tr>\n",
       "  </thead>\n",
       "  <tbody>\n",
       "    <tr>\n",
       "      <th>Catboost_tuned</th>\n",
       "      <td>0.8108</td>\n",
       "    </tr>\n",
       "  </tbody>\n",
       "</table>\n",
       "</div>\n",
       "      <button class=\"colab-df-convert\" onclick=\"convertToInteractive('df-046018f4-977c-4cfa-bb60-98f2835b5242')\"\n",
       "              title=\"Convert this dataframe to an interactive table.\"\n",
       "              style=\"display:none;\">\n",
       "        \n",
       "  <svg xmlns=\"http://www.w3.org/2000/svg\" height=\"24px\"viewBox=\"0 0 24 24\"\n",
       "       width=\"24px\">\n",
       "    <path d=\"M0 0h24v24H0V0z\" fill=\"none\"/>\n",
       "    <path d=\"M18.56 5.44l.94 2.06.94-2.06 2.06-.94-2.06-.94-.94-2.06-.94 2.06-2.06.94zm-11 1L8.5 8.5l.94-2.06 2.06-.94-2.06-.94L8.5 2.5l-.94 2.06-2.06.94zm10 10l.94 2.06.94-2.06 2.06-.94-2.06-.94-.94-2.06-.94 2.06-2.06.94z\"/><path d=\"M17.41 7.96l-1.37-1.37c-.4-.4-.92-.59-1.43-.59-.52 0-1.04.2-1.43.59L10.3 9.45l-7.72 7.72c-.78.78-.78 2.05 0 2.83L4 21.41c.39.39.9.59 1.41.59.51 0 1.02-.2 1.41-.59l7.78-7.78 2.81-2.81c.8-.78.8-2.07 0-2.86zM5.41 20L4 18.59l7.72-7.72 1.47 1.35L5.41 20z\"/>\n",
       "  </svg>\n",
       "      </button>\n",
       "      \n",
       "  <style>\n",
       "    .colab-df-container {\n",
       "      display:flex;\n",
       "      flex-wrap:wrap;\n",
       "      gap: 12px;\n",
       "    }\n",
       "\n",
       "    .colab-df-convert {\n",
       "      background-color: #E8F0FE;\n",
       "      border: none;\n",
       "      border-radius: 50%;\n",
       "      cursor: pointer;\n",
       "      display: none;\n",
       "      fill: #1967D2;\n",
       "      height: 32px;\n",
       "      padding: 0 0 0 0;\n",
       "      width: 32px;\n",
       "    }\n",
       "\n",
       "    .colab-df-convert:hover {\n",
       "      background-color: #E2EBFA;\n",
       "      box-shadow: 0px 1px 2px rgba(60, 64, 67, 0.3), 0px 1px 3px 1px rgba(60, 64, 67, 0.15);\n",
       "      fill: #174EA6;\n",
       "    }\n",
       "\n",
       "    [theme=dark] .colab-df-convert {\n",
       "      background-color: #3B4455;\n",
       "      fill: #D2E3FC;\n",
       "    }\n",
       "\n",
       "    [theme=dark] .colab-df-convert:hover {\n",
       "      background-color: #434B5C;\n",
       "      box-shadow: 0px 1px 3px 1px rgba(0, 0, 0, 0.15);\n",
       "      filter: drop-shadow(0px 1px 2px rgba(0, 0, 0, 0.3));\n",
       "      fill: #FFFFFF;\n",
       "    }\n",
       "  </style>\n",
       "\n",
       "      <script>\n",
       "        const buttonEl =\n",
       "          document.querySelector('#df-046018f4-977c-4cfa-bb60-98f2835b5242 button.colab-df-convert');\n",
       "        buttonEl.style.display =\n",
       "          google.colab.kernel.accessAllowed ? 'block' : 'none';\n",
       "\n",
       "        async function convertToInteractive(key) {\n",
       "          const element = document.querySelector('#df-046018f4-977c-4cfa-bb60-98f2835b5242');\n",
       "          const dataTable =\n",
       "            await google.colab.kernel.invokeFunction('convertToInteractive',\n",
       "                                                     [key], {});\n",
       "          if (!dataTable) return;\n",
       "\n",
       "          const docLinkHtml = 'Like what you see? Visit the ' +\n",
       "            '<a target=\"_blank\" href=https://colab.research.google.com/notebooks/data_table.ipynb>data table notebook</a>'\n",
       "            + ' to learn more about interactive tables.';\n",
       "          element.innerHTML = '';\n",
       "          dataTable['output_type'] = 'display_data';\n",
       "          await google.colab.output.renderOutput(dataTable, element);\n",
       "          const docLink = document.createElement('div');\n",
       "          docLink.innerHTML = docLinkHtml;\n",
       "          element.appendChild(docLink);\n",
       "        }\n",
       "      </script>\n",
       "    </div>\n",
       "  </div>\n",
       "  "
      ],
      "text/plain": [
       "                Accuracy\n",
       "Catboost_tuned    0.8108"
      ]
     },
     "execution_count": 26,
     "metadata": {},
     "output_type": "execute_result"
    }
   ],
   "source": [
    "accuracy =[]\n",
    "model = CatBoostClassifier(verbose=True,random_state=42,\n",
    "                          objective= 'Logloss',\n",
    "    depth= 9,\n",
    "    boosting_type= 'Plain',task_type=\"GPU\",eval_metric=\"AUC\",\n",
    "    bootstrap_type= 'Bernoulli')\n",
    "\n",
    "model.fit(X_train, y_train,cat_features=categorical_features_indices,eval_set=(X_test, y_test), plot=True)\n",
    "y_pred = model.predict(X_test)\n",
    "accuracy.append(round(roc_auc_score(y_test, y_pred),4))\n",
    "print(classification_report(y_test, y_pred))\n",
    "\n",
    "model_names = ['Catboost_tuned']\n",
    "result_df6 = pd.DataFrame({'Accuracy':accuracy}, index=model_names)\n",
    "result_df6"
   ]
  },
  {
   "cell_type": "code",
   "execution_count": null,
   "metadata": {
    "id": "6sEt3a4ZmSGV"
   },
   "outputs": [],
   "source": [
    "eval_pool = Pool(X_test, y_test, cat_features=categorical_features_indices)\n",
    "curve = get_roc_curve(model, eval_pool)\n",
    "(fpr, tpr, thresholds)=curve\n",
    "roc_auc=sklearn.metrics.auc(fpr, tpr)"
   ]
  },
  {
   "cell_type": "code",
   "execution_count": null,
   "metadata": {
    "colab": {
     "base_uri": "https://localhost:8080/",
     "height": 496
    },
    "id": "sygI3UpZmTwZ",
    "outputId": "74aea0db-ae50-40ce-8064-0db4564a3c74"
   },
   "outputs": [
    {
     "data": {
      "image/png": "[encoded data removed]",
      "text/plain": [
       "<Figure size 1152x576 with 1 Axes>"
      ]
     },
     "metadata": {},
     "output_type": "display_data"
    }
   ],
   "source": [
    "plt.figure(figsize=(16, 8))\n",
    "lw=2\n",
    "\n",
    "plt.plot(fpr, tpr, color='darkorange',\n",
    "         lw=lw, label='ROC curve (area = %0.2f)' % roc_auc, alpha=0.5)\n",
    "\n",
    "plt.plot([0, 1], [0, 1], color='navy', lw=lw, linestyle='--', alpha=0.5)\n",
    "\n",
    "plt.xlim([0.0, 1.0])\n",
    "plt.ylim([0.0, 1.05])\n",
    "plt.xticks(fontsize=16)\n",
    "plt.yticks(fontsize=16)\n",
    "plt.grid(True)\n",
    "plt.xlabel('False Positive Rate', fontsize=16)\n",
    "plt.ylabel('True Positive Rate', fontsize=16)\n",
    "plt.title('Receiver operating characteristic', fontsize=20)\n",
    "plt.legend(loc=\"lower right\", fontsize=16)\n",
    "plt.show()"
   ]
  },
  {
   "cell_type": "markdown",
   "metadata": {
    "id": "7fUy1tJ6QQ5_"
   },
   "source": [
    "### Результаты\n",
    "\n",
    "Undersampling | Model | ROC-AUC | \n",
    "--- | --- | --- | \n",
    "Random Sampler | Logistic Regression | 0.78 | \n",
    "Random Sampler | \"Logistic Regression\" - pytorch.nn | 0.81 |\n",
    "Random Sampler | CatBoost Classifier | 0.96 | "
   ]
  }
 ],
 "metadata": {
  "accelerator": "GPU",
  "colab": {
   "provenance": []
  },
  "gpuClass": "standard",
  "kernelspec": {
   "display_name": "Python 3 (ipykernel)",
   "language": "python",
   "name": "python3"
  },
  "language_info": {
   "codemirror_mode": {
    "name": "ipython",
    "version": 3
   },
   "file_extension": ".py",
   "mimetype": "text/x-python",
   "name": "python",
   "nbconvert_exporter": "python",
   "pygments_lexer": "ipython3",
   "version": "3.10.7"
  },
  "widgets": {
   "application/vnd.jupyter.widget-state+json": {
    "4e246e6ec8124cb2a065e10a01e7e8fd": {
     "model_module": "catboost-widget",
     "model_module_version": "^1.0.0",
     "model_name": "CatboostWidgetModel",
     "state": {
      "_dom_classes": [],
      "_model_module": "catboost-widget",
      "_model_module_version": "^1.0.0",
      "_model_name": "CatboostWidgetModel",
      "_view_count": null,
      "_view_module": "catboost-widget",
      "_view_module_version": "^1.0.0",
      "_view_name": "CatboostWidgetView",
      "data": {
       "catboost_info": {
        "content": {
         "data": {
          "iterations": [
           {
            "iteration": 0,
            "learn": [
             0.6210207425
            ],
            "passed_time": 0.2804459642,
            "remaining_time": 280.1655182,
            "test": [
             0.7190179229,
             0.6208487412
            ]
           },
           {
            "iteration": 5,
            "learn": [
             0.3718694663
            ],
            "passed_time": 1.461119305,
            "remaining_time": 242.0587649,
            "test": [
             0.82985425,
             0.3721920562
            ]
           },
           {
            "iteration": 10,
            "learn": [
             0.2485359949
            ],
            "passed_time": 2.667910084,
            "remaining_time": 239.8693703,
            "test": [
             0.8412681222,
             0.2492069846
            ]
           },
           {
            "iteration": 15,
            "learn": [
             0.1822823557
            ],
            "passed_time": 3.889031367,
            "remaining_time": 239.1754291,
            "test": [
             0.8669660985,
             0.1831123866
            ]
           },
           {
            "iteration": 20,
            "learn": [
             0.1470112743
            ],
            "passed_time": 5.0315683,
            "remaining_time": 234.5669222,
            "test": [
             0.8749458194,
             0.1478073388
            ]
           },
           {
            "iteration": 25,
            "learn": [
             0.1256779982
            ],
            "passed_time": 6.584098248,
            "remaining_time": 246.6504498,
            "test": [
             0.8873588443,
             0.1262645669
            ]
           },
           {
            "iteration": 30,
            "learn": [
             0.1128795671
            ],
            "passed_time": 8.89078601,
            "remaining_time": 277.9087627,
            "test": [
             0.8930084407,
             0.1132798389
            ]
           },
           {
            "iteration": 35,
            "learn": [
             0.1042138736
            ],
            "passed_time": 10.1873787,
            "remaining_time": 272.7953629,
            "test": [
             0.8991859555,
             0.1041774927
            ]
           },
           {
            "iteration": 40,
            "learn": [
             0.09799913759
            ],
            "passed_time": 11.3868897,
            "remaining_time": 266.3421274,
            "test": [
             0.9038028717,
             0.09754375586
            ]
           },
           {
            "iteration": 45,
            "learn": [
             0.09393098788
            ],
            "passed_time": 12.60027034,
            "remaining_time": 261.31865,
            "test": [
             0.9060927629,
             0.09328043286
            ]
           },
           {
            "iteration": 50,
            "learn": [
             0.09070582607
            ],
            "passed_time": 13.8903657,
            "remaining_time": 258.4697461,
            "test": [
             0.9090623856,
             0.08988170189
            ]
           },
           {
            "iteration": 55,
            "learn": [
             0.08822620807
            ],
            "passed_time": 15.00981974,
            "remaining_time": 253.0226756,
            "test": [
             0.9119455516,
             0.08716926898
            ]
           },
           {
            "iteration": 60,
            "learn": [
             0.08622489964
            ],
            "passed_time": 16.72101748,
            "remaining_time": 257.3940232,
            "test": [
             0.9144803286,
             0.08499768221
            ]
           },
           {
            "iteration": 65,
            "learn": [
             0.08460862395
            ],
            "passed_time": 17.89864038,
            "remaining_time": 253.2928806,
            "test": [
             0.9168073833,
             0.08325197242
            ]
           },
           {
            "iteration": 70,
            "learn": [
             0.08337772118
            ],
            "passed_time": 19.10917718,
            "remaining_time": 250.0341634,
            "test": [
             0.9181340337,
             0.08197519586
            ]
           },
           {
            "iteration": 75,
            "learn": [
             0.08221017787
            ],
            "passed_time": 20.30070063,
            "remaining_time": 246.8137814,
            "test": [
             0.9192616045,
             0.08071261336
            ]
           },
           {
            "iteration": 80,
            "learn": [
             0.0810574326
            ],
            "passed_time": 21.48553309,
            "remaining_time": 243.7679619,
            "test": [
             0.9209739268,
             0.07941518788
            ]
           },
           {
            "iteration": 85,
            "learn": [
             0.07994739001
            ],
            "passed_time": 22.61963989,
            "remaining_time": 240.3994286,
            "test": [
             0.9224755466,
             0.07825657207
            ]
           },
           {
            "iteration": 90,
            "learn": [
             0.07884103275
            ],
            "passed_time": 23.7374796,
            "remaining_time": 237.1139445,
            "test": [
             0.9246988893,
             0.07712197315
            ]
           },
           {
            "iteration": 95,
            "learn": [
             0.07806070976
            ],
            "passed_time": 25.02160431,
            "remaining_time": 235.6201073,
            "test": [
             0.9260751903,
             0.07627953489
            ]
           },
           {
            "iteration": 100,
            "learn": [
             0.07732989786
            ],
            "passed_time": 26.1191969,
            "remaining_time": 232.486713,
            "test": [
             0.9272772074,
             0.0755267535
            ]
           },
           {
            "iteration": 105,
            "learn": [
             0.07642775555
            ],
            "passed_time": 27.79677381,
            "remaining_time": 234.4369414,
            "test": [
             0.929438144,
             0.07449181619
            ]
           },
           {
            "iteration": 110,
            "learn": [
             0.07578225922
            ],
            "passed_time": 28.92147164,
            "remaining_time": 231.6323269,
            "test": [
             0.9304454327,
             0.0738670239
            ]
           },
           {
            "iteration": 115,
            "learn": [
             0.07531307794
            ],
            "passed_time": 30.033972,
            "remaining_time": 228.8795798,
            "test": [
             0.9309348166,
             0.07344877587
            ]
           },
           {
            "iteration": 120,
            "learn": [
             0.0745432865
            ],
            "passed_time": 31.22903881,
            "remaining_time": 226.862191,
            "test": [
             0.9323000908,
             0.07259150413
            ]
           },
           {
            "iteration": 125,
            "learn": [
             0.07401651946
            ],
            "passed_time": 32.32704345,
            "remaining_time": 224.2367934,
            "test": [
             0.9332850277,
             0.07203672852
            ]
           },
           {
            "iteration": 130,
            "learn": [
             0.07338595819
            ],
            "passed_time": 33.45090736,
            "remaining_time": 221.8995305,
            "test": [
             0.9346301258,
             0.07139627039
            ]
           },
           {
            "iteration": 135,
            "learn": [
             0.07282092506
            ],
            "passed_time": 34.6532531,
            "remaining_time": 220.1500785,
            "test": [
             0.93546471,
             0.07085313667
            ]
           },
           {
            "iteration": 140,
            "learn": [
             0.07242305506
            ],
            "passed_time": 35.81342061,
            "remaining_time": 218.1824702,
            "test": [
             0.93600595,
             0.0704678795
            ]
           },
           {
            "iteration": 145,
            "learn": [
             0.07209331184
            ],
            "passed_time": 37.0621351,
            "remaining_time": 216.7881053,
            "test": [
             0.9362995327,
             0.07020153275
            ]
           },
           {
            "iteration": 150,
            "learn": [
             0.07172604905
            ],
            "passed_time": 38.17639124,
            "remaining_time": 214.6473918,
            "test": [
             0.9369877875,
             0.06985542915
            ]
           },
           {
            "iteration": 155,
            "learn": [
             0.07149616903
            ],
            "passed_time": 39.36752524,
            "remaining_time": 212.9884058,
            "test": [
             0.9374132752,
             0.06964939751
            ]
           },
           {
            "iteration": 160,
            "learn": [
             0.07111864871
            ],
            "passed_time": 40.51034926,
            "remaining_time": 211.1067269,
            "test": [
             0.937964946,
             0.06923399382
            ]
           },
           {
            "iteration": 165,
            "learn": [
             0.07083617703
            ],
            "passed_time": 41.55203493,
            "remaining_time": 208.7614285,
            "test": [
             0.938264668,
             0.0689720238
            ]
           },
           {
            "iteration": 170,
            "learn": [
             0.07049546756
            ],
            "passed_time": 42.70499764,
            "remaining_time": 207.0318307,
            "test": [
             0.9388413429,
             0.06866300666
            ]
           },
           {
            "iteration": 175,
            "learn": [
             0.07022626782
            ],
            "passed_time": 43.82387188,
            "remaining_time": 205.1754002,
            "test": [
             0.9392232597,
             0.0684178821
            ]
           },
           {
            "iteration": 180,
            "learn": [
             0.06993127545
            ],
            "passed_time": 45.00347995,
            "remaining_time": 203.6345308,
            "test": [
             0.9396419227,
             0.06811435517
            ]
           },
           {
            "iteration": 185,
            "learn": [
             0.06961092983
            ],
            "passed_time": 46.1408401,
            "remaining_time": 201.9281927,
            "test": [
             0.9401207864,
             0.06781513883
            ]
           },
           {
            "iteration": 190,
            "learn": [
             0.06927341433
            ],
            "passed_time": 47.2940809,
            "remaining_time": 200.3189081,
            "test": [
             0.9405886829,
             0.06753691316
            ]
           },
           {
            "iteration": 195,
            "learn": [
             0.06892372304
            ],
            "passed_time": 48.5411165,
            "remaining_time": 199.1176412,
            "test": [
             0.9411593974,
             0.06719818496
            ]
           },
           {
            "iteration": 200,
            "learn": [
             0.06862657615
            ],
            "passed_time": 49.80911342,
            "remaining_time": 197.997421,
            "test": [
             0.9415023625,
             0.0669453708
            ]
           },
           {
            "iteration": 205,
            "learn": [
             0.06829602972
            ],
            "passed_time": 51.0479089,
            "remaining_time": 196.7574741,
            "test": [
             0.9418963194,
             0.06664022327
            ]
           },
           {
            "iteration": 210,
            "learn": [
             0.0680065181
            ],
            "passed_time": 52.28621172,
            "remaining_time": 195.5157396,
            "test": [
             0.9423690736,
             0.06641101259
            ]
           },
           {
            "iteration": 215,
            "learn": [
             0.06776003043
            ],
            "passed_time": 53.43906172,
            "remaining_time": 193.9640018,
            "test": [
             0.9428052306,
             0.06621333754
            ]
           },
           {
            "iteration": 220,
            "learn": [
             0.06760091834
            ],
            "passed_time": 54.66609396,
            "remaining_time": 192.6917973,
            "test": [
             0.9429750443,
             0.06610054573
            ]
           },
           {
            "iteration": 225,
            "learn": [
             0.06743796027
            ],
            "passed_time": 55.79775769,
            "remaining_time": 191.0949754,
            "test": [
             0.9431378543,
             0.06594905788
            ]
           },
           {
            "iteration": 230,
            "learn": [
             0.06729166654
            ],
            "passed_time": 57.05027788,
            "remaining_time": 189.920622,
            "test": [
             0.9432674944,
             0.06585157361
            ]
           },
           {
            "iteration": 235,
            "learn": [
             0.06712936522
            ],
            "passed_time": 58.128851,
            "remaining_time": 188.1798397,
            "test": [
             0.9434706867,
             0.06572944956
            ]
           },
           {
            "iteration": 240,
            "learn": [
             0.06700334084
            ],
            "passed_time": 59.29330193,
            "remaining_time": 186.7369965,
            "test": [
             0.9436880648,
             0.06562290314
            ]
           },
           {
            "iteration": 245,
            "learn": [
             0.0667228583
            ],
            "passed_time": 60.46687107,
            "remaining_time": 185.3334178,
            "test": [
             0.9439966977,
             0.06540716442
            ]
           },
           {
            "iteration": 250,
            "learn": [
             0.06653965922
            ],
            "passed_time": 61.53757885,
            "remaining_time": 183.632058,
            "test": [
             0.9441848099,
             0.0652626165
            ]
           },
           {
            "iteration": 255,
            "learn": [
             0.06636467183
            ],
            "passed_time": 62.76833607,
            "remaining_time": 182.4204767,
            "test": [
             0.9443490207,
             0.06514000185
            ]
           },
           {
            "iteration": 260,
            "learn": [
             0.06619307684
            ],
            "passed_time": 63.86570112,
            "remaining_time": 180.8304717,
            "test": [
             0.9446223676,
             0.06497913214
            ]
           },
           {
            "iteration": 265,
            "learn": [
             0.06597418196
            ],
            "passed_time": 65.07541237,
            "remaining_time": 179.568995,
            "test": [
             0.9449474812,
             0.06478288476
            ]
           },
           {
            "iteration": 270,
            "learn": [
             0.06582703304
            ],
            "passed_time": 66.2935817,
            "remaining_time": 178.332181,
            "test": [
             0.9451131821,
             0.06466698404
            ]
           },
           {
            "iteration": 275,
            "learn": [
             0.065718051
            ],
            "passed_time": 67.40785276,
            "remaining_time": 176.8234978,
            "test": [
             0.9452085793,
             0.06455179992
            ]
           },
           {
            "iteration": 280,
            "learn": [
             0.0654994585
            ],
            "passed_time": 68.49313167,
            "remaining_time": 175.2546679,
            "test": [
             0.945461452,
             0.06436825829
            ]
           },
           {
            "iteration": 285,
            "learn": [
             0.06537257894
            ],
            "passed_time": 69.60441742,
            "remaining_time": 173.7676715,
            "test": [
             0.9456565678,
             0.06426387268
            ]
           },
           {
            "iteration": 290,
            "learn": [
             0.06502885506
            ],
            "passed_time": 70.74776027,
            "remaining_time": 172.3716908,
            "test": [
             0.9461924434,
             0.06395249629
            ]
           },
           {
            "iteration": 295,
            "learn": [
             0.06495466638
            ],
            "passed_time": 71.87573619,
            "remaining_time": 170.9476969,
            "test": [
             0.9462022781,
             0.06391676033
            ]
           },
           {
            "iteration": 300,
            "learn": [
             0.06482510314
            ],
            "passed_time": 73.04722958,
            "remaining_time": 169.6345963,
            "test": [
             0.9463304877,
             0.06383751612
            ]
           },
           {
            "iteration": 305,
            "learn": [
             0.0646267611
            ],
            "passed_time": 74.22546448,
            "remaining_time": 168.3414129,
            "test": [
             0.9466167688,
             0.06366430998
            ]
           },
           {
            "iteration": 310,
            "learn": [
             0.06442703942
            ],
            "passed_time": 76.00189852,
            "remaining_time": 168.3771964,
            "test": [
             0.9467799366,
             0.06351395214
            ]
           },
           {
            "iteration": 315,
            "learn": [
             0.06426668471
            ],
            "passed_time": 77.27891314,
            "remaining_time": 167.2746094,
            "test": [
             0.9469517767,
             0.06338079806
            ]
           },
           {
            "iteration": 320,
            "learn": [
             0.06409754189
            ],
            "passed_time": 78.59732583,
            "remaining_time": 166.2541565,
            "test": [
             0.947109282,
             0.06325618246
            ]
           },
           {
            "iteration": 325,
            "learn": [
             0.06395342629
            ],
            "passed_time": 79.83803909,
            "remaining_time": 165.0639213,
            "test": [
             0.9472871423,
             0.0631648609
            ]
           },
           {
            "iteration": 330,
            "learn": [
             0.06382470879
            ],
            "passed_time": 81.06750172,
            "remaining_time": 163.8494219,
            "test": [
             0.9473752975,
             0.06307463627
            ]
           },
           {
            "iteration": 335,
            "learn": [
             0.06362929612
            ],
            "passed_time": 82.26419797,
            "remaining_time": 162.5697246,
            "test": [
             0.9476107359,
             0.06290828186
            ]
           },
           {
            "iteration": 340,
            "learn": [
             0.0635077981
            ],
            "passed_time": 83.48814842,
            "remaining_time": 161.3451314,
            "test": [
             0.9478036761,
             0.06283063621
            ]
           },
           {
            "iteration": 345,
            "learn": [
             0.06335700637
            ],
            "passed_time": 84.74295201,
            "remaining_time": 160.1788746,
            "test": [
             0.9479475319,
             0.06272427721
            ]
           },
           {
            "iteration": 350,
            "learn": [
             0.06317799818
            ],
            "passed_time": 85.99946633,
            "remaining_time": 159.0132583,
            "test": [
             0.9481215477,
             0.06262427935
            ]
           },
           {
            "iteration": 355,
            "learn": [
             0.06291278144
            ],
            "passed_time": 87.26042914,
            "remaining_time": 157.8531359,
            "test": [
             0.948433578,
             0.06240339218
            ]
           },
           {
            "iteration": 360,
            "learn": [
             0.0628115764
            ],
            "passed_time": 88.49810809,
            "remaining_time": 156.6490057,
            "test": [
             0.9485470951,
             0.06232392748
            ]
           },
           {
            "iteration": 365,
            "learn": [
             0.06271358894
            ],
            "passed_time": 89.66264289,
            "remaining_time": 155.3172557,
            "test": [
             0.9485770464,
             0.06227808204
            ]
           },
           {
            "iteration": 370,
            "learn": [
             0.0625465581
            ],
            "passed_time": 90.84554003,
            "remaining_time": 154.0211447,
            "test": [
             0.948753804,
             0.06217699276
            ]
           },
           {
            "iteration": 375,
            "learn": [
             0.06239707513
            ],
            "passed_time": 92.03264037,
            "remaining_time": 152.7350202,
            "test": [
             0.9490231276,
             0.06204125894
            ]
           },
           {
            "iteration": 380,
            "learn": [
             0.06226191301
            ],
            "passed_time": 93.15734373,
            "remaining_time": 151.3501201,
            "test": [
             0.9491803348,
             0.06191556294
            ]
           },
           {
            "iteration": 385,
            "learn": [
             0.06219350748
            ],
            "passed_time": 94.37716861,
            "remaining_time": 150.1232682,
            "test": [
             0.9492761493,
             0.06187406115
            ]
           },
           {
            "iteration": 390,
            "learn": [
             0.06203300157
            ],
            "passed_time": 95.67570092,
            "remaining_time": 149.0191863,
            "test": [
             0.9493924975,
             0.06176374986
            ]
           },
           {
            "iteration": 395,
            "learn": [
             0.06189008607
            ],
            "passed_time": 96.96592269,
            "remaining_time": 147.8975185,
            "test": [
             0.9495187402,
             0.06164507648
            ]
           },
           {
            "iteration": 400,
            "learn": [
             0.06179524532
            ],
            "passed_time": 98.22312994,
            "remaining_time": 146.7223313,
            "test": [
             0.9495650232,
             0.06158654182
            ]
           },
           {
            "iteration": 405,
            "learn": [
             0.06173607203
            ],
            "passed_time": 99.41092212,
            "remaining_time": 145.4435659,
            "test": [
             0.949631393,
             0.06154987429
            ]
           },
           {
            "iteration": 410,
            "learn": [
             0.06163253294
            ],
            "passed_time": 100.5991294,
            "remaining_time": 144.1676088,
            "test": [
             0.9496720433,
             0.06150416114
            ]
           },
           {
            "iteration": 415,
            "learn": [
             0.06147780074
            ],
            "passed_time": 101.8241649,
            "remaining_time": 142.9454623,
            "test": [
             0.9498513341,
             0.06137194965
            ]
           },
           {
            "iteration": 420,
            "learn": [
             0.06140975428
            ],
            "passed_time": 102.9249089,
            "remaining_time": 141.5523095,
            "test": [
             0.9499070048,
             0.06131119355
            ]
           },
           {
            "iteration": 425,
            "learn": [
             0.06131329766
            ],
            "passed_time": 104.1395454,
            "remaining_time": 140.3194814,
            "test": [
             0.9500308037,
             0.06124843099
            ]
           },
           {
            "iteration": 430,
            "learn": [
             0.06109841885
            ],
            "passed_time": 106.0269747,
            "remaining_time": 139.9752868,
            "test": [
             0.9501851201,
             0.06110108285
            ]
           },
           {
            "iteration": 435,
            "learn": [
             0.0609185224
            ],
            "passed_time": 107.773616,
            "remaining_time": 139.4135767,
            "test": [
             0.9505520463,
             0.06090964767
            ]
           },
           {
            "iteration": 440,
            "learn": [
             0.06081673149
            ],
            "passed_time": 109.0555372,
            "remaining_time": 138.2359303,
            "test": [
             0.9506475329,
             0.06085657014
            ]
           },
           {
            "iteration": 445,
            "learn": [
             0.06071588553
            ],
            "passed_time": 110.2615629,
            "remaining_time": 136.9616724,
            "test": [
             0.9507146478,
             0.0607961558
            ]
           },
           {
            "iteration": 450,
            "learn": [
             0.06057696247
            ],
            "passed_time": 111.4858159,
            "remaining_time": 135.7111151,
            "test": [
             0.9508420527,
             0.06070101976
            ]
           },
           {
            "iteration": 455,
            "learn": [
             0.0604532627
            ],
            "passed_time": 112.691969,
            "remaining_time": 134.4395419,
            "test": [
             0.9509566426,
             0.06063180786
            ]
           },
           {
            "iteration": 460,
            "learn": [
             0.06038066155
            ],
            "passed_time": 113.8518885,
            "remaining_time": 133.1153317,
            "test": [
             0.9510293603,
             0.06059038325
            ]
           },
           {
            "iteration": 465,
            "learn": [
             0.06026415763
            ],
            "passed_time": 115.0506962,
            "remaining_time": 131.8392098,
            "test": [
             0.9511379004,
             0.0605212871
            ]
           },
           {
            "iteration": 470,
            "learn": [
             0.06016030198
            ],
            "passed_time": 116.3175948,
            "remaining_time": 130.6412052,
            "test": [
             0.9512664676,
             0.06044508566
            ]
           },
           {
            "iteration": 475,
            "learn": [
             0.06000148283
            ],
            "passed_time": 117.4875603,
            "remaining_time": 129.3350454,
            "test": [
             0.9514041543,
             0.06034428853
            ]
           },
           {
            "iteration": 480,
            "learn": [
             0.05975716857
            ],
            "passed_time": 118.6073338,
            "remaining_time": 127.9775598,
            "test": [
             0.9518518448,
             0.06007608965
            ]
           },
           {
            "iteration": 485,
            "learn": [
             0.05962032915
            ],
            "passed_time": 119.7735391,
            "remaining_time": 126.6740722,
            "test": [
             0.9519951642,
             0.05998114654
            ]
           },
           {
            "iteration": 490,
            "learn": [
             0.05950315903
            ],
            "passed_time": 120.9992495,
            "remaining_time": 125.4350672,
            "test": [
             0.9520894587,
             0.05991178581
            ]
           },
           {
            "iteration": 495,
            "learn": [
             0.05943952554
            ],
            "passed_time": 122.2139265,
            "remaining_time": 124.1851189,
            "test": [
             0.9521512389,
             0.05987774211
            ]
           },
           {
            "iteration": 500,
            "learn": [
             0.05932614471
            ],
            "passed_time": 123.4291778,
            "remaining_time": 122.9364466,
            "test": [
             0.9522738457,
             0.05980389991
            ]
           },
           {
            "iteration": 505,
            "learn": [
             0.05922127795
            ],
            "passed_time": 124.649684,
            "remaining_time": 121.693565,
            "test": [
             0.9523701072,
             0.0597410712
            ]
           },
           {
            "iteration": 510,
            "learn": [
             0.05911744593
            ],
            "passed_time": 125.7693548,
            "remaining_time": 120.3546272,
            "test": [
             0.9524678588,
             0.05967954339
            ]
           },
           {
            "iteration": 515,
            "learn": [
             0.0590141856
            ],
            "passed_time": 126.987049,
            "remaining_time": 119.1118832,
            "test": [
             0.9526031315,
             0.05960603744
            ]
           },
           {
            "iteration": 520,
            "learn": [
             0.05890159381
            ],
            "passed_time": 128.2442959,
            "remaining_time": 117.9059841,
            "test": [
             0.9526813328,
             0.05953341345
            ]
           },
           {
            "iteration": 525,
            "learn": [
             0.05883939193
            ],
            "passed_time": 129.4366502,
            "remaining_time": 116.6406316,
            "test": [
             0.9527145028,
             0.05949897838
            ]
           },
           {
            "iteration": 530,
            "learn": [
             0.05877276291
            ],
            "passed_time": 130.63917,
            "remaining_time": 115.3856323,
            "test": [
             0.9527487755,
             0.05947488982
            ]
           },
           {
            "iteration": 535,
            "learn": [
             0.05870543935
            ],
            "passed_time": 131.8286636,
            "remaining_time": 114.1203357,
            "test": [
             0.9528117776,
             0.05943885068
            ]
           },
           {
            "iteration": 540,
            "learn": [
             0.05856496184
            ],
            "passed_time": 133.0818239,
            "remaining_time": 112.9104569,
            "test": [
             0.9529979229,
             0.05930796765
            ]
           },
           {
            "iteration": 545,
            "learn": [
             0.05845952339
            ],
            "passed_time": 134.342017,
            "remaining_time": 111.7056332,
            "test": [
             0.953112483,
             0.05924930621
            ]
           },
           {
            "iteration": 550,
            "learn": [
             0.05842982335
            ],
            "passed_time": 135.5127824,
            "remaining_time": 110.4269315,
            "test": [
             0.9531163573,
             0.05924155597
            ]
           },
           {
            "iteration": 555,
            "learn": [
             0.058263591
            ],
            "passed_time": 136.7114216,
            "remaining_time": 109.1724302,
            "test": [
             0.9533185363,
             0.05910997288
            ]
           },
           {
            "iteration": 560,
            "learn": [
             0.05818863217
            ],
            "passed_time": 137.913876,
            "remaining_time": 107.9219101,
            "test": [
             0.9534007311,
             0.05907220841
            ]
           },
           {
            "iteration": 565,
            "learn": [
             0.05796828678
            ],
            "passed_time": 139.1049173,
            "remaining_time": 106.6634878,
            "test": [
             0.9539387822,
             0.05883467422
            ]
           },
           {
            "iteration": 570,
            "learn": [
             0.0579053809
            ],
            "passed_time": 140.3086348,
            "remaining_time": 105.4157694,
            "test": [
             0.9539532065,
             0.05881018878
            ]
           },
           {
            "iteration": 575,
            "learn": [
             0.0578163422
            ],
            "passed_time": 141.5141347,
            "remaining_time": 104.170127,
            "test": [
             0.9540088177,
             0.05875531426
            ]
           },
           {
            "iteration": 580,
            "learn": [
             0.05775855327
            ],
            "passed_time": 142.6165482,
            "remaining_time": 102.8508325,
            "test": [
             0.9540319443,
             0.05873177692
            ]
           },
           {
            "iteration": 585,
            "learn": [
             0.05768876337
            ],
            "passed_time": 143.8038969,
            "remaining_time": 101.5952445,
            "test": [
             0.9540893435,
             0.05869216033
            ]
           },
           {
            "iteration": 590,
            "learn": [
             0.05764260688
            ],
            "passed_time": 144.9921116,
            "remaining_time": 100.3414106,
            "test": [
             0.9541162848,
             0.05866558574
            ]
           },
           {
            "iteration": 595,
            "learn": [
             0.05758104284
            ],
            "passed_time": 146.2741702,
            "remaining_time": 99.15228985,
            "test": [
             0.9541461468,
             0.05863735747
            ]
           },
           {
            "iteration": 600,
            "learn": [
             0.05747540595
            ],
            "passed_time": 147.5423179,
            "remaining_time": 97.95238742,
            "test": [
             0.9541851878,
             0.05859551943
            ]
           },
           {
            "iteration": 605,
            "learn": [
             0.05744302695
            ],
            "passed_time": 148.664883,
            "remaining_time": 96.65670614,
            "test": [
             0.9541927278,
             0.05858104976
            ]
           },
           {
            "iteration": 610,
            "learn": [
             0.05729901057
            ],
            "passed_time": 149.8128827,
            "remaining_time": 95.38005132,
            "test": [
             0.9545462132,
             0.05842718613
            ]
           },
           {
            "iteration": 615,
            "learn": [
             0.05717111045
            ],
            "passed_time": 151.0391929,
            "remaining_time": 94.15430206,
            "test": [
             0.9548009932,
             0.05830003489
            ]
           },
           {
            "iteration": 620,
            "learn": [
             0.05707325529
            ],
            "passed_time": 152.2508131,
            "remaining_time": 92.91957839,
            "test": [
             0.9548562765,
             0.05824836299
            ]
           },
           {
            "iteration": 625,
            "learn": [
             0.05695055717
            ],
            "passed_time": 153.5126611,
            "remaining_time": 91.71523204,
            "test": [
             0.9549565613,
             0.05817432235
            ]
           },
           {
            "iteration": 630,
            "learn": [
             0.05691983185
            ],
            "passed_time": 154.7402516,
            "remaining_time": 90.48994108,
            "test": [
             0.9549698234,
             0.05815540429
            ]
           },
           {
            "iteration": 635,
            "learn": [
             0.0568240178
            ],
            "passed_time": 155.9918303,
            "remaining_time": 89.27834313,
            "test": [
             0.9550596178,
             0.05810172593
            ]
           },
           {
            "iteration": 640,
            "learn": [
             0.05674215605
            ],
            "passed_time": 157.4610631,
            "remaining_time": 88.18802127,
            "test": [
             0.9551339149,
             0.05806049976
            ]
           },
           {
            "iteration": 645,
            "learn": [
             0.05664450878
            ],
            "passed_time": 159.788529,
            "remaining_time": 87.56213506,
            "test": [
             0.9551774263,
             0.05801081778
            ]
           },
           {
            "iteration": 650,
            "learn": [
             0.05660616237
            ],
            "passed_time": 161.3400164,
            "remaining_time": 86.49411017,
            "test": [
             0.9551898241,
             0.05799617172
            ]
           },
           {
            "iteration": 655,
            "learn": [
             0.05653595669
            ],
            "passed_time": 162.5628005,
            "remaining_time": 85.24634659,
            "test": [
             0.9552608132,
             0.05794780717
            ]
           },
           {
            "iteration": 660,
            "learn": [
             0.05646134277
            ],
            "passed_time": 163.7740018,
            "remaining_time": 83.99302057,
            "test": [
             0.9553068876,
             0.05790596363
            ]
           },
           {
            "iteration": 665,
            "learn": [
             0.05638314747
            ],
            "passed_time": 164.9405861,
            "remaining_time": 82.71795161,
            "test": [
             0.9553836584,
             0.0578487023
            ]
           },
           {
            "iteration": 670,
            "learn": [
             0.05634692721
            ],
            "passed_time": 166.1041245,
            "remaining_time": 81.44300588,
            "test": [
             0.9553986788,
             0.05783315773
            ]
           },
           {
            "iteration": 675,
            "learn": [
             0.05631826663
            ],
            "passed_time": 167.3026621,
            "remaining_time": 80.18648303,
            "test": [
             0.9554213285,
             0.057815965
            ]
           },
           {
            "iteration": 680,
            "learn": [
             0.05621590874
            ],
            "passed_time": 168.5615128,
            "remaining_time": 78.95906398,
            "test": [
             0.9555191696,
             0.05774234881
            ]
           },
           {
            "iteration": 685,
            "learn": [
             0.05616444158
            ],
            "passed_time": 170.3868253,
            "remaining_time": 77.99047107,
            "test": [
             0.9555743337,
             0.0577158569
            ]
           },
           {
            "iteration": 690,
            "learn": [
             0.05611028602
            ],
            "passed_time": 172.5046555,
            "remaining_time": 77.14028732,
            "test": [
             0.9556521773,
             0.05767853341
            ]
           },
           {
            "iteration": 695,
            "learn": [
             0.05606114818
            ],
            "passed_time": 174.4645172,
            "remaining_time": 76.20289259,
            "test": [
             0.955717653,
             0.05764758209
            ]
           },
           {
            "iteration": 700,
            "learn": [
             0.055978899
            ],
            "passed_time": 176.8140552,
            "remaining_time": 75.41712199,
            "test": [
             0.9557918012,
             0.05759918998
            ]
           },
           {
            "iteration": 705,
            "learn": [
             0.05593414105
            ],
            "passed_time": 178.787728,
            "remaining_time": 74.45267993,
            "test": [
             0.9558078647,
             0.05758605978
            ]
           },
           {
            "iteration": 710,
            "learn": [
             0.05583535038
            ],
            "passed_time": 180.1827537,
            "remaining_time": 73.2388408,
            "test": [
             0.9558878541,
             0.05753056238
            ]
           },
           {
            "iteration": 715,
            "learn": [
             0.05574550846
            ],
            "passed_time": 181.3349131,
            "remaining_time": 71.92613871,
            "test": [
             0.9559518695,
             0.0574645531
            ]
           },
           {
            "iteration": 720,
            "learn": [
             0.05567611544
            ],
            "passed_time": 182.4831988,
            "remaining_time": 70.61416429,
            "test": [
             0.9560135007,
             0.05739001636
            ]
           },
           {
            "iteration": 725,
            "learn": [
             0.05555267553
            ],
            "passed_time": 183.6878721,
            "remaining_time": 69.32572585,
            "test": [
             0.9561846852,
             0.05728911449
            ]
           },
           {
            "iteration": 730,
            "learn": [
             0.05545369114
            ],
            "passed_time": 184.9332055,
            "remaining_time": 68.05339574,
            "test": [
             0.9562405646,
             0.0572347471
            ]
           },
           {
            "iteration": 735,
            "learn": [
             0.05539375243
            ],
            "passed_time": 186.1501312,
            "remaining_time": 66.77124272,
            "test": [
             0.9563404918,
             0.05720000885
            ]
           },
           {
            "iteration": 740,
            "learn": [
             0.05535171596
            ],
            "passed_time": 187.3396519,
            "remaining_time": 65.48039114,
            "test": [
             0.9563820958,
             0.05717587619
            ]
           },
           {
            "iteration": 745,
            "learn": [
             0.05531979054
            ],
            "passed_time": 188.4567781,
            "remaining_time": 64.16624885,
            "test": [
             0.9563933313,
             0.05716285624
            ]
           },
           {
            "iteration": 750,
            "learn": [
             0.05524913128
            ],
            "passed_time": 189.6939114,
            "remaining_time": 62.89451924,
            "test": [
             0.9564605951,
             0.05712536738
            ]
           },
           {
            "iteration": 755,
            "learn": [
             0.05518962253
            ],
            "passed_time": 190.8647042,
            "remaining_time": 61.60183576,
            "test": [
             0.9565287828,
             0.05708941644
            ]
           },
           {
            "iteration": 760,
            "learn": [
             0.05513369517
            ],
            "passed_time": 192.0800181,
            "remaining_time": 60.3247363,
            "test": [
             0.9565395117,
             0.05706760995
            ]
           },
           {
            "iteration": 765,
            "learn": [
             0.05508820015
            ],
            "passed_time": 194.2445863,
            "remaining_time": 59.33842453,
            "test": [
             0.9565601051,
             0.05704819578
            ]
           },
           {
            "iteration": 770,
            "learn": [
             0.05504373513
            ],
            "passed_time": 195.4155018,
            "remaining_time": 58.04169898,
            "test": [
             0.9566158354,
             0.05702541913
            ]
           },
           {
            "iteration": 775,
            "learn": [
             0.05496182614
            ],
            "passed_time": 196.7240448,
            "remaining_time": 56.78632222,
            "test": [
             0.9566821158,
             0.05697425988
            ]
           },
           {
            "iteration": 780,
            "learn": [
             0.05486370639
            ],
            "passed_time": 199.0783262,
            "remaining_time": 55.82349991,
            "test": [
             0.9567687809,
             0.05691944599
            ]
           },
           {
            "iteration": 785,
            "learn": [
             0.05473442663
            ],
            "passed_time": 200.7984976,
            "remaining_time": 54.67032887,
            "test": [
             0.957010448,
             0.05680005601
            ]
           },
           {
            "iteration": 790,
            "learn": [
             0.05467588646
            ],
            "passed_time": 202.2136921,
            "remaining_time": 53.42940789,
            "test": [
             0.957041651,
             0.05677282546
            ]
           },
           {
            "iteration": 795,
            "learn": [
             0.05455131732
            ],
            "passed_time": 203.4158805,
            "remaining_time": 52.13170806,
            "test": [
             0.9571307003,
             0.05669752252
            ]
           },
           {
            "iteration": 800,
            "learn": [
             0.05451233307
            ],
            "passed_time": 204.5638882,
            "remaining_time": 50.82174001,
            "test": [
             0.9571423829,
             0.05668783748
            ]
           },
           {
            "iteration": 805,
            "learn": [
             0.05447613644
            ],
            "passed_time": 205.7003422,
            "remaining_time": 49.51100048,
            "test": [
             0.9571493566,
             0.05667319693
            ]
           },
           {
            "iteration": 810,
            "learn": [
             0.0543883876
            ],
            "passed_time": 206.8505787,
            "remaining_time": 48.20562191,
            "test": [
             0.9572091103,
             0.05663430244
            ]
           },
           {
            "iteration": 815,
            "learn": [
             0.05433564003
            ],
            "passed_time": 208.0021835,
            "remaining_time": 46.90245315,
            "test": [
             0.957241118,
             0.05660559461
            ]
           },
           {
            "iteration": 820,
            "learn": [
             0.05427963234
            ],
            "passed_time": 209.196812,
            "remaining_time": 45.61051077,
            "test": [
             0.9572652578,
             0.05657707419
            ]
           },
           {
            "iteration": 825,
            "learn": [
             0.05420562321
            ],
            "passed_time": 210.4432637,
            "remaining_time": 44.33066329,
            "test": [
             0.9573023915,
             0.05654650321
            ]
           },
           {
            "iteration": 830,
            "learn": [
             0.0541472295
            ],
            "passed_time": 211.6867981,
            "remaining_time": 43.05062439,
            "test": [
             0.9573161304,
             0.05651720556
            ]
           },
           {
            "iteration": 835,
            "learn": [
             0.05406004764
            ],
            "passed_time": 212.9236184,
            "remaining_time": 41.76970504,
            "test": [
             0.9573439062,
             0.05648290279
            ]
           },
           {
            "iteration": 840,
            "learn": [
             0.05402375652
            ],
            "passed_time": 214.1463901,
            "remaining_time": 40.48665402,
            "test": [
             0.9573662281,
             0.05646546752
            ]
           },
           {
            "iteration": 845,
            "learn": [
             0.05397106564
            ],
            "passed_time": 215.3194489,
            "remaining_time": 39.19526612,
            "test": [
             0.9573849142,
             0.05644379883
            ]
           },
           {
            "iteration": 850,
            "learn": [
             0.05390742742
            ],
            "passed_time": 216.5363898,
            "remaining_time": 37.91295192,
            "test": [
             0.9573984742,
             0.05641646355
            ]
           },
           {
            "iteration": 855,
            "learn": [
             0.05382651063
            ],
            "passed_time": 217.8332196,
            "remaining_time": 36.64484069,
            "test": [
             0.9574508667,
             0.05637991729
            ]
           },
           {
            "iteration": 860,
            "learn": [
             0.0537091279
            ],
            "passed_time": 219.1687392,
            "remaining_time": 35.38264198,
            "test": [
             0.9575883448,
             0.05630321974
            ]
           },
           {
            "iteration": 865,
            "learn": [
             0.05365459436
            ],
            "passed_time": 220.4128948,
            "remaining_time": 34.10545948,
            "test": [
             0.9576411843,
             0.05626694358
            ]
           },
           {
            "iteration": 870,
            "learn": [
             0.05357008673
            ],
            "passed_time": 221.5514282,
            "remaining_time": 32.81301291,
            "test": [
             0.9577378631,
             0.05621228955
            ]
           },
           {
            "iteration": 875,
            "learn": [
             0.05353180174
            ],
            "passed_time": 222.7677706,
            "remaining_time": 31.53333739,
            "test": [
             0.9577607512,
             0.05619887822
            ]
           },
           {
            "iteration": 880,
            "learn": [
             0.05347616259
            ],
            "passed_time": 223.9307082,
            "remaining_time": 30.24716717,
            "test": [
             0.9578232765,
             0.05617338955
            ]
           },
           {
            "iteration": 885,
            "learn": [
             0.05340713338
            ],
            "passed_time": 225.1221747,
            "remaining_time": 28.96605859,
            "test": [
             0.9578697383,
             0.05614078455
            ]
           },
           {
            "iteration": 890,
            "learn": [
             0.05334588118
            ],
            "passed_time": 226.3413318,
            "remaining_time": 27.68934362,
            "test": [
             0.9578862786,
             0.05611226413
            ]
           },
           {
            "iteration": 895,
            "learn": [
             0.05329097438
            ],
            "passed_time": 227.5584711,
            "remaining_time": 26.41303682,
            "test": [
             0.9579442441,
             0.05608560685
            ]
           },
           {
            "iteration": 900,
            "learn": [
             0.05325379027
            ],
            "passed_time": 228.7359687,
            "remaining_time": 25.13303096,
            "test": [
             0.9579620659,
             0.05606823773
            ]
           },
           {
            "iteration": 905,
            "learn": [
             0.05316980709
            ],
            "passed_time": 229.9880898,
            "remaining_time": 23.86189895,
            "test": [
             0.9580751359,
             0.05601765175
            ]
           },
           {
            "iteration": 910,
            "learn": [
             0.05310612162
            ],
            "passed_time": 231.2266165,
            "remaining_time": 22.58964749,
            "test": [
             0.9581195712,
             0.05598972114
            ]
           },
           {
            "iteration": 915,
            "learn": [
             0.05305564195
            ],
            "passed_time": 232.3825291,
            "remaining_time": 21.31018826,
            "test": [
             0.9581292868,
             0.0559673083
            ]
           },
           {
            "iteration": 920,
            "learn": [
             0.05294101377
            ],
            "passed_time": 233.5844227,
            "remaining_time": 20.03601454,
            "test": [
             0.9583384395,
             0.05587095405
            ]
           },
           {
            "iteration": 925,
            "learn": [
             0.05284187819
            ],
            "passed_time": 234.8195158,
            "remaining_time": 18.76527448,
            "test": [
             0.9584582448,
             0.05581078776
            ]
           },
           {
            "iteration": 930,
            "learn": [
             0.0528137326
            ],
            "passed_time": 235.9910383,
            "remaining_time": 17.49020584,
            "test": [
             0.9584749341,
             0.05579558496
            ]
           },
           {
            "iteration": 935,
            "learn": [
             0.05276182132
            ],
            "passed_time": 237.1907801,
            "remaining_time": 16.218173,
            "test": [
             0.9584952593,
             0.05575602349
            ]
           },
           {
            "iteration": 940,
            "learn": [
             0.05270480253
            ],
            "passed_time": 238.3511615,
            "remaining_time": 14.94444052,
            "test": [
             0.958519727,
             0.05572607539
            ]
           },
           {
            "iteration": 945,
            "learn": [
             0.05265474336
            ],
            "passed_time": 239.5633744,
            "remaining_time": 13.67486492,
            "test": [
             0.9585811794,
             0.05569670057
            ]
           },
           {
            "iteration": 950,
            "learn": [
             0.05261135559
            ],
            "passed_time": 240.7467552,
            "remaining_time": 12.40440695,
            "test": [
             0.9586120248,
             0.05567562722
            ]
           },
           {
            "iteration": 955,
            "learn": [
             0.05253811187
            ],
            "passed_time": 242.0206604,
            "remaining_time": 11.13902621,
            "test": [
             0.9586640894,
             0.05563724537
            ]
           },
           {
            "iteration": 960,
            "learn": [
             0.05243155364
            ],
            "passed_time": 243.2353506,
            "remaining_time": 9.871153665,
            "test": [
             0.9587440193,
             0.05558609162
            ]
           },
           {
            "iteration": 965,
            "learn": [
             0.05239344347
            ],
            "passed_time": 244.4793869,
            "remaining_time": 8.604864548,
            "test": [
             0.9587748349,
             0.05556234482
            ]
           },
           {
            "iteration": 970,
            "learn": [
             0.05235767207
            ],
            "passed_time": 245.6844992,
            "remaining_time": 7.337642098,
            "test": [
             0.9587970972,
             0.05554890042
            ]
           },
           {
            "iteration": 975,
            "learn": [
             0.05228046425
            ],
            "passed_time": 246.9224548,
            "remaining_time": 6.071863642,
            "test": [
             0.9588299394,
             0.05551302114
            ]
           },
           {
            "iteration": 980,
            "learn": [
             0.05221322574
            ],
            "passed_time": 248.1317832,
            "remaining_time": 4.805814354,
            "test": [
             0.9588840604,
             0.05548092327
            ]
           },
           {
            "iteration": 985,
            "learn": [
             0.05214937017
            ],
            "passed_time": 249.3011018,
            "remaining_time": 3.539772237,
            "test": [
             0.9589191079,
             0.05545122874
            ]
           },
           {
            "iteration": 990,
            "learn": [
             0.05205360337
            ],
            "passed_time": 250.5982461,
            "remaining_time": 2.275867018,
            "test": [
             0.9589906335,
             0.05540326659
            ]
           },
           {
            "iteration": 995,
            "learn": [
             0.0520125591
            ],
            "passed_time": 251.7098637,
            "remaining_time": 1.010882987,
            "test": [
             0.9590369463,
             0.05538313031
            ]
           },
           {
            "iteration": 999,
            "learn": [
             0.05197171328
            ],
            "passed_time": 252.6635554,
            "remaining_time": 0,
            "test": [
             0.9590487182,
             0.05535698017
            ]
           }
          ],
          "meta": {
           "iteration_count": 1000,
           "launch_mode": "Train",
           "learn_metrics": [
            {
             "best_value": "Min",
             "name": "Logloss"
            }
           ],
           "learn_sets": [
            "learn"
           ],
           "name": "experiment",
           "parameters": "",
           "test_metrics": [
            {
             "best_value": "Max",
             "name": "AUC"
            },
            {
             "best_value": "Min",
             "name": "Logloss"
            }
           ],
           "test_sets": [
            "test"
           ]
          }
         },
         "passed_iterations": 999,
         "total_iterations": 1000
        },
        "name": "catboost_info",
        "path": "catboost_info"
       }
      },
      "layout": "IPY_MODEL_98c615b2b5024610bf1b59f0154d4fb0"
     }
    }
   }
  }
 },
 "nbformat": 4,
 "nbformat_minor": 1
}
